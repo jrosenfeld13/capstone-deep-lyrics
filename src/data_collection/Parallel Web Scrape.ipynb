{
 "cells": [
  {
   "cell_type": "code",
   "execution_count": 5,
   "metadata": {},
   "outputs": [
    {
     "name": "stdout",
     "output_type": "stream",
     "text": [
      "Collecting python-dotenv\n",
      "  Downloading https://files.pythonhosted.org/packages/24/3d/977140bd94bfb160f98a5c02fdfbb72325130f12a325cf993182956e9d0e/python_dotenv-0.9.1-py2.py3-none-any.whl\n",
      "\u001b[31mtwisted 18.7.0 requires PyHamcrest>=1.9.0, which is not installed.\u001b[0m\n",
      "Installing collected packages: python-dotenv\n",
      "Successfully installed python-dotenv-0.9.1\n",
      "\u001b[33mYou are using pip version 10.0.1, however version 18.0 is available.\n",
      "You should consider upgrading via the 'pip install --upgrade pip' command.\u001b[0m\n"
     ]
    }
   ],
   "source": [
    "!pip install python-dotenv"
   ]
  },
  {
   "cell_type": "code",
   "execution_count": 9,
   "metadata": {},
   "outputs": [],
   "source": [
    "import scrape_genius_lyrics as scr\n",
    "import numpy as np\n",
    "import pandas as pd\n",
    "import os"
   ]
  },
  {
   "cell_type": "code",
   "execution_count": 8,
   "metadata": {},
   "outputs": [],
   "source": [
    "from pyspark.sql import SparkSession\n",
    "app_name = \"genius_scrape\"\n",
    "master = \"local[*]\"\n",
    "spark = SparkSession\\\n",
    "        .builder\\\n",
    "        .appName(app_name)\\\n",
    "        .master(master)\\\n",
    "        .getOrCreate()\n",
    "sc = spark.sparkContext"
   ]
  },
  {
   "cell_type": "code",
   "execution_count": 33,
   "metadata": {},
   "outputs": [],
   "source": [
    "def fake_url_function(url):\n",
    "    return url.split('/')[-1]"
   ]
  },
  {
   "cell_type": "code",
   "execution_count": 52,
   "metadata": {},
   "outputs": [],
   "source": [
    "rdd = sc.textFile('../../data/interim/test_metadata.csv')\n",
    "rdd = rdd.map(lambda x: (x.split(',')[0], x.split(',')[2]))\\\n",
    "      .filter(lambda x: x[0] != 'msd_id')\\\n",
    "      .filter(lambda x: x[1] != '')\n",
    "rdd = rdd.mapValues(scr.extract_lyrics)\n",
    "rdd.take(5)\n",
    "rdd.saveAsTextFile('../../data/interim/some_test_output')"
   ]
  },
  {
   "cell_type": "code",
   "execution_count": 27,
   "metadata": {},
   "outputs": [
    {
     "data": {
      "text/plain": [
       "[('TRAAAAW128F429D538', 'https://genius.com/Casual-i-didnt-mean-to-lyrics'),\n",
       " ('TRAAABD128F429CF47', 'https://genius.com/The-box-tops-soul-deep-lyrics'),\n",
       " ('TRAAADZ128F9348C2E',\n",
       "  'https://genius.com/La-sonora-santanera-amor-de-cabaret-lyrics'),\n",
       " ('TRAAAEF128F4273421', 'https://genius.com/Adam-ant-something-girls-lyrics'),\n",
       " ('TRAAAFD128F92F423A', 'https://genius.com/Gob-face-the-ashes-lyrics'),\n",
       " ('TRAAAMO128F1481E7F', ''),\n",
       " ('TRAAAMQ128F1460CD3', 'https://genius.com/Tru-run-away-slaves-lyrics'),\n",
       " ('TRAAAPK128E0786D96', ''),\n",
       " ('TRAAARJ128F9320760',\n",
       "  'https://genius.com/Planet-p-project-pink-world-lyrics'),\n",
       " ('TRAAAVG12903CFA543', 'https://genius.com/Clp-insatiable-lyrics')]"
      ]
     },
     "execution_count": 27,
     "metadata": {},
     "output_type": "execute_result"
    }
   ],
   "source": [
    "rdd.take(10)"
   ]
  },
  {
   "cell_type": "code",
   "execution_count": null,
   "metadata": {},
   "outputs": [],
   "source": []
  }
 ],
 "metadata": {
  "kernelspec": {
   "display_name": "Python 3",
   "language": "python",
   "name": "python3"
  },
  "language_info": {
   "codemirror_mode": {
    "name": "ipython",
    "version": 3
   },
   "file_extension": ".py",
   "mimetype": "text/x-python",
   "name": "python",
   "nbconvert_exporter": "python",
   "pygments_lexer": "ipython3",
   "version": "3.6.6"
  }
 },
 "nbformat": 4,
 "nbformat_minor": 2
}
