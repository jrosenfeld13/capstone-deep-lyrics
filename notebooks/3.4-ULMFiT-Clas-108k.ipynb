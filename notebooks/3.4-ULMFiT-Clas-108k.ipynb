{
 "cells": [
  {
   "cell_type": "code",
   "execution_count": 3,
   "metadata": {},
   "outputs": [],
   "source": [
    "%load_ext autoreload"
   ]
  },
  {
   "cell_type": "code",
   "execution_count": 4,
   "metadata": {},
   "outputs": [],
   "source": [
    "%autoreload"
   ]
  },
  {
   "cell_type": "code",
   "execution_count": 7,
   "metadata": {},
   "outputs": [],
   "source": [
    "import pandas as pd\n",
    "import numpy as np\n",
    "#import nltk.tokenize\n",
    "import itertools\n",
    "import datetime\n",
    "import torch\n",
    "\n",
    "from pathlib import Path\n",
    "\n",
    "from fastai import *\n",
    "from fastai.text import *\n",
    "\n",
    "from copy import copy, deepcopy\n",
    "from enum import Enum\n",
    "\n",
    "from graphviz import Digraph\n",
    "\n",
    "import datetime\n",
    "\n",
    "from sklearn.preprocessing import StandardScaler"
   ]
  },
  {
   "cell_type": "markdown",
   "metadata": {},
   "source": [
    "# Deep Lyrics Generator - ULMFiT\n",
    "\n",
    "## Set up instructions\n",
    "\n",
    "### Create VM Instance\n",
    "\n",
    "- Go to cloud.google.com, and create a new VM instance\n",
    "- Disk size: 100GB or more\n",
    "- CPUs + Memory: 2vCPUs, 7.5 GB Memory\n",
    "- GPU: K80 (cheaper, less power) or P100 (2.5x more expensive, more power)\n",
    "- Enable http, https traffic\n",
    "- Boot: Deep learning pytorch instance\n",
    "\n",
    "### Network configuration\n",
    "\n",
    "In Google cloud platform:\n",
    "\n",
    "- Go to Networking -> VPC Network, External IP addresses\n",
    "- Select your VM instance and change the external address type from Ephemeral to Static\n",
    "- Go to Networking -> VPC Network, Firewall Rules\n",
    "- Add a new Rule, called Jupyter, ip ranges 0.0.0.0/0, protocols and ports tcp:8888, apply to all targets\n",
    "\n",
    "### VM + Jupyter Setup\n",
    "\n",
    "- SSH to VM\n",
    "- Enlist into Github repo\n",
    "- Run src/setup.sh\n",
    "- Run jupyter notebook\n",
    "- Open a google cloud shell\n",
    "- Run gcloud init and answer the questions\n",
    "- To set up a tunnel and run jupyter locally, run ```gcloud compute --project \"<your project>\" ssh --zone \"<your zone>\" \"<your instance name>\" -- -L 8888:localhost:8888```\n",
    "- Open jupyter notebook in your local computer and have fun\n",
    "\n",
    "### Notebook first run\n",
    "Here are some steps to run the first time you use the notebook."
   ]
  },
  {
   "cell_type": "markdown",
   "metadata": {},
   "source": [
    "#### Tokens\n",
    "To create the model's tokens with the correct train-test split, run ```src/data_collection/lm_data_lyrics.py -o path/to/save```. \n",
    "We recommend saving in data/models/{MODEL_NAME}. Alternatively, run the magic command below and replace the model name."
   ]
  },
  {
   "cell_type": "code",
   "execution_count": 33,
   "metadata": {},
   "outputs": [
    {
     "name": "stdout",
     "output_type": "stream",
     "text": [
      "Numericalizing train.\n",
      "Numericalizing valid.\n"
     ]
    }
   ],
   "source": [
    "%run ../src/data_collection/lm_data_lyrics.py -o ../data/models/3.4-ULMFiT-Clas-108k"
   ]
  },
  {
   "cell_type": "markdown",
   "metadata": {},
   "source": [
    "#### Aggregate Audio Features\n",
    "\n",
    "To create the model's audio features with the same train-test split as the language models, run `src/data/lm_data_audio.py -o path/to/save`"
   ]
  },
  {
   "cell_type": "code",
   "execution_count": 5,
   "metadata": {},
   "outputs": [],
   "source": [
    "%run ../src/data_collection/lm_data_audio.py -o ../data/interim/msd-aggregate"
   ]
  },
  {
   "cell_type": "markdown",
   "metadata": {},
   "source": [
    "## Process data for label encoding\n",
    "\n",
    "We'll have to save the labels in a form that fastai likes"
   ]
  },
  {
   "cell_type": "markdown",
   "metadata": {},
   "source": [
    "## Load Data"
   ]
  },
  {
   "cell_type": "markdown",
   "metadata": {},
   "source": [
    "Now that we've created the tokens, let's load them into a `DataBunch` to train our LM further or generate text with a pre-trained LM."
   ]
  },
  {
   "cell_type": "code",
   "execution_count": 8,
   "metadata": {},
   "outputs": [],
   "source": [
    "init_model_name = '3.3-ULMFiT-108k'\n",
    "INIT_MODEL_PATH = Path(f'../data/models/{init_model_name}')\n",
    "\n",
    "\n",
    "model_name = '3.4-ULMFiT-Clas-108k'\n",
    "MODEL_PATH = Path(f'../data/models/{model_name}')\n",
    "MODEL_PATH.mkdir(exist_ok=True)"
   ]
  },
  {
   "cell_type": "markdown",
   "metadata": {},
   "source": [
    "#### Mode Data"
   ]
  },
  {
   "cell_type": "code",
   "execution_count": 111,
   "metadata": {},
   "outputs": [],
   "source": [
    "df_train = pd.read_csv('../data/interim/msd-aggregate/msd-aggregate-train.csv')\n",
    "df_valid = pd.read_csv('../data/interim/msd-aggregate/msd-aggregate-valid.csv')"
   ]
  },
  {
   "cell_type": "code",
   "execution_count": 122,
   "metadata": {},
   "outputs": [
    {
     "data": {
      "text/plain": [
       "Index(['track_id', 'analysis_sample_rate', 'audio_md5', 'danceability',\n",
       "       'duration', 'end_of_fade_in', 'energy', 'key', 'key_confidence',\n",
       "       'loudness', 'mode', 'mode_confidence', 'start_of_fade_out', 'tempo',\n",
       "       'time_signature', 'time_signature_confidence', 'analyzer_version',\n",
       "       'artist_7digitalid', 'artist_familiarity', 'artist_hotttnesss',\n",
       "       'artist_id', 'artist_latitude', 'artist_location', 'artist_longitude',\n",
       "       'artist_mbid', 'artist_name', 'artist_playmeid', 'genre', 'release',\n",
       "       'release_7digitalid', 'song_hotttnesss', 'song_id', 'title',\n",
       "       'track_7digitalid', 'year'],\n",
       "      dtype='object')"
      ]
     },
     "execution_count": 122,
     "metadata": {},
     "output_type": "execute_result"
    }
   ],
   "source": [
    "df_train.columns"
   ]
  },
  {
   "cell_type": "code",
   "execution_count": 126,
   "metadata": {},
   "outputs": [],
   "source": [
    "train_feature = df_train['key']\n",
    "valid_feature = df_valid['key']"
   ]
  },
  {
   "cell_type": "code",
   "execution_count": 127,
   "metadata": {},
   "outputs": [],
   "source": [
    "np.save(MODEL_PATH/'train_lbl.npy', train_feature.values)\n",
    "np.save(MODEL_PATH/'valid_lbl.npy', valid_feature.values)"
   ]
  },
  {
   "cell_type": "code",
   "execution_count": 128,
   "metadata": {},
   "outputs": [
    {
     "name": "stdout",
     "output_type": "stream",
     "text": [
      "10002\n"
     ]
    }
   ],
   "source": [
    "data_clas = TextClasDataBunch.from_tokens(MODEL_PATH,\n",
    "                                        bs=128,\n",
    "                                        max_vocab=10000)\n",
    "\n",
    "print(data_clas.train_ds.vocab_size)"
   ]
  },
  {
   "cell_type": "code",
   "execution_count": 120,
   "metadata": {},
   "outputs": [
    {
     "data": {
      "text/plain": [
       "0.677112485459927"
      ]
     },
     "execution_count": 120,
     "metadata": {},
     "output_type": "execute_result"
    }
   ],
   "source": [
    "train_feature.cumsum().iloc[-1]/len(train_feature)"
   ]
  },
  {
   "cell_type": "code",
   "execution_count": 117,
   "metadata": {},
   "outputs": [
    {
     "data": {
      "text/plain": [
       "0     1\n",
       "1     1\n",
       "2     1\n",
       "3     1\n",
       "4     0\n",
       "5     1\n",
       "6     1\n",
       "7     0\n",
       "8     1\n",
       "9     0\n",
       "10    1\n",
       "11    1\n",
       "12    0\n",
       "13    1\n",
       "14    1\n",
       "15    1\n",
       "16    1\n",
       "17    1\n",
       "18    1\n",
       "19    1\n",
       "Name: mode, dtype: int64"
      ]
     },
     "execution_count": 117,
     "metadata": {},
     "output_type": "execute_result"
    }
   ],
   "source": [
    "train_feature.head(20)"
   ]
  },
  {
   "cell_type": "code",
   "execution_count": 118,
   "metadata": {},
   "outputs": [
    {
     "data": {
      "text/plain": [
       "86829"
      ]
     },
     "execution_count": 118,
     "metadata": {},
     "output_type": "execute_result"
    }
   ],
   "source": [
    "len(learn.data.train_ds.labels)"
   ]
  },
  {
   "cell_type": "markdown",
   "metadata": {},
   "source": [
    "## Model setup"
   ]
  },
  {
   "cell_type": "code",
   "execution_count": 129,
   "metadata": {},
   "outputs": [],
   "source": [
    "GPU = True"
   ]
  },
  {
   "cell_type": "code",
   "execution_count": 130,
   "metadata": {},
   "outputs": [],
   "source": [
    "def text_classifier_learner(data:DataBunch, bptt:int=70, emb_sz:int=400, nh:int=1150, nl:int=3, pad_token:int=1,\n",
    "               drop_mult:float=1., qrnn:bool=False,max_len:int=10*70, lin_ftrs:Collection[int]=None,\n",
    "               ps:Collection[float]=None, **kwargs) -> 'TextClassifierLearner':\n",
    "    \"Create a RNN classifier.\"\n",
    "    dps = default_dropout['classifier'] * drop_mult\n",
    "    if lin_ftrs is None: lin_ftrs = [50]\n",
    "    if ps is None:  ps = [0.1]\n",
    "    ds = data.train_ds\n",
    "    vocab_size, n_class = len(data.vocab.itos), len(np.unique(data.train_ds.labels))\n",
    "    layers = [emb_sz*3] + lin_ftrs + [n_class]\n",
    "    ps = [dps[4]] + ps\n",
    "    model = get_rnn_classifier(bptt, max_len, n_class, vocab_size, emb_sz, nh, nl, pad_token,\n",
    "                layers, ps, input_p=dps[0], weight_p=dps[1], embed_p=dps[2], hidden_p=dps[3], qrnn=qrnn)\n",
    "    learn = RNNLearner(data, model, bptt, split_func=rnn_classifier_split, **kwargs)\n",
    "    return learn\n",
    "\n",
    "default_dropout = {'language': np.array([0.25, 0.1, 0.2, 0.02, 0.15]),\n",
    "                   'classifier': np.array([0.4,0.5,0.05,0.3,0.4])}"
   ]
  },
  {
   "cell_type": "code",
   "execution_count": 131,
   "metadata": {},
   "outputs": [],
   "source": [
    "def fbeta(y_pred:Tensor, y_true:Tensor, thresh:float=0.2, beta:float=2, eps:float=1e-9, sigmoid:bool=True) -> Rank0Tensor:\n",
    "    \"Computes the f_beta between preds and targets\"\n",
    "    beta2 = beta**2\n",
    "    if sigmoid: y_pred = y_pred.sigmoid()\n",
    "    y_pred = (y_pred>thresh).float()\n",
    "    y_true = y_true.float()\n",
    "    TP = (y_pred*y_true).sum(dim=1)\n",
    "    prec = TP/(y_pred.sum(dim=1)+eps)\n",
    "    rec = TP/(y_true.sum(dim=1)+eps)\n",
    "    res = (prec*rec)/(prec*beta2+rec+eps)*(1+beta2)\n",
    "    return res.mean()"
   ]
  },
  {
   "cell_type": "code",
   "execution_count": 132,
   "metadata": {},
   "outputs": [],
   "source": [
    "learn = text_classifier_learner(data_clas, drop_mult=0.5, metrics=[fbeta])"
   ]
  },
  {
   "cell_type": "code",
   "execution_count": 133,
   "metadata": {},
   "outputs": [],
   "source": [
    "learn.load_encoder(f'{model_name}_encoder_initializer')"
   ]
  },
  {
   "cell_type": "code",
   "execution_count": 17,
   "metadata": {},
   "outputs": [],
   "source": [
    "# DOWNLOAD_MODEL_WEIGHTS = False\n",
    "# weights_url = 'https://storage.googleapis.com/w210-capstone/3.2-ULMFiT-108k_best.pth'\n",
    "\n",
    "# if DOWNLOAD_MODEL_WEIGHTS:\n",
    "#     Path(MODEL_PATH/'models').mkdir(exist_ok=True)\n",
    "#     download_url(weights_url, MODEL_PATH/f'models/{model_name}_best.pth', overwrite=True)"
   ]
  },
  {
   "cell_type": "code",
   "execution_count": 11,
   "metadata": {},
   "outputs": [],
   "source": [
    "# def cpu_load(self, name:PathOrStr):\n",
    "#     \"\"\"Load model onto CPU that was trained on a GPU `name` from `self.model_dir`.\n",
    "#        We need these because the fastai load function doesn't allow for a remapping of the storage location.\"\"\"\n",
    "#     self.model.load_state_dict(torch.load(self.path/self.model_dir/f'{name}.pth', map_location=lambda storage, loc: storage))\n",
    "\n",
    "# setattr(RNNLearner, 'cpu_load', cpu_load) #monkey patch onto our RNNLearner"
   ]
  },
  {
   "cell_type": "code",
   "execution_count": 12,
   "metadata": {},
   "outputs": [],
   "source": [
    "# if not GPU:\n",
    "#     learn.cpu_load(f'{init_model_name}_best')\n",
    "# else:\n",
    "#     learn.load(f'{init_model_name}_best')"
   ]
  },
  {
   "cell_type": "markdown",
   "metadata": {},
   "source": [
    "## Training"
   ]
  },
  {
   "cell_type": "code",
   "execution_count": 134,
   "metadata": {},
   "outputs": [],
   "source": [
    "TRAIN = True"
   ]
  },
  {
   "cell_type": "code",
   "execution_count": 135,
   "metadata": {},
   "outputs": [],
   "source": [
    "@dataclass\n",
    "class SaveModel(LearnerCallback):\n",
    "    \"\"\"Save Latest Model\"\"\"\n",
    "    def __init__(self, learn:Learner, model_name='saved_model'):\n",
    "        super().__init__(learn)\n",
    "        self.model_name = model_name\n",
    "        self.model_date = datetime.datetime.now().strftime('%Y-%m-%d-%H-%M-%S')\n",
    "        self.best_loss = None\n",
    "        self.perplexity = []\n",
    "        \n",
    "    def on_epoch_end(self, epoch:int, metrics, last_metrics, **kwargs):\n",
    "        loss, *_ = last_metrics\n",
    "        perp = np.exp(loss)\n",
    "        self.perplexity.append(perp)\n",
    "        if self.best_loss == None or loss < self.best_loss:\n",
    "            self.best_loss = loss\n",
    "            self.learn.save(f'{self.model_name}_best')\n",
    "        return False\n",
    "    \n",
    "    def on_train_end(self, epoch:int, **kwargs):\n",
    "        self.learn.save(f'{self.model_name}_last')"
   ]
  },
  {
   "cell_type": "code",
   "execution_count": 136,
   "metadata": {},
   "outputs": [],
   "source": [
    "save_callback = SaveModel(learn, model_name=f'{model_name}')"
   ]
  },
  {
   "cell_type": "code",
   "execution_count": 137,
   "metadata": {},
   "outputs": [
    {
     "name": "stdout",
     "output_type": "stream",
     "text": [
      "Total time: 06:26\n",
      "epoch  train_loss  valid_loss  accuracy\n",
      "1      2.415628    2.412177    0.129353  (06:26)\n",
      "\n"
     ]
    }
   ],
   "source": [
    "if TRAIN:\n",
    "    learn.fit_one_cycle(1, 1e-2)"
   ]
  },
  {
   "cell_type": "code",
   "execution_count": null,
   "metadata": {},
   "outputs": [
    {
     "data": {
      "text/html": [
       "\n",
       "    <div>\n",
       "        <style>\n",
       "        \t/* Turns off some styling */\n",
       "        \tprogress {\n",
       "\n",
       "            \t/* gets rid of default border in Firefox and Opera. */\n",
       "            \tborder: none;\n",
       "\n",
       "            \t/* Needs to be in here for Safari polyfill so background images work as expected. */\n",
       "            \tbackground-size: auto;\n",
       "            }\n",
       "\n",
       "            .progress-bar-interrupted, .progress-bar-interrupted::-webkit-progress-bar {\n",
       "                background: #F44336;\n",
       "            }\n",
       "        </style>\n",
       "      <progress value='2' class='' max='5', style='width:300px; height:20px; vertical-align: middle;'></progress>\n",
       "      40.00% [2/5 30:04<45:07]\n",
       "    </div>\n",
       "    \n",
       "<table style='width:300px; margin-bottom:10px'>\n",
       "  <tr>\n",
       "    <th>epoch</th>\n",
       "    <th>train_loss</th>\n",
       "    <th>valid_loss</th>\n",
       "    <th>accuracy</th>\n",
       "  </tr>\n",
       "  <tr>\n",
       "    <th>1</th>\n",
       "    <th>2.413364</th>\n",
       "    <th>2.411640</th>\n",
       "    <th>0.132025</th>\n",
       "  </tr>\n",
       "  <tr>\n",
       "    <th>2</th>\n",
       "    <th>2.408372</th>\n",
       "    <th>2.414418</th>\n",
       "    <th>0.132578</th>\n",
       "  </tr>\n",
       "  <tr>\n",
       "\n",
       "  </tr>\n",
       "</table>\n",
       "\n",
       "\n",
       "    <div>\n",
       "        <style>\n",
       "        \t/* Turns off some styling */\n",
       "        \tprogress {\n",
       "\n",
       "            \t/* gets rid of default border in Firefox and Opera. */\n",
       "            \tborder: none;\n",
       "\n",
       "            \t/* Needs to be in here for Safari polyfill so background images work as expected. */\n",
       "            \tbackground-size: auto;\n",
       "            }\n",
       "\n",
       "            .progress-bar-interrupted, .progress-bar-interrupted::-webkit-progress-bar {\n",
       "                background: #F44336;\n",
       "            }\n",
       "        </style>\n",
       "      <progress value='1337' class='' max='1357', style='width:300px; height:20px; vertical-align: middle;'></progress>\n",
       "      98.53% [1337/1357 14:09<00:12 2.4057]\n",
       "    </div>\n",
       "    "
      ],
      "text/plain": [
       "<IPython.core.display.HTML object>"
      ]
     },
     "metadata": {},
     "output_type": "display_data"
    }
   ],
   "source": [
    "if TRAIN:\n",
    "    learn.unfreeze()\n",
    "    learn.fit(5, 1e-3, callbacks=[save_callback])"
   ]
  },
  {
   "cell_type": "code",
   "execution_count": 40,
   "metadata": {},
   "outputs": [
    {
     "name": "stdout",
     "output_type": "stream",
     "text": [
      "best validation loss:  0.62105566\n"
     ]
    }
   ],
   "source": [
    "print(\"best validation loss: \", learn.save_model.best_loss)"
   ]
  },
  {
   "cell_type": "markdown",
   "metadata": {},
   "source": [
    "#### Learning Loss"
   ]
  },
  {
   "cell_type": "code",
   "execution_count": 41,
   "metadata": {},
   "outputs": [
    {
     "data": {
      "image/png": "[encoded data removed]",
      "text/plain": [
       "<Figure size 432x288 with 1 Axes>"
      ]
     },
     "metadata": {},
     "output_type": "display_data"
    }
   ],
   "source": [
    "if TRAIN:\n",
    "    learn.recorder.plot_losses()"
   ]
  },
  {
   "cell_type": "code",
   "execution_count": 27,
   "metadata": {},
   "outputs": [],
   "source": [
    "learn.path = Path(MODEL_PATH)\n",
    "learn.save(f'{model_name}')"
   ]
  },
  {
   "cell_type": "code",
   "execution_count": null,
   "metadata": {},
   "outputs": [],
   "source": []
  },
  {
   "cell_type": "markdown",
   "metadata": {},
   "source": [
    "## Experimentation (to delete)"
   ]
  },
  {
   "cell_type": "code",
   "execution_count": 69,
   "metadata": {},
   "outputs": [
    {
     "name": "stderr",
     "output_type": "stream",
     "text": [
      "/home/j_rosen_1392/anaconda3/lib/python3.6/site-packages/torch/nn/functional.py:1120: UserWarning: nn.functional.sigmoid is deprecated. Use torch.sigmoid instead.\n",
      "  warnings.warn(\"nn.functional.sigmoid is deprecated. Use torch.sigmoid instead.\")\n"
     ]
    },
    {
     "data": {
      "text/plain": [
       "tensor([0.6655, 0.7991])"
      ]
     },
     "execution_count": 69,
     "metadata": {},
     "output_type": "execute_result"
    }
   ],
   "source": [
    "F.sigmoid(Tensor([0.6878, 1.3804]))"
   ]
  },
  {
   "cell_type": "code",
   "execution_count": 92,
   "metadata": {},
   "outputs": [
    {
     "data": {
      "text/plain": [
       "SequentialRNN(\n",
       "  (0): MultiBatchRNNCore(\n",
       "    (encoder): Embedding(10002, 400, padding_idx=1)\n",
       "    (encoder_dp): EmbeddingDropout(\n",
       "      (emb): Embedding(10002, 400, padding_idx=1)\n",
       "    )\n",
       "    (rnns): ModuleList(\n",
       "      (0): WeightDropout(\n",
       "        (module): LSTM(400, 1150)\n",
       "      )\n",
       "      (1): WeightDropout(\n",
       "        (module): LSTM(1150, 1150)\n",
       "      )\n",
       "      (2): WeightDropout(\n",
       "        (module): LSTM(1150, 400)\n",
       "      )\n",
       "    )\n",
       "    (input_dp): RNNDropout()\n",
       "    (hidden_dps): ModuleList(\n",
       "      (0): RNNDropout()\n",
       "      (1): RNNDropout()\n",
       "      (2): RNNDropout()\n",
       "    )\n",
       "  )\n",
       "  (1): PoolingLinearClassifier(\n",
       "    (layers): Sequential(\n",
       "      (0): BatchNorm1d(1200, eps=1e-05, momentum=0.1, affine=True, track_running_stats=True)\n",
       "      (1): Dropout(p=0.2)\n",
       "      (2): Linear(in_features=1200, out_features=50, bias=True)\n",
       "      (3): ReLU(inplace)\n",
       "      (4): BatchNorm1d(50, eps=1e-05, momentum=0.1, affine=True, track_running_stats=True)\n",
       "      (5): Dropout(p=0.1)\n",
       "      (6): Linear(in_features=50, out_features=2, bias=True)\n",
       "    )\n",
       "  )\n",
       ")"
      ]
     },
     "execution_count": 92,
     "metadata": {},
     "output_type": "execute_result"
    }
   ],
   "source": [
    "learn.model.reset()\n",
    "learn.model.eval()"
   ]
  },
  {
   "cell_type": "code",
   "execution_count": 107,
   "metadata": {},
   "outputs": [],
   "source": [
    "learn.model.reset()\n",
    "context = [1002,5000,2,2333]\n",
    "context = LongTensor(context).view(-1,1).cuda()\n",
    "#context = torch.autograd.Variable(context)\n",
    "\n",
    "\n",
    "# forward pass the \"context\" into the model\n",
    "result, *_ = learn.model(context)"
   ]
  },
  {
   "cell_type": "code",
   "execution_count": 108,
   "metadata": {},
   "outputs": [
    {
     "name": "stderr",
     "output_type": "stream",
     "text": [
      "/home/j_rosen_1392/anaconda3/lib/python3.6/site-packages/ipykernel_launcher.py:1: UserWarning: Implicit dimension choice for softmax has been deprecated. Change the call to include dim=X as an argument.\n",
      "  \"\"\"Entry point for launching an IPython kernel.\n"
     ]
    },
    {
     "data": {
      "text/plain": [
       "tensor([[0.2537, 0.7463]], device='cuda:0', grad_fn=<SoftmaxBackward>)"
      ]
     },
     "execution_count": 108,
     "metadata": {},
     "output_type": "execute_result"
    }
   ],
   "source": [
    "F.softmax(result)"
   ]
  },
  {
   "cell_type": "markdown",
   "metadata": {},
   "source": [
    "## Text Generation"
   ]
  },
  {
   "cell_type": "code",
   "execution_count": 72,
   "metadata": {},
   "outputs": [],
   "source": [
    "def generate_step(learner, context, audio, context_length, temp=1):\n",
    "    \n",
    "    # FIX THIS\n",
    "    audio_size = train_audio.feature_size\n",
    "\n",
    "    model = learner.model\n",
    "    \n",
    "    if GPU:\n",
    "        context = LongTensor(context[-context_length:]).view(-1,1).cuda()\n",
    "    else:\n",
    "        context = LongTensor(context[-context_length:]).view(-1,1).cpu()\n",
    "    \n",
    "    context = torch.autograd.Variable(context)\n",
    "    \n",
    "    model.reset()\n",
    "    model.eval()\n",
    "\n",
    "    if audio is None:\n",
    "        audio_features = Tensor([0]*audio_size*len(context))\\\n",
    "        .view(-1, 1, audio_size).cuda()\n",
    "    else:\n",
    "        audio_features = np.tile(audio, len(context))\n",
    "        audio_features = Tensor(audio_features).view(-1, 1, len(audio)).cuda()\n",
    "        \n",
    "    # forward pass the \"context\" into the model\n",
    "    result, *_ = model(context, audio_features)\n",
    "    result = result[-1]\n",
    "\n",
    "    # set unk and pad to 0 prob\n",
    "    # i.e. never pick unknown or pad\n",
    "    result[0] = -np.inf\n",
    "    result[1] = -np.inf\n",
    "\n",
    "    # softmax and normalize\n",
    "    probabilities = F.softmax(result/temp, dim=0)\n",
    "    probabilities = np.asarray(probabilities.detach().cpu(), dtype=np.float)\n",
    "    probabilities /= np.sum(probabilities) \n",
    "    return probabilities\n",
    "\n",
    "def get_word_from_index(idx):\n",
    "\n",
    "    return data_lm.valid_ds.vocab.textify([idx])\n",
    "\n",
    "\n",
    "def print_words(context):\n",
    "    for i in range(len(context)):\n",
    "        \n",
    "        step = context[i]\n",
    "\n",
    "        word = data_lm.valid_ds.vocab.textify([step])\n",
    "\n",
    "        if word == 'xeol':\n",
    "            word = 'xeol \\n'\n",
    "        elif 'xbol' in word:\n",
    "            word = 'xbol'\n",
    "        elif word == 'xeos': \n",
    "            print(word)\n",
    "            break\n",
    "            \n",
    "        print(word, end=' ')   \n",
    "\n",
    "def generate_text(learner, seed_text=['xbos'], audio=None, max_len=500, GPU=False, context_length=20, beam_width=5, temp=1, verbose=True, graph=False):\n",
    "    \"\"\"Generates text with a given learner and returns best options.\n",
    "\n",
    "    Parameters\n",
    "    ----------\n",
    "    learner : RNNLearner Language Model (RNNLearner.language_model())\n",
    "        Fastai RNNLearner with tokenized language model data already loaded \n",
    "        \n",
    "    seed_text : list or str\n",
    "        List of strings where each item is a token. (e.g. ['the', 'cat']) or string that is split on white space\n",
    "\n",
    "    max_len : int\n",
    "        Number of words in generated sequence\n",
    "        \n",
    "    gpu : bool\n",
    "        If you're using a GPU or not...\n",
    "    \n",
    "    context_length : int\n",
    "        Amount of words that get input as \"context\" into the model. Set to 0 for no limit   \n",
    "        \n",
    "    beam_width : int\n",
    "        How many new word indices to try out...computationally expensive\n",
    "    \n",
    "    verbose : bool\n",
    "        If True, prints every possible context for a given word cycle\n",
    "\n",
    "    Returns\n",
    "    -------\n",
    "    context_and_scores : list of lists\n",
    "        Returns a sorted list of the entire tree search of contexts and their respective scores in the form:\n",
    "        [[context, score], [context, score], ..., [context, score]]\n",
    "    \"\"\"\n",
    "        \n",
    "    if isinstance(seed_text, str):\n",
    "        seed_text = data_lm.train_ds.vocab.numericalize(seed_text.split(' '))\n",
    "    \n",
    "    \n",
    "    # Width for the beam search, to be externalized along with general decoding\n",
    "    beam_width = beam_width\n",
    "    \n",
    "    if graph:\n",
    "        optimization_graph = Digraph()\n",
    "\n",
    "    # List of candidate word sequence. We'll maintain #beam_width top sequences here.\n",
    "    # The context is a list of words, the scores are the sum of the log probabilities of each word\n",
    "    context_and_scores = [[seed_text, 0.0]]\n",
    "    \n",
    "    # Loop over max number of words\n",
    "    for word_number in range(max_len):\n",
    "        print(f'Generating word: {word_number+1} / {max_len}')\n",
    "\n",
    "        candidates = []\n",
    "        \n",
    "        # For each possible context that we've generated so far, generate new probabilities, \n",
    "        # and pick an additional #beam_width next candidates\n",
    "        for i in range(len(context_and_scores)):\n",
    "            # Get a new sequence of word indices and log-probability\n",
    "            # Example: [[2, 138, 661], 23.181717]\n",
    "            context, score = context_and_scores[i]\n",
    "            \n",
    "            # Obtain probabilities for next word given the context \n",
    "            probabilities = generate_step(learner, context, audio, context_length, temp)\n",
    "\n",
    "            # Multinomial draw from the probabilities\n",
    "            multinom_draw = np.random.multinomial(beam_width, probabilities)\n",
    "            top_probabilities = np.argwhere(multinom_draw != 0).flatten()\n",
    "                        \n",
    "            #For each possible new candidate, update the context and scores\n",
    "            for j in range(len(top_probabilities)):\n",
    "                next_word_idx = top_probabilities[j]\n",
    "                new_context = context + [next_word_idx]\n",
    "                candidate = [new_context, (score - np.log(probabilities[next_word_idx]))]\n",
    "                candidates.append(candidate)\n",
    "                \n",
    "                if graph:\n",
    "                    optimization_graph.node(\"%d_%d\" % (word_number, next_word_idx), \"%s (%.2f)\" % (get_word_from_index(next_word_idx), candidate[1]))\n",
    "                    optimization_graph.edge(\"%d_%d\" % (word_number - 1, context[len(context) -1]), \"%d_%d\" % (word_number, next_word_idx))\n",
    "                \n",
    "        #update the running tally of context and scores and sort by probability of each entry\n",
    "        context_and_scores = candidates\n",
    "        context_and_scores = sorted(context_and_scores, key = lambda x: x[1]) #sort by top entries\n",
    "\n",
    "        context_and_scores = context_and_scores[:15] #for now, only keep the top 15 to speed things up but we can/should change this to beam_width or something else\n",
    "        \n",
    "        if verbose:\n",
    "            for context, score in context_and_scores:\n",
    "                print_words(context)\n",
    "                print('\\n')\n",
    "\n",
    "    if graph:\n",
    "        now = str(datetime.now())\n",
    "        optimization_graph.render(directory='graph_viz/', filename=now, cleanup=True)\n",
    "    return context_and_scores\n",
    "    "
   ]
  },
  {
   "cell_type": "code",
   "execution_count": 96,
   "metadata": {},
   "outputs": [
    {
     "data": {
      "text/html": [
       "<div>\n",
       "<style scoped>\n",
       "    .dataframe tbody tr th:only-of-type {\n",
       "        vertical-align: middle;\n",
       "    }\n",
       "\n",
       "    .dataframe tbody tr th {\n",
       "        vertical-align: top;\n",
       "    }\n",
       "\n",
       "    .dataframe thead th {\n",
       "        text-align: right;\n",
       "    }\n",
       "</style>\n",
       "<table border=\"1\" class=\"dataframe\">\n",
       "  <thead>\n",
       "    <tr style=\"text-align: right;\">\n",
       "      <th></th>\n",
       "      <th>track_id</th>\n",
       "      <th>analysis_sample_rate</th>\n",
       "      <th>audio_md5</th>\n",
       "      <th>danceability</th>\n",
       "      <th>duration</th>\n",
       "      <th>end_of_fade_in</th>\n",
       "      <th>energy</th>\n",
       "      <th>key</th>\n",
       "      <th>key_confidence</th>\n",
       "      <th>loudness</th>\n",
       "      <th>...</th>\n",
       "      <th>artist_name</th>\n",
       "      <th>artist_playmeid</th>\n",
       "      <th>genre</th>\n",
       "      <th>release</th>\n",
       "      <th>release_7digitalid</th>\n",
       "      <th>song_hotttnesss</th>\n",
       "      <th>song_id</th>\n",
       "      <th>title</th>\n",
       "      <th>track_7digitalid</th>\n",
       "      <th>year</th>\n",
       "    </tr>\n",
       "  </thead>\n",
       "  <tbody>\n",
       "    <tr>\n",
       "      <th>15330</th>\n",
       "      <td>TRGSQDW12903D0DCEB</td>\n",
       "      <td>22050</td>\n",
       "      <td>8a69bdfdc85ee52fbe5fa3be5a04f18f</td>\n",
       "      <td>0.0</td>\n",
       "      <td>111.28118</td>\n",
       "      <td>0.000</td>\n",
       "      <td>0.0</td>\n",
       "      <td>10</td>\n",
       "      <td>0.480</td>\n",
       "      <td>-10.260</td>\n",
       "      <td>...</td>\n",
       "      <td>The Constructus Corporation</td>\n",
       "      <td>-1</td>\n",
       "      <td>NaN</td>\n",
       "      <td>The Ziggurat</td>\n",
       "      <td>699902</td>\n",
       "      <td>0.440794</td>\n",
       "      <td>SOEPWKZ12A58A7F478</td>\n",
       "      <td>choose your own adventure</td>\n",
       "      <td>7764309</td>\n",
       "      <td>2002</td>\n",
       "    </tr>\n",
       "    <tr>\n",
       "      <th>15650</th>\n",
       "      <td>TRMJWEF128F9341FD3</td>\n",
       "      <td>22050</td>\n",
       "      <td>ecf2f9fd715ae282b91d78f4a081dadf</td>\n",
       "      <td>0.0</td>\n",
       "      <td>127.60771</td>\n",
       "      <td>0.202</td>\n",
       "      <td>0.0</td>\n",
       "      <td>2</td>\n",
       "      <td>0.016</td>\n",
       "      <td>-11.809</td>\n",
       "      <td>...</td>\n",
       "      <td>Oasis</td>\n",
       "      <td>1196</td>\n",
       "      <td>NaN</td>\n",
       "      <td>Live Lounge</td>\n",
       "      <td>557045</td>\n",
       "      <td>NaN</td>\n",
       "      <td>SOJBRZM12AB01891B6</td>\n",
       "      <td>Songbird</td>\n",
       "      <td>6161500</td>\n",
       "      <td>0</td>\n",
       "    </tr>\n",
       "    <tr>\n",
       "      <th>15660</th>\n",
       "      <td>TRAONKD12903CF239C</td>\n",
       "      <td>22050</td>\n",
       "      <td>bfffef67050ac8ad1154d2fa76b79f52</td>\n",
       "      <td>0.0</td>\n",
       "      <td>184.31955</td>\n",
       "      <td>0.148</td>\n",
       "      <td>0.0</td>\n",
       "      <td>5</td>\n",
       "      <td>0.234</td>\n",
       "      <td>-5.468</td>\n",
       "      <td>...</td>\n",
       "      <td>Paperboys</td>\n",
       "      <td>-1</td>\n",
       "      <td>NaN</td>\n",
       "      <td>No Cure For Life</td>\n",
       "      <td>689392</td>\n",
       "      <td>NaN</td>\n",
       "      <td>SOEMTQZ12AC468B402</td>\n",
       "      <td>In Between (Duets)</td>\n",
       "      <td>7651007</td>\n",
       "      <td>2002</td>\n",
       "    </tr>\n",
       "    <tr>\n",
       "      <th>9493</th>\n",
       "      <td>TRATYKV12903CF956E</td>\n",
       "      <td>22050</td>\n",
       "      <td>af3f6e2b2ebb66b0726ee857d41f3836</td>\n",
       "      <td>0.0</td>\n",
       "      <td>299.49342</td>\n",
       "      <td>0.000</td>\n",
       "      <td>0.0</td>\n",
       "      <td>7</td>\n",
       "      <td>0.379</td>\n",
       "      <td>-3.673</td>\n",
       "      <td>...</td>\n",
       "      <td>French Horn Rebellion</td>\n",
       "      <td>-1</td>\n",
       "      <td>NaN</td>\n",
       "      <td>Up All Night EP</td>\n",
       "      <td>603749</td>\n",
       "      <td>NaN</td>\n",
       "      <td>SOHNFYO12AC3DF9DD7</td>\n",
       "      <td>Up All Night</td>\n",
       "      <td>6706053</td>\n",
       "      <td>2009</td>\n",
       "    </tr>\n",
       "    <tr>\n",
       "      <th>11817</th>\n",
       "      <td>TRFQNIS128F14809B7</td>\n",
       "      <td>22050</td>\n",
       "      <td>76b4db78cc8b0eacc77bf6a73b53a64f</td>\n",
       "      <td>0.0</td>\n",
       "      <td>215.30077</td>\n",
       "      <td>0.222</td>\n",
       "      <td>0.0</td>\n",
       "      <td>2</td>\n",
       "      <td>0.718</td>\n",
       "      <td>-15.471</td>\n",
       "      <td>...</td>\n",
       "      <td>Andrew Lloyd Webber</td>\n",
       "      <td>8487</td>\n",
       "      <td>NaN</td>\n",
       "      <td>The Likes Of Us</td>\n",
       "      <td>41256</td>\n",
       "      <td>0.215080</td>\n",
       "      <td>SOLTUMH12A6D4F8518</td>\n",
       "      <td>This Is My Time</td>\n",
       "      <td>438688</td>\n",
       "      <td>0</td>\n",
       "    </tr>\n",
       "  </tbody>\n",
       "</table>\n",
       "<p>5 rows × 35 columns</p>\n",
       "</div>"
      ],
      "text/plain": [
       "                 track_id  analysis_sample_rate  \\\n",
       "15330  TRGSQDW12903D0DCEB                 22050   \n",
       "15650  TRMJWEF128F9341FD3                 22050   \n",
       "15660  TRAONKD12903CF239C                 22050   \n",
       "9493   TRATYKV12903CF956E                 22050   \n",
       "11817  TRFQNIS128F14809B7                 22050   \n",
       "\n",
       "                              audio_md5  danceability   duration  \\\n",
       "15330  8a69bdfdc85ee52fbe5fa3be5a04f18f           0.0  111.28118   \n",
       "15650  ecf2f9fd715ae282b91d78f4a081dadf           0.0  127.60771   \n",
       "15660  bfffef67050ac8ad1154d2fa76b79f52           0.0  184.31955   \n",
       "9493   af3f6e2b2ebb66b0726ee857d41f3836           0.0  299.49342   \n",
       "11817  76b4db78cc8b0eacc77bf6a73b53a64f           0.0  215.30077   \n",
       "\n",
       "       end_of_fade_in  energy  key  key_confidence  loudness  ...   \\\n",
       "15330           0.000     0.0   10           0.480   -10.260  ...    \n",
       "15650           0.202     0.0    2           0.016   -11.809  ...    \n",
       "15660           0.148     0.0    5           0.234    -5.468  ...    \n",
       "9493            0.000     0.0    7           0.379    -3.673  ...    \n",
       "11817           0.222     0.0    2           0.718   -15.471  ...    \n",
       "\n",
       "                       artist_name  artist_playmeid  genre           release  \\\n",
       "15330  The Constructus Corporation               -1    NaN      The Ziggurat   \n",
       "15650                        Oasis             1196    NaN       Live Lounge   \n",
       "15660                    Paperboys               -1    NaN  No Cure For Life   \n",
       "9493         French Horn Rebellion               -1    NaN   Up All Night EP   \n",
       "11817          Andrew Lloyd Webber             8487    NaN   The Likes Of Us   \n",
       "\n",
       "       release_7digitalid  song_hotttnesss             song_id  \\\n",
       "15330              699902         0.440794  SOEPWKZ12A58A7F478   \n",
       "15650              557045              NaN  SOJBRZM12AB01891B6   \n",
       "15660              689392              NaN  SOEMTQZ12AC468B402   \n",
       "9493               603749              NaN  SOHNFYO12AC3DF9DD7   \n",
       "11817               41256         0.215080  SOLTUMH12A6D4F8518   \n",
       "\n",
       "                           title  track_7digitalid  year  \n",
       "15330  choose your own adventure           7764309  2002  \n",
       "15650                   Songbird           6161500     0  \n",
       "15660         In Between (Duets)           7651007  2002  \n",
       "9493                Up All Night           6706053  2009  \n",
       "11817            This Is My Time            438688     0  \n",
       "\n",
       "[5 rows x 35 columns]"
      ]
     },
     "execution_count": 96,
     "metadata": {},
     "output_type": "execute_result"
    }
   ],
   "source": [
    "df_valid.sample(5)"
   ]
  },
  {
   "cell_type": "code",
   "execution_count": 117,
   "metadata": {},
   "outputs": [
    {
     "data": {
      "text/plain": [
       "track_id                                       TRCNUVO128F92E7CB7\n",
       "analysis_sample_rate                                        22050\n",
       "audio_md5                        f6ef05f8d81ec7bccffc081de3ca3ea7\n",
       "danceability                                                    0\n",
       "duration                                                  258.351\n",
       "end_of_fade_in                                              0.996\n",
       "energy                                                          0\n",
       "key                                                             9\n",
       "key_confidence                                              0.764\n",
       "loudness                                                  -15.523\n",
       "mode                                                            0\n",
       "mode_confidence                                               0.7\n",
       "start_of_fade_out                                         242.857\n",
       "tempo                                                      78.805\n",
       "time_signature                                                  4\n",
       "time_signature_confidence                                   0.709\n",
       "analyzer_version                                              NaN\n",
       "artist_7digitalid                                           32117\n",
       "artist_familiarity                                       0.514884\n",
       "artist_hotttnesss                                        0.364356\n",
       "artist_id                                      ARGI6UK1187B99ADF2\n",
       "artist_latitude                                           40.6551\n",
       "artist_location                                      Brooklyn, NY\n",
       "artist_longitude                                         -73.9489\n",
       "artist_mbid                  4981fd19-16b6-4393-ae72-3f6e427ed677\n",
       "artist_name                                         Robbie Dupree\n",
       "artist_playmeid                                             42407\n",
       "genre                                                         NaN\n",
       "release                         Robbie Dupree with David Sancious\n",
       "release_7digitalid                                         329960\n",
       "song_hotttnesss                                                 0\n",
       "song_id                                        SONQXGD12AB017D094\n",
       "title                                                 Desperation\n",
       "track_7digitalid                                          3707416\n",
       "year                                                         1981\n",
       "Name: 7650, dtype: object"
      ]
     },
     "execution_count": 117,
     "metadata": {},
     "output_type": "execute_result"
    }
   ],
   "source": [
    "df_valid.iloc[7650]"
   ]
  },
  {
   "cell_type": "code",
   "execution_count": 118,
   "metadata": {},
   "outputs": [],
   "source": [
    "# mode == 1, loudness == -2.3,\n",
    "# artist_hot == 0.57, artist_familiarity = 0.77, \n",
    "# song_hot == n/a\n",
    "xx = valid_audio[9126]\n",
    "# mode == 0, loudness == -15.5,\n",
    "# artist_hot == 0.36, artist_familiarity = 0.51, \n",
    "# song_hot == 0\n",
    "yy = valid_audio[7650] # mode == 0"
   ]
  },
  {
   "cell_type": "code",
   "execution_count": 127,
   "metadata": {
    "scrolled": false
   },
   "outputs": [
    {
     "name": "stdout",
     "output_type": "stream",
     "text": [
      "Generating word: 1 / 80\n",
      "Generating word: 2 / 80\n",
      "Generating word: 3 / 80\n",
      "Generating word: 4 / 80\n",
      "Generating word: 5 / 80\n",
      "Generating word: 6 / 80\n",
      "Generating word: 7 / 80\n",
      "Generating word: 8 / 80\n",
      "Generating word: 9 / 80\n",
      "Generating word: 10 / 80\n",
      "Generating word: 11 / 80\n",
      "Generating word: 12 / 80\n",
      "Generating word: 13 / 80\n",
      "Generating word: 14 / 80\n",
      "Generating word: 15 / 80\n",
      "Generating word: 16 / 80\n",
      "Generating word: 17 / 80\n",
      "Generating word: 18 / 80\n",
      "Generating word: 19 / 80\n",
      "Generating word: 20 / 80\n",
      "Generating word: 21 / 80\n",
      "Generating word: 22 / 80\n",
      "Generating word: 23 / 80\n",
      "Generating word: 24 / 80\n",
      "Generating word: 25 / 80\n",
      "Generating word: 26 / 80\n",
      "Generating word: 27 / 80\n",
      "Generating word: 28 / 80\n",
      "Generating word: 29 / 80\n",
      "Generating word: 30 / 80\n",
      "Generating word: 31 / 80\n",
      "Generating word: 32 / 80\n",
      "Generating word: 33 / 80\n",
      "Generating word: 34 / 80\n",
      "Generating word: 35 / 80\n",
      "Generating word: 36 / 80\n",
      "Generating word: 37 / 80\n",
      "Generating word: 38 / 80\n",
      "Generating word: 39 / 80\n",
      "Generating word: 40 / 80\n",
      "Generating word: 41 / 80\n",
      "Generating word: 42 / 80\n",
      "Generating word: 43 / 80\n",
      "Generating word: 44 / 80\n",
      "Generating word: 45 / 80\n",
      "Generating word: 46 / 80\n",
      "Generating word: 47 / 80\n",
      "Generating word: 48 / 80\n",
      "Generating word: 49 / 80\n",
      "Generating word: 50 / 80\n",
      "Generating word: 51 / 80\n",
      "Generating word: 52 / 80\n",
      "Generating word: 53 / 80\n",
      "Generating word: 54 / 80\n",
      "Generating word: 55 / 80\n",
      "Generating word: 56 / 80\n",
      "Generating word: 57 / 80\n",
      "Generating word: 58 / 80\n",
      "Generating word: 59 / 80\n",
      "Generating word: 60 / 80\n",
      "Generating word: 61 / 80\n",
      "Generating word: 62 / 80\n",
      "Generating word: 63 / 80\n",
      "Generating word: 64 / 80\n",
      "Generating word: 65 / 80\n",
      "Generating word: 66 / 80\n",
      "Generating word: 67 / 80\n",
      "Generating word: 68 / 80\n",
      "Generating word: 69 / 80\n",
      "Generating word: 70 / 80\n",
      "Generating word: 71 / 80\n",
      "Generating word: 72 / 80\n",
      "Generating word: 73 / 80\n",
      "Generating word: 74 / 80\n",
      "Generating word: 75 / 80\n",
      "Generating word: 76 / 80\n",
      "Generating word: 77 / 80\n",
      "Generating word: 78 / 80\n",
      "Generating word: 79 / 80\n",
      "Generating word: 80 / 80\n"
     ]
    }
   ],
   "source": [
    "final_scores = generate_text(learn, GPU=GPU,\n",
    "                             seed_text='xbos xbol [verse-1]',\n",
    "                             audio=xx,\n",
    "                             max_len=80, context_length=200,\n",
    "                             beam_width=3, verbose=False,\n",
    "                             temp=1.5, graph=False)"
   ]
  },
  {
   "cell_type": "code",
   "execution_count": 128,
   "metadata": {},
   "outputs": [
    {
     "name": "stdout",
     "output_type": "stream",
     "text": [
      "xbos xxunk [verse-1] crave requiem xeol \n",
      " xbol xeol \n",
      " xbol so far away , i wish you were here today xeol \n",
      " xbol and most of all i wish there was another way xeol \n",
      " xbol i wish i could do this to me xeol \n",
      " xbol xeol \n",
      " xbol so you could leave here with me xeol \n",
      " xbol much more than anything you meant to me xeol \n",
      " xbol i wish i was dead xeol \n",
      " xbol wish that i could go away xeol \n",
      " xbol i wish i could 193.78870414374862\n",
      "\n",
      "\n",
      "xbos xxunk [verse-1] crave requiem xeol \n",
      " xbol xeol \n",
      " xbol so far away , i wish you were here today xeol \n",
      " xbol and most of all i wish there was another way xeol \n",
      " xbol i wish i could do this to me xeol \n",
      " xbol xeol \n",
      " xbol so you could leave here with me xeol \n",
      " xbol much more than anything you meant to me xeol \n",
      " xbol i wish i was dead xeol \n",
      " xbol wish that i could go away xeol \n",
      " xbol i wish that i 193.80404884464744\n",
      "\n",
      "\n",
      "xbos xxunk [verse-1] crave requiem xeol \n",
      " xbol xeol \n",
      " xbol so far away , i wish you were here today xeol \n",
      " xbol and most of all i wish there was another way xeol \n",
      " xbol i wish i could do this to me xeol \n",
      " xbol xeol \n",
      " xbol so you could leave here with me xeol \n",
      " xbol much more than anything you meant to me xeol \n",
      " xbol i wish i was dead xeol \n",
      " xbol wish that i could go away xeol \n",
      " xbol i wish i was 195.19425226415203\n",
      "\n",
      "\n",
      "xbos xxunk [verse-1] crave requiem xeol \n",
      " xbol xeol \n",
      " xbol so far away , i wish you were here today xeol \n",
      " xbol and most of all i wish there was another way xeol \n",
      " xbol i wish i could do this to me xeol \n",
      " xbol xeol \n",
      " xbol so you could leave here with me xeol \n",
      " xbol much more than anything you meant to me xeol \n",
      " xbol i wish i was dead xeol \n",
      " xbol wish that you were here xeol \n",
      " xbol xeol \n",
      " xbol i wish i 195.22330376954403\n",
      "\n",
      "\n",
      "xbos xxunk [verse-1] crave requiem xeol \n",
      " xbol xeol \n",
      " xbol so far away , i wish you were here today xeol \n",
      " xbol and most of all i wish there was another way xeol \n",
      " xbol i wish i could do this to me xeol \n",
      " xbol xeol \n",
      " xbol so you could leave here with me xeol \n",
      " xbol much more than anything you meant to me xeol \n",
      " xbol i wish i was dead xeol \n",
      " xbol wish that you were here xeol \n",
      " xbol xeol \n",
      " xbol i wish that 195.61832422095154\n",
      "\n",
      "\n",
      "xbos xxunk [verse-1] crave requiem xeol \n",
      " xbol xeol \n",
      " xbol so far away , i wish you were here today xeol \n",
      " xbol and most of all i wish there was another way xeol \n",
      " xbol i wish i could do this to me xeol \n",
      " xbol xeol \n",
      " xbol so you could leave here with me xeol \n",
      " xbol much more than anything you meant to me xeol \n",
      " xbol i wish i was dead xeol \n",
      " xbol wish that i could go away xeol \n",
      " xbol i wish that you 195.69494664704695\n",
      "\n",
      "\n",
      "xbos xxunk [verse-1] crave requiem xeol \n",
      " xbol xeol \n",
      " xbol so far away , i wish you were here today xeol \n",
      " xbol and most of all i wish there was another way xeol \n",
      " xbol i wish i could do this to me xeol \n",
      " xbol xeol \n",
      " xbol so you could leave here with me xeol \n",
      " xbol much more than anything you meant to me xeol \n",
      " xbol i wish i was dead xeol \n",
      " xbol wish that i could go away xeol \n",
      " xbol i wish you were 196.07586007511586\n",
      "\n",
      "\n",
      "xbos xxunk [verse-1] crave requiem xeol \n",
      " xbol xeol \n",
      " xbol so far away , i wish you were here today xeol \n",
      " xbol and most of all i wish there was another way xeol \n",
      " xbol i wish i could do this to me xeol \n",
      " xbol xeol \n",
      " xbol so you could leave here with me xeol \n",
      " xbol much more than anything you meant to me xeol \n",
      " xbol i wish i was dead xeol \n",
      " xbol wish that you were gone xeol \n",
      " xbol i wish you were here 196.35336157400377\n",
      "\n",
      "\n",
      "xbos xxunk [verse-1] crave requiem xeol \n",
      " xbol xeol \n",
      " xbol so far away , i wish you were here today xeol \n",
      " xbol and most of all i wish there was another way xeol \n",
      " xbol i wish i could do this to me xeol \n",
      " xbol xeol \n",
      " xbol so you could leave here with me xeol \n",
      " xbol much more than anything you meant to me xeol \n",
      " xbol i wish i was dead xeol \n",
      " xbol wish that i could go away xeol \n",
      " xbol i wish you loved 199.09497232860096\n",
      "\n",
      "\n",
      "xbos xxunk [verse-1] crave requiem xeol \n",
      " xbol xeol \n",
      " xbol so far away , i wish you were here today xeol \n",
      " xbol and most of all i wish there was another way xeol \n",
      " xbol i wish i could do this to me xeol \n",
      " xbol xeol \n",
      " xbol so you could leave here with me xeol \n",
      " xbol much more than anything you meant to me xeol \n",
      " xbol i wish i was dead xeol \n",
      " xbol wish that i could go back where i belong xeol \n",
      " xbol i 199.22117042958834\n",
      "\n",
      "\n",
      "xbos xxunk [verse-1] crave requiem xeol \n",
      " xbol xeol \n",
      " xbol so far away , i wish you were here today xeol \n",
      " xbol and most of all i wish there was another way xeol \n",
      " xbol i wish i could do this to me xeol \n",
      " xbol xeol \n",
      " xbol so you could leave here with me xeol \n",
      " xbol much more than anything you meant to me xeol \n",
      " xbol i wish i was dead xeol \n",
      " xbol wish that you were here xeol \n",
      " xbol wish i could have loved 199.2517252487672\n",
      "\n",
      "\n",
      "xbos xxunk [verse-1] crave requiem xeol \n",
      " xbol xeol \n",
      " xbol so far away , i wish you were here today xeol \n",
      " xbol and most of all i wish there was another way xeol \n",
      " xbol i wish i could do this to me xeol \n",
      " xbol xeol \n",
      " xbol so you could leave here with me xeol \n",
      " xbol much more than anything you meant to me xeol \n",
      " xbol i wish i was dead xeol \n",
      " xbol wish that you were gone xeol \n",
      " xbol i wish i had you 199.61630879238356\n",
      "\n",
      "\n",
      "xbos xxunk [verse-1] crave requiem xeol \n",
      " xbol xeol \n",
      " xbol so far away , i wish you were here today xeol \n",
      " xbol and most of all i wish there was another way xeol \n",
      " xbol i wish i could do this to me xeol \n",
      " xbol xeol \n",
      " xbol so you could leave here with me xeol \n",
      " xbol much more than anything you meant to me xeol \n",
      " xbol i wish i was dead xeol \n",
      " xbol wish that you were here xeol \n",
      " xbol xeol \n",
      " xbol i long to 199.6215368622202\n",
      "\n",
      "\n",
      "xbos xxunk [verse-1] crave requiem xeol \n",
      " xbol xeol \n",
      " xbol so far away , i wish you were here today xeol \n",
      " xbol and most of all i wish there was another way xeol \n",
      " xbol i wish i could do this to me xeol \n",
      " xbol xeol \n",
      " xbol so you could leave here with me xeol \n",
      " xbol much more than anything you meant to me xeol \n",
      " xbol i wish i was dead xeol \n",
      " xbol wish that you were here xeol \n",
      " xbol wish i could write you 199.89808182834935\n",
      "\n",
      "\n",
      "xbos xxunk [verse-1] crave requiem xeol \n",
      " xbol xeol \n",
      " xbol so far away , i wish you were here today xeol \n",
      " xbol and most of all i wish there was another way xeol \n",
      " xbol i wish i could do this to me xeol \n",
      " xbol xeol \n",
      " xbol so you could leave here with me xeol \n",
      " xbol much more than anything you meant to me xeol \n",
      " xbol i wish i was dead xeol \n",
      " xbol wish that i could go back where i belong xeol \n",
      " xbol wish 199.93559081212405\n",
      "\n",
      "\n"
     ]
    }
   ],
   "source": [
    "#print all of the final options of songs\n",
    "for song, score in final_scores:\n",
    "    print_words(song)\n",
    "    print(score)\n",
    "    print('\\n')"
   ]
  },
  {
   "cell_type": "code",
   "execution_count": null,
   "metadata": {},
   "outputs": [],
   "source": []
  }
 ],
 "metadata": {
  "kernelspec": {
   "display_name": "Python 3",
   "language": "python",
   "name": "python3"
  },
  "language_info": {
   "codemirror_mode": {
    "name": "ipython",
    "version": 3
   },
   "file_extension": ".py",
   "mimetype": "text/x-python",
   "name": "python",
   "nbconvert_exporter": "python",
   "pygments_lexer": "ipython3",
   "version": "3.6.5"
  }
 },
 "nbformat": 4,
 "nbformat_minor": 2
}
