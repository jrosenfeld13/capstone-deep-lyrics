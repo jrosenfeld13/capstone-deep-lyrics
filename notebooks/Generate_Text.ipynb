{
 "cells": [
  {
   "cell_type": "code",
   "execution_count": 1,
   "metadata": {},
   "outputs": [],
   "source": [
    "%load_ext autoreload\n",
    "%autoreload 2"
   ]
  },
  {
   "cell_type": "code",
   "execution_count": 2,
   "metadata": {},
   "outputs": [],
   "source": [
    "import requests\n",
    "import pickle\n",
    "import numpy as np\n",
    "from pathlib import Path\n",
    "from datetime import datetime\n",
    "\n",
    "from src.nlp.generate_lyrics import DeepLyric\n",
    "from src.nlp.evaluate_lyrics import Evaluator"
   ]
  },
  {
   "cell_type": "markdown",
   "metadata": {},
   "source": [
    "## Model Loading"
   ]
  },
  {
   "cell_type": "markdown",
   "metadata": {},
   "source": [
    "The `DeepLyric` object can now be loaded by two different methods.\n",
    "1. Load the model object and itos object directly\n",
    "2. Input model `str` and download from cloud storage"
   ]
  },
  {
   "cell_type": "markdown",
   "metadata": {},
   "source": [
    "### Load Method 1\n",
    "It's important to input `model_name` explicitly if this method is used"
   ]
  },
  {
   "cell_type": "code",
   "execution_count": 3,
   "metadata": {},
   "outputs": [],
   "source": [
    "MODEL = '4.2-LM-108k-lines-genre-song_title'"
   ]
  },
  {
   "cell_type": "code",
   "execution_count": 4,
   "metadata": {},
   "outputs": [],
   "source": [
    "model_url = f'https://storage.googleapis.com/w210-capstone/models/{MODEL}_architecture.pkl'\n",
    "model = requests.get(model_url)\n",
    "model = model.content\n",
    "model = pickle.loads(model)"
   ]
  },
  {
   "cell_type": "code",
   "execution_count": 5,
   "metadata": {},
   "outputs": [],
   "source": [
    "itos_url = f'https://storage.googleapis.com/w210-capstone/models/{MODEL}_itos.pkl'\n",
    "itos = requests.get(itos_url)\n",
    "itos = itos.content\n",
    "itos = pickle.loads(itos)"
   ]
  },
  {
   "cell_type": "code",
   "execution_count": 6,
   "metadata": {},
   "outputs": [],
   "source": [
    "deep_lyric = DeepLyric(model, itos=itos, model_type='language', model_name=MODEL)"
   ]
  },
  {
   "cell_type": "code",
   "execution_count": 7,
   "metadata": {},
   "outputs": [
    {
     "data": {
      "text/plain": [
       "{'seed_text': 'xbos',\n",
       " 'max_len': 40,\n",
       " 'GPU': True,\n",
       " 'context_length': 30,\n",
       " 'beam_width': 3,\n",
       " 'verbose': 0,\n",
       " 'temperature': 1.5,\n",
       " 'top_k': 3,\n",
       " 'audio': None,\n",
       " 'multinomial': True,\n",
       " 'genre': None,\n",
       " 'title': None,\n",
       " 'model_name': '4.2-LM-108k-lines-genre-song_title',\n",
       " 'model_type': 'language'}"
      ]
     },
     "execution_count": 7,
     "metadata": {},
     "output_type": "execute_result"
    }
   ],
   "source": [
    "deep_lyric.config"
   ]
  },
  {
   "cell_type": "markdown",
   "metadata": {},
   "source": [
    "### Load Method 2"
   ]
  },
  {
   "cell_type": "markdown",
   "metadata": {},
   "source": [
    "This method is more convenient, but takes a few extra seconds at the beginning to download the models"
   ]
  },
  {
   "cell_type": "code",
   "execution_count": 83,
   "metadata": {},
   "outputs": [],
   "source": [
    "deep_lyric = DeepLyric(MODEL, model_type='language')"
   ]
  },
  {
   "cell_type": "code",
   "execution_count": 84,
   "metadata": {},
   "outputs": [
    {
     "data": {
      "text/plain": [
       "{'seed_text': 'xbos',\n",
       " 'max_len': 40,\n",
       " 'GPU': True,\n",
       " 'context_length': 30,\n",
       " 'beam_width': 3,\n",
       " 'verbose': 0,\n",
       " 'temperature': 1.5,\n",
       " 'top_k': 3,\n",
       " 'audio': None,\n",
       " 'multinomial': True,\n",
       " 'genre': None,\n",
       " 'title': None,\n",
       " 'model_name': '4.2-LM-108k-lines-genre-song_title',\n",
       " 'model_type': 'language'}"
      ]
     },
     "execution_count": 84,
     "metadata": {},
     "output_type": "execute_result"
    }
   ],
   "source": [
    "deep_lyric.config"
   ]
  },
  {
   "cell_type": "markdown",
   "metadata": {},
   "source": [
    "## Changing Parameters, Generating, and Saving\n",
    "Once the model is loaded, the rest of the functions work identically. There are also two ways to set configs.\n",
    "1. Pass in a key/value pair\n",
    "2. Pass in an entire dictionary (this will overwrite all current config)"
   ]
  },
  {
   "cell_type": "code",
   "execution_count": 85,
   "metadata": {},
   "outputs": [],
   "source": [
    "deep_lyric.set_config('seed_text', 'xbos xgenre')\n",
    "deep_lyric.set_config('max_len', 80)\n",
    "deep_lyric.set_config('top_k', 5)\n",
    "deep_lyric.set_config('context_length', 40)\n",
    "deep_lyric.set_config('verbose', 0)"
   ]
  },
  {
   "cell_type": "code",
   "execution_count": 23,
   "metadata": {},
   "outputs": [],
   "source": [
    "deep_lyric.generate_text()"
   ]
  },
  {
   "cell_type": "markdown",
   "metadata": {},
   "source": [
    "Here is the printed lyrics from the above instance"
   ]
  },
  {
   "cell_type": "code",
   "execution_count": 24,
   "metadata": {},
   "outputs": [
    {
     "name": "stdout",
     "output_type": "stream",
     "text": [
      "SONG START\n",
      " genre: death metal \n",
      " title: the rotting applause \n",
      "\n",
      "xbol-1 pass this task \n",
      " bring your confusion \n",
      " whether you like this \n",
      " drink your meal today \n",
      " \n",
      " drag your breasts to your knees \n",
      " or walk all over "
     ]
    }
   ],
   "source": [
    "deep_lyric.print_lyrics()"
   ]
  },
  {
   "cell_type": "markdown",
   "metadata": {},
   "source": [
    "Here's a preview of the json payload. Simply change the parameter `dir` to a directory to save to disk.\n",
    "File names are UTC timestamps to attempt to be unique"
   ]
  },
  {
   "cell_type": "code",
   "execution_count": 11,
   "metadata": {},
   "outputs": [
    {
     "data": {
      "text/plain": [
       "{'meta': {'seed_text': 'xbos xgenre death metal xtitle',\n",
       "  'max_len': 40,\n",
       "  'GPU': True,\n",
       "  'context_length': 40,\n",
       "  'beam_width': 3,\n",
       "  'verbose': 0,\n",
       "  'temperature': 1.5,\n",
       "  'top_k': 5,\n",
       "  'audio': None,\n",
       "  'multinomial': True,\n",
       "  'genre': None,\n",
       "  'title': None,\n",
       "  'model_name': '4.2-LM-108k-lines-genre-song_title',\n",
       "  'model_type': 'language'},\n",
       " 'lyric': ['xbos',\n",
       "  'xgenre',\n",
       "  'death',\n",
       "  'metal',\n",
       "  'xtitle',\n",
       "  'and',\n",
       "  'i',\n",
       "  'don',\n",
       "  \"'t\",\n",
       "  'think',\n",
       "  'that',\n",
       "  'xbol-1',\n",
       "  'after',\n",
       "  'all',\n",
       "  'this',\n",
       "  'xeol',\n",
       "  'xbol-2',\n",
       "  'what',\n",
       "  'can',\n",
       "  'i',\n",
       "  'see',\n",
       "  'now',\n",
       "  '?',\n",
       "  'xeol',\n",
       "  'xbol-3',\n",
       "  'it',\n",
       "  \"'s\",\n",
       "  'blind',\n",
       "  'because',\n",
       "  'i',\n",
       "  'xeol',\n",
       "  'xbol-4',\n",
       "  'can',\n",
       "  \"'t\",\n",
       "  'find',\n",
       "  'my',\n",
       "  'way',\n",
       "  'back',\n",
       "  '!',\n",
       "  'xeol',\n",
       "  'xeos',\n",
       "  'xbos',\n",
       "  'xgenre',\n",
       "  'nan',\n",
       "  'xtitle']}"
      ]
     },
     "execution_count": 11,
     "metadata": {},
     "output_type": "execute_result"
    }
   ],
   "source": [
    "deep_lyric.save_json(out=True)"
   ]
  },
  {
   "cell_type": "markdown",
   "metadata": {},
   "source": [
    "And if we wanted to run a bunch of simulations with the specified parameters, we just do this:"
   ]
  },
  {
   "cell_type": "code",
   "execution_count": null,
   "metadata": {},
   "outputs": [],
   "source": [
    "# for i in range(10):\n",
    "#     deep_lyric.generate_text()\n",
    "#     deep_lyric.save_json(dir='.')"
   ]
  },
  {
   "cell_type": "markdown",
   "metadata": {},
   "source": [
    "## Evaluation\n",
    "\n",
    "The `Evaluator` is an extension of `DeepLyric` that piggy-backs off the config states. We can pass the configured deep lyric object above to do further evals\n",
    "\n",
    "None of the actual eval functions are hooked up yet, but here is how we'd interface with the framework"
   ]
  },
  {
   "cell_type": "code",
   "execution_count": 121,
   "metadata": {},
   "outputs": [],
   "source": [
    "# evaluator = Evaluator(deep_lyric, set_lyric_state=False)\n",
    "deep_lyric.set_config('seed_text', 'xbos xgenre rap')\n",
    "deep_lyric.set_config('max_len', 60)\n",
    "evaluator = Evaluator(deep_lyric, set_lyric_state=False)"
   ]
  },
  {
   "cell_type": "code",
   "execution_count": 108,
   "metadata": {},
   "outputs": [
    {
     "data": {
      "text/plain": [
       "{'seed_text': 'xbos xgenre metal',\n",
       " 'max_len': 40,\n",
       " 'GPU': True,\n",
       " 'context_length': 40,\n",
       " 'beam_width': 3,\n",
       " 'verbose': 0,\n",
       " 'temperature': 1.5,\n",
       " 'top_k': 5,\n",
       " 'audio': None,\n",
       " 'multinomial': True,\n",
       " 'genre': None,\n",
       " 'title': None,\n",
       " 'model_name': '4.2-LM-108k-lines-genre-song_title',\n",
       " 'model_type': 'language'}"
      ]
     },
     "execution_count": 108,
     "metadata": {},
     "output_type": "execute_result"
    }
   ],
   "source": [
    "evaluator.deep_lyric.config"
   ]
  },
  {
   "cell_type": "code",
   "execution_count": 109,
   "metadata": {},
   "outputs": [],
   "source": [
    "# evaluator.get_lyric()\n",
    "# evaluator.generated_song"
   ]
  },
  {
   "cell_type": "code",
   "execution_count": 122,
   "metadata": {},
   "outputs": [
    {
     "name": "stderr",
     "output_type": "stream",
     "text": [
      "/home/syang/anaconda3/lib/python3.6/site-packages/nltk/translate/bleu_score.py:503: UserWarning: \n",
      "The hypothesis contains 0 counts of 4-gram overlaps.\n",
      "Therefore the BLEU score evaluates to 0, independently of\n",
      "how many N-gram overlaps of lower order it contains.\n",
      "Consider using lower n-gram order or use SmoothingFunction()\n",
      "  warnings.warn(_msg)\n"
     ]
    },
    {
     "data": {
      "text/plain": [
       "{'rhymeDensityAP': 0.5365853658536586,\n",
       " 'rhymeDensityAV': 0.6585365853658537,\n",
       " 'rhymeDensityAS': 0.5609756097560976,\n",
       " 'rhymeDensityEP': 0.5,\n",
       " 'rhymeDensityEV': 0.5,\n",
       " 'rhymeDensityES': 0.5,\n",
       " 'BLEU_1_excl_Unsmoothed': 0.9310627797040228,\n",
       " 'BLEU_2_excl_Unsmoothed': 0.36334157256742355,\n",
       " 'BLEU_3_excl_Unsmoothed': 0.023276569492600572,\n",
       " 'BLEU_4_excl_Unsmoothed': 2.0716834517485276e-308,\n",
       " 'BLEU_3_cumul_Smoothed': 0.4390031332100231,\n",
       " 'BLEU_4_cumul_Smoothed': 0.2621987224388713,\n",
       " 'closestMeters': ['Iambic dimeter', 'Trochaic dimeter'],\n",
       " 'editsPerLine': 169.0,\n",
       " 'POS_conformity': 0.8004035714285714}"
      ]
     },
     "execution_count": 122,
     "metadata": {},
     "output_type": "execute_result"
    }
   ],
   "source": [
    "# not yet implemented\n",
    "evaluator.get_lyric()\n",
    "evaluator.evaluate(out=True)"
   ]
  },
  {
   "cell_type": "code",
   "execution_count": 111,
   "metadata": {},
   "outputs": [
    {
     "name": "stdout",
     "output_type": "stream",
     "text": [
      "SONG START\n",
      " genre: metal \n",
      " title: false fate \n",
      "\n",
      "xbol-1 at this point of romance , babe \n",
      " yeah you are where i 've been \n",
      " know i 've got you on my side \n",
      " yeah , look at us now , oh "
     ]
    }
   ],
   "source": [
    "evaluator.deep_lyric.print_lyrics()"
   ]
  },
  {
   "cell_type": "code",
   "execution_count": 112,
   "metadata": {},
   "outputs": [
    {
     "data": {
      "text/plain": [
       "{'meta': {'seed_text': 'xbos xgenre metal',\n",
       "  'max_len': 40,\n",
       "  'GPU': True,\n",
       "  'context_length': 40,\n",
       "  'beam_width': 3,\n",
       "  'verbose': 0,\n",
       "  'temperature': 1.5,\n",
       "  'top_k': 5,\n",
       "  'audio': None,\n",
       "  'multinomial': True,\n",
       "  'genre': None,\n",
       "  'title': None,\n",
       "  'model_name': '4.2-LM-108k-lines-genre-song_title',\n",
       "  'model_type': 'language'},\n",
       " 'lyric': ['xbos',\n",
       "  'xgenre',\n",
       "  'metal',\n",
       "  'xtitle',\n",
       "  'false',\n",
       "  'fate',\n",
       "  'xbol-1',\n",
       "  'at',\n",
       "  'this',\n",
       "  'point',\n",
       "  'of',\n",
       "  'romance',\n",
       "  ',',\n",
       "  'babe',\n",
       "  'xeol',\n",
       "  'xbol-2',\n",
       "  'yeah',\n",
       "  'you',\n",
       "  'are',\n",
       "  'where',\n",
       "  'i',\n",
       "  \"'ve\",\n",
       "  'been',\n",
       "  'xeol',\n",
       "  'xbol-3',\n",
       "  'know',\n",
       "  'i',\n",
       "  \"'ve\",\n",
       "  'got',\n",
       "  'you',\n",
       "  'on',\n",
       "  'my',\n",
       "  'side',\n",
       "  'xeol',\n",
       "  'xbol-4',\n",
       "  'yeah',\n",
       "  ',',\n",
       "  'look',\n",
       "  'at',\n",
       "  'us',\n",
       "  'now',\n",
       "  ',',\n",
       "  'oh'],\n",
       " 'metrics': {'rhymeDensityAP': 0.20689655172413793,\n",
       "  'rhymeDensityAV': 0.4482758620689655,\n",
       "  'rhymeDensityAS': 0.4482758620689655,\n",
       "  'rhymeDensityEP': 0.0,\n",
       "  'rhymeDensityEV': 0.0,\n",
       "  'rhymeDensityES': 0.0,\n",
       "  'BLEU_1_excl_Unsmoothed': 0.9666666666666667,\n",
       "  'BLEU_2_excl_Unsmoothed': 0.5172413793103449,\n",
       "  'BLEU_3_excl_Unsmoothed': 0.07142857142857141,\n",
       "  'BLEU_4_excl_Unsmoothed': 2.2250738585072626e-308,\n",
       "  'BLEU_3_cumul_Smoothed': 0.5250050152505369,\n",
       "  'BLEU_4_cumul_Smoothed': 0.31984856313274795,\n",
       "  'closestMeters': ['Iambic dimeter', 'Trochaic dimeter'],\n",
       "  'editsPerLine': 3.0,\n",
       "  'POS_conformity': 0.4547999999999999}}"
      ]
     },
     "execution_count": 112,
     "metadata": {},
     "output_type": "execute_result"
    }
   ],
   "source": [
    "evaluator.save_json(out=True)"
   ]
  },
  {
   "cell_type": "code",
   "execution_count": 118,
   "metadata": {},
   "outputs": [],
   "source": [
    "import collections\n",
    "def flatten(d, parent_key='', sep='_'):\n",
    "    items = []\n",
    "    for k, v in d.items():\n",
    "        new_key = parent_key + sep + k if parent_key else k\n",
    "        if isinstance(v, collections.MutableMapping):\n",
    "            items.extend(flatten(v, new_key, sep=sep).items())\n",
    "        else:\n",
    "            items.append((new_key, v))\n",
    "    return dict(items)"
   ]
  },
  {
   "cell_type": "markdown",
   "metadata": {},
   "source": [
    "### Batch Evaluation"
   ]
  },
  {
   "cell_type": "code",
   "execution_count": 12,
   "metadata": {},
   "outputs": [
    {
     "data": {
      "text/plain": [
       "{'seed_text': 'xbos',\n",
       " 'max_len': 40,\n",
       " 'GPU': True,\n",
       " 'context_length': 30,\n",
       " 'beam_width': 3,\n",
       " 'verbose': 0,\n",
       " 'temperature': 1.5,\n",
       " 'top_k': 3,\n",
       " 'audio': None,\n",
       " 'multinomial': True,\n",
       " 'genre': None,\n",
       " 'title': None,\n",
       " 'model_name': '4.2-LM-108k-lines-genre-song_title',\n",
       " 'model_type': 'language',\n",
       " None: None}"
      ]
     },
     "execution_count": 12,
     "metadata": {},
     "output_type": "execute_result"
    }
   ],
   "source": [
    "deep_lyric.config"
   ]
  },
  {
   "cell_type": "code",
   "execution_count": 82,
   "metadata": {},
   "outputs": [
    {
     "name": "stdout",
     "output_type": "stream",
     "text": [
      "Run Time: 2908.7841925621033\n"
     ]
    }
   ],
   "source": [
    "import warnings\n",
    "warnings.filterwarnings(\"ignore\")\n",
    "\n",
    "import time\n",
    "now = time.time()\n",
    "\n",
    "# load model\n",
    "deep_lyric = DeepLyric(model, itos=itos, model_type='language', model_name=MODEL)\n",
    "\n",
    "N = 1\n",
    "DIR = '../data/lyrics/batch-01'\n",
    "# Set Grid\n",
    "genre = ['pop', 'indie', 'jazz', 'metal', 'spanish', 'christian', 'rap', 'hip hop', 'rock']\n",
    "temperature = [1.2, 1.3, 1.4, 1.5, 1.6]\n",
    "top_k = [3, 6, 9, 12]\n",
    "beam_width = [3, 6, 9]\n",
    "\n",
    "# grid generate\n",
    "for combo in itertools.product(genre, temperature, top_k, beam_width):\n",
    "    _genre, _temperature, _top_k, _beam_width = combo\n",
    "    deep_lyric.set_config('genre', _genre)\n",
    "    deep_lyric.set_config('temperature', _temperature)\n",
    "    deep_lyric.set_config('top_k', _top_k)\n",
    "    deep_lyric.set_config('beam_width', _beam_width)\n",
    "\n",
    "    for _ in range(N):\n",
    "        evaluator = Evaluator(deep_lyric, set_lyric_state=False)\n",
    "        evaluator.get_lyric()\n",
    "        evaluator.evaluate()\n",
    "        evaluator.save_json(dir=DIR)\n",
    "\n",
    "print(f'Run Time: {time.time() - now}')"
   ]
  },
  {
   "cell_type": "code",
   "execution_count": 89,
   "metadata": {},
   "outputs": [
    {
     "data": {
      "text/plain": [
       "<bound method Series.unique of 0                     [Iambic dimeter, Trochaic dimeter]\n",
       "1                                                   None\n",
       "2                     [Iambic dimeter, Trochaic dimeter]\n",
       "3                     [Iambic dimeter, Trochaic dimeter]\n",
       "4                     [Iambic dimeter, Trochaic dimeter]\n",
       "5                     [Iambic dimeter, Trochaic dimeter]\n",
       "6                     [Iambic dimeter, Trochaic dimeter]\n",
       "7                     [Iambic dimeter, Trochaic dimeter]\n",
       "8                     [Iambic dimeter, Trochaic dimeter]\n",
       "9                     [Iambic dimeter, Trochaic dimeter]\n",
       "10                    [Iambic dimeter, Trochaic dimeter]\n",
       "11                    [Iambic dimeter, Trochaic dimeter]\n",
       "12                    [Iambic dimeter, Trochaic dimeter]\n",
       "13                    [Iambic dimeter, Trochaic dimeter]\n",
       "14                    [Iambic dimeter, Trochaic dimeter]\n",
       "15                    [Iambic dimeter, Trochaic dimeter]\n",
       "16                    [Iambic dimeter, Trochaic dimeter]\n",
       "17                    [Iambic dimeter, Trochaic dimeter]\n",
       "18                    [Iambic dimeter, Trochaic dimeter]\n",
       "19                    [Iambic dimeter, Trochaic dimeter]\n",
       "20                    [Iambic dimeter, Trochaic dimeter]\n",
       "21                    [Iambic dimeter, Trochaic dimeter]\n",
       "22                    [Iambic dimeter, Trochaic dimeter]\n",
       "23                    [Iambic dimeter, Trochaic dimeter]\n",
       "24                    [Iambic dimeter, Trochaic dimeter]\n",
       "25                    [Iambic dimeter, Trochaic dimeter]\n",
       "26                    [Iambic dimeter, Trochaic dimeter]\n",
       "27                    [Iambic dimeter, Trochaic dimeter]\n",
       "28                    [Iambic dimeter, Trochaic dimeter]\n",
       "29                    [Iambic dimeter, Trochaic dimeter]\n",
       "                             ...                        \n",
       "533                   [Iambic dimeter, Trochaic dimeter]\n",
       "534                   [Iambic dimeter, Trochaic dimeter]\n",
       "535                   [Iambic dimeter, Trochaic dimeter]\n",
       "536                   [Iambic dimeter, Trochaic dimeter]\n",
       "537                                                 None\n",
       "538                   [Iambic dimeter, Trochaic dimeter]\n",
       "539                   [Iambic dimeter, Trochaic dimeter]\n",
       "540                   [Iambic dimeter, Trochaic dimeter]\n",
       "541                   [Iambic dimeter, Trochaic dimeter]\n",
       "542                                                 None\n",
       "543                   [Iambic dimeter, Trochaic dimeter]\n",
       "544                                                 None\n",
       "545                   [Iambic dimeter, Trochaic dimeter]\n",
       "546                   [Iambic dimeter, Trochaic dimeter]\n",
       "547                   [Iambic dimeter, Trochaic dimeter]\n",
       "548                   [Iambic dimeter, Trochaic dimeter]\n",
       "549                   [Iambic dimeter, Trochaic dimeter]\n",
       "550                   [Iambic dimeter, Trochaic dimeter]\n",
       "551                   [Iambic dimeter, Trochaic dimeter]\n",
       "552                   [Iambic dimeter, Trochaic dimeter]\n",
       "553                   [Iambic dimeter, Trochaic dimeter]\n",
       "554                   [Iambic dimeter, Trochaic dimeter]\n",
       "555                   [Iambic dimeter, Trochaic dimeter]\n",
       "556                   [Iambic dimeter, Trochaic dimeter]\n",
       "557                   [Iambic dimeter, Trochaic dimeter]\n",
       "558                   [Iambic dimeter, Trochaic dimeter]\n",
       "559                   [Iambic dimeter, Trochaic dimeter]\n",
       "560                   [Iambic dimeter, Trochaic dimeter]\n",
       "561    [Iambic dimeter, Iambic trimeter, Iambic tetra...\n",
       "562                   [Iambic dimeter, Trochaic dimeter]\n",
       "Name: metrics_closestMeters, Length: 563, dtype: object>"
      ]
     },
     "execution_count": 89,
     "metadata": {},
     "output_type": "execute_result"
    }
   ],
   "source": [
    "import os, json\n",
    "import collections\n",
    "import pandas as pd\n",
    "\n",
    "def open_json(file):\n",
    "    if not file.split('/')[-1].startswith('.'):\n",
    "        with open(file) as f:\n",
    "            xx = json.load(f)\n",
    "        return xx\n",
    "    \n",
    "def flatten(d, parent_key='', sep='_'):\n",
    "    items = []\n",
    "    for k, v in d.items():\n",
    "        new_key = parent_key + sep + k if parent_key else k\n",
    "        if isinstance(v, collections.MutableMapping):\n",
    "            items.extend(flatten(v, new_key, sep=sep).items())\n",
    "        else:\n",
    "            items.append((new_key, v))\n",
    "    return dict(items)\n",
    "\n",
    "batch_list = [open_json(os.path.join(DIR, file)) for file in os.listdir(DIR)]\n",
    "flattened = [flatten(b) for b in batch_list if b]\n",
    "df = pd.DataFrame(flattened)\n",
    "df.metrics_closestMeters.unique"
   ]
  },
  {
   "cell_type": "markdown",
   "metadata": {},
   "source": [
    "### Store to Cloud..."
   ]
  },
  {
   "cell_type": "code",
   "execution_count": 94,
   "metadata": {},
   "outputs": [],
   "source": [
    "OUT_STORE = f'gs://w210-capstone/lyrics/{model_name}/'"
   ]
  },
  {
   "cell_type": "code",
   "execution_count": 95,
   "metadata": {},
   "outputs": [
    {
     "name": "stdout",
     "output_type": "stream",
     "text": [
      "Copying file://../data/lyrics/4.2-LM-108k-lines-genre-song_title/1543790822-1.0-1.txt [Content-Type=text/plain]...\n",
      "Copying file://../data/lyrics/4.2-LM-108k-lines-genre-song_title/1543790825-1.0-2.txt [Content-Type=text/plain]...\n",
      "Copying file://../data/lyrics/4.2-LM-108k-lines-genre-song_title/1543790834-1.0-3.txt [Content-Type=text/plain]...\n",
      "Copying file://../data/lyrics/4.2-LM-108k-lines-genre-song_title/1543790842-1.0-4.txt [Content-Type=text/plain]...\n",
      "- [4 files][  2.7 KiB/  2.7 KiB]                                                \n",
      "==> NOTE: You are performing a sequence of gsutil operations that may\n",
      "run significantly faster if you instead use gsutil -m -o ... Please\n",
      "see the -m section under \"gsutil help options\" for further information\n",
      "about when gsutil -m can be advantageous.\n",
      "\n",
      "Copying file://../data/lyrics/4.2-LM-108k-lines-genre-song_title/1543790850-1.0-5.txt [Content-Type=text/plain]...\n",
      "Copying file://../data/lyrics/4.2-LM-108k-lines-genre-song_title/1543790859-1.2-1.txt [Content-Type=text/plain]...\n",
      "Copying file://../data/lyrics/4.2-LM-108k-lines-genre-song_title/1543790861-1.2-2.txt [Content-Type=text/plain]...\n",
      "Copying file://../data/lyrics/4.2-LM-108k-lines-genre-song_title/1543790870-1.2-3.txt [Content-Type=text/plain]...\n",
      "Copying file://../data/lyrics/4.2-LM-108k-lines-genre-song_title/1543790878-1.2-4.txt [Content-Type=text/plain]...\n",
      "Copying file://../data/lyrics/4.2-LM-108k-lines-genre-song_title/1543790886-1.2-5.txt [Content-Type=text/plain]...\n",
      "Copying file://../data/lyrics/4.2-LM-108k-lines-genre-song_title/1543790895-1.4-1.txt [Content-Type=text/plain]...\n",
      "Copying file://../data/lyrics/4.2-LM-108k-lines-genre-song_title/1543790898-1.4-2.txt [Content-Type=text/plain]...\n",
      "Copying file://../data/lyrics/4.2-LM-108k-lines-genre-song_title/1543790906-1.4-3.txt [Content-Type=text/plain]...\n",
      "Copying file://../data/lyrics/4.2-LM-108k-lines-genre-song_title/1543790914-1.4-4.txt [Content-Type=text/plain]...\n",
      "Copying file://../data/lyrics/4.2-LM-108k-lines-genre-song_title/1543790923-1.4-5.txt [Content-Type=text/plain]...\n",
      "Copying file://../data/lyrics/4.2-LM-108k-lines-genre-song_title/1543790931-1.6-1.txt [Content-Type=text/plain]...\n",
      "Copying file://../data/lyrics/4.2-LM-108k-lines-genre-song_title/1543790934-1.6-2.txt [Content-Type=text/plain]...\n",
      "Copying file://../data/lyrics/4.2-LM-108k-lines-genre-song_title/1543790943-1.6-3.txt [Content-Type=text/plain]...\n",
      "Copying file://../data/lyrics/4.2-LM-108k-lines-genre-song_title/1543790951-1.6-4.txt [Content-Type=text/plain]...\n",
      "Copying file://../data/lyrics/4.2-LM-108k-lines-genre-song_title/1543790960-1.6-5.txt [Content-Type=text/plain]...\n",
      "Copying file://../data/lyrics/4.2-LM-108k-lines-genre-song_title/1543790968-1.0-1.txt [Content-Type=text/plain]...\n",
      "Copying file://../data/lyrics/4.2-LM-108k-lines-genre-song_title/1543790971-1.0-2.txt [Content-Type=text/plain]...\n",
      "Copying file://../data/lyrics/4.2-LM-108k-lines-genre-song_title/1543790979-1.0-3.txt [Content-Type=text/plain]...\n",
      "Copying file://../data/lyrics/4.2-LM-108k-lines-genre-song_title/1543790988-1.0-4.txt [Content-Type=text/plain]...\n",
      "Copying file://../data/lyrics/4.2-LM-108k-lines-genre-song_title/1543790996-1.0-5.txt [Content-Type=text/plain]...\n",
      "Copying file://../data/lyrics/4.2-LM-108k-lines-genre-song_title/1543791004-1.2-1.txt [Content-Type=text/plain]...\n",
      "Copying file://../data/lyrics/4.2-LM-108k-lines-genre-song_title/1543791007-1.2-2.txt [Content-Type=text/plain]...\n",
      "Copying file://../data/lyrics/4.2-LM-108k-lines-genre-song_title/1543791015-1.2-3.txt [Content-Type=text/plain]...\n",
      "Copying file://../data/lyrics/4.2-LM-108k-lines-genre-song_title/1543791024-1.2-4.txt [Content-Type=text/plain]...\n",
      "Copying file://../data/lyrics/4.2-LM-108k-lines-genre-song_title/1543791032-1.2-5.txt [Content-Type=text/plain]...\n",
      "Copying file://../data/lyrics/4.2-LM-108k-lines-genre-song_title/1543791040-1.4-1.txt [Content-Type=text/plain]...\n",
      "Copying file://../data/lyrics/4.2-LM-108k-lines-genre-song_title/1543791043-1.4-2.txt [Content-Type=text/plain]...\n",
      "Copying file://../data/lyrics/4.2-LM-108k-lines-genre-song_title/1543791052-1.4-3.txt [Content-Type=text/plain]...\n",
      "Copying file://../data/lyrics/4.2-LM-108k-lines-genre-song_title/1543791060-1.4-4.txt [Content-Type=text/plain]...\n",
      "Copying file://../data/lyrics/4.2-LM-108k-lines-genre-song_title/1543791069-1.4-5.txt [Content-Type=text/plain]...\n",
      "Copying file://../data/lyrics/4.2-LM-108k-lines-genre-song_title/1543791077-1.6-1.txt [Content-Type=text/plain]...\n",
      "Copying file://../data/lyrics/4.2-LM-108k-lines-genre-song_title/1543791080-1.6-2.txt [Content-Type=text/plain]...\n",
      "Copying file://../data/lyrics/4.2-LM-108k-lines-genre-song_title/1543791088-1.6-3.txt [Content-Type=text/plain]...\n",
      "Copying file://../data/lyrics/4.2-LM-108k-lines-genre-song_title/1543791097-1.6-4.txt [Content-Type=text/plain]...\n",
      "Copying file://../data/lyrics/4.2-LM-108k-lines-genre-song_title/1543791105-1.6-5.txt [Content-Type=text/plain]...\n",
      "Copying file://../data/lyrics/4.2-LM-108k-lines-genre-song_title/1543791114-1.0-1.txt [Content-Type=text/plain]...\n",
      "Copying file://../data/lyrics/4.2-LM-108k-lines-genre-song_title/1543791117-1.0-2.txt [Content-Type=text/plain]...\n",
      "Copying file://../data/lyrics/4.2-LM-108k-lines-genre-song_title/1543791125-1.0-3.txt [Content-Type=text/plain]...\n",
      "Copying file://../data/lyrics/4.2-LM-108k-lines-genre-song_title/1543791133-1.0-4.txt [Content-Type=text/plain]...\n",
      "Copying file://../data/lyrics/4.2-LM-108k-lines-genre-song_title/1543791142-1.0-5.txt [Content-Type=text/plain]...\n",
      "Copying file://../data/lyrics/4.2-LM-108k-lines-genre-song_title/1543791150-1.2-1.txt [Content-Type=text/plain]...\n",
      "Copying file://../data/lyrics/4.2-LM-108k-lines-genre-song_title/1543791153-1.2-2.txt [Content-Type=text/plain]...\n",
      "Copying file://../data/lyrics/4.2-LM-108k-lines-genre-song_title/1543791161-1.2-3.txt [Content-Type=text/plain]...\n",
      "Copying file://../data/lyrics/4.2-LM-108k-lines-genre-song_title/1543791169-1.2-4.txt [Content-Type=text/plain]...\n",
      "Copying file://../data/lyrics/4.2-LM-108k-lines-genre-song_title/1543791178-1.2-5.txt [Content-Type=text/plain]...\n",
      "Copying file://../data/lyrics/4.2-LM-108k-lines-genre-song_title/1543791186-1.4-1.txt [Content-Type=text/plain]...\n",
      "Copying file://../data/lyrics/4.2-LM-108k-lines-genre-song_title/1543791189-1.4-2.txt [Content-Type=text/plain]...\n",
      "Copying file://../data/lyrics/4.2-LM-108k-lines-genre-song_title/1543791197-1.4-3.txt [Content-Type=text/plain]...\n",
      "Copying file://../data/lyrics/4.2-LM-108k-lines-genre-song_title/1543791206-1.4-4.txt [Content-Type=text/plain]...\n",
      "Copying file://../data/lyrics/4.2-LM-108k-lines-genre-song_title/1543791214-1.4-5.txt [Content-Type=text/plain]...\n",
      "Copying file://../data/lyrics/4.2-LM-108k-lines-genre-song_title/1543791223-1.6-1.txt [Content-Type=text/plain]...\n",
      "Copying file://../data/lyrics/4.2-LM-108k-lines-genre-song_title/1543791225-1.6-2.txt [Content-Type=text/plain]...\n",
      "Copying file://../data/lyrics/4.2-LM-108k-lines-genre-song_title/1543791234-1.6-3.txt [Content-Type=text/plain]...\n",
      "Copying file://../data/lyrics/4.2-LM-108k-lines-genre-song_title/1543791242-1.6-4.txt [Content-Type=text/plain]...\n",
      "Copying file://../data/lyrics/4.2-LM-108k-lines-genre-song_title/1543791251-1.6-5.txt [Content-Type=text/plain]...\n",
      "Copying file://../data/lyrics/4.2-LM-108k-lines-genre-song_title/1543791260-1.0-1.txt [Content-Type=text/plain]...\n",
      "Copying file://../data/lyrics/4.2-LM-108k-lines-genre-song_title/1543791262-1.0-2.txt [Content-Type=text/plain]...\n",
      "Copying file://../data/lyrics/4.2-LM-108k-lines-genre-song_title/1543791271-1.0-3.txt [Content-Type=text/plain]...\n",
      "Copying file://../data/lyrics/4.2-LM-108k-lines-genre-song_title/1543791279-1.0-4.txt [Content-Type=text/plain]...\n",
      "Copying file://../data/lyrics/4.2-LM-108k-lines-genre-song_title/1543791287-1.0-5.txt [Content-Type=text/plain]...\n",
      "Copying file://../data/lyrics/4.2-LM-108k-lines-genre-song_title/1543791296-1.2-1.txt [Content-Type=text/plain]...\n",
      "Copying file://../data/lyrics/4.2-LM-108k-lines-genre-song_title/1543791298-1.2-2.txt [Content-Type=text/plain]...\n",
      "Copying file://../data/lyrics/4.2-LM-108k-lines-genre-song_title/1543791307-1.2-3.txt [Content-Type=text/plain]...\n",
      "Copying file://../data/lyrics/4.2-LM-108k-lines-genre-song_title/1543791315-1.2-4.txt [Content-Type=text/plain]...\n",
      "Copying file://../data/lyrics/4.2-LM-108k-lines-genre-song_title/1543791323-1.2-5.txt [Content-Type=text/plain]...\n",
      "Copying file://../data/lyrics/4.2-LM-108k-lines-genre-song_title/1543791332-1.4-1.txt [Content-Type=text/plain]...\n",
      "Copying file://../data/lyrics/4.2-LM-108k-lines-genre-song_title/1543791335-1.4-2.txt [Content-Type=text/plain]...\n",
      "Copying file://../data/lyrics/4.2-LM-108k-lines-genre-song_title/1543791343-1.4-3.txt [Content-Type=text/plain]...\n",
      "Copying file://../data/lyrics/4.2-LM-108k-lines-genre-song_title/1543791351-1.4-4.txt [Content-Type=text/plain]...\n",
      "Copying file://../data/lyrics/4.2-LM-108k-lines-genre-song_title/1543791360-1.4-5.txt [Content-Type=text/plain]...\n",
      "Copying file://../data/lyrics/4.2-LM-108k-lines-genre-song_title/1543791368-1.6-1.txt [Content-Type=text/plain]...\n",
      "Copying file://../data/lyrics/4.2-LM-108k-lines-genre-song_title/1543791371-1.6-2.txt [Content-Type=text/plain]...\n",
      "Copying file://../data/lyrics/4.2-LM-108k-lines-genre-song_title/1543791380-1.6-3.txt [Content-Type=text/plain]...\n",
      "Copying file://../data/lyrics/4.2-LM-108k-lines-genre-song_title/1543791388-1.6-4.txt [Content-Type=text/plain]...\n",
      "Copying file://../data/lyrics/4.2-LM-108k-lines-genre-song_title/1543791397-1.6-5.txt [Content-Type=text/plain]...\n",
      "Copying file://../data/lyrics/4.2-LM-108k-lines-genre-song_title/1543791405-1.0-1.txt [Content-Type=text/plain]...\n",
      "Copying file://../data/lyrics/4.2-LM-108k-lines-genre-song_title/1543791408-1.0-2.txt [Content-Type=text/plain]...\n",
      "Copying file://../data/lyrics/4.2-LM-108k-lines-genre-song_title/1543791416-1.0-3.txt [Content-Type=text/plain]...\n",
      "Copying file://../data/lyrics/4.2-LM-108k-lines-genre-song_title/1543791425-1.0-4.txt [Content-Type=text/plain]...\n",
      "Copying file://../data/lyrics/4.2-LM-108k-lines-genre-song_title/1543791433-1.0-5.txt [Content-Type=text/plain]...\n",
      "Copying file://../data/lyrics/4.2-LM-108k-lines-genre-song_title/1543791441-1.2-1.txt [Content-Type=text/plain]...\n",
      "Copying file://../data/lyrics/4.2-LM-108k-lines-genre-song_title/1543791444-1.2-2.txt [Content-Type=text/plain]...\n",
      "Copying file://../data/lyrics/4.2-LM-108k-lines-genre-song_title/1543791453-1.2-3.txt [Content-Type=text/plain]...\n",
      "Copying file://../data/lyrics/4.2-LM-108k-lines-genre-song_title/1543791461-1.2-4.txt [Content-Type=text/plain]...\n",
      "Copying file://../data/lyrics/4.2-LM-108k-lines-genre-song_title/1543791469-1.2-5.txt [Content-Type=text/plain]...\n",
      "Copying file://../data/lyrics/4.2-LM-108k-lines-genre-song_title/1543791478-1.4-1.txt [Content-Type=text/plain]...\n",
      "Copying file://../data/lyrics/4.2-LM-108k-lines-genre-song_title/1543791480-1.4-2.txt [Content-Type=text/plain]...\n",
      "Copying file://../data/lyrics/4.2-LM-108k-lines-genre-song_title/1543791489-1.4-3.txt [Content-Type=text/plain]...\n",
      "Copying file://../data/lyrics/4.2-LM-108k-lines-genre-song_title/1543791497-1.4-4.txt [Content-Type=text/plain]...\n",
      "Copying file://../data/lyrics/4.2-LM-108k-lines-genre-song_title/1543791506-1.4-5.txt [Content-Type=text/plain]...\n",
      "Copying file://../data/lyrics/4.2-LM-108k-lines-genre-song_title/1543791514-1.6-1.txt [Content-Type=text/plain]...\n",
      "Copying file://../data/lyrics/4.2-LM-108k-lines-genre-song_title/1543791517-1.6-2.txt [Content-Type=text/plain]...\n",
      "Copying file://../data/lyrics/4.2-LM-108k-lines-genre-song_title/1543791525-1.6-3.txt [Content-Type=text/plain]...\n",
      "Copying file://../data/lyrics/4.2-LM-108k-lines-genre-song_title/1543791534-1.6-4.txt [Content-Type=text/plain]...\n",
      "Copying file://../data/lyrics/4.2-LM-108k-lines-genre-song_title/1543791542-1.6-5.txt [Content-Type=text/plain]...\n",
      "Copying file://../data/lyrics/4.2-LM-108k-lines-genre-song_title/1543791551-1.0-1.txt [Content-Type=text/plain]...\n",
      "Copying file://../data/lyrics/4.2-LM-108k-lines-genre-song_title/1543791554-1.0-2.txt [Content-Type=text/plain]...\n",
      "Copying file://../data/lyrics/4.2-LM-108k-lines-genre-song_title/1543791562-1.0-3.txt [Content-Type=text/plain]...\n",
      "Copying file://../data/lyrics/4.2-LM-108k-lines-genre-song_title/1543791570-1.0-4.txt [Content-Type=text/plain]...\n",
      "Copying file://../data/lyrics/4.2-LM-108k-lines-genre-song_title/1543791579-1.0-5.txt [Content-Type=text/plain]...\n",
      "Copying file://../data/lyrics/4.2-LM-108k-lines-genre-song_title/1543791587-1.2-1.txt [Content-Type=text/plain]...\n",
      "Copying file://../data/lyrics/4.2-LM-108k-lines-genre-song_title/1543791590-1.2-2.txt [Content-Type=text/plain]...\n",
      "Copying file://../data/lyrics/4.2-LM-108k-lines-genre-song_title/1543791598-1.2-3.txt [Content-Type=text/plain]...\n",
      "Copying file://../data/lyrics/4.2-LM-108k-lines-genre-song_title/1543791606-1.2-4.txt [Content-Type=text/plain]...\n",
      "Copying file://../data/lyrics/4.2-LM-108k-lines-genre-song_title/1543791615-1.2-5.txt [Content-Type=text/plain]...\n",
      "Copying file://../data/lyrics/4.2-LM-108k-lines-genre-song_title/1543791623-1.4-1.txt [Content-Type=text/plain]...\n",
      "Copying file://../data/lyrics/4.2-LM-108k-lines-genre-song_title/1543791626-1.4-2.txt [Content-Type=text/plain]...\n",
      "Copying file://../data/lyrics/4.2-LM-108k-lines-genre-song_title/1543791634-1.4-3.txt [Content-Type=text/plain]...\n",
      "Copying file://../data/lyrics/4.2-LM-108k-lines-genre-song_title/1543791643-1.4-4.txt [Content-Type=text/plain]...\n",
      "Copying file://../data/lyrics/4.2-LM-108k-lines-genre-song_title/1543791651-1.4-5.txt [Content-Type=text/plain]...\n",
      "Copying file://../data/lyrics/4.2-LM-108k-lines-genre-song_title/1543791660-1.6-1.txt [Content-Type=text/plain]...\n",
      "Copying file://../data/lyrics/4.2-LM-108k-lines-genre-song_title/1543791662-1.6-2.txt [Content-Type=text/plain]...\n",
      "Copying file://../data/lyrics/4.2-LM-108k-lines-genre-song_title/1543791671-1.6-3.txt [Content-Type=text/plain]...\n",
      "Copying file://../data/lyrics/4.2-LM-108k-lines-genre-song_title/1543791679-1.6-4.txt [Content-Type=text/plain]...\n",
      "Copying file://../data/lyrics/4.2-LM-108k-lines-genre-song_title/1543791688-1.6-5.txt [Content-Type=text/plain]...\n",
      "Copying file://../data/lyrics/4.2-LM-108k-lines-genre-song_title/1543791697-1.0-1.txt [Content-Type=text/plain]...\n",
      "Copying file://../data/lyrics/4.2-LM-108k-lines-genre-song_title/1543791699-1.0-2.txt [Content-Type=text/plain]...\n",
      "Copying file://../data/lyrics/4.2-LM-108k-lines-genre-song_title/1543791708-1.0-3.txt [Content-Type=text/plain]...\n",
      "Copying file://../data/lyrics/4.2-LM-108k-lines-genre-song_title/1543791716-1.0-4.txt [Content-Type=text/plain]...\n",
      "Copying file://../data/lyrics/4.2-LM-108k-lines-genre-song_title/1543791724-1.0-5.txt [Content-Type=text/plain]...\n",
      "Copying file://../data/lyrics/4.2-LM-108k-lines-genre-song_title/1543791733-1.2-1.txt [Content-Type=text/plain]...\n",
      "Copying file://../data/lyrics/4.2-LM-108k-lines-genre-song_title/1543791735-1.2-2.txt [Content-Type=text/plain]...\n",
      "Copying file://../data/lyrics/4.2-LM-108k-lines-genre-song_title/1543791744-1.2-3.txt [Content-Type=text/plain]...\n",
      "Copying file://../data/lyrics/4.2-LM-108k-lines-genre-song_title/1543791752-1.2-4.txt [Content-Type=text/plain]...\n",
      "Copying file://../data/lyrics/4.2-LM-108k-lines-genre-song_title/1543791761-1.2-5.txt [Content-Type=text/plain]...\n",
      "Copying file://../data/lyrics/4.2-LM-108k-lines-genre-song_title/1543791769-1.4-1.txt [Content-Type=text/plain]...\n",
      "Copying file://../data/lyrics/4.2-LM-108k-lines-genre-song_title/1543791772-1.4-2.txt [Content-Type=text/plain]...\n",
      "Copying file://../data/lyrics/4.2-LM-108k-lines-genre-song_title/1543791780-1.4-3.txt [Content-Type=text/plain]...\n",
      "Copying file://../data/lyrics/4.2-LM-108k-lines-genre-song_title/1543791788-1.4-4.txt [Content-Type=text/plain]...\n",
      "Copying file://../data/lyrics/4.2-LM-108k-lines-genre-song_title/1543791797-1.4-5.txt [Content-Type=text/plain]...\n",
      "Copying file://../data/lyrics/4.2-LM-108k-lines-genre-song_title/1543791805-1.6-1.txt [Content-Type=text/plain]...\n",
      "Copying file://../data/lyrics/4.2-LM-108k-lines-genre-song_title/1543791808-1.6-2.txt [Content-Type=text/plain]...\n",
      "Copying file://../data/lyrics/4.2-LM-108k-lines-genre-song_title/1543791817-1.6-3.txt [Content-Type=text/plain]...\n",
      "Copying file://../data/lyrics/4.2-LM-108k-lines-genre-song_title/1543791825-1.6-4.txt [Content-Type=text/plain]...\n",
      "Copying file://../data/lyrics/4.2-LM-108k-lines-genre-song_title/1543791834-1.6-5.txt [Content-Type=text/plain]...\n",
      "Copying file://../data/lyrics/4.2-LM-108k-lines-genre-song_title/1543791842-1.0-1.txt [Content-Type=text/plain]...\n",
      "Copying file://../data/lyrics/4.2-LM-108k-lines-genre-song_title/1543791845-1.0-2.txt [Content-Type=text/plain]...\n",
      "Copying file://../data/lyrics/4.2-LM-108k-lines-genre-song_title/1543791853-1.0-3.txt [Content-Type=text/plain]...\n",
      "Copying file://../data/lyrics/4.2-LM-108k-lines-genre-song_title/1543791862-1.0-4.txt [Content-Type=text/plain]...\n",
      "Copying file://../data/lyrics/4.2-LM-108k-lines-genre-song_title/1543791870-1.0-5.txt [Content-Type=text/plain]...\n",
      "Copying file://../data/lyrics/4.2-LM-108k-lines-genre-song_title/1543791878-1.2-1.txt [Content-Type=text/plain]...\n",
      "Copying file://../data/lyrics/4.2-LM-108k-lines-genre-song_title/1543791881-1.2-2.txt [Content-Type=text/plain]...\n",
      "Copying file://../data/lyrics/4.2-LM-108k-lines-genre-song_title/1543791889-1.2-3.txt [Content-Type=text/plain]...\n",
      "Copying file://../data/lyrics/4.2-LM-108k-lines-genre-song_title/1543791898-1.2-4.txt [Content-Type=text/plain]...\n",
      "Copying file://../data/lyrics/4.2-LM-108k-lines-genre-song_title/1543791906-1.2-5.txt [Content-Type=text/plain]...\n",
      "Copying file://../data/lyrics/4.2-LM-108k-lines-genre-song_title/1543791914-1.4-1.txt [Content-Type=text/plain]...\n",
      "Copying file://../data/lyrics/4.2-LM-108k-lines-genre-song_title/1543791917-1.4-2.txt [Content-Type=text/plain]...\n",
      "Copying file://../data/lyrics/4.2-LM-108k-lines-genre-song_title/1543791926-1.4-3.txt [Content-Type=text/plain]...\n",
      "-\n",
      "==> NOTE: You are performing a sequence of gsutil operations that may\n",
      "run significantly faster if you instead use gsutil -m -o ... Please\n",
      "see the -m section under \"gsutil help options\" for further information\n",
      "about when gsutil -m can be advantageous.\n",
      "\n",
      "\n",
      "Operation completed over 153 objects/110.5 KiB.                                  \n"
     ]
    }
   ],
   "source": [
    "!gsutil -m -o cp $OUT_PATH/* $OUT_STORE"
   ]
  },
  {
   "cell_type": "code",
   "execution_count": 68,
   "metadata": {},
   "outputs": [
    {
     "data": {
      "text/plain": [
       "['but',\n",
       " ',',\n",
       " 'soft',\n",
       " '!',\n",
       " 'what',\n",
       " 'light',\n",
       " 'through',\n",
       " 'yonder',\n",
       " 'window',\n",
       " 'breaks',\n",
       " '?',\n",
       " 'it',\n",
       " 'is',\n",
       " 'the',\n",
       " 'east',\n",
       " ',',\n",
       " 'and',\n",
       " 'juliet',\n",
       " 'is',\n",
       " 'the',\n",
       " 'sun']"
      ]
     },
     "execution_count": 68,
     "metadata": {},
     "output_type": "execute_result"
    }
   ],
   "source": [
    "deep_lyric.tokenize(\"But, soft! what light through yonder window breaks? It is the east, and Juliet is the sun\")"
   ]
  },
  {
   "cell_type": "code",
   "execution_count": null,
   "metadata": {},
   "outputs": [],
   "source": []
  }
 ],
 "metadata": {
  "kernelspec": {
   "display_name": "Python 3",
   "language": "python",
   "name": "python3"
  },
  "language_info": {
   "codemirror_mode": {
    "name": "ipython",
    "version": 3
   },
   "file_extension": ".py",
   "mimetype": "text/x-python",
   "name": "python",
   "nbconvert_exporter": "python",
   "pygments_lexer": "ipython3",
   "version": "3.6.5"
  }
 },
 "nbformat": 4,
 "nbformat_minor": 2
}
