{
 "cells": [
  {
   "cell_type": "code",
   "execution_count": 35,
   "metadata": {},
   "outputs": [
    {
     "name": "stdout",
     "output_type": "stream",
     "text": [
      "The autoreload extension is already loaded. To reload it, use:\n",
      "  %reload_ext autoreload\n"
     ]
    }
   ],
   "source": [
    "%load_ext autoreload\n",
    "%autoreload 2"
   ]
  },
  {
   "cell_type": "code",
   "execution_count": 60,
   "metadata": {},
   "outputs": [],
   "source": [
    "import requests\n",
    "import pickle\n",
    "from pathlib import Path\n",
    "from datetime import datetime\n",
    "from src.nlp.generate_lyrics import DeepLyric"
   ]
  },
  {
   "cell_type": "markdown",
   "metadata": {},
   "source": [
    "## Text Generation"
   ]
  },
  {
   "cell_type": "code",
   "execution_count": 37,
   "metadata": {},
   "outputs": [],
   "source": [
    "model = requests.get('https://storage.googleapis.com/w210-capstone/models/4.2-LM-108k-lines-genre-song_title_architecture.pkl')\n",
    "model = model.content\n",
    "model = pickle.loads(model)"
   ]
  },
  {
   "cell_type": "code",
   "execution_count": 38,
   "metadata": {},
   "outputs": [],
   "source": [
    "itos = requests.get('https://storage.googleapis.com/w210-capstone/models/4.2-LM-108k-lines-genre-song_title_itos.pkl')\n",
    "itos = itos.content\n",
    "itos = pickle.loads(itos)"
   ]
  },
  {
   "cell_type": "code",
   "execution_count": 39,
   "metadata": {},
   "outputs": [],
   "source": [
    "deep_lyric = DeepLyric(model, itos=itos)"
   ]
  },
  {
   "cell_type": "code",
   "execution_count": 49,
   "metadata": {},
   "outputs": [],
   "source": [
    "deep_lyric.generate_text(seed_text='xbos xgenre', \n",
    "                         verbose=0, context_length=100, beam_width=3,\n",
    "                         max_len=150, top_k=5, temperature=1.45,\n",
    "                         GPU=True)"
   ]
  },
  {
   "cell_type": "code",
   "execution_count": 50,
   "metadata": {},
   "outputs": [
    {
     "name": "stdout",
     "output_type": "stream",
     "text": [
      "SONG START\n",
      " genre: oldies \n",
      " title: skeleton key (lp version ) \n",
      "\n",
      "xbol-1 whiskey just don 't bother me no more \n",
      " honey , it 's mad when i don 't answer my telephone no more ... \n",
      " train don 't surround me no more \n",
      " traces won 't haunt me anymore \n",
      " set me free baby , don 't bother me no more \n",
      " honey won 't you rescue me baby don 't haunt me no more \n",
      " girl don 't tell me no honey , babe no more \n",
      " sugar don 't tell me that you 're leaving me now \n",
      " \n",
      " chorus \n",
      " won 't you shut me out \n",
      " won 't you little baby won 't you say \n",
      " won 't you darling won 't you hear me now \n",
      " won 't you tell me why \n",
      " won "
     ]
    }
   ],
   "source": [
    "deep_lyric.print_lyrics()"
   ]
  },
  {
   "cell_type": "markdown",
   "metadata": {},
   "source": [
    "## Save to text file"
   ]
  },
  {
   "cell_type": "code",
   "execution_count": 93,
   "metadata": {},
   "outputs": [
    {
     "ename": "KeyboardInterrupt",
     "evalue": "",
     "output_type": "error",
     "traceback": [
      "\u001b[0;31m---------------------------------------------------------------------------\u001b[0m",
      "\u001b[0;31mKeyboardInterrupt\u001b[0m                         Traceback (most recent call last)",
      "\u001b[0;32m<ipython-input-93-29bad6877440>\u001b[0m in \u001b[0;36m<module>\u001b[0;34m()\u001b[0m\n\u001b[1;32m     12\u001b[0m             \u001b[0msecond_stamp\u001b[0m \u001b[0;34m=\u001b[0m \u001b[0mdatetime\u001b[0m\u001b[0;34m.\u001b[0m\u001b[0mstrftime\u001b[0m\u001b[0;34m(\u001b[0m\u001b[0mdatetime\u001b[0m\u001b[0;34m.\u001b[0m\u001b[0mnow\u001b[0m\u001b[0;34m(\u001b[0m\u001b[0;34m)\u001b[0m\u001b[0;34m,\u001b[0m \u001b[0;34m'%s'\u001b[0m\u001b[0;34m)\u001b[0m\u001b[0;34m\u001b[0m\u001b[0m\n\u001b[1;32m     13\u001b[0m             \u001b[0mf_name\u001b[0m \u001b[0;34m=\u001b[0m \u001b[0;34mf'../data/lyrics/{model_name}/{second_stamp}-{temp}-{beam}.txt'\u001b[0m\u001b[0;34m\u001b[0m\u001b[0m\n\u001b[0;32m---> 14\u001b[0;31m             \u001b[0mdeep_lyric\u001b[0m\u001b[0;34m.\u001b[0m\u001b[0mgenerate_text\u001b[0m\u001b[0;34m(\u001b[0m\u001b[0mtemperature\u001b[0m\u001b[0;34m=\u001b[0m\u001b[0mtemp\u001b[0m\u001b[0;34m,\u001b[0m \u001b[0mbeam_width\u001b[0m\u001b[0;34m=\u001b[0m\u001b[0mbeam\u001b[0m\u001b[0;34m,\u001b[0m \u001b[0mGPU\u001b[0m\u001b[0;34m=\u001b[0m\u001b[0;32mTrue\u001b[0m\u001b[0;34m,\u001b[0m \u001b[0mverbose\u001b[0m\u001b[0;34m=\u001b[0m\u001b[0;36m0\u001b[0m\u001b[0;34m,\u001b[0m \u001b[0mmax_len\u001b[0m\u001b[0;34m=\u001b[0m\u001b[0;36m150\u001b[0m\u001b[0;34m)\u001b[0m\u001b[0;34m\u001b[0m\u001b[0m\n\u001b[0m\u001b[1;32m     15\u001b[0m             \u001b[0mdeep_lyric\u001b[0m\u001b[0;34m.\u001b[0m\u001b[0msave_lyrics_to_file\u001b[0m\u001b[0;34m(\u001b[0m\u001b[0mf_name\u001b[0m\u001b[0;34m)\u001b[0m\u001b[0;34m\u001b[0m\u001b[0m\n",
      "\u001b[0;32m~/capstone-deep-lyrics/notebooks/src/nlp/generate_lyrics.py\u001b[0m in \u001b[0;36mgenerate_text\u001b[0;34m(self, seed_text, max_len, GPU, context_length, beam_width, verbose, temperature, top_k, audio)\u001b[0m\n\u001b[1;32m    223\u001b[0m                 \u001b[0mcontext\u001b[0m\u001b[0;34m,\u001b[0m \u001b[0mscore\u001b[0m \u001b[0;34m=\u001b[0m \u001b[0mself\u001b[0m\u001b[0;34m.\u001b[0m\u001b[0m_context_and_scores\u001b[0m\u001b[0;34m[\u001b[0m\u001b[0mi\u001b[0m\u001b[0;34m]\u001b[0m\u001b[0;34m\u001b[0m\u001b[0m\n\u001b[1;32m    224\u001b[0m                 \u001b[0;31m# Obtain probabilities for next word given the context\u001b[0m\u001b[0;34m\u001b[0m\u001b[0;34m\u001b[0m\u001b[0m\n\u001b[0;32m--> 225\u001b[0;31m                 \u001b[0mprobabilities\u001b[0m \u001b[0;34m=\u001b[0m \u001b[0mself\u001b[0m\u001b[0;34m.\u001b[0m\u001b[0mget_text_distribution\u001b[0m\u001b[0;34m(\u001b[0m\u001b[0mcontext\u001b[0m\u001b[0;34m,\u001b[0m \u001b[0mcontext_length\u001b[0m\u001b[0;34m,\u001b[0m \u001b[0mtemperature\u001b[0m\u001b[0;34m,\u001b[0m \u001b[0mGPU\u001b[0m\u001b[0;34m,\u001b[0m \u001b[0maudio\u001b[0m\u001b[0;34m)\u001b[0m\u001b[0;34m\u001b[0m\u001b[0m\n\u001b[0m\u001b[1;32m    226\u001b[0m \u001b[0;34m\u001b[0m\u001b[0m\n\u001b[1;32m    227\u001b[0m                 \u001b[0;31m# Multinomial draw from the probabilities\u001b[0m\u001b[0;34m\u001b[0m\u001b[0;34m\u001b[0m\u001b[0m\n",
      "\u001b[0;32m~/capstone-deep-lyrics/notebooks/src/nlp/generate_lyrics.py\u001b[0m in \u001b[0;36mget_text_distribution\u001b[0;34m(self, context, context_length, temperature, GPU, audio)\u001b[0m\n\u001b[1;32m    157\u001b[0m         \u001b[0;31m# softmax and normalize\u001b[0m\u001b[0;34m\u001b[0m\u001b[0;34m\u001b[0m\u001b[0m\n\u001b[1;32m    158\u001b[0m         \u001b[0mprobabilities\u001b[0m \u001b[0;34m=\u001b[0m \u001b[0mF\u001b[0m\u001b[0;34m.\u001b[0m\u001b[0msoftmax\u001b[0m\u001b[0;34m(\u001b[0m\u001b[0mresult\u001b[0m\u001b[0;34m/\u001b[0m\u001b[0mtemperature\u001b[0m\u001b[0;34m,\u001b[0m \u001b[0mdim\u001b[0m\u001b[0;34m=\u001b[0m\u001b[0;36m0\u001b[0m\u001b[0;34m)\u001b[0m\u001b[0;34m\u001b[0m\u001b[0m\n\u001b[0;32m--> 159\u001b[0;31m         \u001b[0mprobabilities\u001b[0m \u001b[0;34m=\u001b[0m \u001b[0mnp\u001b[0m\u001b[0;34m.\u001b[0m\u001b[0masarray\u001b[0m\u001b[0;34m(\u001b[0m\u001b[0mprobabilities\u001b[0m\u001b[0;34m.\u001b[0m\u001b[0mdetach\u001b[0m\u001b[0;34m(\u001b[0m\u001b[0;34m)\u001b[0m\u001b[0;34m.\u001b[0m\u001b[0mcpu\u001b[0m\u001b[0;34m(\u001b[0m\u001b[0;34m)\u001b[0m\u001b[0;34m,\u001b[0m \u001b[0mdtype\u001b[0m\u001b[0;34m=\u001b[0m\u001b[0mnp\u001b[0m\u001b[0;34m.\u001b[0m\u001b[0mfloat\u001b[0m\u001b[0;34m)\u001b[0m\u001b[0;34m\u001b[0m\u001b[0m\n\u001b[0m\u001b[1;32m    160\u001b[0m         \u001b[0mprobabilities\u001b[0m \u001b[0;34m/=\u001b[0m \u001b[0mnp\u001b[0m\u001b[0;34m.\u001b[0m\u001b[0msum\u001b[0m\u001b[0;34m(\u001b[0m\u001b[0mprobabilities\u001b[0m\u001b[0;34m)\u001b[0m\u001b[0;34m\u001b[0m\u001b[0m\n\u001b[1;32m    161\u001b[0m         \u001b[0;32mreturn\u001b[0m \u001b[0mprobabilities\u001b[0m\u001b[0;34m\u001b[0m\u001b[0m\n",
      "\u001b[0;31mKeyboardInterrupt\u001b[0m: "
     ]
    }
   ],
   "source": [
    "num_iterations = 100\n",
    "temp_ranges = [1.0, 1.2, 1.4, 1.6]\n",
    "beam_ranges = [1, 2, 3, 4, 5]\n",
    "\n",
    "#naming convention: i, temp, beam\n",
    "OUT_PATH = Path(f'../data/lyrics/{model_name}')\n",
    "OUT_PATH.mkdir(exist_ok=True)\n",
    "\n",
    "for i in range(num_iterations):\n",
    "    for temp in temp_ranges:\n",
    "        for beam in beam_ranges:\n",
    "            second_stamp = datetime.strftime(datetime.now(), '%s')\n",
    "            f_name = f'../data/lyrics/{model_name}/{second_stamp}-{temp}-{beam}.txt'\n",
    "            deep_lyric.generate_text(temperature=temp, beam_width=beam, GPU=True, verbose=0, max_len=150)\n",
    "            deep_lyric.save_lyrics_to_file(f_name)"
   ]
  },
  {
   "cell_type": "code",
   "execution_count": 94,
   "metadata": {},
   "outputs": [],
   "source": [
    "OUT_STORE = f'gs://w210-capstone/lyrics/{model_name}/'"
   ]
  },
  {
   "cell_type": "code",
   "execution_count": 95,
   "metadata": {},
   "outputs": [
    {
     "name": "stdout",
     "output_type": "stream",
     "text": [
      "Copying file://../data/lyrics/4.2-LM-108k-lines-genre-song_title/1543790822-1.0-1.txt [Content-Type=text/plain]...\n",
      "Copying file://../data/lyrics/4.2-LM-108k-lines-genre-song_title/1543790825-1.0-2.txt [Content-Type=text/plain]...\n",
      "Copying file://../data/lyrics/4.2-LM-108k-lines-genre-song_title/1543790834-1.0-3.txt [Content-Type=text/plain]...\n",
      "Copying file://../data/lyrics/4.2-LM-108k-lines-genre-song_title/1543790842-1.0-4.txt [Content-Type=text/plain]...\n",
      "- [4 files][  2.7 KiB/  2.7 KiB]                                                \n",
      "==> NOTE: You are performing a sequence of gsutil operations that may\n",
      "run significantly faster if you instead use gsutil -m -o ... Please\n",
      "see the -m section under \"gsutil help options\" for further information\n",
      "about when gsutil -m can be advantageous.\n",
      "\n",
      "Copying file://../data/lyrics/4.2-LM-108k-lines-genre-song_title/1543790850-1.0-5.txt [Content-Type=text/plain]...\n",
      "Copying file://../data/lyrics/4.2-LM-108k-lines-genre-song_title/1543790859-1.2-1.txt [Content-Type=text/plain]...\n",
      "Copying file://../data/lyrics/4.2-LM-108k-lines-genre-song_title/1543790861-1.2-2.txt [Content-Type=text/plain]...\n",
      "Copying file://../data/lyrics/4.2-LM-108k-lines-genre-song_title/1543790870-1.2-3.txt [Content-Type=text/plain]...\n",
      "Copying file://../data/lyrics/4.2-LM-108k-lines-genre-song_title/1543790878-1.2-4.txt [Content-Type=text/plain]...\n",
      "Copying file://../data/lyrics/4.2-LM-108k-lines-genre-song_title/1543790886-1.2-5.txt [Content-Type=text/plain]...\n",
      "Copying file://../data/lyrics/4.2-LM-108k-lines-genre-song_title/1543790895-1.4-1.txt [Content-Type=text/plain]...\n",
      "Copying file://../data/lyrics/4.2-LM-108k-lines-genre-song_title/1543790898-1.4-2.txt [Content-Type=text/plain]...\n",
      "Copying file://../data/lyrics/4.2-LM-108k-lines-genre-song_title/1543790906-1.4-3.txt [Content-Type=text/plain]...\n",
      "Copying file://../data/lyrics/4.2-LM-108k-lines-genre-song_title/1543790914-1.4-4.txt [Content-Type=text/plain]...\n",
      "Copying file://../data/lyrics/4.2-LM-108k-lines-genre-song_title/1543790923-1.4-5.txt [Content-Type=text/plain]...\n",
      "Copying file://../data/lyrics/4.2-LM-108k-lines-genre-song_title/1543790931-1.6-1.txt [Content-Type=text/plain]...\n",
      "Copying file://../data/lyrics/4.2-LM-108k-lines-genre-song_title/1543790934-1.6-2.txt [Content-Type=text/plain]...\n",
      "Copying file://../data/lyrics/4.2-LM-108k-lines-genre-song_title/1543790943-1.6-3.txt [Content-Type=text/plain]...\n",
      "Copying file://../data/lyrics/4.2-LM-108k-lines-genre-song_title/1543790951-1.6-4.txt [Content-Type=text/plain]...\n",
      "Copying file://../data/lyrics/4.2-LM-108k-lines-genre-song_title/1543790960-1.6-5.txt [Content-Type=text/plain]...\n",
      "Copying file://../data/lyrics/4.2-LM-108k-lines-genre-song_title/1543790968-1.0-1.txt [Content-Type=text/plain]...\n",
      "Copying file://../data/lyrics/4.2-LM-108k-lines-genre-song_title/1543790971-1.0-2.txt [Content-Type=text/plain]...\n",
      "Copying file://../data/lyrics/4.2-LM-108k-lines-genre-song_title/1543790979-1.0-3.txt [Content-Type=text/plain]...\n",
      "Copying file://../data/lyrics/4.2-LM-108k-lines-genre-song_title/1543790988-1.0-4.txt [Content-Type=text/plain]...\n",
      "Copying file://../data/lyrics/4.2-LM-108k-lines-genre-song_title/1543790996-1.0-5.txt [Content-Type=text/plain]...\n",
      "Copying file://../data/lyrics/4.2-LM-108k-lines-genre-song_title/1543791004-1.2-1.txt [Content-Type=text/plain]...\n",
      "Copying file://../data/lyrics/4.2-LM-108k-lines-genre-song_title/1543791007-1.2-2.txt [Content-Type=text/plain]...\n",
      "Copying file://../data/lyrics/4.2-LM-108k-lines-genre-song_title/1543791015-1.2-3.txt [Content-Type=text/plain]...\n",
      "Copying file://../data/lyrics/4.2-LM-108k-lines-genre-song_title/1543791024-1.2-4.txt [Content-Type=text/plain]...\n",
      "Copying file://../data/lyrics/4.2-LM-108k-lines-genre-song_title/1543791032-1.2-5.txt [Content-Type=text/plain]...\n",
      "Copying file://../data/lyrics/4.2-LM-108k-lines-genre-song_title/1543791040-1.4-1.txt [Content-Type=text/plain]...\n",
      "Copying file://../data/lyrics/4.2-LM-108k-lines-genre-song_title/1543791043-1.4-2.txt [Content-Type=text/plain]...\n",
      "Copying file://../data/lyrics/4.2-LM-108k-lines-genre-song_title/1543791052-1.4-3.txt [Content-Type=text/plain]...\n",
      "Copying file://../data/lyrics/4.2-LM-108k-lines-genre-song_title/1543791060-1.4-4.txt [Content-Type=text/plain]...\n",
      "Copying file://../data/lyrics/4.2-LM-108k-lines-genre-song_title/1543791069-1.4-5.txt [Content-Type=text/plain]...\n",
      "Copying file://../data/lyrics/4.2-LM-108k-lines-genre-song_title/1543791077-1.6-1.txt [Content-Type=text/plain]...\n",
      "Copying file://../data/lyrics/4.2-LM-108k-lines-genre-song_title/1543791080-1.6-2.txt [Content-Type=text/plain]...\n",
      "Copying file://../data/lyrics/4.2-LM-108k-lines-genre-song_title/1543791088-1.6-3.txt [Content-Type=text/plain]...\n",
      "Copying file://../data/lyrics/4.2-LM-108k-lines-genre-song_title/1543791097-1.6-4.txt [Content-Type=text/plain]...\n",
      "Copying file://../data/lyrics/4.2-LM-108k-lines-genre-song_title/1543791105-1.6-5.txt [Content-Type=text/plain]...\n",
      "Copying file://../data/lyrics/4.2-LM-108k-lines-genre-song_title/1543791114-1.0-1.txt [Content-Type=text/plain]...\n",
      "Copying file://../data/lyrics/4.2-LM-108k-lines-genre-song_title/1543791117-1.0-2.txt [Content-Type=text/plain]...\n",
      "Copying file://../data/lyrics/4.2-LM-108k-lines-genre-song_title/1543791125-1.0-3.txt [Content-Type=text/plain]...\n",
      "Copying file://../data/lyrics/4.2-LM-108k-lines-genre-song_title/1543791133-1.0-4.txt [Content-Type=text/plain]...\n",
      "Copying file://../data/lyrics/4.2-LM-108k-lines-genre-song_title/1543791142-1.0-5.txt [Content-Type=text/plain]...\n",
      "Copying file://../data/lyrics/4.2-LM-108k-lines-genre-song_title/1543791150-1.2-1.txt [Content-Type=text/plain]...\n",
      "Copying file://../data/lyrics/4.2-LM-108k-lines-genre-song_title/1543791153-1.2-2.txt [Content-Type=text/plain]...\n",
      "Copying file://../data/lyrics/4.2-LM-108k-lines-genre-song_title/1543791161-1.2-3.txt [Content-Type=text/plain]...\n",
      "Copying file://../data/lyrics/4.2-LM-108k-lines-genre-song_title/1543791169-1.2-4.txt [Content-Type=text/plain]...\n",
      "Copying file://../data/lyrics/4.2-LM-108k-lines-genre-song_title/1543791178-1.2-5.txt [Content-Type=text/plain]...\n",
      "Copying file://../data/lyrics/4.2-LM-108k-lines-genre-song_title/1543791186-1.4-1.txt [Content-Type=text/plain]...\n",
      "Copying file://../data/lyrics/4.2-LM-108k-lines-genre-song_title/1543791189-1.4-2.txt [Content-Type=text/plain]...\n",
      "Copying file://../data/lyrics/4.2-LM-108k-lines-genre-song_title/1543791197-1.4-3.txt [Content-Type=text/plain]...\n",
      "Copying file://../data/lyrics/4.2-LM-108k-lines-genre-song_title/1543791206-1.4-4.txt [Content-Type=text/plain]...\n",
      "Copying file://../data/lyrics/4.2-LM-108k-lines-genre-song_title/1543791214-1.4-5.txt [Content-Type=text/plain]...\n",
      "Copying file://../data/lyrics/4.2-LM-108k-lines-genre-song_title/1543791223-1.6-1.txt [Content-Type=text/plain]...\n",
      "Copying file://../data/lyrics/4.2-LM-108k-lines-genre-song_title/1543791225-1.6-2.txt [Content-Type=text/plain]...\n",
      "Copying file://../data/lyrics/4.2-LM-108k-lines-genre-song_title/1543791234-1.6-3.txt [Content-Type=text/plain]...\n",
      "Copying file://../data/lyrics/4.2-LM-108k-lines-genre-song_title/1543791242-1.6-4.txt [Content-Type=text/plain]...\n",
      "Copying file://../data/lyrics/4.2-LM-108k-lines-genre-song_title/1543791251-1.6-5.txt [Content-Type=text/plain]...\n",
      "Copying file://../data/lyrics/4.2-LM-108k-lines-genre-song_title/1543791260-1.0-1.txt [Content-Type=text/plain]...\n",
      "Copying file://../data/lyrics/4.2-LM-108k-lines-genre-song_title/1543791262-1.0-2.txt [Content-Type=text/plain]...\n",
      "Copying file://../data/lyrics/4.2-LM-108k-lines-genre-song_title/1543791271-1.0-3.txt [Content-Type=text/plain]...\n",
      "Copying file://../data/lyrics/4.2-LM-108k-lines-genre-song_title/1543791279-1.0-4.txt [Content-Type=text/plain]...\n",
      "Copying file://../data/lyrics/4.2-LM-108k-lines-genre-song_title/1543791287-1.0-5.txt [Content-Type=text/plain]...\n",
      "Copying file://../data/lyrics/4.2-LM-108k-lines-genre-song_title/1543791296-1.2-1.txt [Content-Type=text/plain]...\n",
      "Copying file://../data/lyrics/4.2-LM-108k-lines-genre-song_title/1543791298-1.2-2.txt [Content-Type=text/plain]...\n",
      "Copying file://../data/lyrics/4.2-LM-108k-lines-genre-song_title/1543791307-1.2-3.txt [Content-Type=text/plain]...\n",
      "Copying file://../data/lyrics/4.2-LM-108k-lines-genre-song_title/1543791315-1.2-4.txt [Content-Type=text/plain]...\n",
      "Copying file://../data/lyrics/4.2-LM-108k-lines-genre-song_title/1543791323-1.2-5.txt [Content-Type=text/plain]...\n",
      "Copying file://../data/lyrics/4.2-LM-108k-lines-genre-song_title/1543791332-1.4-1.txt [Content-Type=text/plain]...\n",
      "Copying file://../data/lyrics/4.2-LM-108k-lines-genre-song_title/1543791335-1.4-2.txt [Content-Type=text/plain]...\n",
      "Copying file://../data/lyrics/4.2-LM-108k-lines-genre-song_title/1543791343-1.4-3.txt [Content-Type=text/plain]...\n",
      "Copying file://../data/lyrics/4.2-LM-108k-lines-genre-song_title/1543791351-1.4-4.txt [Content-Type=text/plain]...\n",
      "Copying file://../data/lyrics/4.2-LM-108k-lines-genre-song_title/1543791360-1.4-5.txt [Content-Type=text/plain]...\n",
      "Copying file://../data/lyrics/4.2-LM-108k-lines-genre-song_title/1543791368-1.6-1.txt [Content-Type=text/plain]...\n",
      "Copying file://../data/lyrics/4.2-LM-108k-lines-genre-song_title/1543791371-1.6-2.txt [Content-Type=text/plain]...\n",
      "Copying file://../data/lyrics/4.2-LM-108k-lines-genre-song_title/1543791380-1.6-3.txt [Content-Type=text/plain]...\n",
      "Copying file://../data/lyrics/4.2-LM-108k-lines-genre-song_title/1543791388-1.6-4.txt [Content-Type=text/plain]...\n",
      "Copying file://../data/lyrics/4.2-LM-108k-lines-genre-song_title/1543791397-1.6-5.txt [Content-Type=text/plain]...\n",
      "Copying file://../data/lyrics/4.2-LM-108k-lines-genre-song_title/1543791405-1.0-1.txt [Content-Type=text/plain]...\n",
      "Copying file://../data/lyrics/4.2-LM-108k-lines-genre-song_title/1543791408-1.0-2.txt [Content-Type=text/plain]...\n",
      "Copying file://../data/lyrics/4.2-LM-108k-lines-genre-song_title/1543791416-1.0-3.txt [Content-Type=text/plain]...\n",
      "Copying file://../data/lyrics/4.2-LM-108k-lines-genre-song_title/1543791425-1.0-4.txt [Content-Type=text/plain]...\n",
      "Copying file://../data/lyrics/4.2-LM-108k-lines-genre-song_title/1543791433-1.0-5.txt [Content-Type=text/plain]...\n",
      "Copying file://../data/lyrics/4.2-LM-108k-lines-genre-song_title/1543791441-1.2-1.txt [Content-Type=text/plain]...\n",
      "Copying file://../data/lyrics/4.2-LM-108k-lines-genre-song_title/1543791444-1.2-2.txt [Content-Type=text/plain]...\n",
      "Copying file://../data/lyrics/4.2-LM-108k-lines-genre-song_title/1543791453-1.2-3.txt [Content-Type=text/plain]...\n",
      "Copying file://../data/lyrics/4.2-LM-108k-lines-genre-song_title/1543791461-1.2-4.txt [Content-Type=text/plain]...\n",
      "Copying file://../data/lyrics/4.2-LM-108k-lines-genre-song_title/1543791469-1.2-5.txt [Content-Type=text/plain]...\n",
      "Copying file://../data/lyrics/4.2-LM-108k-lines-genre-song_title/1543791478-1.4-1.txt [Content-Type=text/plain]...\n",
      "Copying file://../data/lyrics/4.2-LM-108k-lines-genre-song_title/1543791480-1.4-2.txt [Content-Type=text/plain]...\n",
      "Copying file://../data/lyrics/4.2-LM-108k-lines-genre-song_title/1543791489-1.4-3.txt [Content-Type=text/plain]...\n",
      "Copying file://../data/lyrics/4.2-LM-108k-lines-genre-song_title/1543791497-1.4-4.txt [Content-Type=text/plain]...\n",
      "Copying file://../data/lyrics/4.2-LM-108k-lines-genre-song_title/1543791506-1.4-5.txt [Content-Type=text/plain]...\n",
      "Copying file://../data/lyrics/4.2-LM-108k-lines-genre-song_title/1543791514-1.6-1.txt [Content-Type=text/plain]...\n",
      "Copying file://../data/lyrics/4.2-LM-108k-lines-genre-song_title/1543791517-1.6-2.txt [Content-Type=text/plain]...\n",
      "Copying file://../data/lyrics/4.2-LM-108k-lines-genre-song_title/1543791525-1.6-3.txt [Content-Type=text/plain]...\n",
      "Copying file://../data/lyrics/4.2-LM-108k-lines-genre-song_title/1543791534-1.6-4.txt [Content-Type=text/plain]...\n",
      "Copying file://../data/lyrics/4.2-LM-108k-lines-genre-song_title/1543791542-1.6-5.txt [Content-Type=text/plain]...\n",
      "Copying file://../data/lyrics/4.2-LM-108k-lines-genre-song_title/1543791551-1.0-1.txt [Content-Type=text/plain]...\n",
      "Copying file://../data/lyrics/4.2-LM-108k-lines-genre-song_title/1543791554-1.0-2.txt [Content-Type=text/plain]...\n",
      "Copying file://../data/lyrics/4.2-LM-108k-lines-genre-song_title/1543791562-1.0-3.txt [Content-Type=text/plain]...\n",
      "Copying file://../data/lyrics/4.2-LM-108k-lines-genre-song_title/1543791570-1.0-4.txt [Content-Type=text/plain]...\n",
      "Copying file://../data/lyrics/4.2-LM-108k-lines-genre-song_title/1543791579-1.0-5.txt [Content-Type=text/plain]...\n",
      "Copying file://../data/lyrics/4.2-LM-108k-lines-genre-song_title/1543791587-1.2-1.txt [Content-Type=text/plain]...\n",
      "Copying file://../data/lyrics/4.2-LM-108k-lines-genre-song_title/1543791590-1.2-2.txt [Content-Type=text/plain]...\n",
      "Copying file://../data/lyrics/4.2-LM-108k-lines-genre-song_title/1543791598-1.2-3.txt [Content-Type=text/plain]...\n",
      "Copying file://../data/lyrics/4.2-LM-108k-lines-genre-song_title/1543791606-1.2-4.txt [Content-Type=text/plain]...\n",
      "Copying file://../data/lyrics/4.2-LM-108k-lines-genre-song_title/1543791615-1.2-5.txt [Content-Type=text/plain]...\n",
      "Copying file://../data/lyrics/4.2-LM-108k-lines-genre-song_title/1543791623-1.4-1.txt [Content-Type=text/plain]...\n",
      "Copying file://../data/lyrics/4.2-LM-108k-lines-genre-song_title/1543791626-1.4-2.txt [Content-Type=text/plain]...\n",
      "Copying file://../data/lyrics/4.2-LM-108k-lines-genre-song_title/1543791634-1.4-3.txt [Content-Type=text/plain]...\n",
      "Copying file://../data/lyrics/4.2-LM-108k-lines-genre-song_title/1543791643-1.4-4.txt [Content-Type=text/plain]...\n",
      "Copying file://../data/lyrics/4.2-LM-108k-lines-genre-song_title/1543791651-1.4-5.txt [Content-Type=text/plain]...\n",
      "Copying file://../data/lyrics/4.2-LM-108k-lines-genre-song_title/1543791660-1.6-1.txt [Content-Type=text/plain]...\n",
      "Copying file://../data/lyrics/4.2-LM-108k-lines-genre-song_title/1543791662-1.6-2.txt [Content-Type=text/plain]...\n",
      "Copying file://../data/lyrics/4.2-LM-108k-lines-genre-song_title/1543791671-1.6-3.txt [Content-Type=text/plain]...\n",
      "Copying file://../data/lyrics/4.2-LM-108k-lines-genre-song_title/1543791679-1.6-4.txt [Content-Type=text/plain]...\n",
      "Copying file://../data/lyrics/4.2-LM-108k-lines-genre-song_title/1543791688-1.6-5.txt [Content-Type=text/plain]...\n",
      "Copying file://../data/lyrics/4.2-LM-108k-lines-genre-song_title/1543791697-1.0-1.txt [Content-Type=text/plain]...\n",
      "Copying file://../data/lyrics/4.2-LM-108k-lines-genre-song_title/1543791699-1.0-2.txt [Content-Type=text/plain]...\n",
      "Copying file://../data/lyrics/4.2-LM-108k-lines-genre-song_title/1543791708-1.0-3.txt [Content-Type=text/plain]...\n",
      "Copying file://../data/lyrics/4.2-LM-108k-lines-genre-song_title/1543791716-1.0-4.txt [Content-Type=text/plain]...\n",
      "Copying file://../data/lyrics/4.2-LM-108k-lines-genre-song_title/1543791724-1.0-5.txt [Content-Type=text/plain]...\n",
      "Copying file://../data/lyrics/4.2-LM-108k-lines-genre-song_title/1543791733-1.2-1.txt [Content-Type=text/plain]...\n",
      "Copying file://../data/lyrics/4.2-LM-108k-lines-genre-song_title/1543791735-1.2-2.txt [Content-Type=text/plain]...\n",
      "Copying file://../data/lyrics/4.2-LM-108k-lines-genre-song_title/1543791744-1.2-3.txt [Content-Type=text/plain]...\n",
      "Copying file://../data/lyrics/4.2-LM-108k-lines-genre-song_title/1543791752-1.2-4.txt [Content-Type=text/plain]...\n",
      "Copying file://../data/lyrics/4.2-LM-108k-lines-genre-song_title/1543791761-1.2-5.txt [Content-Type=text/plain]...\n",
      "Copying file://../data/lyrics/4.2-LM-108k-lines-genre-song_title/1543791769-1.4-1.txt [Content-Type=text/plain]...\n",
      "Copying file://../data/lyrics/4.2-LM-108k-lines-genre-song_title/1543791772-1.4-2.txt [Content-Type=text/plain]...\n",
      "Copying file://../data/lyrics/4.2-LM-108k-lines-genre-song_title/1543791780-1.4-3.txt [Content-Type=text/plain]...\n",
      "Copying file://../data/lyrics/4.2-LM-108k-lines-genre-song_title/1543791788-1.4-4.txt [Content-Type=text/plain]...\n",
      "Copying file://../data/lyrics/4.2-LM-108k-lines-genre-song_title/1543791797-1.4-5.txt [Content-Type=text/plain]...\n",
      "Copying file://../data/lyrics/4.2-LM-108k-lines-genre-song_title/1543791805-1.6-1.txt [Content-Type=text/plain]...\n",
      "Copying file://../data/lyrics/4.2-LM-108k-lines-genre-song_title/1543791808-1.6-2.txt [Content-Type=text/plain]...\n",
      "Copying file://../data/lyrics/4.2-LM-108k-lines-genre-song_title/1543791817-1.6-3.txt [Content-Type=text/plain]...\n",
      "Copying file://../data/lyrics/4.2-LM-108k-lines-genre-song_title/1543791825-1.6-4.txt [Content-Type=text/plain]...\n",
      "Copying file://../data/lyrics/4.2-LM-108k-lines-genre-song_title/1543791834-1.6-5.txt [Content-Type=text/plain]...\n",
      "Copying file://../data/lyrics/4.2-LM-108k-lines-genre-song_title/1543791842-1.0-1.txt [Content-Type=text/plain]...\n",
      "Copying file://../data/lyrics/4.2-LM-108k-lines-genre-song_title/1543791845-1.0-2.txt [Content-Type=text/plain]...\n",
      "Copying file://../data/lyrics/4.2-LM-108k-lines-genre-song_title/1543791853-1.0-3.txt [Content-Type=text/plain]...\n",
      "Copying file://../data/lyrics/4.2-LM-108k-lines-genre-song_title/1543791862-1.0-4.txt [Content-Type=text/plain]...\n",
      "Copying file://../data/lyrics/4.2-LM-108k-lines-genre-song_title/1543791870-1.0-5.txt [Content-Type=text/plain]...\n",
      "Copying file://../data/lyrics/4.2-LM-108k-lines-genre-song_title/1543791878-1.2-1.txt [Content-Type=text/plain]...\n",
      "Copying file://../data/lyrics/4.2-LM-108k-lines-genre-song_title/1543791881-1.2-2.txt [Content-Type=text/plain]...\n",
      "Copying file://../data/lyrics/4.2-LM-108k-lines-genre-song_title/1543791889-1.2-3.txt [Content-Type=text/plain]...\n",
      "Copying file://../data/lyrics/4.2-LM-108k-lines-genre-song_title/1543791898-1.2-4.txt [Content-Type=text/plain]...\n",
      "Copying file://../data/lyrics/4.2-LM-108k-lines-genre-song_title/1543791906-1.2-5.txt [Content-Type=text/plain]...\n",
      "Copying file://../data/lyrics/4.2-LM-108k-lines-genre-song_title/1543791914-1.4-1.txt [Content-Type=text/plain]...\n",
      "Copying file://../data/lyrics/4.2-LM-108k-lines-genre-song_title/1543791917-1.4-2.txt [Content-Type=text/plain]...\n",
      "Copying file://../data/lyrics/4.2-LM-108k-lines-genre-song_title/1543791926-1.4-3.txt [Content-Type=text/plain]...\n",
      "-\n",
      "==> NOTE: You are performing a sequence of gsutil operations that may\n",
      "run significantly faster if you instead use gsutil -m -o ... Please\n",
      "see the -m section under \"gsutil help options\" for further information\n",
      "about when gsutil -m can be advantageous.\n",
      "\n",
      "\n",
      "Operation completed over 153 objects/110.5 KiB.                                  \n"
     ]
    }
   ],
   "source": [
    "!gsutil -m -o cp $OUT_PATH/* $OUT_STORE"
   ]
  },
  {
   "cell_type": "code",
   "execution_count": null,
   "metadata": {},
   "outputs": [],
   "source": []
  }
 ],
 "metadata": {
  "kernelspec": {
   "display_name": "Python 3",
   "language": "python",
   "name": "python3"
  },
  "language_info": {
   "codemirror_mode": {
    "name": "ipython",
    "version": 3
   },
   "file_extension": ".py",
   "mimetype": "text/x-python",
   "name": "python",
   "nbconvert_exporter": "python",
   "pygments_lexer": "ipython3",
   "version": "3.6.5"
  }
 },
 "nbformat": 4,
 "nbformat_minor": 2
}
