{
 "cells": [
  {
   "cell_type": "code",
   "execution_count": 53,
   "metadata": {},
   "outputs": [
    {
     "name": "stdout",
     "output_type": "stream",
     "text": [
      "The autoreload extension is already loaded. To reload it, use:\n",
      "  %reload_ext autoreload\n"
     ]
    }
   ],
   "source": [
    "%load_ext autoreload\n",
    "%autoreload 2"
   ]
  },
  {
   "cell_type": "code",
   "execution_count": 54,
   "metadata": {},
   "outputs": [],
   "source": [
    "import requests\n",
    "import pickle\n",
    "import numpy as np\n",
    "from pathlib import Path\n",
    "from datetime import datetime\n",
    "\n",
    "from src.nlp.generate_lyrics import DeepLyric\n",
    "from src.nlp.evaluate_lyrics import Evaluator"
   ]
  },
  {
   "cell_type": "markdown",
   "metadata": {},
   "source": [
    "## Model Loading"
   ]
  },
  {
   "cell_type": "markdown",
   "metadata": {},
   "source": [
    "The `DeepLyric` object can now be loaded by two different methods.\n",
    "1. Load the model object and itos object directly\n",
    "2. Input model `str` and download from cloud storage"
   ]
  },
  {
   "cell_type": "markdown",
   "metadata": {},
   "source": [
    "### Load Method 1\n",
    "It's important to input `model_name` explicitly if this method is used"
   ]
  },
  {
   "cell_type": "code",
   "execution_count": 3,
   "metadata": {},
   "outputs": [],
   "source": [
    "MODEL = '4.2-LM-108k-lines-genre-song_title'"
   ]
  },
  {
   "cell_type": "code",
   "execution_count": 4,
   "metadata": {},
   "outputs": [],
   "source": [
    "model_url = f'https://storage.googleapis.com/w210-capstone/models/{MODEL}_architecture.pkl'\n",
    "model = requests.get(model_url)\n",
    "model = model.content\n",
    "model = pickle.loads(model)"
   ]
  },
  {
   "cell_type": "code",
   "execution_count": 5,
   "metadata": {},
   "outputs": [],
   "source": [
    "itos_url = f'https://storage.googleapis.com/w210-capstone/models/{MODEL}_itos.pkl'\n",
    "itos = requests.get(itos_url)\n",
    "itos = itos.content\n",
    "itos = pickle.loads(itos)"
   ]
  },
  {
   "cell_type": "code",
   "execution_count": 55,
   "metadata": {},
   "outputs": [],
   "source": [
    "deep_lyric = DeepLyric(model, itos=itos, model_type='language', model_name=MODEL)"
   ]
  },
  {
   "cell_type": "code",
   "execution_count": 56,
   "metadata": {},
   "outputs": [
    {
     "data": {
      "text/plain": [
       "{'seed_text': 'xbos',\n",
       " 'max_len': 40,\n",
       " 'GPU': True,\n",
       " 'context_length': 30,\n",
       " 'beam_width': 3,\n",
       " 'verbose': 0,\n",
       " 'temperature': 1.5,\n",
       " 'top_k': 3,\n",
       " 'audio': None,\n",
       " 'multinomial': True,\n",
       " 'model_name': '4.2-LM-108k-lines-genre-song_title',\n",
       " 'model_type': 'language'}"
      ]
     },
     "execution_count": 56,
     "metadata": {},
     "output_type": "execute_result"
    }
   ],
   "source": [
    "deep_lyric.config"
   ]
  },
  {
   "cell_type": "markdown",
   "metadata": {},
   "source": [
    "### Load Method 2"
   ]
  },
  {
   "cell_type": "markdown",
   "metadata": {},
   "source": [
    "This method is more convenient, but takes a few extra seconds at the beginning to download the models"
   ]
  },
  {
   "cell_type": "code",
   "execution_count": 61,
   "metadata": {},
   "outputs": [],
   "source": [
    "deep_lyric = DeepLyric(MODEL, model_type='language')"
   ]
  },
  {
   "cell_type": "code",
   "execution_count": 62,
   "metadata": {},
   "outputs": [
    {
     "data": {
      "text/plain": [
       "{'seed_text': 'xbos xgenre death metal xtitle',\n",
       " 'max_len': 40,\n",
       " 'GPU': True,\n",
       " 'context_length': 40,\n",
       " 'beam_width': 3,\n",
       " 'verbose': 0,\n",
       " 'temperature': 1.5,\n",
       " 'top_k': 5,\n",
       " 'audio': None,\n",
       " 'multinomial': True,\n",
       " 'model_name': '4.2-LM-108k-lines-genre-song_title',\n",
       " 'model_type': 'language'}"
      ]
     },
     "execution_count": 62,
     "metadata": {},
     "output_type": "execute_result"
    }
   ],
   "source": [
    "deep_lyric.config"
   ]
  },
  {
   "cell_type": "markdown",
   "metadata": {},
   "source": [
    "## Changing Parameters, Generating, and Saving\n",
    "Once the model is loaded, the rest of the functions work identically. There are also two ways to set configs.\n",
    "1. Pass in a key/value pair\n",
    "2. Pass in an entire dictionary (this will overwrite all current config)"
   ]
  },
  {
   "cell_type": "code",
   "execution_count": 57,
   "metadata": {},
   "outputs": [],
   "source": [
    "deep_lyric.set_config('seed_text', 'xbos xgenre death metal xtitle')\n",
    "deep_lyric.set_config('max_len', 40)\n",
    "deep_lyric.set_config('top_k', 5)\n",
    "deep_lyric.set_config('context_length', 40)\n",
    "deep_lyric.set_config('verbose', 0)"
   ]
  },
  {
   "cell_type": "code",
   "execution_count": 58,
   "metadata": {},
   "outputs": [],
   "source": [
    "deep_lyric.generate_text()"
   ]
  },
  {
   "cell_type": "markdown",
   "metadata": {},
   "source": [
    "Here is the printed lyrics from the above instance"
   ]
  },
  {
   "cell_type": "code",
   "execution_count": 59,
   "metadata": {},
   "outputs": [
    {
     "name": "stdout",
     "output_type": "stream",
     "text": [
      "SONG START\n",
      " genre: death metal \n",
      " title: slaves of everything \n",
      "\n",
      "xbol-1 is there any difference ? \n",
      " how do you see that we are all dead ? \n",
      " is it all in everyone ? \n",
      " see we don 't love anyone \n",
      " you "
     ]
    }
   ],
   "source": [
    "deep_lyric.print_lyrics()"
   ]
  },
  {
   "cell_type": "markdown",
   "metadata": {},
   "source": [
    "Here's a preview of the json payload. Simply change the parameter `dir` to a directory to save to disk.\n",
    "File names are UTC timestamps to attempt to be unique"
   ]
  },
  {
   "cell_type": "code",
   "execution_count": 60,
   "metadata": {},
   "outputs": [
    {
     "data": {
      "text/plain": [
       "{'meta': {'seed_text': 'xbos xgenre death metal xtitle',\n",
       "  'max_len': 40,\n",
       "  'GPU': True,\n",
       "  'context_length': 40,\n",
       "  'beam_width': 3,\n",
       "  'verbose': 0,\n",
       "  'temperature': 1.5,\n",
       "  'top_k': 5,\n",
       "  'audio': None,\n",
       "  'multinomial': True,\n",
       "  'model_name': '4.2-LM-108k-lines-genre-song_title',\n",
       "  'model_type': 'language'},\n",
       " 'lyric': ['xbos',\n",
       "  'xgenre',\n",
       "  'death',\n",
       "  'metal',\n",
       "  'xtitle',\n",
       "  'slaves',\n",
       "  'of',\n",
       "  'everything',\n",
       "  'xbol-1',\n",
       "  'is',\n",
       "  'there',\n",
       "  'any',\n",
       "  'difference',\n",
       "  '?',\n",
       "  'xeol',\n",
       "  'xbol-2',\n",
       "  'how',\n",
       "  'do',\n",
       "  'you',\n",
       "  'see',\n",
       "  'that',\n",
       "  'we',\n",
       "  'are',\n",
       "  'all',\n",
       "  'dead',\n",
       "  '?',\n",
       "  'xeol',\n",
       "  'xbol-3',\n",
       "  'is',\n",
       "  'it',\n",
       "  'all',\n",
       "  'in',\n",
       "  'everyone',\n",
       "  '?',\n",
       "  'xeol',\n",
       "  'xbol-4',\n",
       "  'see',\n",
       "  'we',\n",
       "  'don',\n",
       "  \"'t\",\n",
       "  'love',\n",
       "  'anyone',\n",
       "  'xeol',\n",
       "  'xbol-5',\n",
       "  'you']}"
      ]
     },
     "execution_count": 60,
     "metadata": {},
     "output_type": "execute_result"
    }
   ],
   "source": [
    "deep_lyric.save_json(out=True)"
   ]
  },
  {
   "cell_type": "markdown",
   "metadata": {},
   "source": [
    "And if we wanted to run a bunch of simulations with the specified parameters, we just do this:"
   ]
  },
  {
   "cell_type": "code",
   "execution_count": null,
   "metadata": {},
   "outputs": [],
   "source": [
    "# for i in range(10):\n",
    "#     deep_lyric.generate_text()\n",
    "#     deep_lyric.save_json(dir='.')"
   ]
  },
  {
   "cell_type": "markdown",
   "metadata": {},
   "source": [
    "## Evaluation\n",
    "\n",
    "The `Evaluator` is an extension of `DeepLyric` that piggy-backs off the config states. We can pass the configured deep lyric object above to do further evals\n",
    "\n",
    "None of the actual eval functions are hooked up yet, but here is how we'd interface with the framework"
   ]
  },
  {
   "cell_type": "code",
   "execution_count": 61,
   "metadata": {},
   "outputs": [],
   "source": [
    "# evaluator = Evaluator(deep_lyric, set_lyric_state=False)\n",
    "evaluator = Evaluator(deep_lyric)"
   ]
  },
  {
   "cell_type": "code",
   "execution_count": 63,
   "metadata": {},
   "outputs": [
    {
     "data": {
      "text/plain": [
       "{'seed_text': 'xbos xgenre death metal xtitle',\n",
       " 'max_len': 40,\n",
       " 'GPU': True,\n",
       " 'context_length': 40,\n",
       " 'beam_width': 3,\n",
       " 'verbose': 0,\n",
       " 'temperature': 1.5,\n",
       " 'top_k': 5,\n",
       " 'audio': None,\n",
       " 'multinomial': True,\n",
       " 'model_name': '4.2-LM-108k-lines-genre-song_title',\n",
       " 'model_type': 'language'}"
      ]
     },
     "execution_count": 63,
     "metadata": {},
     "output_type": "execute_result"
    }
   ],
   "source": [
    "evaluator.deep_lyric.config"
   ]
  },
  {
   "cell_type": "code",
   "execution_count": 75,
   "metadata": {},
   "outputs": [],
   "source": [
    "# evaluator.get_lyric()\n",
    "# evaluator.generated_song"
   ]
  },
  {
   "cell_type": "code",
   "execution_count": 74,
   "metadata": {},
   "outputs": [
    {
     "data": {
      "text/plain": [
       "{'metric1': None,\n",
       " 'metric2': None,\n",
       " 'metric3': None,\n",
       " 'rhyme_density_a': 'gloom',\n",
       " 'rhyme_density_b': 'and'}"
      ]
     },
     "execution_count": 74,
     "metadata": {},
     "output_type": "execute_result"
    }
   ],
   "source": [
    "# not yet implemented\n",
    "evaluator.get_rhyme_density()\n",
    "evaluator.metrics"
   ]
  },
  {
   "cell_type": "code",
   "execution_count": 109,
   "metadata": {},
   "outputs": [],
   "source": [
    "# evaluator.save_json(out=True)"
   ]
  },
  {
   "cell_type": "code",
   "execution_count": 106,
   "metadata": {},
   "outputs": [
    {
     "data": {
      "text/plain": [
       "{'metric1': None,\n",
       " 'metric2': None,\n",
       " 'metric3': None,\n",
       " 'rhyme_density_a': 'gloom',\n",
       " 'rhyme_density_b': 'and'}"
      ]
     },
     "execution_count": 106,
     "metadata": {},
     "output_type": "execute_result"
    }
   ],
   "source": [
    "evaluator.metrics"
   ]
  },
  {
   "cell_type": "code",
   "execution_count": 110,
   "metadata": {},
   "outputs": [],
   "source": [
    "# from pandas.io.json import json_normalize\n",
    "# import json\n",
    "# json_normalize(evaluator.deep_lyric.config, errors='ignore')"
   ]
  },
  {
   "cell_type": "code",
   "execution_count": null,
   "metadata": {},
   "outputs": [],
   "source": []
  },
  {
   "cell_type": "markdown",
   "metadata": {},
   "source": [
    "### Store to Cloud..."
   ]
  },
  {
   "cell_type": "code",
   "execution_count": 94,
   "metadata": {},
   "outputs": [],
   "source": [
    "OUT_STORE = f'gs://w210-capstone/lyrics/{model_name}/'"
   ]
  },
  {
   "cell_type": "code",
   "execution_count": 95,
   "metadata": {},
   "outputs": [
    {
     "name": "stdout",
     "output_type": "stream",
     "text": [
      "Copying file://../data/lyrics/4.2-LM-108k-lines-genre-song_title/1543790822-1.0-1.txt [Content-Type=text/plain]...\n",
      "Copying file://../data/lyrics/4.2-LM-108k-lines-genre-song_title/1543790825-1.0-2.txt [Content-Type=text/plain]...\n",
      "Copying file://../data/lyrics/4.2-LM-108k-lines-genre-song_title/1543790834-1.0-3.txt [Content-Type=text/plain]...\n",
      "Copying file://../data/lyrics/4.2-LM-108k-lines-genre-song_title/1543790842-1.0-4.txt [Content-Type=text/plain]...\n",
      "- [4 files][  2.7 KiB/  2.7 KiB]                                                \n",
      "==> NOTE: You are performing a sequence of gsutil operations that may\n",
      "run significantly faster if you instead use gsutil -m -o ... Please\n",
      "see the -m section under \"gsutil help options\" for further information\n",
      "about when gsutil -m can be advantageous.\n",
      "\n",
      "Copying file://../data/lyrics/4.2-LM-108k-lines-genre-song_title/1543790850-1.0-5.txt [Content-Type=text/plain]...\n",
      "Copying file://../data/lyrics/4.2-LM-108k-lines-genre-song_title/1543790859-1.2-1.txt [Content-Type=text/plain]...\n",
      "Copying file://../data/lyrics/4.2-LM-108k-lines-genre-song_title/1543790861-1.2-2.txt [Content-Type=text/plain]...\n",
      "Copying file://../data/lyrics/4.2-LM-108k-lines-genre-song_title/1543790870-1.2-3.txt [Content-Type=text/plain]...\n",
      "Copying file://../data/lyrics/4.2-LM-108k-lines-genre-song_title/1543790878-1.2-4.txt [Content-Type=text/plain]...\n",
      "Copying file://../data/lyrics/4.2-LM-108k-lines-genre-song_title/1543790886-1.2-5.txt [Content-Type=text/plain]...\n",
      "Copying file://../data/lyrics/4.2-LM-108k-lines-genre-song_title/1543790895-1.4-1.txt [Content-Type=text/plain]...\n",
      "Copying file://../data/lyrics/4.2-LM-108k-lines-genre-song_title/1543790898-1.4-2.txt [Content-Type=text/plain]...\n",
      "Copying file://../data/lyrics/4.2-LM-108k-lines-genre-song_title/1543790906-1.4-3.txt [Content-Type=text/plain]...\n",
      "Copying file://../data/lyrics/4.2-LM-108k-lines-genre-song_title/1543790914-1.4-4.txt [Content-Type=text/plain]...\n",
      "Copying file://../data/lyrics/4.2-LM-108k-lines-genre-song_title/1543790923-1.4-5.txt [Content-Type=text/plain]...\n",
      "Copying file://../data/lyrics/4.2-LM-108k-lines-genre-song_title/1543790931-1.6-1.txt [Content-Type=text/plain]...\n",
      "Copying file://../data/lyrics/4.2-LM-108k-lines-genre-song_title/1543790934-1.6-2.txt [Content-Type=text/plain]...\n",
      "Copying file://../data/lyrics/4.2-LM-108k-lines-genre-song_title/1543790943-1.6-3.txt [Content-Type=text/plain]...\n",
      "Copying file://../data/lyrics/4.2-LM-108k-lines-genre-song_title/1543790951-1.6-4.txt [Content-Type=text/plain]...\n",
      "Copying file://../data/lyrics/4.2-LM-108k-lines-genre-song_title/1543790960-1.6-5.txt [Content-Type=text/plain]...\n",
      "Copying file://../data/lyrics/4.2-LM-108k-lines-genre-song_title/1543790968-1.0-1.txt [Content-Type=text/plain]...\n",
      "Copying file://../data/lyrics/4.2-LM-108k-lines-genre-song_title/1543790971-1.0-2.txt [Content-Type=text/plain]...\n",
      "Copying file://../data/lyrics/4.2-LM-108k-lines-genre-song_title/1543790979-1.0-3.txt [Content-Type=text/plain]...\n",
      "Copying file://../data/lyrics/4.2-LM-108k-lines-genre-song_title/1543790988-1.0-4.txt [Content-Type=text/plain]...\n",
      "Copying file://../data/lyrics/4.2-LM-108k-lines-genre-song_title/1543790996-1.0-5.txt [Content-Type=text/plain]...\n",
      "Copying file://../data/lyrics/4.2-LM-108k-lines-genre-song_title/1543791004-1.2-1.txt [Content-Type=text/plain]...\n",
      "Copying file://../data/lyrics/4.2-LM-108k-lines-genre-song_title/1543791007-1.2-2.txt [Content-Type=text/plain]...\n",
      "Copying file://../data/lyrics/4.2-LM-108k-lines-genre-song_title/1543791015-1.2-3.txt [Content-Type=text/plain]...\n",
      "Copying file://../data/lyrics/4.2-LM-108k-lines-genre-song_title/1543791024-1.2-4.txt [Content-Type=text/plain]...\n",
      "Copying file://../data/lyrics/4.2-LM-108k-lines-genre-song_title/1543791032-1.2-5.txt [Content-Type=text/plain]...\n",
      "Copying file://../data/lyrics/4.2-LM-108k-lines-genre-song_title/1543791040-1.4-1.txt [Content-Type=text/plain]...\n",
      "Copying file://../data/lyrics/4.2-LM-108k-lines-genre-song_title/1543791043-1.4-2.txt [Content-Type=text/plain]...\n",
      "Copying file://../data/lyrics/4.2-LM-108k-lines-genre-song_title/1543791052-1.4-3.txt [Content-Type=text/plain]...\n",
      "Copying file://../data/lyrics/4.2-LM-108k-lines-genre-song_title/1543791060-1.4-4.txt [Content-Type=text/plain]...\n",
      "Copying file://../data/lyrics/4.2-LM-108k-lines-genre-song_title/1543791069-1.4-5.txt [Content-Type=text/plain]...\n",
      "Copying file://../data/lyrics/4.2-LM-108k-lines-genre-song_title/1543791077-1.6-1.txt [Content-Type=text/plain]...\n",
      "Copying file://../data/lyrics/4.2-LM-108k-lines-genre-song_title/1543791080-1.6-2.txt [Content-Type=text/plain]...\n",
      "Copying file://../data/lyrics/4.2-LM-108k-lines-genre-song_title/1543791088-1.6-3.txt [Content-Type=text/plain]...\n",
      "Copying file://../data/lyrics/4.2-LM-108k-lines-genre-song_title/1543791097-1.6-4.txt [Content-Type=text/plain]...\n",
      "Copying file://../data/lyrics/4.2-LM-108k-lines-genre-song_title/1543791105-1.6-5.txt [Content-Type=text/plain]...\n",
      "Copying file://../data/lyrics/4.2-LM-108k-lines-genre-song_title/1543791114-1.0-1.txt [Content-Type=text/plain]...\n",
      "Copying file://../data/lyrics/4.2-LM-108k-lines-genre-song_title/1543791117-1.0-2.txt [Content-Type=text/plain]...\n",
      "Copying file://../data/lyrics/4.2-LM-108k-lines-genre-song_title/1543791125-1.0-3.txt [Content-Type=text/plain]...\n",
      "Copying file://../data/lyrics/4.2-LM-108k-lines-genre-song_title/1543791133-1.0-4.txt [Content-Type=text/plain]...\n",
      "Copying file://../data/lyrics/4.2-LM-108k-lines-genre-song_title/1543791142-1.0-5.txt [Content-Type=text/plain]...\n",
      "Copying file://../data/lyrics/4.2-LM-108k-lines-genre-song_title/1543791150-1.2-1.txt [Content-Type=text/plain]...\n",
      "Copying file://../data/lyrics/4.2-LM-108k-lines-genre-song_title/1543791153-1.2-2.txt [Content-Type=text/plain]...\n",
      "Copying file://../data/lyrics/4.2-LM-108k-lines-genre-song_title/1543791161-1.2-3.txt [Content-Type=text/plain]...\n",
      "Copying file://../data/lyrics/4.2-LM-108k-lines-genre-song_title/1543791169-1.2-4.txt [Content-Type=text/plain]...\n",
      "Copying file://../data/lyrics/4.2-LM-108k-lines-genre-song_title/1543791178-1.2-5.txt [Content-Type=text/plain]...\n",
      "Copying file://../data/lyrics/4.2-LM-108k-lines-genre-song_title/1543791186-1.4-1.txt [Content-Type=text/plain]...\n",
      "Copying file://../data/lyrics/4.2-LM-108k-lines-genre-song_title/1543791189-1.4-2.txt [Content-Type=text/plain]...\n",
      "Copying file://../data/lyrics/4.2-LM-108k-lines-genre-song_title/1543791197-1.4-3.txt [Content-Type=text/plain]...\n",
      "Copying file://../data/lyrics/4.2-LM-108k-lines-genre-song_title/1543791206-1.4-4.txt [Content-Type=text/plain]...\n",
      "Copying file://../data/lyrics/4.2-LM-108k-lines-genre-song_title/1543791214-1.4-5.txt [Content-Type=text/plain]...\n",
      "Copying file://../data/lyrics/4.2-LM-108k-lines-genre-song_title/1543791223-1.6-1.txt [Content-Type=text/plain]...\n",
      "Copying file://../data/lyrics/4.2-LM-108k-lines-genre-song_title/1543791225-1.6-2.txt [Content-Type=text/plain]...\n",
      "Copying file://../data/lyrics/4.2-LM-108k-lines-genre-song_title/1543791234-1.6-3.txt [Content-Type=text/plain]...\n",
      "Copying file://../data/lyrics/4.2-LM-108k-lines-genre-song_title/1543791242-1.6-4.txt [Content-Type=text/plain]...\n",
      "Copying file://../data/lyrics/4.2-LM-108k-lines-genre-song_title/1543791251-1.6-5.txt [Content-Type=text/plain]...\n",
      "Copying file://../data/lyrics/4.2-LM-108k-lines-genre-song_title/1543791260-1.0-1.txt [Content-Type=text/plain]...\n",
      "Copying file://../data/lyrics/4.2-LM-108k-lines-genre-song_title/1543791262-1.0-2.txt [Content-Type=text/plain]...\n",
      "Copying file://../data/lyrics/4.2-LM-108k-lines-genre-song_title/1543791271-1.0-3.txt [Content-Type=text/plain]...\n",
      "Copying file://../data/lyrics/4.2-LM-108k-lines-genre-song_title/1543791279-1.0-4.txt [Content-Type=text/plain]...\n",
      "Copying file://../data/lyrics/4.2-LM-108k-lines-genre-song_title/1543791287-1.0-5.txt [Content-Type=text/plain]...\n",
      "Copying file://../data/lyrics/4.2-LM-108k-lines-genre-song_title/1543791296-1.2-1.txt [Content-Type=text/plain]...\n",
      "Copying file://../data/lyrics/4.2-LM-108k-lines-genre-song_title/1543791298-1.2-2.txt [Content-Type=text/plain]...\n",
      "Copying file://../data/lyrics/4.2-LM-108k-lines-genre-song_title/1543791307-1.2-3.txt [Content-Type=text/plain]...\n",
      "Copying file://../data/lyrics/4.2-LM-108k-lines-genre-song_title/1543791315-1.2-4.txt [Content-Type=text/plain]...\n",
      "Copying file://../data/lyrics/4.2-LM-108k-lines-genre-song_title/1543791323-1.2-5.txt [Content-Type=text/plain]...\n",
      "Copying file://../data/lyrics/4.2-LM-108k-lines-genre-song_title/1543791332-1.4-1.txt [Content-Type=text/plain]...\n",
      "Copying file://../data/lyrics/4.2-LM-108k-lines-genre-song_title/1543791335-1.4-2.txt [Content-Type=text/plain]...\n",
      "Copying file://../data/lyrics/4.2-LM-108k-lines-genre-song_title/1543791343-1.4-3.txt [Content-Type=text/plain]...\n",
      "Copying file://../data/lyrics/4.2-LM-108k-lines-genre-song_title/1543791351-1.4-4.txt [Content-Type=text/plain]...\n",
      "Copying file://../data/lyrics/4.2-LM-108k-lines-genre-song_title/1543791360-1.4-5.txt [Content-Type=text/plain]...\n",
      "Copying file://../data/lyrics/4.2-LM-108k-lines-genre-song_title/1543791368-1.6-1.txt [Content-Type=text/plain]...\n",
      "Copying file://../data/lyrics/4.2-LM-108k-lines-genre-song_title/1543791371-1.6-2.txt [Content-Type=text/plain]...\n",
      "Copying file://../data/lyrics/4.2-LM-108k-lines-genre-song_title/1543791380-1.6-3.txt [Content-Type=text/plain]...\n",
      "Copying file://../data/lyrics/4.2-LM-108k-lines-genre-song_title/1543791388-1.6-4.txt [Content-Type=text/plain]...\n",
      "Copying file://../data/lyrics/4.2-LM-108k-lines-genre-song_title/1543791397-1.6-5.txt [Content-Type=text/plain]...\n",
      "Copying file://../data/lyrics/4.2-LM-108k-lines-genre-song_title/1543791405-1.0-1.txt [Content-Type=text/plain]...\n",
      "Copying file://../data/lyrics/4.2-LM-108k-lines-genre-song_title/1543791408-1.0-2.txt [Content-Type=text/plain]...\n",
      "Copying file://../data/lyrics/4.2-LM-108k-lines-genre-song_title/1543791416-1.0-3.txt [Content-Type=text/plain]...\n",
      "Copying file://../data/lyrics/4.2-LM-108k-lines-genre-song_title/1543791425-1.0-4.txt [Content-Type=text/plain]...\n",
      "Copying file://../data/lyrics/4.2-LM-108k-lines-genre-song_title/1543791433-1.0-5.txt [Content-Type=text/plain]...\n",
      "Copying file://../data/lyrics/4.2-LM-108k-lines-genre-song_title/1543791441-1.2-1.txt [Content-Type=text/plain]...\n",
      "Copying file://../data/lyrics/4.2-LM-108k-lines-genre-song_title/1543791444-1.2-2.txt [Content-Type=text/plain]...\n",
      "Copying file://../data/lyrics/4.2-LM-108k-lines-genre-song_title/1543791453-1.2-3.txt [Content-Type=text/plain]...\n",
      "Copying file://../data/lyrics/4.2-LM-108k-lines-genre-song_title/1543791461-1.2-4.txt [Content-Type=text/plain]...\n",
      "Copying file://../data/lyrics/4.2-LM-108k-lines-genre-song_title/1543791469-1.2-5.txt [Content-Type=text/plain]...\n",
      "Copying file://../data/lyrics/4.2-LM-108k-lines-genre-song_title/1543791478-1.4-1.txt [Content-Type=text/plain]...\n",
      "Copying file://../data/lyrics/4.2-LM-108k-lines-genre-song_title/1543791480-1.4-2.txt [Content-Type=text/plain]...\n",
      "Copying file://../data/lyrics/4.2-LM-108k-lines-genre-song_title/1543791489-1.4-3.txt [Content-Type=text/plain]...\n",
      "Copying file://../data/lyrics/4.2-LM-108k-lines-genre-song_title/1543791497-1.4-4.txt [Content-Type=text/plain]...\n",
      "Copying file://../data/lyrics/4.2-LM-108k-lines-genre-song_title/1543791506-1.4-5.txt [Content-Type=text/plain]...\n",
      "Copying file://../data/lyrics/4.2-LM-108k-lines-genre-song_title/1543791514-1.6-1.txt [Content-Type=text/plain]...\n",
      "Copying file://../data/lyrics/4.2-LM-108k-lines-genre-song_title/1543791517-1.6-2.txt [Content-Type=text/plain]...\n",
      "Copying file://../data/lyrics/4.2-LM-108k-lines-genre-song_title/1543791525-1.6-3.txt [Content-Type=text/plain]...\n",
      "Copying file://../data/lyrics/4.2-LM-108k-lines-genre-song_title/1543791534-1.6-4.txt [Content-Type=text/plain]...\n",
      "Copying file://../data/lyrics/4.2-LM-108k-lines-genre-song_title/1543791542-1.6-5.txt [Content-Type=text/plain]...\n",
      "Copying file://../data/lyrics/4.2-LM-108k-lines-genre-song_title/1543791551-1.0-1.txt [Content-Type=text/plain]...\n",
      "Copying file://../data/lyrics/4.2-LM-108k-lines-genre-song_title/1543791554-1.0-2.txt [Content-Type=text/plain]...\n",
      "Copying file://../data/lyrics/4.2-LM-108k-lines-genre-song_title/1543791562-1.0-3.txt [Content-Type=text/plain]...\n",
      "Copying file://../data/lyrics/4.2-LM-108k-lines-genre-song_title/1543791570-1.0-4.txt [Content-Type=text/plain]...\n",
      "Copying file://../data/lyrics/4.2-LM-108k-lines-genre-song_title/1543791579-1.0-5.txt [Content-Type=text/plain]...\n",
      "Copying file://../data/lyrics/4.2-LM-108k-lines-genre-song_title/1543791587-1.2-1.txt [Content-Type=text/plain]...\n",
      "Copying file://../data/lyrics/4.2-LM-108k-lines-genre-song_title/1543791590-1.2-2.txt [Content-Type=text/plain]...\n",
      "Copying file://../data/lyrics/4.2-LM-108k-lines-genre-song_title/1543791598-1.2-3.txt [Content-Type=text/plain]...\n",
      "Copying file://../data/lyrics/4.2-LM-108k-lines-genre-song_title/1543791606-1.2-4.txt [Content-Type=text/plain]...\n",
      "Copying file://../data/lyrics/4.2-LM-108k-lines-genre-song_title/1543791615-1.2-5.txt [Content-Type=text/plain]...\n",
      "Copying file://../data/lyrics/4.2-LM-108k-lines-genre-song_title/1543791623-1.4-1.txt [Content-Type=text/plain]...\n",
      "Copying file://../data/lyrics/4.2-LM-108k-lines-genre-song_title/1543791626-1.4-2.txt [Content-Type=text/plain]...\n",
      "Copying file://../data/lyrics/4.2-LM-108k-lines-genre-song_title/1543791634-1.4-3.txt [Content-Type=text/plain]...\n",
      "Copying file://../data/lyrics/4.2-LM-108k-lines-genre-song_title/1543791643-1.4-4.txt [Content-Type=text/plain]...\n",
      "Copying file://../data/lyrics/4.2-LM-108k-lines-genre-song_title/1543791651-1.4-5.txt [Content-Type=text/plain]...\n",
      "Copying file://../data/lyrics/4.2-LM-108k-lines-genre-song_title/1543791660-1.6-1.txt [Content-Type=text/plain]...\n",
      "Copying file://../data/lyrics/4.2-LM-108k-lines-genre-song_title/1543791662-1.6-2.txt [Content-Type=text/plain]...\n",
      "Copying file://../data/lyrics/4.2-LM-108k-lines-genre-song_title/1543791671-1.6-3.txt [Content-Type=text/plain]...\n",
      "Copying file://../data/lyrics/4.2-LM-108k-lines-genre-song_title/1543791679-1.6-4.txt [Content-Type=text/plain]...\n",
      "Copying file://../data/lyrics/4.2-LM-108k-lines-genre-song_title/1543791688-1.6-5.txt [Content-Type=text/plain]...\n",
      "Copying file://../data/lyrics/4.2-LM-108k-lines-genre-song_title/1543791697-1.0-1.txt [Content-Type=text/plain]...\n",
      "Copying file://../data/lyrics/4.2-LM-108k-lines-genre-song_title/1543791699-1.0-2.txt [Content-Type=text/plain]...\n",
      "Copying file://../data/lyrics/4.2-LM-108k-lines-genre-song_title/1543791708-1.0-3.txt [Content-Type=text/plain]...\n",
      "Copying file://../data/lyrics/4.2-LM-108k-lines-genre-song_title/1543791716-1.0-4.txt [Content-Type=text/plain]...\n",
      "Copying file://../data/lyrics/4.2-LM-108k-lines-genre-song_title/1543791724-1.0-5.txt [Content-Type=text/plain]...\n",
      "Copying file://../data/lyrics/4.2-LM-108k-lines-genre-song_title/1543791733-1.2-1.txt [Content-Type=text/plain]...\n",
      "Copying file://../data/lyrics/4.2-LM-108k-lines-genre-song_title/1543791735-1.2-2.txt [Content-Type=text/plain]...\n",
      "Copying file://../data/lyrics/4.2-LM-108k-lines-genre-song_title/1543791744-1.2-3.txt [Content-Type=text/plain]...\n",
      "Copying file://../data/lyrics/4.2-LM-108k-lines-genre-song_title/1543791752-1.2-4.txt [Content-Type=text/plain]...\n",
      "Copying file://../data/lyrics/4.2-LM-108k-lines-genre-song_title/1543791761-1.2-5.txt [Content-Type=text/plain]...\n",
      "Copying file://../data/lyrics/4.2-LM-108k-lines-genre-song_title/1543791769-1.4-1.txt [Content-Type=text/plain]...\n",
      "Copying file://../data/lyrics/4.2-LM-108k-lines-genre-song_title/1543791772-1.4-2.txt [Content-Type=text/plain]...\n",
      "Copying file://../data/lyrics/4.2-LM-108k-lines-genre-song_title/1543791780-1.4-3.txt [Content-Type=text/plain]...\n",
      "Copying file://../data/lyrics/4.2-LM-108k-lines-genre-song_title/1543791788-1.4-4.txt [Content-Type=text/plain]...\n",
      "Copying file://../data/lyrics/4.2-LM-108k-lines-genre-song_title/1543791797-1.4-5.txt [Content-Type=text/plain]...\n",
      "Copying file://../data/lyrics/4.2-LM-108k-lines-genre-song_title/1543791805-1.6-1.txt [Content-Type=text/plain]...\n",
      "Copying file://../data/lyrics/4.2-LM-108k-lines-genre-song_title/1543791808-1.6-2.txt [Content-Type=text/plain]...\n",
      "Copying file://../data/lyrics/4.2-LM-108k-lines-genre-song_title/1543791817-1.6-3.txt [Content-Type=text/plain]...\n",
      "Copying file://../data/lyrics/4.2-LM-108k-lines-genre-song_title/1543791825-1.6-4.txt [Content-Type=text/plain]...\n",
      "Copying file://../data/lyrics/4.2-LM-108k-lines-genre-song_title/1543791834-1.6-5.txt [Content-Type=text/plain]...\n",
      "Copying file://../data/lyrics/4.2-LM-108k-lines-genre-song_title/1543791842-1.0-1.txt [Content-Type=text/plain]...\n",
      "Copying file://../data/lyrics/4.2-LM-108k-lines-genre-song_title/1543791845-1.0-2.txt [Content-Type=text/plain]...\n",
      "Copying file://../data/lyrics/4.2-LM-108k-lines-genre-song_title/1543791853-1.0-3.txt [Content-Type=text/plain]...\n",
      "Copying file://../data/lyrics/4.2-LM-108k-lines-genre-song_title/1543791862-1.0-4.txt [Content-Type=text/plain]...\n",
      "Copying file://../data/lyrics/4.2-LM-108k-lines-genre-song_title/1543791870-1.0-5.txt [Content-Type=text/plain]...\n",
      "Copying file://../data/lyrics/4.2-LM-108k-lines-genre-song_title/1543791878-1.2-1.txt [Content-Type=text/plain]...\n",
      "Copying file://../data/lyrics/4.2-LM-108k-lines-genre-song_title/1543791881-1.2-2.txt [Content-Type=text/plain]...\n",
      "Copying file://../data/lyrics/4.2-LM-108k-lines-genre-song_title/1543791889-1.2-3.txt [Content-Type=text/plain]...\n",
      "Copying file://../data/lyrics/4.2-LM-108k-lines-genre-song_title/1543791898-1.2-4.txt [Content-Type=text/plain]...\n",
      "Copying file://../data/lyrics/4.2-LM-108k-lines-genre-song_title/1543791906-1.2-5.txt [Content-Type=text/plain]...\n",
      "Copying file://../data/lyrics/4.2-LM-108k-lines-genre-song_title/1543791914-1.4-1.txt [Content-Type=text/plain]...\n",
      "Copying file://../data/lyrics/4.2-LM-108k-lines-genre-song_title/1543791917-1.4-2.txt [Content-Type=text/plain]...\n",
      "Copying file://../data/lyrics/4.2-LM-108k-lines-genre-song_title/1543791926-1.4-3.txt [Content-Type=text/plain]...\n",
      "-\n",
      "==> NOTE: You are performing a sequence of gsutil operations that may\n",
      "run significantly faster if you instead use gsutil -m -o ... Please\n",
      "see the -m section under \"gsutil help options\" for further information\n",
      "about when gsutil -m can be advantageous.\n",
      "\n",
      "\n",
      "Operation completed over 153 objects/110.5 KiB.                                  \n"
     ]
    }
   ],
   "source": [
    "!gsutil -m -o cp $OUT_PATH/* $OUT_STORE"
   ]
  },
  {
   "cell_type": "code",
   "execution_count": null,
   "metadata": {},
   "outputs": [],
   "source": []
  }
 ],
 "metadata": {
  "kernelspec": {
   "display_name": "Python 3",
   "language": "python",
   "name": "python3"
  },
  "language_info": {
   "codemirror_mode": {
    "name": "ipython",
    "version": 3
   },
   "file_extension": ".py",
   "mimetype": "text/x-python",
   "name": "python",
   "nbconvert_exporter": "python",
   "pygments_lexer": "ipython3",
   "version": "3.6.5"
  }
 },
 "nbformat": 4,
 "nbformat_minor": 2
}
