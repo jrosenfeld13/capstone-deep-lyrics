{
 "cells": [
  {
   "cell_type": "code",
   "execution_count": 98,
   "metadata": {},
   "outputs": [],
   "source": [
    "import pandas as pd\n",
    "import numpy as np\n",
    "import h5py\n",
    "import requests\n",
    "\n",
    "import matplotlib.pyplot as plt\n",
    "\n",
    "%matplotlib inline"
   ]
  },
  {
   "cell_type": "code",
   "execution_count": 10,
   "metadata": {},
   "outputs": [],
   "source": [
    "FILE_PATH = '../data/external/msd_summary_file.h5'\n",
    "with open(FILE_PATH, 'wb') as f:\n",
    "    summary_url = 'http://labrosa.ee.columbia.edu/millionsong/sites/default/files/AdditionalFiles/msd_summary_file.h5'\n",
    "    summary = requests.get(summary_url)\n",
    "    f.write(summary.content)"
   ]
  },
  {
   "cell_type": "code",
   "execution_count": 89,
   "metadata": {},
   "outputs": [
    {
     "data": {
      "text/plain": [
       "(1000000, 53)"
      ]
     },
     "execution_count": 89,
     "metadata": {},
     "output_type": "execute_result"
    }
   ],
   "source": [
    "df1 = pd.read_hdf(FILE_PATH, key='analysis/songs')\n",
    "df2 = pd.read_hdf(FILE_PATH, key='metadata/songs')\n",
    "df3 = pd.read_hdf(FILE_PATH, key='musicbrainz/songs')\n",
    "df = pd.concat([df1, df2, df3], axis=1)\n",
    "df.shape"
   ]
  },
  {
   "cell_type": "markdown",
   "metadata": {},
   "source": [
    "IDX variables are all null in the summary tables."
   ]
  },
  {
   "cell_type": "code",
   "execution_count": 90,
   "metadata": {},
   "outputs": [
    {
     "data": {
      "text/plain": [
       "['analysis_sample_rate',\n",
       " 'audio_md5',\n",
       " 'danceability',\n",
       " 'duration',\n",
       " 'end_of_fade_in',\n",
       " 'energy',\n",
       " 'key',\n",
       " 'key_confidence',\n",
       " 'loudness',\n",
       " 'mode',\n",
       " 'mode_confidence',\n",
       " 'start_of_fade_out',\n",
       " 'tempo',\n",
       " 'time_signature',\n",
       " 'time_signature_confidence',\n",
       " 'track_id',\n",
       " 'analyzer_version',\n",
       " 'artist_7digitalid',\n",
       " 'artist_familiarity',\n",
       " 'artist_hotttnesss',\n",
       " 'artist_id',\n",
       " 'artist_latitude',\n",
       " 'artist_location',\n",
       " 'artist_longitude',\n",
       " 'artist_mbid',\n",
       " 'artist_name',\n",
       " 'artist_playmeid',\n",
       " 'genre',\n",
       " 'release',\n",
       " 'release_7digitalid',\n",
       " 'song_hotttnesss',\n",
       " 'song_id',\n",
       " 'title',\n",
       " 'track_7digitalid',\n",
       " 'year']"
      ]
     },
     "execution_count": 90,
     "metadata": {},
     "output_type": "execute_result"
    }
   ],
   "source": [
    "features = [x for x in df.columns if not x.startswith('idx_')]\n",
    "features"
   ]
  },
  {
   "cell_type": "code",
   "execution_count": 91,
   "metadata": {},
   "outputs": [
    {
     "data": {
      "text/html": [
       "<div>\n",
       "<style scoped>\n",
       "    .dataframe tbody tr th:only-of-type {\n",
       "        vertical-align: middle;\n",
       "    }\n",
       "\n",
       "    .dataframe tbody tr th {\n",
       "        vertical-align: top;\n",
       "    }\n",
       "\n",
       "    .dataframe thead th {\n",
       "        text-align: right;\n",
       "    }\n",
       "</style>\n",
       "<table border=\"1\" class=\"dataframe\">\n",
       "  <thead>\n",
       "    <tr style=\"text-align: right;\">\n",
       "      <th></th>\n",
       "      <th>analysis_sample_rate</th>\n",
       "      <th>audio_md5</th>\n",
       "      <th>danceability</th>\n",
       "      <th>duration</th>\n",
       "      <th>end_of_fade_in</th>\n",
       "      <th>energy</th>\n",
       "      <th>key</th>\n",
       "      <th>key_confidence</th>\n",
       "      <th>loudness</th>\n",
       "      <th>mode</th>\n",
       "      <th>...</th>\n",
       "      <th>artist_name</th>\n",
       "      <th>artist_playmeid</th>\n",
       "      <th>genre</th>\n",
       "      <th>release</th>\n",
       "      <th>release_7digitalid</th>\n",
       "      <th>song_hotttnesss</th>\n",
       "      <th>song_id</th>\n",
       "      <th>title</th>\n",
       "      <th>track_7digitalid</th>\n",
       "      <th>year</th>\n",
       "    </tr>\n",
       "  </thead>\n",
       "  <tbody>\n",
       "    <tr>\n",
       "      <th>0</th>\n",
       "      <td>22050</td>\n",
       "      <td>aee9820911781c734e7694c5432990ca</td>\n",
       "      <td>0.0</td>\n",
       "      <td>252.05506</td>\n",
       "      <td>2.049</td>\n",
       "      <td>0.0</td>\n",
       "      <td>10</td>\n",
       "      <td>0.777</td>\n",
       "      <td>-4.829</td>\n",
       "      <td>0</td>\n",
       "      <td>...</td>\n",
       "      <td>Faster Pussy cat</td>\n",
       "      <td>44895</td>\n",
       "      <td></td>\n",
       "      <td>Monster Ballads X-Mas</td>\n",
       "      <td>633681</td>\n",
       "      <td>0.542899</td>\n",
       "      <td>SOQMMHC12AB0180CB8</td>\n",
       "      <td>Silent Night</td>\n",
       "      <td>7032331</td>\n",
       "      <td>2003</td>\n",
       "    </tr>\n",
       "    <tr>\n",
       "      <th>1</th>\n",
       "      <td>22050</td>\n",
       "      <td>ed222d07c83bac7689d52753610a513a</td>\n",
       "      <td>0.0</td>\n",
       "      <td>156.55138</td>\n",
       "      <td>0.258</td>\n",
       "      <td>0.0</td>\n",
       "      <td>9</td>\n",
       "      <td>0.808</td>\n",
       "      <td>-10.555</td>\n",
       "      <td>1</td>\n",
       "      <td>...</td>\n",
       "      <td>Karkkiautomaatti</td>\n",
       "      <td>-1</td>\n",
       "      <td></td>\n",
       "      <td>Karkuteillä</td>\n",
       "      <td>145266</td>\n",
       "      <td>0.299877</td>\n",
       "      <td>SOVFVAK12A8C1350D9</td>\n",
       "      <td>Tanssi vaan</td>\n",
       "      <td>1514808</td>\n",
       "      <td>1995</td>\n",
       "    </tr>\n",
       "    <tr>\n",
       "      <th>2</th>\n",
       "      <td>22050</td>\n",
       "      <td>96c7104889a128fef84fa469d60e380c</td>\n",
       "      <td>0.0</td>\n",
       "      <td>138.97098</td>\n",
       "      <td>0.000</td>\n",
       "      <td>0.0</td>\n",
       "      <td>7</td>\n",
       "      <td>0.418</td>\n",
       "      <td>-2.060</td>\n",
       "      <td>1</td>\n",
       "      <td>...</td>\n",
       "      <td>Hudson Mohawke</td>\n",
       "      <td>-1</td>\n",
       "      <td></td>\n",
       "      <td>Butter</td>\n",
       "      <td>625706</td>\n",
       "      <td>0.617871</td>\n",
       "      <td>SOGTUKN12AB017F4F1</td>\n",
       "      <td>No One Could Ever</td>\n",
       "      <td>6945353</td>\n",
       "      <td>2006</td>\n",
       "    </tr>\n",
       "    <tr>\n",
       "      <th>3</th>\n",
       "      <td>22050</td>\n",
       "      <td>0f7da84b6b583e3846c7e022fb3a92a2</td>\n",
       "      <td>0.0</td>\n",
       "      <td>145.05751</td>\n",
       "      <td>0.000</td>\n",
       "      <td>0.0</td>\n",
       "      <td>7</td>\n",
       "      <td>0.125</td>\n",
       "      <td>-4.654</td>\n",
       "      <td>1</td>\n",
       "      <td>...</td>\n",
       "      <td>Yerba Brava</td>\n",
       "      <td>34000</td>\n",
       "      <td></td>\n",
       "      <td>De Culo</td>\n",
       "      <td>199368</td>\n",
       "      <td>NaN</td>\n",
       "      <td>SOBNYVR12A8C13558C</td>\n",
       "      <td>Si Vos Querés</td>\n",
       "      <td>2168257</td>\n",
       "      <td>2003</td>\n",
       "    </tr>\n",
       "    <tr>\n",
       "      <th>4</th>\n",
       "      <td>22050</td>\n",
       "      <td>228dd6392ad8001b0281f533f34c72fd</td>\n",
       "      <td>0.0</td>\n",
       "      <td>514.29832</td>\n",
       "      <td>0.000</td>\n",
       "      <td>0.0</td>\n",
       "      <td>5</td>\n",
       "      <td>0.097</td>\n",
       "      <td>-7.806</td>\n",
       "      <td>0</td>\n",
       "      <td>...</td>\n",
       "      <td>Der Mystic</td>\n",
       "      <td>-1</td>\n",
       "      <td></td>\n",
       "      <td>Rene Ablaze Presents Winter Sessions</td>\n",
       "      <td>209038</td>\n",
       "      <td>NaN</td>\n",
       "      <td>SOHSBXH12A8C13B0DF</td>\n",
       "      <td>Tangle Of Aspens</td>\n",
       "      <td>2264873</td>\n",
       "      <td>0</td>\n",
       "    </tr>\n",
       "  </tbody>\n",
       "</table>\n",
       "<p>5 rows × 35 columns</p>\n",
       "</div>"
      ],
      "text/plain": [
       "   analysis_sample_rate                         audio_md5  danceability  \\\n",
       "0                 22050  aee9820911781c734e7694c5432990ca           0.0   \n",
       "1                 22050  ed222d07c83bac7689d52753610a513a           0.0   \n",
       "2                 22050  96c7104889a128fef84fa469d60e380c           0.0   \n",
       "3                 22050  0f7da84b6b583e3846c7e022fb3a92a2           0.0   \n",
       "4                 22050  228dd6392ad8001b0281f533f34c72fd           0.0   \n",
       "\n",
       "    duration  end_of_fade_in  energy  key  key_confidence  loudness  mode  \\\n",
       "0  252.05506           2.049     0.0   10           0.777    -4.829     0   \n",
       "1  156.55138           0.258     0.0    9           0.808   -10.555     1   \n",
       "2  138.97098           0.000     0.0    7           0.418    -2.060     1   \n",
       "3  145.05751           0.000     0.0    7           0.125    -4.654     1   \n",
       "4  514.29832           0.000     0.0    5           0.097    -7.806     0   \n",
       "\n",
       "   ...        artist_name  artist_playmeid  genre  \\\n",
       "0  ...   Faster Pussy cat            44895          \n",
       "1  ...   Karkkiautomaatti               -1          \n",
       "2  ...     Hudson Mohawke               -1          \n",
       "3  ...        Yerba Brava            34000          \n",
       "4  ...         Der Mystic               -1          \n",
       "\n",
       "                                release  release_7digitalid song_hotttnesss  \\\n",
       "0                 Monster Ballads X-Mas              633681        0.542899   \n",
       "1                           Karkuteillä              145266        0.299877   \n",
       "2                                Butter              625706        0.617871   \n",
       "3                               De Culo              199368             NaN   \n",
       "4  Rene Ablaze Presents Winter Sessions              209038             NaN   \n",
       "\n",
       "              song_id              title  track_7digitalid  year  \n",
       "0  SOQMMHC12AB0180CB8       Silent Night           7032331  2003  \n",
       "1  SOVFVAK12A8C1350D9        Tanssi vaan           1514808  1995  \n",
       "2  SOGTUKN12AB017F4F1  No One Could Ever           6945353  2006  \n",
       "3  SOBNYVR12A8C13558C      Si Vos Querés           2168257  2003  \n",
       "4  SOHSBXH12A8C13B0DF   Tangle Of Aspens           2264873     0  \n",
       "\n",
       "[5 rows x 35 columns]"
      ]
     },
     "execution_count": 91,
     "metadata": {},
     "output_type": "execute_result"
    }
   ],
   "source": [
    "df = df[features]\n",
    "df.head()"
   ]
  },
  {
   "cell_type": "markdown",
   "metadata": {},
   "source": [
    "## Bring in pulled lyrics IDs"
   ]
  },
  {
   "cell_type": "code",
   "execution_count": 99,
   "metadata": {},
   "outputs": [
    {
     "data": {
      "text/html": [
       "<div>\n",
       "<style scoped>\n",
       "    .dataframe tbody tr th:only-of-type {\n",
       "        vertical-align: middle;\n",
       "    }\n",
       "\n",
       "    .dataframe tbody tr th {\n",
       "        vertical-align: top;\n",
       "    }\n",
       "\n",
       "    .dataframe thead th {\n",
       "        text-align: right;\n",
       "    }\n",
       "</style>\n",
       "<table border=\"1\" class=\"dataframe\">\n",
       "  <thead>\n",
       "    <tr style=\"text-align: right;\">\n",
       "      <th></th>\n",
       "      <th>track_id</th>\n",
       "    </tr>\n",
       "  </thead>\n",
       "  <tbody>\n",
       "    <tr>\n",
       "      <th>0</th>\n",
       "      <td>TRAADJU128F92F58E1</td>\n",
       "    </tr>\n",
       "    <tr>\n",
       "      <th>1</th>\n",
       "      <td>TRAADQX128F422B4CF</td>\n",
       "    </tr>\n",
       "    <tr>\n",
       "      <th>2</th>\n",
       "      <td>TRAAFTE128F429545F</td>\n",
       "    </tr>\n",
       "    <tr>\n",
       "      <th>3</th>\n",
       "      <td>TRAAKAG128F4275D2A</td>\n",
       "    </tr>\n",
       "    <tr>\n",
       "      <th>4</th>\n",
       "      <td>TRAAMRO128F92F20D7</td>\n",
       "    </tr>\n",
       "  </tbody>\n",
       "</table>\n",
       "</div>"
      ],
      "text/plain": [
       "             track_id\n",
       "0  TRAADJU128F92F58E1\n",
       "1  TRAADQX128F422B4CF\n",
       "2  TRAAFTE128F429545F\n",
       "3  TRAAKAG128F4275D2A\n",
       "4  TRAAMRO128F92F20D7"
      ]
     },
     "execution_count": 99,
     "metadata": {},
     "output_type": "execute_result"
    }
   ],
   "source": [
    "df_keys = pd.read_csv('https://storage.googleapis.com/w210-capstone/data/lyrics-valid.csv',\n",
    "                      header=None, escapechar='\\\\',\n",
    "                       names=['track_id', 'lyrics'])\n",
    "df_keys = pd.DataFrame(df_keys.track_id.astype(np.object))\n",
    "df_keys.head()"
   ]
  },
  {
   "cell_type": "markdown",
   "metadata": {},
   "source": [
    "## Keep only those we pulled lyrics for"
   ]
  },
  {
   "cell_type": "code",
   "execution_count": 105,
   "metadata": {},
   "outputs": [
    {
     "data": {
      "text/html": [
       "<div>\n",
       "<style scoped>\n",
       "    .dataframe tbody tr th:only-of-type {\n",
       "        vertical-align: middle;\n",
       "    }\n",
       "\n",
       "    .dataframe tbody tr th {\n",
       "        vertical-align: top;\n",
       "    }\n",
       "\n",
       "    .dataframe thead th {\n",
       "        text-align: right;\n",
       "    }\n",
       "</style>\n",
       "<table border=\"1\" class=\"dataframe\">\n",
       "  <thead>\n",
       "    <tr style=\"text-align: right;\">\n",
       "      <th></th>\n",
       "      <th>track_id</th>\n",
       "      <th>analysis_sample_rate</th>\n",
       "      <th>audio_md5</th>\n",
       "      <th>danceability</th>\n",
       "      <th>duration</th>\n",
       "      <th>end_of_fade_in</th>\n",
       "      <th>energy</th>\n",
       "      <th>key</th>\n",
       "      <th>key_confidence</th>\n",
       "      <th>loudness</th>\n",
       "      <th>...</th>\n",
       "      <th>artist_name</th>\n",
       "      <th>artist_playmeid</th>\n",
       "      <th>genre</th>\n",
       "      <th>release</th>\n",
       "      <th>release_7digitalid</th>\n",
       "      <th>song_hotttnesss</th>\n",
       "      <th>song_id</th>\n",
       "      <th>title</th>\n",
       "      <th>track_7digitalid</th>\n",
       "      <th>year</th>\n",
       "    </tr>\n",
       "  </thead>\n",
       "  <tbody>\n",
       "    <tr>\n",
       "      <th>0</th>\n",
       "      <td>TRAADJU128F92F58E1</td>\n",
       "      <td>22050</td>\n",
       "      <td>2844827a85108571951d585418f15dae</td>\n",
       "      <td>0.0</td>\n",
       "      <td>294.76526</td>\n",
       "      <td>0.392</td>\n",
       "      <td>0.0</td>\n",
       "      <td>1</td>\n",
       "      <td>0.584</td>\n",
       "      <td>-8.860</td>\n",
       "      <td>...</td>\n",
       "      <td>The Mob</td>\n",
       "      <td>-1</td>\n",
       "      <td></td>\n",
       "      <td>May Inspire Revolutionary Acts</td>\n",
       "      <td>611800</td>\n",
       "      <td>NaN</td>\n",
       "      <td>SOHJCEN12A8C142B93</td>\n",
       "      <td>I Hear You Laughing ('Ching' 1981 Cassette)</td>\n",
       "      <td>6801472</td>\n",
       "      <td>0</td>\n",
       "    </tr>\n",
       "    <tr>\n",
       "      <th>1</th>\n",
       "      <td>TRAADQX128F422B4CF</td>\n",
       "      <td>22050</td>\n",
       "      <td>1bb9cb115bdcbad912cb3bea9facb2b8</td>\n",
       "      <td>0.0</td>\n",
       "      <td>175.72526</td>\n",
       "      <td>0.734</td>\n",
       "      <td>0.0</td>\n",
       "      <td>0</td>\n",
       "      <td>0.522</td>\n",
       "      <td>-10.930</td>\n",
       "      <td>...</td>\n",
       "      <td>Casiotone For The Painfully Alone</td>\n",
       "      <td>-1</td>\n",
       "      <td></td>\n",
       "      <td>Etiquette</td>\n",
       "      <td>234425</td>\n",
       "      <td>0.785892</td>\n",
       "      <td>SOTUNMH12A6D4FA3E6</td>\n",
       "      <td>Nashville Parthenon</td>\n",
       "      <td>2573759</td>\n",
       "      <td>2006</td>\n",
       "    </tr>\n",
       "    <tr>\n",
       "      <th>2</th>\n",
       "      <td>TRAAFTE128F429545F</td>\n",
       "      <td>22050</td>\n",
       "      <td>611395c88642b6065ea0e7e74c837ff4</td>\n",
       "      <td>0.0</td>\n",
       "      <td>222.17098</td>\n",
       "      <td>0.136</td>\n",
       "      <td>0.0</td>\n",
       "      <td>7</td>\n",
       "      <td>0.386</td>\n",
       "      <td>-7.664</td>\n",
       "      <td>...</td>\n",
       "      <td>The Corrs</td>\n",
       "      <td>360</td>\n",
       "      <td></td>\n",
       "      <td>Talk On Corners</td>\n",
       "      <td>110238</td>\n",
       "      <td>0.569505</td>\n",
       "      <td>SOCHGUG12A58A7E184</td>\n",
       "      <td>Love Gives Love Takes ( LP Version )</td>\n",
       "      <td>1140303</td>\n",
       "      <td>1997</td>\n",
       "    </tr>\n",
       "    <tr>\n",
       "      <th>3</th>\n",
       "      <td>TRAAKAG128F4275D2A</td>\n",
       "      <td>22050</td>\n",
       "      <td>49256c5df75bec30433c5201b9bff0e4</td>\n",
       "      <td>0.0</td>\n",
       "      <td>110.13179</td>\n",
       "      <td>4.714</td>\n",
       "      <td>0.0</td>\n",
       "      <td>10</td>\n",
       "      <td>0.214</td>\n",
       "      <td>-12.308</td>\n",
       "      <td>...</td>\n",
       "      <td>Soulfly</td>\n",
       "      <td>-1</td>\n",
       "      <td></td>\n",
       "      <td>Soulfly</td>\n",
       "      <td>212164</td>\n",
       "      <td>NaN</td>\n",
       "      <td>SOVDWHH12A8C13B42A</td>\n",
       "      <td>Sultao Das Matas (Album Version)</td>\n",
       "      <td>2308896</td>\n",
       "      <td>0</td>\n",
       "    </tr>\n",
       "    <tr>\n",
       "      <th>4</th>\n",
       "      <td>TRAAMRO128F92F20D7</td>\n",
       "      <td>22050</td>\n",
       "      <td>8004243db3c1f8e164b8d7494fe3736b</td>\n",
       "      <td>0.0</td>\n",
       "      <td>139.72853</td>\n",
       "      <td>0.450</td>\n",
       "      <td>0.0</td>\n",
       "      <td>3</td>\n",
       "      <td>0.294</td>\n",
       "      <td>-11.256</td>\n",
       "      <td>...</td>\n",
       "      <td>David Wilcox</td>\n",
       "      <td>61454</td>\n",
       "      <td></td>\n",
       "      <td>What You Whispered</td>\n",
       "      <td>391414</td>\n",
       "      <td>0.000000</td>\n",
       "      <td>SOKNGDE12AB017CA4D</td>\n",
       "      <td>Step Into Your Skin</td>\n",
       "      <td>4343823</td>\n",
       "      <td>0</td>\n",
       "    </tr>\n",
       "  </tbody>\n",
       "</table>\n",
       "<p>5 rows × 35 columns</p>\n",
       "</div>"
      ],
      "text/plain": [
       "             track_id  analysis_sample_rate                         audio_md5  \\\n",
       "0  TRAADJU128F92F58E1                 22050  2844827a85108571951d585418f15dae   \n",
       "1  TRAADQX128F422B4CF                 22050  1bb9cb115bdcbad912cb3bea9facb2b8   \n",
       "2  TRAAFTE128F429545F                 22050  611395c88642b6065ea0e7e74c837ff4   \n",
       "3  TRAAKAG128F4275D2A                 22050  49256c5df75bec30433c5201b9bff0e4   \n",
       "4  TRAAMRO128F92F20D7                 22050  8004243db3c1f8e164b8d7494fe3736b   \n",
       "\n",
       "   danceability   duration  end_of_fade_in  energy  key  key_confidence  \\\n",
       "0           0.0  294.76526           0.392     0.0    1           0.584   \n",
       "1           0.0  175.72526           0.734     0.0    0           0.522   \n",
       "2           0.0  222.17098           0.136     0.0    7           0.386   \n",
       "3           0.0  110.13179           4.714     0.0   10           0.214   \n",
       "4           0.0  139.72853           0.450     0.0    3           0.294   \n",
       "\n",
       "   loudness  ...                         artist_name  artist_playmeid  genre  \\\n",
       "0    -8.860  ...                             The Mob               -1          \n",
       "1   -10.930  ...   Casiotone For The Painfully Alone               -1          \n",
       "2    -7.664  ...                           The Corrs              360          \n",
       "3   -12.308  ...                             Soulfly               -1          \n",
       "4   -11.256  ...                        David Wilcox            61454          \n",
       "\n",
       "                          release  release_7digitalid  song_hotttnesss  \\\n",
       "0  May Inspire Revolutionary Acts              611800              NaN   \n",
       "1                       Etiquette              234425         0.785892   \n",
       "2                 Talk On Corners              110238         0.569505   \n",
       "3                         Soulfly              212164              NaN   \n",
       "4              What You Whispered              391414         0.000000   \n",
       "\n",
       "              song_id                                        title  \\\n",
       "0  SOHJCEN12A8C142B93  I Hear You Laughing ('Ching' 1981 Cassette)   \n",
       "1  SOTUNMH12A6D4FA3E6                          Nashville Parthenon   \n",
       "2  SOCHGUG12A58A7E184         Love Gives Love Takes ( LP Version )   \n",
       "3  SOVDWHH12A8C13B42A             Sultao Das Matas (Album Version)   \n",
       "4  SOKNGDE12AB017CA4D                          Step Into Your Skin   \n",
       "\n",
       "   track_7digitalid  year  \n",
       "0           6801472     0  \n",
       "1           2573759  2006  \n",
       "2           1140303  1997  \n",
       "3           2308896     0  \n",
       "4           4343823     0  \n",
       "\n",
       "[5 rows x 35 columns]"
      ]
     },
     "execution_count": 105,
     "metadata": {},
     "output_type": "execute_result"
    }
   ],
   "source": [
    "df_final = pd.merge(df_keys, df, how='inner', on='track_id')\n",
    "df_final.head()"
   ]
  },
  {
   "cell_type": "code",
   "execution_count": 106,
   "metadata": {},
   "outputs": [
    {
     "data": {
      "text/plain": [
       "(108538, 35)"
      ]
     },
     "execution_count": 106,
     "metadata": {},
     "output_type": "execute_result"
    }
   ],
   "source": [
    "df_final.shape"
   ]
  },
  {
   "cell_type": "code",
   "execution_count": 107,
   "metadata": {},
   "outputs": [],
   "source": [
    "df_final.to_csv('../data/interim/msd-aggregate.csv', index=False)"
   ]
  },
  {
   "cell_type": "code",
   "execution_count": null,
   "metadata": {},
   "outputs": [],
   "source": []
  },
  {
   "cell_type": "code",
   "execution_count": null,
   "metadata": {},
   "outputs": [],
   "source": []
  },
  {
   "cell_type": "code",
   "execution_count": null,
   "metadata": {},
   "outputs": [],
   "source": []
  },
  {
   "cell_type": "markdown",
   "metadata": {},
   "source": [
    "## Start looking at full files"
   ]
  },
  {
   "cell_type": "code",
   "execution_count": 40,
   "metadata": {},
   "outputs": [],
   "source": [
    "with open('../data/external/example_file.h5', 'wb') as f:\n",
    "    h = requests.get('https://labrosa.ee.columbia.edu/millionsong/sites/default/files/AdditionalFiles/TRAXLZU12903D05F94.h5').content\n",
    "    f.write(h)\n",
    "    \n",
    "f1 = h5py.File('../data/external/example_file.h5')"
   ]
  },
  {
   "cell_type": "code",
   "execution_count": 42,
   "metadata": {},
   "outputs": [
    {
     "data": {
      "text/plain": [
       "['analysis', 'metadata', 'musicbrainz']"
      ]
     },
     "execution_count": 42,
     "metadata": {},
     "output_type": "execute_result"
    }
   ],
   "source": [
    "list(f1.keys())"
   ]
  },
  {
   "cell_type": "code",
   "execution_count": 78,
   "metadata": {},
   "outputs": [
    {
     "data": {
      "text/plain": [
       "['bars_confidence',\n",
       " 'bars_start',\n",
       " 'beats_confidence',\n",
       " 'beats_start',\n",
       " 'sections_confidence',\n",
       " 'sections_start',\n",
       " 'segments_confidence',\n",
       " 'segments_loudness_max',\n",
       " 'segments_loudness_max_time',\n",
       " 'segments_loudness_start',\n",
       " 'segments_pitches',\n",
       " 'segments_start',\n",
       " 'segments_timbre',\n",
       " 'songs',\n",
       " 'tatums_confidence',\n",
       " 'tatums_start']"
      ]
     },
     "execution_count": 78,
     "metadata": {},
     "output_type": "execute_result"
    }
   ],
   "source": [
    "list(f1['analysis'].keys())"
   ]
  },
  {
   "cell_type": "code",
   "execution_count": 79,
   "metadata": {},
   "outputs": [
    {
     "data": {
      "text/plain": [
       "array([(22050, b'bf53f8113508a466cd2d3fda18b06368', 0., 211.69587, 0.139, 0., 0, 0, 0, 0, 0, 0, 0, 0, 0, 0, 0, 0, 0, 0, 0, 1, 0.324, -7.75, 1, 0.434, 198.536, 113.359, 4, 0.634, b'TRAXLZU12903D05F94')],\n",
       "      dtype=[('analysis_sample_rate', '<i4'), ('audio_md5', 'S32'), ('danceability', '<f8'), ('duration', '<f8'), ('end_of_fade_in', '<f8'), ('energy', '<f8'), ('idx_bars_confidence', '<i4'), ('idx_bars_start', '<i4'), ('idx_beats_confidence', '<i4'), ('idx_beats_start', '<i4'), ('idx_sections_confidence', '<i4'), ('idx_sections_start', '<i4'), ('idx_segments_confidence', '<i4'), ('idx_segments_loudness_max', '<i4'), ('idx_segments_loudness_max_time', '<i4'), ('idx_segments_loudness_start', '<i4'), ('idx_segments_pitches', '<i4'), ('idx_segments_start', '<i4'), ('idx_segments_timbre', '<i4'), ('idx_tatums_confidence', '<i4'), ('idx_tatums_start', '<i4'), ('key', '<i4'), ('key_confidence', '<f8'), ('loudness', '<f8'), ('mode', '<i4'), ('mode_confidence', '<f8'), ('start_of_fade_out', '<f8'), ('tempo', '<f8'), ('time_signature', '<i4'), ('time_signature_confidence', '<f8'), ('track_id', 'S32')])"
      ]
     },
     "execution_count": 79,
     "metadata": {},
     "output_type": "execute_result"
    }
   ],
   "source": [
    "f1['analysis']['songs'].value"
   ]
  },
  {
   "cell_type": "code",
   "execution_count": null,
   "metadata": {},
   "outputs": [],
   "source": []
  }
 ],
 "metadata": {
  "kernelspec": {
   "display_name": "Python 3",
   "language": "python",
   "name": "python3"
  },
  "language_info": {
   "codemirror_mode": {
    "name": "ipython",
    "version": 3
   },
   "file_extension": ".py",
   "mimetype": "text/x-python",
   "name": "python",
   "nbconvert_exporter": "python",
   "pygments_lexer": "ipython3",
   "version": "3.6.5"
  }
 },
 "nbformat": 4,
 "nbformat_minor": 2
}
