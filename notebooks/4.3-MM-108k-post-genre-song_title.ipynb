{
 "cells": [
  {
   "cell_type": "markdown",
   "metadata": {},
   "source": [
    "## Imports and Setup"
   ]
  },
  {
   "cell_type": "code",
   "execution_count": 1,
   "metadata": {},
   "outputs": [],
   "source": [
    "import pandas as pd\n",
    "import numpy as np\n",
    "import nltk.tokenize\n",
    "import itertools\n",
    "import datetime\n",
    "import torch\n",
    "\n",
    "from sklearn.model_selection import train_test_split\n",
    "from sklearn.pipeline import Pipeline\n",
    "from sklearn.compose import ColumnTransformer\n",
    "from sklearn.preprocessing import MinMaxScaler, StandardScaler, OneHotEncoder, FunctionTransformer\n",
    "from sklearn.impute import SimpleImputer\n",
    "\n",
    "from pathlib import Path\n",
    "\n",
    "from fastai import *\n",
    "from fastai.text import *\n",
    "\n",
    "from copy import copy, deepcopy\n",
    "from enum import Enum"
   ]
  },
  {
   "cell_type": "code",
   "execution_count": 2,
   "metadata": {},
   "outputs": [],
   "source": [
    "from src.data_collection.multimodal_data import AudioDataset, MultimodalDataLoader, map_weights\n",
    "from src.nlp.neural_model import MultiLinearDecoder, MultiModalPostRNN"
   ]
  },
  {
   "cell_type": "markdown",
   "metadata": {},
   "source": [
    "### Model definitions\n",
    "Define this notebooks \"initializer model\" (pretrained parameters and itos mapping) and the output model as well."
   ]
  },
  {
   "cell_type": "code",
   "execution_count": 3,
   "metadata": {},
   "outputs": [],
   "source": [
    "model_name = '4.3-MM-108k-post-genre-song_title'\n",
    "MODEL_PATH = Path(f'../data/models/{model_name}')\n",
    "MODEL_PATH.mkdir(exist_ok=True)\n",
    "\n",
    "init_model_name = '4.2-LM-108k-lines-genre-song_title'\n",
    "INIT_MODEL_PATH = Path(f'../data/models/{init_model_name}')\n",
    "INIT_MODEL_PATH.mkdir(exist_ok=True)"
   ]
  },
  {
   "cell_type": "markdown",
   "metadata": {},
   "source": [
    "### Tokenization and featurization\n",
    "To create the model's tokens with the correct train-test split, run the code below. Only needed once on the notebook's first ever run."
   ]
  },
  {
   "cell_type": "code",
   "execution_count": 4,
   "metadata": {},
   "outputs": [],
   "source": [
    "MODEL_FIRST_RUN = True"
   ]
  },
  {
   "cell_type": "code",
   "execution_count": 5,
   "metadata": {},
   "outputs": [],
   "source": [
    "def tokenize_lyrics_with_tags(lyrics, line_num=True, genre=False, song_title=False):\n",
    "    tk = nltk.tokenize.LineTokenizer(blanklines='keep')\n",
    "    tokd = tk.tokenize(lyrics)\n",
    "    \n",
    "    re_tk = nltk.tokenize.RegexpTokenizer(r'\\[[^\\]]+\\]|\\w+|[\\d\\.,]+|\\S+',\n",
    "                                          discard_empty=False)\n",
    "    re_tokd = re_tk.tokenize_sents(tokd)\n",
    "\n",
    "    if genre:\n",
    "        [s.insert(0, f'xGENRE') for s in re_tokd] # insert start token for each line\n",
    "\n",
    "    elif song_title:\n",
    "        [s.insert(0, f'xTITLE') for s in re_tokd] # insert start token for each line\n",
    "\n",
    "    else:\n",
    "        if line_num:\n",
    "            [s.insert(0, f'xBOL {line_num+1}') for line_num, s in enumerate(re_tokd)] # insert start token for each line\n",
    "        else:\n",
    "            [s.insert(0, f'xBOL') for s in re_tokd] # insert start token for each line\n",
    "\n",
    "        [s.append('xEOL') for s in re_tokd] # append end token for each line\n",
    "\n",
    "    flat = list(itertools.chain(*re_tokd))\n",
    "    # lower case and de-space\n",
    "    flat = [w.lower().replace(' ', '-') for w in flat]\n",
    "    return flat"
   ]
  },
  {
   "cell_type": "code",
   "execution_count": 6,
   "metadata": {},
   "outputs": [],
   "source": [
    "def process_tokens(model_path):\n",
    "    '''\n",
    "    500k link: https://storage.googleapis.com/capstone-deep-lyrics/lyrics-500k.csv\n",
    "    108k link: https://storage.googleapis.com/w210-capstone/data/lyrics-valid.csv\n",
    "    '''\n",
    "    model_path = Path(MODEL_PATH)\n",
    "    model_path.mkdir(exist_ok=True)\n",
    "\n",
    "    small_corpus_url = 'https://storage.googleapis.com/w210-capstone/data/lyrics-valid.csv'\n",
    "    audio_url = 'https://storage.googleapis.com/w210-capstone/data/msd-aggregate.csv'\n",
    "    tag_url = 'https://storage.googleapis.com/w210-capstone/data/lyrics_tags.csv'\n",
    "\n",
    "    # load scraped data\n",
    "    df = pd.read_csv(small_corpus_url,\n",
    "                     header=None, escapechar='\\\\',\n",
    "                     names=['msd_id', 'lyrics'])\n",
    "\n",
    "    # only keep lyrics with length < 5000\n",
    "    df = df[df.lyrics.str.len() < 5000]\n",
    "\n",
    "    # bring in audio features\n",
    "    df_audio = pd.read_csv(audio_url)\n",
    "    df_audio.rename(columns={'track_id': 'msd_id'}, inplace=True)\n",
    "\n",
    "    # bring in tags\n",
    "    df_tags = pd.read_csv(tag_url, index_col=0)\n",
    "    df_tags.drop(columns=['lyrics'], inplace=True)\n",
    "\n",
    "    # match audio to keys from lyrics\n",
    "    df_audio = pd.merge(df, df_audio, how='inner', on='msd_id')\n",
    "\n",
    "    # mat\n",
    "    df_all = pd.merge(df_audio, df_tags, how='inner', on='msd_id')\n",
    "    df = df_all[['tag1', 'tag2', 'title', 'lyrics']]\n",
    "\n",
    "    print('Tokenizing...')\n",
    "    lyrics = df.lyrics.apply(tokenize_lyrics_with_tags, line_num=True)\n",
    "    genre = df.tag1.astype(str).apply(tokenize_lyrics_with_tags, line_num=False, genre=True)\n",
    "    song_title = df.title.apply(tokenize_lyrics_with_tags, line_num=False, song_title=True)\n",
    "\n",
    "    full_song = (['xbos'] + genre + song_title + lyrics + ['xeos'])\n",
    "\n",
    "    # split train/test\n",
    "    df_train, df_test = train_test_split(full_song, test_size=0.2, random_state=2018)\n",
    "\n",
    "    # tokens\n",
    "    print('Saving...')\n",
    "    tokens = np.array(df_train)\n",
    "    np.save(model_path/'train_tok.npy', tokens)\n",
    "\n",
    "    tokens = np.array(df_test)\n",
    "    np.save(model_path/'valid_tok.npy', tokens)\n",
    "    print('Done.')"
   ]
  },
  {
   "cell_type": "code",
   "execution_count": 7,
   "metadata": {},
   "outputs": [],
   "source": [
    "def process_audio(model_path):\n",
    "    '''\n",
    "    500k link: https://storage.googleapis.com/capstone-deep-lyrics/lyrics-500k.csv\n",
    "    108k link: https://storage.googleapis.com/w210-capstone/data/lyrics-valid.csv\n",
    "    '''\n",
    "    model_path = Path(model_path)\n",
    "    model_path.mkdir(exist_ok=True)\n",
    "    \n",
    "    small_corpus_url = 'https://storage.googleapis.com/w210-capstone/data/lyrics-valid.csv'\n",
    "    audio_url = 'https://storage.googleapis.com/w210-capstone/data/msd-aggregate.csv'\n",
    "    tag_url = 'https://storage.googleapis.com/w210-capstone/data/lyrics_tags.csv'\n",
    "    \n",
    "    df = pd.read_csv(small_corpus_url,\n",
    "                 header=None, escapechar='\\\\',\n",
    "                 names=['msd_id', 'lyrics'])\n",
    "    \n",
    "    # only keep lyrics with length < 5000\n",
    "    df = df[df.lyrics.str.len() < 5000]\n",
    "    \n",
    "    # bring in audio features\n",
    "    df_audio = pd.read_csv(audio_url)\n",
    "    df_audio.rename(columns={'track_id': 'msd_id'}, inplace=True)\n",
    "    \n",
    "    # bring in tags\n",
    "    df_tags = pd.read_csv(tag_url, index_col=0)\n",
    "    df_tags.drop(columns=['lyrics'], inplace=True)\n",
    "    \n",
    "    # match audio to keys from lyrics\n",
    "    df_audio = pd.merge(df, df_audio, how='inner', on='msd_id')\n",
    "    \n",
    "    # mat\n",
    "    df_all = pd.merge(df_audio, df_tags, how='inner', on='msd_id')\n",
    "    \n",
    "    \n",
    "    # split data using same seed as lm_data_lyrics.py\n",
    "    df_train, df_valid = train_test_split(df_all,\n",
    "                                         test_size=0.2,\n",
    "                                         random_state=2018)\n",
    "    \n",
    "    df_train.to_csv(model_path/'df_train.csv')\n",
    "    df_valid.to_csv(model_path/'df_valid.csv')\n",
    "    \n",
    "    return df_train, df_valid"
   ]
  },
  {
   "cell_type": "code",
   "execution_count": 8,
   "metadata": {},
   "outputs": [
    {
     "name": "stdout",
     "output_type": "stream",
     "text": [
      "Tokenizing...\n",
      "Saving...\n",
      "Done.\n"
     ]
    }
   ],
   "source": [
    "if MODEL_FIRST_RUN:\n",
    "    process_tokens(MODEL_PATH)"
   ]
  },
  {
   "cell_type": "code",
   "execution_count": 9,
   "metadata": {},
   "outputs": [],
   "source": [
    "if MODEL_FIRST_RUN:\n",
    "    df_train, df_valid = process_audio(MODEL_PATH)"
   ]
  },
  {
   "cell_type": "code",
   "execution_count": 10,
   "metadata": {},
   "outputs": [],
   "source": [
    "def log_features(X):\n",
    "    return np.log(X)\n",
    "\n",
    "def bin_tempo(X):\n",
    "    '''\n",
    "    ref: https://en.wikipedia.org/wiki/Tempo#Italian_tempo_markings\n",
    "    These are rough loosely based on tempo markings above\n",
    "    Have considered both classical forms of music and popular\n",
    "    '''\n",
    "    assert X.shape[1] == 1, \"Only 1 column can be binned\"\n",
    "    bins = [0, 60, 76, 108, 120, 156, 176, 200, 500]\n",
    "    return pd.DataFrame(pd.cut(X.iloc[:,0], bins=bins))\n",
    "tempo_feat = FunctionTransformer(bin_tempo, validate=False)\n",
    "\n",
    "def bin_time_signature(X):\n",
    "    assert X.shape[1] == 1, \"Only 1 column can be binned\"\n",
    "    X['time_signature_bin'] = \"Other Signature\"\n",
    "    X.loc[X['time_signature'] == 4, 'time_signature_bin'] = '4/4 Signature'\n",
    "    X.loc[X['time_signature'] == 3, 'time_signature_bin'] = '3/4 Signature'\n",
    "    return X[['time_signature_bin']]\n",
    "\n",
    "def to_string(X):\n",
    "    return X.astype('str')"
   ]
  },
  {
   "cell_type": "code",
   "execution_count": 11,
   "metadata": {},
   "outputs": [],
   "source": [
    "log_feat = FunctionTransformer(log_features, validate=False)\n",
    "time_feat = FunctionTransformer(bin_time_signature, validate=False)"
   ]
  },
  {
   "cell_type": "code",
   "execution_count": 25,
   "metadata": {},
   "outputs": [],
   "source": [
    "def create_preprocessor(df_train=None):\n",
    "        \n",
    "    # continous features\n",
    "    numeric_features = ['loudness']\n",
    "    numeric_transformer = Pipeline(steps=[\n",
    "        ('imputer', SimpleImputer(strategy='median')),\n",
    "        ('scaler', StandardScaler())\n",
    "    ])\n",
    "\n",
    "    # log features\n",
    "    log_features = ['duration']\n",
    "    log_transformer = Pipeline(steps=[\n",
    "        ('imputer', SimpleImputer(strategy='median')),\n",
    "        ('log_feat', log_feat),\n",
    "        ('scaler', StandardScaler())\n",
    "    ])\n",
    "\n",
    "    # categorical features\n",
    "    categorical_features = ['key', 'mode']\n",
    "    categorical_transformer = Pipeline(steps=[\n",
    "        ('stringify', FunctionTransformer(to_string, validate=False)),\n",
    "        ('imputer', SimpleImputer(strategy='constant', fill_value='missing')),\n",
    "        ('onehot', OneHotEncoder(sparse=False))\n",
    "    ])\n",
    "\n",
    "    # time signature feature\n",
    "    time_feature = ['time_signature']\n",
    "    time_transformer = Pipeline(steps=[\n",
    "        ('binner', time_feat),\n",
    "        ('imputer', SimpleImputer(strategy='constant', fill_value='missing')),\n",
    "        ('stringify', FunctionTransformer(to_string, validate=False)),\n",
    "        ('onehot', OneHotEncoder(sparse=False))\n",
    "    ])\n",
    "\n",
    "    # tempo feature\n",
    "    tempo_feature = ['tempo']\n",
    "    tempo_transformer = Pipeline(steps=[\n",
    "        ('binner', tempo_feat),\n",
    "        ('imputer', SimpleImputer(strategy='constant', fill_value='missing')),\n",
    "        ('stringify', FunctionTransformer(to_string, validate=False)),\n",
    "        ('onehot', OneHotEncoder(sparse=False))\n",
    "    ])\n",
    "\n",
    "    preprocessor = ColumnTransformer(\n",
    "        transformers=[\n",
    "            ('num', numeric_transformer, numeric_features),\n",
    "            ('log', log_transformer, log_features),\n",
    "            ('cat', categorical_transformer, categorical_features),\n",
    "            ('time', time_transformer, time_feature),\n",
    "            ('tempo', tempo_transformer, tempo_feature)\n",
    "        ],\n",
    "        remainder='drop'\n",
    "    )\n",
    "    \n",
    "    preprocessor.fit(df_train)\n",
    "    return preprocessor"
   ]
  },
  {
   "cell_type": "markdown",
   "metadata": {},
   "source": [
    "## Load Data"
   ]
  },
  {
   "cell_type": "markdown",
   "metadata": {},
   "source": [
    "Now that we've created the tokens, let's load them into a `DataBunch` to train our LM further or generate text with a pre-trained LM."
   ]
  },
  {
   "cell_type": "code",
   "execution_count": 26,
   "metadata": {},
   "outputs": [],
   "source": [
    "if MODEL_FIRST_RUN:\n",
    "    data_lm = TextLMDataBunch.from_tokens(MODEL_PATH,\n",
    "                                          bs=128,\n",
    "                                          max_vocab=20000)"
   ]
  },
  {
   "cell_type": "code",
   "execution_count": 27,
   "metadata": {},
   "outputs": [],
   "source": [
    "if not MODEL_FIRST_RUN:\n",
    "    data_lm = TextLMDataBunch.from_id_files(MODEL_PATH/'tmp')\n",
    "    data_lm.path = MODEL_PATH"
   ]
  },
  {
   "cell_type": "code",
   "execution_count": 28,
   "metadata": {},
   "outputs": [
    {
     "data": {
      "text/plain": [
       "20002"
      ]
     },
     "execution_count": 28,
     "metadata": {},
     "output_type": "execute_result"
    }
   ],
   "source": [
    "data_lm.train_ds.vocab_size"
   ]
  },
  {
   "cell_type": "code",
   "execution_count": 29,
   "metadata": {},
   "outputs": [],
   "source": [
    "train_text = copy(data_lm.train_ds)\n",
    "valid_text = copy(data_lm.valid_ds)"
   ]
  },
  {
   "cell_type": "code",
   "execution_count": 30,
   "metadata": {},
   "outputs": [],
   "source": [
    "if not MODEL_FIRST_RUN:\n",
    "    df_train = pd.read_csv(MODEL_PATH/'df_train.csv', index_col=0)\n",
    "    df_valid = pd.read_csv(MODEL_PATH/'df_valid.csv', index_col=0)"
   ]
  },
  {
   "cell_type": "code",
   "execution_count": 31,
   "metadata": {},
   "outputs": [
    {
     "name": "stderr",
     "output_type": "stream",
     "text": [
      "/home/j_rosen_1392/anaconda3/lib/python3.6/site-packages/sklearn/preprocessing/_encoders.py:363: FutureWarning: The handling of integer data will change in version 0.22. Currently, the categories are determined based on the range [0, max(values)], while in the future they will be determined based on the unique values.\n",
      "If you want the future behaviour and silence this warning, you can specify \"categories='auto'\".\n",
      "In case you used a LabelEncoder before this OneHotEncoder to convert the categories to integers, then you can now use the OneHotEncoder directly.\n",
      "  warnings.warn(msg, FutureWarning)\n"
     ]
    }
   ],
   "source": [
    "preprocessor = create_preprocessor(df_train)\n",
    "\n",
    "df_train_tfm = preprocessor.transform(df_train)\n",
    "df_valid_tfm = preprocessor.transform(df_valid)"
   ]
  },
  {
   "cell_type": "code",
   "execution_count": 66,
   "metadata": {},
   "outputs": [],
   "source": [
    "PREPROCESSOR_PATH = MODEL_PATH/f'{model_name}_preprocessor.pkl'\n",
    "PREPROCESSOR_STORAGE = f'gs://w210-capstone/models/{model_name}_preprocessor.pkl'\n",
    "\n",
    "with open(PREPROCESSOR_PATH, 'wb') as f:\n",
    "    pickle.dump(preprocessor, f)"
   ]
  },
  {
   "cell_type": "code",
   "execution_count": 68,
   "metadata": {},
   "outputs": [],
   "source": [
    "with open(PREPROCESSOR_PATH, 'rb') as f:\n",
    "    test_pre = pickle.load(f)"
   ]
  },
  {
   "cell_type": "code",
   "execution_count": 72,
   "metadata": {},
   "outputs": [
    {
     "name": "stdout",
     "output_type": "stream",
     "text": [
      "Copying file://../data/models/4.3-MM-108k-post-genre-song_title/4.3-MM-108k-post-genre-song_title_preprocessor.pkl [Content-Type=application/octet-stream]...\n",
      "/ [1 files][  5.6 KiB/  5.6 KiB]                                                \n",
      "Operation completed over 1 objects/5.6 KiB.                                      \n"
     ]
    }
   ],
   "source": [
    "!gsutil cp $PREPROCESSOR_PATH $PREPROCESSOR_STORAGE"
   ]
  },
  {
   "cell_type": "code",
   "execution_count": 32,
   "metadata": {},
   "outputs": [],
   "source": [
    "train_audio = AudioDataset(df_train_tfm, train_text)\n",
    "valid_audio = AudioDataset(df_valid_tfm, valid_text)"
   ]
  },
  {
   "cell_type": "code",
   "execution_count": 33,
   "metadata": {},
   "outputs": [],
   "source": [
    "multi_data = MultimodalDataLoader(audio_dataset=train_audio,\n",
    "                                  dataset=train_text)\n",
    "\n",
    "multi_data_valid = MultimodalDataLoader(audio_dataset=valid_audio,\n",
    "                                  dataset=valid_text)\n",
    "\n",
    "multi_db = DataBunch(multi_data, multi_data_valid)"
   ]
  },
  {
   "cell_type": "markdown",
   "metadata": {},
   "source": [
    "## Model setup"
   ]
  },
  {
   "cell_type": "code",
   "execution_count": 34,
   "metadata": {},
   "outputs": [],
   "source": [
    "GPU = True\n",
    "DOWNLOAD_INIT_MODEL = False"
   ]
  },
  {
   "cell_type": "code",
   "execution_count": 35,
   "metadata": {},
   "outputs": [],
   "source": [
    "## MODEL PARAMS\n",
    "audio_sz = train_audio.feature_size\n",
    "vocab_sz = 20002\n",
    "emb_sz = 400\n",
    "n_hid = 1150\n",
    "n_layers = 3\n",
    "pad_token = 1\n",
    "qrnn = False\n",
    "bidir = False\n",
    "drop_mult = 0.5\n",
    "dps = np.array([0.25, 0.1, 0.2, 0.02, 0.15]) * drop_mult\n",
    "hidden_p = dps[4]\n",
    "input_p = dps[0]\n",
    "embed_p = dps[3]\n",
    "weight_p = dps[2]\n",
    "tie_weights = False\n",
    "output_p = dps[1]\n",
    "bias = True"
   ]
  },
  {
   "cell_type": "code",
   "execution_count": 36,
   "metadata": {},
   "outputs": [],
   "source": [
    "multimodal_rnn = MultiModalPostRNN(audio_sz=audio_sz,\n",
    "                              vocab_sz=vocab_sz,\n",
    "                              emb_sz=emb_sz,\n",
    "                              n_hid=n_hid,\n",
    "                              n_layers=n_layers,\n",
    "                              pad_token=pad_token,\n",
    "                              qrnn=qrnn,\n",
    "                              bidir=bidir,\n",
    "                              hidden_p=hidden_p,\n",
    "                              input_p=input_p,\n",
    "                              embed_p=embed_p,\n",
    "                              weight_p=weight_p,\n",
    "                              output_p=output_p,\n",
    "                              bias=bias,\n",
    "                              tie_encoder=tie_weights)"
   ]
  },
  {
   "cell_type": "code",
   "execution_count": 37,
   "metadata": {},
   "outputs": [],
   "source": [
    "learn = RNNLearner(multi_db, multimodal_rnn)\n",
    "learn.path=MODEL_PATH"
   ]
  },
  {
   "cell_type": "code",
   "execution_count": 38,
   "metadata": {},
   "outputs": [],
   "source": [
    "if MODEL_FIRST_RUN:\n",
    "    PRETRAINED_TO_MULTI = {\n",
    "        '0.encoder.weight': 'encoder.weight',\n",
    "        '0.encoder_dp.emb.weight': 'encoder_dp.emb.weight',\n",
    "        '0.rnns.0.weight_hh_l0_raw': 'multimode.0.weight_hh_l0_raw',\n",
    "        '0.rnns.0.module.weight_ih_l0': 'multimode.0.module.weight_ih_l0',\n",
    "        '0.rnns.0.module.weight_hh_l0': 'multimode.0.module.weight_hh_l0',\n",
    "        '0.rnns.0.module.bias_ih_l0': 'multimode.0.module.bias_ih_l0',\n",
    "        '0.rnns.0.module.bias_hh_l0': 'multimode.0.module.bias_hh_l0',\n",
    "        '0.rnns.1.weight_hh_l0_raw': 'multimode.1.weight_hh_l0_raw',\n",
    "        '0.rnns.1.module.weight_ih_l0': 'multimode.1.module.weight_ih_l0',\n",
    "        '0.rnns.1.module.weight_hh_l0': 'multimode.1.module.weight_hh_l0',\n",
    "        '0.rnns.1.module.bias_ih_l0': 'multimode.1.module.bias_ih_l0',\n",
    "        '0.rnns.1.module.bias_hh_l0': 'multimode.1.module.bias_hh_l0', \n",
    "        '0.rnns.2.weight_hh_l0_raw': 'multimode.2.weight_hh_l0_raw', \n",
    "        '0.rnns.2.module.weight_ih_l0': 'multimode.2.module.weight_ih_l0',\n",
    "        '0.rnns.2.module.weight_hh_l0': 'multimode.2.module.weight_hh_l0',\n",
    "        '0.rnns.2.module.bias_ih_l0': 'multimode.2.module.bias_ih_l0',\n",
    "        '0.rnns.2.module.bias_hh_l0': 'multimode.2.module.bias_hh_l0',\n",
    "        '1.decoder.weight': 'multidecoder.decoder.weight',\n",
    "        '1.decoder.bias': 'multidecoder.decoder.bias'\n",
    "    }\n",
    "\n",
    "    map_weights(learn,\n",
    "                INIT_MODEL_PATH/f'models/{init_model_name}_best.pth',\n",
    "                INIT_MODEL_PATH/f'tmp/itos.pkl',\n",
    "                PRETRAINED_TO_MULTI,\n",
    "                pre_rnn=False)"
   ]
  },
  {
   "cell_type": "code",
   "execution_count": 15,
   "metadata": {},
   "outputs": [],
   "source": [
    "# weights_url = 'https://storage.googleapis.com/capstone-deep-lyrics/3.2-ULMFiT-108k_best.pth'\n",
    "# itos_url = 'https://storage.googleapis.com/capstone-deep-lyrics/3.2-ULMFiT-108k_best.pth'\n",
    "\n",
    "# if DOWNLOAD_INIT_MODEL:\n",
    "#     Path(MODEL_PATH/'models').mkdir(exist_ok=True)\n",
    "#     download_url(weights_url, MODEL_PATH/f'models/{model_name}_best.pth', overwrite=False)\n",
    "#     download_url(weights_url, MODEL_PATH/f'models/{model_name}_best.pth', overwrite=False)"
   ]
  },
  {
   "cell_type": "code",
   "execution_count": 39,
   "metadata": {},
   "outputs": [],
   "source": [
    "def cpu_load(self, name:PathOrStr):\n",
    "    \"\"\"Load model onto CPU that was trained on a GPU `name` from `self.model_dir`.\n",
    "       We need these because the fastai load function doesn't allow for a remapping of the storage location.\"\"\"\n",
    "    self.model.load_state_dict(torch.load(self.path/self.model_dir/f'{name}.pth', map_location=lambda storage, loc: storage))\n",
    "\n",
    "setattr(RNNLearner, 'cpu_load', cpu_load) #monkey patch onto our RNNLearner"
   ]
  },
  {
   "cell_type": "code",
   "execution_count": 40,
   "metadata": {},
   "outputs": [],
   "source": [
    "if not MODEL_FIRST_RUN:\n",
    "    if not GPU:\n",
    "        learn.cpu_load(f'{model_name}_best')\n",
    "    else:\n",
    "        learn.load(f'{model_name}_best')"
   ]
  },
  {
   "cell_type": "markdown",
   "metadata": {},
   "source": [
    "## Training"
   ]
  },
  {
   "cell_type": "code",
   "execution_count": 41,
   "metadata": {},
   "outputs": [],
   "source": [
    "TRAIN = True"
   ]
  },
  {
   "cell_type": "code",
   "execution_count": 42,
   "metadata": {},
   "outputs": [],
   "source": [
    "@dataclass\n",
    "class SaveModel(LearnerCallback):\n",
    "    \"\"\"Save Latest Model\"\"\"\n",
    "    def __init__(self, learn:Learner, model_name='saved_model'):\n",
    "        super().__init__(learn)\n",
    "        self.model_name = model_name\n",
    "        self.model_date = datetime.datetime.now().strftime('%Y-%m-%d-%H-%M-%S')\n",
    "        self.best_loss = None\n",
    "        self.perplexity = []\n",
    "        \n",
    "    def on_epoch_end(self, epoch:int, metrics, last_metrics, **kwargs):\n",
    "        loss, *_ = last_metrics\n",
    "        perp = np.exp(loss)\n",
    "        self.perplexity.append(perp)\n",
    "        if self.best_loss == None or loss < self.best_loss:\n",
    "            self.best_loss = loss\n",
    "            self.learn.save(f'{self.model_name}_best')\n",
    "        return False\n",
    "    \n",
    "    def on_train_end(self, epoch:int, **kwargs):\n",
    "        self.learn.save(f'{self.model_name}_last')"
   ]
  },
  {
   "cell_type": "code",
   "execution_count": 43,
   "metadata": {},
   "outputs": [],
   "source": [
    "save_callback = SaveModel(learn, model_name=f'{model_name}')"
   ]
  },
  {
   "cell_type": "code",
   "execution_count": 32,
   "metadata": {},
   "outputs": [
    {
     "name": "stdout",
     "output_type": "stream",
     "text": [
      "Total time: 17:51\n",
      "epoch  train_loss  valid_loss  accuracy\n",
      "1      2.955110    2.967624    0.456658  (17:51)\n",
      "\n"
     ]
    }
   ],
   "source": [
    "# if TRAIN:\n",
    "#     learn.fit_one_cycle(10, 1e-2)"
   ]
  },
  {
   "cell_type": "code",
   "execution_count": 44,
   "metadata": {},
   "outputs": [
    {
     "name": "stdout",
     "output_type": "stream",
     "text": [
      "Total time: 2:56:54\n",
      "epoch  train_loss  valid_loss  accuracy\n",
      "1      3.497352    3.927819    0.399917  (17:45)\n",
      "2      3.310748    3.660103    0.415094  (17:37)\n",
      "3      3.029750    3.407333    0.431795  (17:40)\n",
      "4      2.877578    3.222411    0.446730  (17:37)\n",
      "5      2.762602    3.119586    0.455332  (17:46)\n",
      "6      2.765076    3.067299    0.459284  (17:41)\n",
      "7      2.694141    3.039227    0.461307  (17:39)\n",
      "8      2.674448    3.024786    0.462355  (17:49)\n",
      "9      2.700220    3.020312    0.462684  (17:37)\n",
      "10     2.683760    3.018750    0.462768  (17:38)\n",
      "\n"
     ]
    }
   ],
   "source": [
    "if TRAIN:\n",
    "    learn.unfreeze()\n",
    "    learn.fit_one_cycle(10, 1e-4, callbacks=[save_callback])"
   ]
  },
  {
   "cell_type": "code",
   "execution_count": 45,
   "metadata": {},
   "outputs": [
    {
     "name": "stdout",
     "output_type": "stream",
     "text": [
      "best validation loss:  3.0187497\n"
     ]
    }
   ],
   "source": [
    "print(\"best validation loss: \", learn.save_model.best_loss)"
   ]
  },
  {
   "cell_type": "code",
   "execution_count": 46,
   "metadata": {},
   "outputs": [],
   "source": [
    "#learn.save_encoder(f'{model_name}_encoder')"
   ]
  },
  {
   "cell_type": "markdown",
   "metadata": {},
   "source": [
    "### Learning Loss"
   ]
  },
  {
   "cell_type": "code",
   "execution_count": 47,
   "metadata": {},
   "outputs": [
    {
     "data": {
      "image/png": "[encoded data removed]",
      "text/plain": [
       "<Figure size 432x288 with 1 Axes>"
      ]
     },
     "metadata": {},
     "output_type": "display_data"
    }
   ],
   "source": [
    "if TRAIN:\n",
    "    learn.recorder.plot_losses()"
   ]
  },
  {
   "cell_type": "markdown",
   "metadata": {},
   "source": [
    "### Model Output"
   ]
  },
  {
   "cell_type": "code",
   "execution_count": 48,
   "metadata": {},
   "outputs": [],
   "source": [
    "if TRAIN: pass\n",
    "MODEL_OUTPUT_NAME = MODEL_PATH/'models'/f'{model_name}_best.pth'\n",
    "CLOUD_STORAGE = f'gs://w210-capstone/models/{model_name}_best.pth'"
   ]
  },
  {
   "cell_type": "code",
   "execution_count": 49,
   "metadata": {},
   "outputs": [
    {
     "name": "stdout",
     "output_type": "stream",
     "text": [
      "Copying file://../data/models/4.3-MM-108k-post-genre-song_title/models/4.3-MM-108k-post-genre-song_title_best.pth [Content-Type=application/octet-stream]...\n",
      "==> NOTE: You are uploading one or more large file(s), which would run\n",
      "significantly faster if you enable parallel composite uploads. This\n",
      "feature can be enabled by editing the\n",
      "\"parallel_composite_upload_threshold\" value in your .boto\n",
      "configuration file. However, note that if you do this large files will\n",
      "be uploaded as `composite objects\n",
      "<https://cloud.google.com/storage/docs/composite-objects>`_,which\n",
      "means that any user who downloads such objects will need to have a\n",
      "compiled crcmod installed (see \"gsutil help crcmod\"). This is because\n",
      "without a compiled crcmod, computing checksums on composite objects is\n",
      "so slow that gsutil disables downloads of composite objects.\n",
      "\n",
      "\\\n",
      "Operation completed over 1 objects/183.2 MiB.                                    \n"
     ]
    }
   ],
   "source": [
    "!gsutil cp $MODEL_OUTPUT_NAME $CLOUD_STORAGE"
   ]
  },
  {
   "cell_type": "code",
   "execution_count": 50,
   "metadata": {},
   "outputs": [],
   "source": [
    "ARCHITECTURE_PATH = MODEL_PATH/'models'/f'{model_name}_architecture.pkl'\n",
    "ARCHITECTURE_STORAGE = f'gs://w210-capstone/models/{model_name}_architecture.pkl'\n",
    "ITOS_PATH = MODEL_PATH/'tmp'/'itos.pkl'\n",
    "ITOS_STORAGE = f'gs://w210-capstone/models/{model_name}_itos.pkl'\n",
    "\n",
    "model_dump = learn.model\n",
    "with open(ARCHITECTURE_PATH, 'wb') as f:\n",
    "    pickle.dump(model_dump, f)"
   ]
  },
  {
   "cell_type": "code",
   "execution_count": 51,
   "metadata": {},
   "outputs": [
    {
     "name": "stdout",
     "output_type": "stream",
     "text": [
      "Copying file://../data/models/4.3-MM-108k-post-genre-song_title/models/4.3-MM-108k-post-genre-song_title_architecture.pkl [Content-Type=application/octet-stream]...\n",
      "==> NOTE: You are uploading one or more large file(s), which would run\n",
      "significantly faster if you enable parallel composite uploads. This\n",
      "feature can be enabled by editing the\n",
      "\"parallel_composite_upload_threshold\" value in your .boto\n",
      "configuration file. However, note that if you do this large files will\n",
      "be uploaded as `composite objects\n",
      "<https://cloud.google.com/storage/docs/composite-objects>`_,which\n",
      "means that any user who downloads such objects will need to have a\n",
      "compiled crcmod installed (see \"gsutil help crcmod\"). This is because\n",
      "without a compiled crcmod, computing checksums on composite objects is\n",
      "so slow that gsutil disables downloads of composite objects.\n",
      "\n",
      "-\n",
      "Operation completed over 1 objects/369.2 MiB.                                    \n"
     ]
    }
   ],
   "source": [
    "!gsutil cp $ARCHITECTURE_PATH $ARCHITECTURE_STORAGE"
   ]
  },
  {
   "cell_type": "code",
   "execution_count": 52,
   "metadata": {},
   "outputs": [
    {
     "name": "stdout",
     "output_type": "stream",
     "text": [
      "Copying file://../data/models/4.3-MM-108k-post-genre-song_title/tmp/itos.pkl [Content-Type=application/octet-stream]...\n",
      "/ [1 files][310.2 KiB/310.2 KiB]                                                \n",
      "Operation completed over 1 objects/310.2 KiB.                                    \n"
     ]
    }
   ],
   "source": [
    "!gsutil cp $ITOS_PATH $ITOS_STORAGE"
   ]
  },
  {
   "cell_type": "markdown",
   "metadata": {},
   "source": [
    "## Text Generation"
   ]
  },
  {
   "cell_type": "code",
   "execution_count": 53,
   "metadata": {},
   "outputs": [],
   "source": [
    "def generate_step(learner, context, audio, context_length, temp=1):\n",
    "    \n",
    "    # FIX THIS\n",
    "    audio_size = train_audio.feature_size\n",
    "\n",
    "    model = learner.model\n",
    "    \n",
    "    if GPU:\n",
    "        context = LongTensor(context[-context_length:]).view(-1,1).cuda()\n",
    "    else:\n",
    "        context = LongTensor(context[-context_length:]).view(-1,1).cpu()\n",
    "    \n",
    "    context = torch.autograd.Variable(context)\n",
    "    \n",
    "    model.reset()\n",
    "    model.eval()\n",
    "\n",
    "    if audio is None:\n",
    "        audio_features = Tensor([0]*audio_size*len(context))\\\n",
    "        .view(-1, 1, audio_size).cuda()\n",
    "    else:\n",
    "        audio_features = np.tile(audio, len(context))\n",
    "        audio_features = Tensor(audio_features).view(-1, 1, len(audio)).cuda()\n",
    "        \n",
    "    # forward pass the \"context\" into the model\n",
    "    result, *_ = model(context, audio_features)\n",
    "    result = result[-1]\n",
    "\n",
    "    # set unk and pad to 0 prob\n",
    "    # i.e. never pick unknown or pad\n",
    "    result[0] = -np.inf\n",
    "    result[1] = -np.inf\n",
    "\n",
    "    # softmax and normalize\n",
    "    probabilities = F.softmax(result/temp, dim=0)\n",
    "    probabilities = np.asarray(probabilities.detach().cpu(), dtype=np.float)\n",
    "    probabilities /= np.sum(probabilities) \n",
    "    return probabilities\n",
    "\n",
    "def get_word_from_index(idx):\n",
    "\n",
    "    return data_lm.valid_ds.vocab.textify([idx])\n",
    "\n",
    "\n",
    "def print_words(context):\n",
    "    for i in range(len(context)):\n",
    "        \n",
    "        step = context[i]\n",
    "\n",
    "        word = data_lm.valid_ds.vocab.textify([step])\n",
    "\n",
    "        if word == 'xeol':\n",
    "            word = 'xeol \\n'\n",
    "        elif 'xbol' in word:\n",
    "            word = 'xbol'\n",
    "        elif word == 'xeos': \n",
    "            print(word)\n",
    "            break\n",
    "            \n",
    "        print(word, end=' ')   \n",
    "\n",
    "def generate_text(learner, seed_text=['xbos'], audio=None, max_len=500, GPU=False, context_length=20, beam_width=5, temp=1, verbose=True, graph=False):\n",
    "    \"\"\"Generates text with a given learner and returns best options.\n",
    "\n",
    "    Parameters\n",
    "    ----------\n",
    "    learner : RNNLearner Language Model (RNNLearner.language_model())\n",
    "        Fastai RNNLearner with tokenized language model data already loaded \n",
    "        \n",
    "    seed_text : list or str\n",
    "        List of strings where each item is a token. (e.g. ['the', 'cat']) or string that is split on white space\n",
    "\n",
    "    max_len : int\n",
    "        Number of words in generated sequence\n",
    "        \n",
    "    gpu : bool\n",
    "        If you're using a GPU or not...\n",
    "    \n",
    "    context_length : int\n",
    "        Amount of words that get input as \"context\" into the model. Set to 0 for no limit   \n",
    "        \n",
    "    beam_width : int\n",
    "        How many new word indices to try out...computationally expensive\n",
    "    \n",
    "    verbose : bool\n",
    "        If True, prints every possible context for a given word cycle\n",
    "\n",
    "    Returns\n",
    "    -------\n",
    "    context_and_scores : list of lists\n",
    "        Returns a sorted list of the entire tree search of contexts and their respective scores in the form:\n",
    "        [[context, score], [context, score], ..., [context, score]]\n",
    "    \"\"\"\n",
    "        \n",
    "    if isinstance(seed_text, str):\n",
    "        seed_text = data_lm.train_ds.vocab.numericalize(seed_text.split(' '))\n",
    "    \n",
    "    \n",
    "    # Width for the beam search, to be externalized along with general decoding\n",
    "    beam_width = beam_width\n",
    "    \n",
    "    if graph:\n",
    "        optimization_graph = Digraph()\n",
    "\n",
    "    # List of candidate word sequence. We'll maintain #beam_width top sequences here.\n",
    "    # The context is a list of words, the scores are the sum of the log probabilities of each word\n",
    "    context_and_scores = [[seed_text, 0.0]]\n",
    "    \n",
    "    # Loop over max number of words\n",
    "    for word_number in range(max_len):\n",
    "        print(f'Generating word: {word_number+1} / {max_len}')\n",
    "\n",
    "        candidates = []\n",
    "        \n",
    "        # For each possible context that we've generated so far, generate new probabilities, \n",
    "        # and pick an additional #beam_width next candidates\n",
    "        for i in range(len(context_and_scores)):\n",
    "            # Get a new sequence of word indices and log-probability\n",
    "            # Example: [[2, 138, 661], 23.181717]\n",
    "            context, score = context_and_scores[i]\n",
    "            \n",
    "            # Obtain probabilities for next word given the context \n",
    "            probabilities = generate_step(learner, context, audio, context_length, temp)\n",
    "\n",
    "            # Multinomial draw from the probabilities\n",
    "            multinom_draw = np.random.multinomial(beam_width, probabilities)\n",
    "            top_probabilities = np.argwhere(multinom_draw != 0).flatten()\n",
    "                        \n",
    "            #For each possible new candidate, update the context and scores\n",
    "            for j in range(len(top_probabilities)):\n",
    "                next_word_idx = top_probabilities[j]\n",
    "                new_context = context + [next_word_idx]\n",
    "                candidate = [new_context, (score - np.log(probabilities[next_word_idx]))]\n",
    "                candidates.append(candidate)\n",
    "                \n",
    "                if graph:\n",
    "                    optimization_graph.node(\"%d_%d\" % (word_number, next_word_idx), \"%s (%.2f)\" % (get_word_from_index(next_word_idx), candidate[1]))\n",
    "                    optimization_graph.edge(\"%d_%d\" % (word_number - 1, context[len(context) -1]), \"%d_%d\" % (word_number, next_word_idx))\n",
    "                \n",
    "        #update the running tally of context and scores and sort by probability of each entry\n",
    "        context_and_scores = candidates\n",
    "        context_and_scores = sorted(context_and_scores, key = lambda x: x[1]) #sort by top entries\n",
    "\n",
    "        context_and_scores = context_and_scores[:15] #for now, only keep the top 15 to speed things up but we can/should change this to beam_width or something else\n",
    "        \n",
    "        if verbose:\n",
    "            for context, score in context_and_scores:\n",
    "                print_words(context)\n",
    "                print('\\n')\n",
    "\n",
    "    if graph:\n",
    "        now = str(datetime.datetime.now())\n",
    "        optimization_graph.render(directory='graph_viz/', filename=now, cleanup=True)\n",
    "    return context_and_scores\n",
    "    "
   ]
  },
  {
   "cell_type": "code",
   "execution_count": 113,
   "metadata": {},
   "outputs": [],
   "source": [
    "from pandas.io.json import json_normalize\n",
    "\n",
    "data_model =   {\n",
    "      \"danceability\": 0.6027456183070403,\n",
    "      \"duration_ms\": 0.5962133916683182,\n",
    "      \"energy\": 0.14658129805029452,\n",
    "      \"genres\": [\n",
    "        \"folk\",\n",
    "        \"gipsy\"\n",
    "      ],\n",
    "      \"mode\": 0,\n",
    "      \"tags\": [\n",
    "        \"tags\",\n",
    "        \"tags\"\n",
    "      ],\n",
    "      \"tempo\": 0.5637376656633328,\n",
    "      \"title\": \"title\",\n",
    "      \"year\": 1465\n",
    "    }\n",
    "\n",
    "df = json_normalize(data_model)\n",
    "\n",
    "df.rename(columns={'duration_ms':'duration'}, inplace=True)\n",
    "df['loudness'] = -3\n",
    "df['time_signature'] = 4\n",
    "df['key'] = 1\n",
    "\n",
    "# ['tempo', 'mode', 'duration', 'key', 'loudness', 'time_signature']\n",
    "\n",
    "audio_features = preprocessor.transform(df).flatten()"
   ]
  },
  {
   "cell_type": "code",
   "execution_count": 118,
   "metadata": {
    "scrolled": false
   },
   "outputs": [
    {
     "name": "stdout",
     "output_type": "stream",
     "text": [
      "Generating word: 1 / 60\n",
      "Generating word: 2 / 60\n",
      "Generating word: 3 / 60\n",
      "Generating word: 4 / 60\n",
      "Generating word: 5 / 60\n",
      "Generating word: 6 / 60\n",
      "Generating word: 7 / 60\n",
      "Generating word: 8 / 60\n",
      "Generating word: 9 / 60\n",
      "Generating word: 10 / 60\n",
      "Generating word: 11 / 60\n",
      "Generating word: 12 / 60\n",
      "Generating word: 13 / 60\n",
      "Generating word: 14 / 60\n",
      "Generating word: 15 / 60\n",
      "Generating word: 16 / 60\n",
      "Generating word: 17 / 60\n",
      "Generating word: 18 / 60\n",
      "Generating word: 19 / 60\n",
      "Generating word: 20 / 60\n",
      "Generating word: 21 / 60\n",
      "Generating word: 22 / 60\n",
      "Generating word: 23 / 60\n",
      "Generating word: 24 / 60\n",
      "Generating word: 25 / 60\n",
      "Generating word: 26 / 60\n",
      "Generating word: 27 / 60\n",
      "Generating word: 28 / 60\n",
      "Generating word: 29 / 60\n",
      "Generating word: 30 / 60\n",
      "Generating word: 31 / 60\n",
      "Generating word: 32 / 60\n",
      "Generating word: 33 / 60\n",
      "Generating word: 34 / 60\n",
      "Generating word: 35 / 60\n",
      "Generating word: 36 / 60\n",
      "Generating word: 37 / 60\n",
      "Generating word: 38 / 60\n",
      "Generating word: 39 / 60\n",
      "Generating word: 40 / 60\n",
      "Generating word: 41 / 60\n",
      "Generating word: 42 / 60\n",
      "Generating word: 43 / 60\n",
      "Generating word: 44 / 60\n",
      "Generating word: 45 / 60\n",
      "Generating word: 46 / 60\n",
      "Generating word: 47 / 60\n",
      "Generating word: 48 / 60\n",
      "Generating word: 49 / 60\n",
      "Generating word: 50 / 60\n",
      "Generating word: 51 / 60\n",
      "Generating word: 52 / 60\n",
      "Generating word: 53 / 60\n",
      "Generating word: 54 / 60\n",
      "Generating word: 55 / 60\n",
      "Generating word: 56 / 60\n",
      "Generating word: 57 / 60\n",
      "Generating word: 58 / 60\n",
      "Generating word: 59 / 60\n",
      "Generating word: 60 / 60\n"
     ]
    }
   ],
   "source": [
    "final_scores = generate_text(learn, GPU=GPU,\n",
    "                             seed_text='xbos xgenre',\n",
    "                             audio=audio_features,\n",
    "                             max_len=60, context_length=40,\n",
    "                             beam_width=3, verbose=False,\n",
    "                             temp=1.5, graph=False)"
   ]
  },
  {
   "cell_type": "code",
   "execution_count": 119,
   "metadata": {},
   "outputs": [
    {
     "name": "stdout",
     "output_type": "stream",
     "text": [
      "xbos xgenre downstairs downstairs downstairs downstairs downstairs downstairs downstairs downstairs downstairs downstairs downstairs downstairs downstairs downstairs downstairs downstairs downstairs downstairs downstairs downstairs downstairs downstairs downstairs downstairs downstairs downstairs downstairs downstairs downstairs downstairs downstairs downstairs downstairs downstairs downstairs downstairs downstairs downstairs downstairs downstairs downstairs downstairs downstairs downstairs downstairs downstairs downstairs downstairs downstairs downstairs downstairs downstairs downstairs downstairs downstairs downstairs downstairs downstairs downstairs downstairs 1.431734304170443\n",
      "\n",
      "\n",
      "xbos xgenre colorá' downstairs downstairs downstairs downstairs downstairs downstairs downstairs downstairs downstairs downstairs downstairs downstairs downstairs downstairs downstairs downstairs downstairs downstairs downstairs downstairs downstairs downstairs downstairs downstairs downstairs downstairs downstairs downstairs downstairs downstairs downstairs downstairs downstairs downstairs downstairs downstairs downstairs downstairs downstairs downstairs downstairs downstairs downstairs downstairs downstairs downstairs downstairs downstairs downstairs downstairs downstairs downstairs downstairs downstairs downstairs downstairs downstairs downstairs downstairs 4.521138338397349\n",
      "\n",
      "\n",
      "xbos xgenre downstairs downstairs downstairs downstairs downstairs downstairs downstairs downstairs downstairs downstairs downstairs downstairs downstairs downstairs downstairs downstairs downstairs downstairs downstairs downstairs downstairs downstairs downstairs downstairs downstairs downstairs downstairs downstairs downstairs downstairs downstairs downstairs downstairs downstairs downstairs downstairs downstairs downstairs downstairs downstairs downstairs downstairs downstairs downstairs downstairs downstairs downstairs downstairs downstairs downstairs downstairs downstairs downstairs downstairs downstairs colorá' downstairs downstairs downstairs downstairs 5.777580079877366\n",
      "\n",
      "\n",
      "xbos xgenre downstairs downstairs downstairs downstairs downstairs downstairs downstairs downstairs downstairs downstairs downstairs downstairs downstairs downstairs downstairs downstairs downstairs downstairs downstairs downstairs downstairs verboten downstairs downstairs downstairs downstairs downstairs downstairs downstairs downstairs downstairs downstairs downstairs downstairs downstairs downstairs downstairs downstairs downstairs downstairs downstairs downstairs downstairs downstairs downstairs downstairs downstairs downstairs downstairs downstairs downstairs downstairs downstairs downstairs downstairs downstairs downstairs downstairs downstairs downstairs 8.164733573190956\n",
      "\n",
      "\n",
      "xbos xgenre downstairs downstairs downstairs downstairs downstairs downstairs downstairs downstairs downstairs downstairs downstairs downstairs downstairs downstairs downstairs downstairs downstairs downstairs downstairs downstairs downstairs downstairs downstairs downstairs downstairs downstairs downstairs downstairs downstairs downstairs downstairs downstairs downstairs downstairs downstairs downstairs downstairs downstairs downstairs downstairs downstairs downstairs downstairs downstairs downstairs downstairs downstairs downstairs downstairs downstairs downstairs downstairs downstairs downstairs downstairs downstairs dormida downstairs downstairs downstairs 8.47489822563233\n",
      "\n",
      "\n",
      "xbos xgenre colorá' downstairs downstairs downstairs downstairs downstairs downstairs downstairs downstairs downstairs downstairs downstairs downstairs downstairs downstairs downstairs downstairs downstairs downstairs downstairs downstairs downstairs downstairs downstairs downstairs downstairs downstairs downstairs downstairs downstairs downstairs colorá' downstairs downstairs downstairs downstairs downstairs downstairs downstairs downstairs downstairs downstairs downstairs downstairs downstairs downstairs downstairs downstairs downstairs downstairs downstairs downstairs downstairs downstairs downstairs downstairs downstairs downstairs downstairs downstairs 8.679863408918369\n",
      "\n",
      "\n",
      "xbos xgenre colorá' downstairs downstairs downstairs downstairs downstairs downstairs downstairs downstairs downstairs downstairs downstairs downstairs downstairs downstairs downstairs downstairs downstairs downstairs downstairs downstairs downstairs downstairs downstairs downstairs downstairs downstairs downstairs downstairs downstairs colorá' downstairs downstairs downstairs downstairs downstairs downstairs downstairs downstairs downstairs downstairs downstairs downstairs downstairs downstairs downstairs downstairs downstairs downstairs downstairs downstairs downstairs downstairs downstairs downstairs downstairs downstairs downstairs downstairs downstairs 8.69526759050904\n",
      "\n",
      "\n",
      "xbos xgenre colorá' downstairs downstairs downstairs downstairs downstairs downstairs downstairs downstairs downstairs downstairs downstairs downstairs downstairs downstairs downstairs downstairs downstairs downstairs downstairs downstairs downstairs downstairs downstairs downstairs downstairs downstairs downstairs downstairs downstairs downstairs downstairs downstairs downstairs downstairs downstairs downstairs downstairs downstairs downstairs downstairs downstairs downstairs downstairs colorá' downstairs downstairs downstairs downstairs downstairs downstairs downstairs downstairs downstairs downstairs downstairs downstairs downstairs downstairs downstairs 8.820701310013561\n",
      "\n",
      "\n",
      "xbos xgenre colorá' downstairs downstairs downstairs downstairs downstairs berlin downstairs downstairs downstairs downstairs downstairs downstairs downstairs downstairs downstairs downstairs downstairs downstairs downstairs downstairs downstairs downstairs downstairs downstairs downstairs downstairs downstairs downstairs downstairs downstairs downstairs downstairs downstairs downstairs downstairs downstairs downstairs downstairs downstairs downstairs downstairs downstairs downstairs downstairs downstairs downstairs downstairs downstairs downstairs downstairs downstairs downstairs downstairs downstairs downstairs downstairs downstairs downstairs downstairs 10.046418938284459\n",
      "\n",
      "\n",
      "xbos xgenre downstairs downstairs downstairs downstairs downstairs omkring downstairs downstairs downstairs downstairs downstairs downstairs downstairs downstairs downstairs downstairs downstairs downstairs downstairs downstairs downstairs downstairs downstairs downstairs downstairs downstairs downstairs downstairs downstairs downstairs downstairs downstairs downstairs downstairs downstairs downstairs downstairs downstairs downstairs downstairs downstairs downstairs downstairs downstairs downstairs downstairs downstairs downstairs downstairs downstairs downstairs downstairs downstairs downstairs downstairs downstairs downstairs downstairs downstairs downstairs 10.305144173941164\n",
      "\n",
      "\n",
      "xbos xgenre colorá' downstairs downstairs downstairs downstairs downstairs downstairs downstairs downstairs downstairs downstairs downstairs downstairs downstairs downstairs downstairs downstairs downstairs downstairs downstairs downstairs downstairs downstairs verboten downstairs downstairs downstairs downstairs downstairs downstairs downstairs downstairs downstairs downstairs downstairs downstairs downstairs downstairs downstairs downstairs downstairs downstairs downstairs downstairs downstairs downstairs downstairs downstairs downstairs downstairs downstairs downstairs downstairs downstairs downstairs downstairs downstairs downstairs downstairs downstairs 10.682225868811395\n",
      "\n",
      "\n",
      "xbos xgenre colorá' downstairs downstairs downstairs downstairs downstairs downstairs downstairs downstairs downstairs downstairs downstairs downstairs downstairs downstairs downstairs downstairs pendre downstairs downstairs downstairs downstairs downstairs downstairs downstairs downstairs downstairs downstairs downstairs downstairs downstairs downstairs downstairs downstairs downstairs downstairs downstairs downstairs downstairs downstairs downstairs downstairs downstairs downstairs downstairs downstairs downstairs downstairs downstairs downstairs downstairs downstairs downstairs downstairs downstairs downstairs downstairs downstairs downstairs downstairs 10.771690188374663\n",
      "\n",
      "\n",
      "xbos xgenre colorá' downstairs downstairs downstairs downstairs downstairs downstairs downstairs downstairs downstairs downstairs downstairs downstairs downstairs downstairs downstairs downstairs downstairs downstairs downstairs downstairs downstairs downstairs downstairs downstairs downstairs squeezing downstairs downstairs downstairs downstairs downstairs downstairs downstairs downstairs downstairs downstairs downstairs downstairs downstairs downstairs downstairs downstairs downstairs downstairs downstairs downstairs downstairs downstairs downstairs downstairs downstairs downstairs downstairs downstairs downstairs downstairs downstairs downstairs downstairs 11.070989909413644\n",
      "\n",
      "\n",
      "xbos xgenre colorá' downstairs downstairs downstairs downstairs downstairs downstairs downstairs downstairs downstairs downstairs downstairs downstairs downstairs downstairs downstairs downstairs downstairs downstairs downstairs downstairs downstairs downstairs downstairs downstairs downstairs downstairs downstairs downstairs downstairs downstairs colorá' colorá' downstairs downstairs downstairs downstairs downstairs downstairs downstairs downstairs downstairs downstairs downstairs downstairs downstairs downstairs downstairs downstairs downstairs downstairs downstairs downstairs downstairs downstairs downstairs downstairs downstairs downstairs downstairs 12.038689373902677\n",
      "\n",
      "\n",
      "xbos xgenre colorá' downstairs downstairs downstairs downstairs downstairs downstairs downstairs downstairs downstairs downstairs downstairs downstairs downstairs downstairs downstairs downstairs downstairs downstairs downstairs downstairs downstairs downstairs downstairs downstairs downstairs downstairs downstairs downstairs downstairs downstairs downstairs downstairs downstairs downstairs downstairs downstairs downstairs downstairs downstairs downstairs downstairs downstairs downstairs colorá' colorá' downstairs downstairs downstairs downstairs downstairs downstairs downstairs downstairs downstairs downstairs downstairs downstairs downstairs downstairs 12.464624124613843\n",
      "\n",
      "\n"
     ]
    }
   ],
   "source": [
    "#print all of the final options of songs\n",
    "for song, score in final_scores:\n",
    "    print_words(song)\n",
    "    print(score)\n",
    "    print('\\n')"
   ]
  },
  {
   "cell_type": "code",
   "execution_count": null,
   "metadata": {},
   "outputs": [],
   "source": []
  },
  {
   "cell_type": "code",
   "execution_count": 33,
   "metadata": {},
   "outputs": [],
   "source": [
    "%load_ext autoreload\n",
    "%autoreload 2"
   ]
  },
  {
   "cell_type": "code",
   "execution_count": 34,
   "metadata": {},
   "outputs": [],
   "source": [
    "from src.nlp.generate_lyrics import DeepLyric"
   ]
  },
  {
   "cell_type": "code",
   "execution_count": 35,
   "metadata": {},
   "outputs": [],
   "source": [
    "deep_lyric = DeepLyric(learn.model, weights=None, itos=data_lm.train_ds.vocab.itos)"
   ]
  },
  {
   "cell_type": "code",
   "execution_count": null,
   "metadata": {},
   "outputs": [],
   "source": [
    "deep_lyric."
   ]
  },
  {
   "cell_type": "code",
   "execution_count": 55,
   "metadata": {},
   "outputs": [
    {
     "name": "stdout",
     "output_type": "stream",
     "text": [
      "Generating word: 1 / 50\n",
      "Generating word: 2 / 50\n",
      "Generating word: 3 / 50\n",
      "Generating word: 4 / 50\n",
      "Generating word: 5 / 50\n",
      "Generating word: 6 / 50\n",
      "Generating word: 7 / 50\n",
      "Generating word: 8 / 50\n",
      "Generating word: 9 / 50\n",
      "Generating word: 10 / 50\n",
      "Generating word: 11 / 50\n",
      "Generating word: 12 / 50\n",
      "Generating word: 13 / 50\n",
      "Generating word: 14 / 50\n",
      "Generating word: 15 / 50\n",
      "Generating word: 16 / 50\n",
      "Generating word: 17 / 50\n",
      "Generating word: 18 / 50\n",
      "Generating word: 19 / 50\n",
      "Generating word: 20 / 50\n",
      "Generating word: 21 / 50\n",
      "Generating word: 22 / 50\n",
      "Generating word: 23 / 50\n",
      "Generating word: 24 / 50\n",
      "Generating word: 25 / 50\n",
      "Generating word: 26 / 50\n",
      "Generating word: 27 / 50\n",
      "Generating word: 28 / 50\n",
      "Generating word: 29 / 50\n",
      "Generating word: 30 / 50\n",
      "Generating word: 31 / 50\n",
      "Generating word: 32 / 50\n",
      "Generating word: 33 / 50\n",
      "Generating word: 34 / 50\n",
      "Generating word: 35 / 50\n",
      "Generating word: 36 / 50\n",
      "Generating word: 37 / 50\n",
      "Generating word: 38 / 50\n",
      "Generating word: 39 / 50\n",
      "Generating word: 40 / 50\n",
      "Generating word: 41 / 50\n",
      "Generating word: 42 / 50\n",
      "Generating word: 43 / 50\n",
      "Generating word: 44 / 50\n",
      "Generating word: 45 / 50\n",
      "Generating word: 46 / 50\n",
      "Generating word: 47 / 50\n",
      "Generating word: 48 / 50\n",
      "Generating word: 49 / 50\n",
      "Generating word: 50 / 50\n"
     ]
    }
   ],
   "source": [
    "deep_lyric.generate_text(seed_text='xbos xgenre country', \n",
    "                         verbose=1, context_length=100, beam_width=3,\n",
    "                         max_len=50, top_k=5, temperature=1.45,\n",
    "                         GPU=True)"
   ]
  },
  {
   "cell_type": "code",
   "execution_count": 56,
   "metadata": {},
   "outputs": [
    {
     "name": "stdout",
     "output_type": "stream",
     "text": [
      "SONG START\n",
      " genre: country \n",
      " title: the kiss of gold \n",
      "\n",
      "xbol-1 when i 'm with you \n",
      " there 's so much out there for me \n",
      " here and now , my dear \n",
      " there is nothing more left to do \n",
      " \n",
      " when my whole life through \n",
      " i "
     ]
    }
   ],
   "source": [
    "deep_lyric.print_lyrics()"
   ]
  },
  {
   "cell_type": "code",
   "execution_count": 57,
   "metadata": {},
   "outputs": [],
   "source": [
    "deep_lyric.save_lyrics_to_file('test.txt')"
   ]
  },
  {
   "cell_type": "code",
   "execution_count": 59,
   "metadata": {},
   "outputs": [
    {
     "name": "stdout",
     "output_type": "stream",
     "text": [
      "Generating word: 1 / 20\n"
     ]
    },
    {
     "ename": "RuntimeError",
     "evalue": "Expected object of backend CUDA but got backend CPU for argument #3 'index'",
     "output_type": "error",
     "traceback": [
      "\u001b[0;31m---------------------------------------------------------------------------\u001b[0m",
      "\u001b[0;31mRuntimeError\u001b[0m                              Traceback (most recent call last)",
      "\u001b[0;32m<ipython-input-59-aa332739c49e>\u001b[0m in \u001b[0;36m<module>\u001b[0;34m()\u001b[0m\n\u001b[1;32m      1\u001b[0m \u001b[0;32mfor\u001b[0m \u001b[0mi\u001b[0m \u001b[0;32min\u001b[0m \u001b[0mrange\u001b[0m\u001b[0;34m(\u001b[0m\u001b[0;36m10\u001b[0m\u001b[0;34m)\u001b[0m\u001b[0;34m:\u001b[0m\u001b[0;34m\u001b[0m\u001b[0m\n\u001b[0;32m----> 2\u001b[0;31m     \u001b[0mdeep_lyric\u001b[0m\u001b[0;34m.\u001b[0m\u001b[0mgenerate_text\u001b[0m\u001b[0;34m(\u001b[0m\u001b[0mmax_len\u001b[0m\u001b[0;34m=\u001b[0m\u001b[0;36m20\u001b[0m\u001b[0;34m)\u001b[0m\u001b[0;34m\u001b[0m\u001b[0m\n\u001b[0m\u001b[1;32m      3\u001b[0m     \u001b[0mdeep_lyric\u001b[0m\u001b[0;34m.\u001b[0m\u001b[0msave_lyrics_to_file\u001b[0m\u001b[0;34m(\u001b[0m\u001b[0;34mf'test{i}.txt'\u001b[0m\u001b[0;34m,\u001b[0m \u001b[0mGPU\u001b[0m\u001b[0;34m=\u001b[0m\u001b[0;32mTrue\u001b[0m\u001b[0;34m)\u001b[0m\u001b[0;34m\u001b[0m\u001b[0m\n",
      "\u001b[0;32m~/capstone-deep-lyrics/notebooks/src/nlp/generate_lyrics.py\u001b[0m in \u001b[0;36mgenerate_text\u001b[0;34m(self, seed_text, max_len, GPU, context_length, beam_width, verbose, temperature, top_k, audio)\u001b[0m\n\u001b[1;32m    223\u001b[0m                 \u001b[0mcontext\u001b[0m\u001b[0;34m,\u001b[0m \u001b[0mscore\u001b[0m \u001b[0;34m=\u001b[0m \u001b[0mself\u001b[0m\u001b[0;34m.\u001b[0m\u001b[0m_context_and_scores\u001b[0m\u001b[0;34m[\u001b[0m\u001b[0mi\u001b[0m\u001b[0;34m]\u001b[0m\u001b[0;34m\u001b[0m\u001b[0m\n\u001b[1;32m    224\u001b[0m                 \u001b[0;31m# Obtain probabilities for next word given the context\u001b[0m\u001b[0;34m\u001b[0m\u001b[0;34m\u001b[0m\u001b[0m\n\u001b[0;32m--> 225\u001b[0;31m                 \u001b[0mprobabilities\u001b[0m \u001b[0;34m=\u001b[0m \u001b[0mself\u001b[0m\u001b[0;34m.\u001b[0m\u001b[0mget_text_distribution\u001b[0m\u001b[0;34m(\u001b[0m\u001b[0mcontext\u001b[0m\u001b[0;34m,\u001b[0m \u001b[0mcontext_length\u001b[0m\u001b[0;34m,\u001b[0m \u001b[0mtemperature\u001b[0m\u001b[0;34m,\u001b[0m \u001b[0mGPU\u001b[0m\u001b[0;34m,\u001b[0m \u001b[0maudio\u001b[0m\u001b[0;34m)\u001b[0m\u001b[0;34m\u001b[0m\u001b[0m\n\u001b[0m\u001b[1;32m    226\u001b[0m \u001b[0;34m\u001b[0m\u001b[0m\n\u001b[1;32m    227\u001b[0m                 \u001b[0;31m# Multinomial draw from the probabilities\u001b[0m\u001b[0;34m\u001b[0m\u001b[0;34m\u001b[0m\u001b[0m\n",
      "\u001b[0;32m~/capstone-deep-lyrics/notebooks/src/nlp/generate_lyrics.py\u001b[0m in \u001b[0;36mget_text_distribution\u001b[0;34m(self, context, context_length, temperature, GPU, audio)\u001b[0m\n\u001b[1;32m    134\u001b[0m         \u001b[0;31m# forward pass the \"context\" into the model\u001b[0m\u001b[0;34m\u001b[0m\u001b[0;34m\u001b[0m\u001b[0m\n\u001b[1;32m    135\u001b[0m         \u001b[0;32mif\u001b[0m \u001b[0mself\u001b[0m\u001b[0;34m.\u001b[0m\u001b[0mmodel_type\u001b[0m \u001b[0;34m==\u001b[0m \u001b[0;34m'language'\u001b[0m\u001b[0;34m:\u001b[0m\u001b[0;34m\u001b[0m\u001b[0m\n\u001b[0;32m--> 136\u001b[0;31m             \u001b[0mresult\u001b[0m\u001b[0;34m,\u001b[0m \u001b[0;34m*\u001b[0m\u001b[0m_\u001b[0m \u001b[0;34m=\u001b[0m \u001b[0mself\u001b[0m\u001b[0;34m.\u001b[0m\u001b[0mmodel\u001b[0m\u001b[0;34m(\u001b[0m\u001b[0mcontext\u001b[0m\u001b[0;34m)\u001b[0m\u001b[0;34m\u001b[0m\u001b[0m\n\u001b[0m\u001b[1;32m    137\u001b[0m \u001b[0;34m\u001b[0m\u001b[0m\n\u001b[1;32m    138\u001b[0m         \u001b[0;32melif\u001b[0m \u001b[0mself\u001b[0m\u001b[0;34m.\u001b[0m\u001b[0mmodel_type\u001b[0m \u001b[0;34m==\u001b[0m \u001b[0;34m'pre-multi'\u001b[0m \u001b[0;32mor\u001b[0m \u001b[0mself\u001b[0m\u001b[0;34m.\u001b[0m\u001b[0mmodel_type\u001b[0m \u001b[0;34m==\u001b[0m \u001b[0;34m'post-multi'\u001b[0m\u001b[0;34m:\u001b[0m\u001b[0;34m\u001b[0m\u001b[0m\n",
      "\u001b[0;32m~/anaconda3/lib/python3.6/site-packages/torch/nn/modules/module.py\u001b[0m in \u001b[0;36m__call__\u001b[0;34m(self, *input, **kwargs)\u001b[0m\n\u001b[1;32m    475\u001b[0m             \u001b[0mresult\u001b[0m \u001b[0;34m=\u001b[0m \u001b[0mself\u001b[0m\u001b[0;34m.\u001b[0m\u001b[0m_slow_forward\u001b[0m\u001b[0;34m(\u001b[0m\u001b[0;34m*\u001b[0m\u001b[0minput\u001b[0m\u001b[0;34m,\u001b[0m \u001b[0;34m**\u001b[0m\u001b[0mkwargs\u001b[0m\u001b[0;34m)\u001b[0m\u001b[0;34m\u001b[0m\u001b[0m\n\u001b[1;32m    476\u001b[0m         \u001b[0;32melse\u001b[0m\u001b[0;34m:\u001b[0m\u001b[0;34m\u001b[0m\u001b[0m\n\u001b[0;32m--> 477\u001b[0;31m             \u001b[0mresult\u001b[0m \u001b[0;34m=\u001b[0m \u001b[0mself\u001b[0m\u001b[0;34m.\u001b[0m\u001b[0mforward\u001b[0m\u001b[0;34m(\u001b[0m\u001b[0;34m*\u001b[0m\u001b[0minput\u001b[0m\u001b[0;34m,\u001b[0m \u001b[0;34m**\u001b[0m\u001b[0mkwargs\u001b[0m\u001b[0;34m)\u001b[0m\u001b[0;34m\u001b[0m\u001b[0m\n\u001b[0m\u001b[1;32m    478\u001b[0m         \u001b[0;32mfor\u001b[0m \u001b[0mhook\u001b[0m \u001b[0;32min\u001b[0m \u001b[0mself\u001b[0m\u001b[0;34m.\u001b[0m\u001b[0m_forward_hooks\u001b[0m\u001b[0;34m.\u001b[0m\u001b[0mvalues\u001b[0m\u001b[0;34m(\u001b[0m\u001b[0;34m)\u001b[0m\u001b[0;34m:\u001b[0m\u001b[0;34m\u001b[0m\u001b[0m\n\u001b[1;32m    479\u001b[0m             \u001b[0mhook_result\u001b[0m \u001b[0;34m=\u001b[0m \u001b[0mhook\u001b[0m\u001b[0;34m(\u001b[0m\u001b[0mself\u001b[0m\u001b[0;34m,\u001b[0m \u001b[0minput\u001b[0m\u001b[0;34m,\u001b[0m \u001b[0mresult\u001b[0m\u001b[0;34m)\u001b[0m\u001b[0;34m\u001b[0m\u001b[0m\n",
      "\u001b[0;32m~/anaconda3/lib/python3.6/site-packages/torch/nn/modules/container.py\u001b[0m in \u001b[0;36mforward\u001b[0;34m(self, input)\u001b[0m\n\u001b[1;32m     90\u001b[0m     \u001b[0;32mdef\u001b[0m \u001b[0mforward\u001b[0m\u001b[0;34m(\u001b[0m\u001b[0mself\u001b[0m\u001b[0;34m,\u001b[0m \u001b[0minput\u001b[0m\u001b[0;34m)\u001b[0m\u001b[0;34m:\u001b[0m\u001b[0;34m\u001b[0m\u001b[0m\n\u001b[1;32m     91\u001b[0m         \u001b[0;32mfor\u001b[0m \u001b[0mmodule\u001b[0m \u001b[0;32min\u001b[0m \u001b[0mself\u001b[0m\u001b[0;34m.\u001b[0m\u001b[0m_modules\u001b[0m\u001b[0;34m.\u001b[0m\u001b[0mvalues\u001b[0m\u001b[0;34m(\u001b[0m\u001b[0;34m)\u001b[0m\u001b[0;34m:\u001b[0m\u001b[0;34m\u001b[0m\u001b[0m\n\u001b[0;32m---> 92\u001b[0;31m             \u001b[0minput\u001b[0m \u001b[0;34m=\u001b[0m \u001b[0mmodule\u001b[0m\u001b[0;34m(\u001b[0m\u001b[0minput\u001b[0m\u001b[0;34m)\u001b[0m\u001b[0;34m\u001b[0m\u001b[0m\n\u001b[0m\u001b[1;32m     93\u001b[0m         \u001b[0;32mreturn\u001b[0m \u001b[0minput\u001b[0m\u001b[0;34m\u001b[0m\u001b[0m\n\u001b[1;32m     94\u001b[0m \u001b[0;34m\u001b[0m\u001b[0m\n",
      "\u001b[0;32m~/anaconda3/lib/python3.6/site-packages/torch/nn/modules/module.py\u001b[0m in \u001b[0;36m__call__\u001b[0;34m(self, *input, **kwargs)\u001b[0m\n\u001b[1;32m    475\u001b[0m             \u001b[0mresult\u001b[0m \u001b[0;34m=\u001b[0m \u001b[0mself\u001b[0m\u001b[0;34m.\u001b[0m\u001b[0m_slow_forward\u001b[0m\u001b[0;34m(\u001b[0m\u001b[0;34m*\u001b[0m\u001b[0minput\u001b[0m\u001b[0;34m,\u001b[0m \u001b[0;34m**\u001b[0m\u001b[0mkwargs\u001b[0m\u001b[0;34m)\u001b[0m\u001b[0;34m\u001b[0m\u001b[0m\n\u001b[1;32m    476\u001b[0m         \u001b[0;32melse\u001b[0m\u001b[0;34m:\u001b[0m\u001b[0;34m\u001b[0m\u001b[0m\n\u001b[0;32m--> 477\u001b[0;31m             \u001b[0mresult\u001b[0m \u001b[0;34m=\u001b[0m \u001b[0mself\u001b[0m\u001b[0;34m.\u001b[0m\u001b[0mforward\u001b[0m\u001b[0;34m(\u001b[0m\u001b[0;34m*\u001b[0m\u001b[0minput\u001b[0m\u001b[0;34m,\u001b[0m \u001b[0;34m**\u001b[0m\u001b[0mkwargs\u001b[0m\u001b[0;34m)\u001b[0m\u001b[0;34m\u001b[0m\u001b[0m\n\u001b[0m\u001b[1;32m    478\u001b[0m         \u001b[0;32mfor\u001b[0m \u001b[0mhook\u001b[0m \u001b[0;32min\u001b[0m \u001b[0mself\u001b[0m\u001b[0;34m.\u001b[0m\u001b[0m_forward_hooks\u001b[0m\u001b[0;34m.\u001b[0m\u001b[0mvalues\u001b[0m\u001b[0;34m(\u001b[0m\u001b[0;34m)\u001b[0m\u001b[0;34m:\u001b[0m\u001b[0;34m\u001b[0m\u001b[0m\n\u001b[1;32m    479\u001b[0m             \u001b[0mhook_result\u001b[0m \u001b[0;34m=\u001b[0m \u001b[0mhook\u001b[0m\u001b[0;34m(\u001b[0m\u001b[0mself\u001b[0m\u001b[0;34m,\u001b[0m \u001b[0minput\u001b[0m\u001b[0;34m,\u001b[0m \u001b[0mresult\u001b[0m\u001b[0;34m)\u001b[0m\u001b[0;34m\u001b[0m\u001b[0m\n",
      "\u001b[0;32m~/anaconda3/lib/python3.6/site-packages/fastai/text/models.py\u001b[0m in \u001b[0;36mforward\u001b[0;34m(self, input)\u001b[0m\n\u001b[1;32m    108\u001b[0m             \u001b[0mself\u001b[0m\u001b[0;34m.\u001b[0m\u001b[0mbs\u001b[0m\u001b[0;34m=\u001b[0m\u001b[0mbs\u001b[0m\u001b[0;34m\u001b[0m\u001b[0m\n\u001b[1;32m    109\u001b[0m             \u001b[0mself\u001b[0m\u001b[0;34m.\u001b[0m\u001b[0mreset\u001b[0m\u001b[0;34m(\u001b[0m\u001b[0;34m)\u001b[0m\u001b[0;34m\u001b[0m\u001b[0m\n\u001b[0;32m--> 110\u001b[0;31m         \u001b[0mraw_output\u001b[0m \u001b[0;34m=\u001b[0m \u001b[0mself\u001b[0m\u001b[0;34m.\u001b[0m\u001b[0minput_dp\u001b[0m\u001b[0;34m(\u001b[0m\u001b[0mself\u001b[0m\u001b[0;34m.\u001b[0m\u001b[0mencoder_dp\u001b[0m\u001b[0;34m(\u001b[0m\u001b[0minput\u001b[0m\u001b[0;34m)\u001b[0m\u001b[0;34m)\u001b[0m\u001b[0;34m\u001b[0m\u001b[0m\n\u001b[0m\u001b[1;32m    111\u001b[0m         \u001b[0mnew_hidden\u001b[0m\u001b[0;34m,\u001b[0m\u001b[0mraw_outputs\u001b[0m\u001b[0;34m,\u001b[0m\u001b[0moutputs\u001b[0m \u001b[0;34m=\u001b[0m \u001b[0;34m[\u001b[0m\u001b[0;34m]\u001b[0m\u001b[0;34m,\u001b[0m\u001b[0;34m[\u001b[0m\u001b[0;34m]\u001b[0m\u001b[0;34m,\u001b[0m\u001b[0;34m[\u001b[0m\u001b[0;34m]\u001b[0m\u001b[0;34m\u001b[0m\u001b[0m\n\u001b[1;32m    112\u001b[0m         \u001b[0;32mfor\u001b[0m \u001b[0ml\u001b[0m\u001b[0;34m,\u001b[0m \u001b[0;34m(\u001b[0m\u001b[0mrnn\u001b[0m\u001b[0;34m,\u001b[0m\u001b[0mhid_dp\u001b[0m\u001b[0;34m)\u001b[0m \u001b[0;32min\u001b[0m \u001b[0menumerate\u001b[0m\u001b[0;34m(\u001b[0m\u001b[0mzip\u001b[0m\u001b[0;34m(\u001b[0m\u001b[0mself\u001b[0m\u001b[0;34m.\u001b[0m\u001b[0mrnns\u001b[0m\u001b[0;34m,\u001b[0m \u001b[0mself\u001b[0m\u001b[0;34m.\u001b[0m\u001b[0mhidden_dps\u001b[0m\u001b[0;34m)\u001b[0m\u001b[0;34m)\u001b[0m\u001b[0;34m:\u001b[0m\u001b[0;34m\u001b[0m\u001b[0m\n",
      "\u001b[0;32m~/anaconda3/lib/python3.6/site-packages/torch/nn/modules/module.py\u001b[0m in \u001b[0;36m__call__\u001b[0;34m(self, *input, **kwargs)\u001b[0m\n\u001b[1;32m    475\u001b[0m             \u001b[0mresult\u001b[0m \u001b[0;34m=\u001b[0m \u001b[0mself\u001b[0m\u001b[0;34m.\u001b[0m\u001b[0m_slow_forward\u001b[0m\u001b[0;34m(\u001b[0m\u001b[0;34m*\u001b[0m\u001b[0minput\u001b[0m\u001b[0;34m,\u001b[0m \u001b[0;34m**\u001b[0m\u001b[0mkwargs\u001b[0m\u001b[0;34m)\u001b[0m\u001b[0;34m\u001b[0m\u001b[0m\n\u001b[1;32m    476\u001b[0m         \u001b[0;32melse\u001b[0m\u001b[0;34m:\u001b[0m\u001b[0;34m\u001b[0m\u001b[0m\n\u001b[0;32m--> 477\u001b[0;31m             \u001b[0mresult\u001b[0m \u001b[0;34m=\u001b[0m \u001b[0mself\u001b[0m\u001b[0;34m.\u001b[0m\u001b[0mforward\u001b[0m\u001b[0;34m(\u001b[0m\u001b[0;34m*\u001b[0m\u001b[0minput\u001b[0m\u001b[0;34m,\u001b[0m \u001b[0;34m**\u001b[0m\u001b[0mkwargs\u001b[0m\u001b[0;34m)\u001b[0m\u001b[0;34m\u001b[0m\u001b[0m\n\u001b[0m\u001b[1;32m    478\u001b[0m         \u001b[0;32mfor\u001b[0m \u001b[0mhook\u001b[0m \u001b[0;32min\u001b[0m \u001b[0mself\u001b[0m\u001b[0;34m.\u001b[0m\u001b[0m_forward_hooks\u001b[0m\u001b[0;34m.\u001b[0m\u001b[0mvalues\u001b[0m\u001b[0;34m(\u001b[0m\u001b[0;34m)\u001b[0m\u001b[0;34m:\u001b[0m\u001b[0;34m\u001b[0m\u001b[0m\n\u001b[1;32m    479\u001b[0m             \u001b[0mhook_result\u001b[0m \u001b[0;34m=\u001b[0m \u001b[0mhook\u001b[0m\u001b[0;34m(\u001b[0m\u001b[0mself\u001b[0m\u001b[0;34m,\u001b[0m \u001b[0minput\u001b[0m\u001b[0;34m,\u001b[0m \u001b[0mresult\u001b[0m\u001b[0;34m)\u001b[0m\u001b[0;34m\u001b[0m\u001b[0m\n",
      "\u001b[0;32m~/anaconda3/lib/python3.6/site-packages/fastai/text/models.py\u001b[0m in \u001b[0;36mforward\u001b[0;34m(self, words, scale)\u001b[0m\n\u001b[1;32m     68\u001b[0m         \u001b[0;32mif\u001b[0m \u001b[0mscale\u001b[0m\u001b[0;34m:\u001b[0m \u001b[0mmasked_embed\u001b[0m\u001b[0;34m.\u001b[0m\u001b[0mmul_\u001b[0m\u001b[0;34m(\u001b[0m\u001b[0mscale\u001b[0m\u001b[0;34m)\u001b[0m\u001b[0;34m\u001b[0m\u001b[0m\n\u001b[1;32m     69\u001b[0m         return F.embedding(words, masked_embed, self.pad_idx, self.emb.max_norm,\n\u001b[0;32m---> 70\u001b[0;31m                            self.emb.norm_type, self.emb.scale_grad_by_freq, self.emb.sparse)\n\u001b[0m\u001b[1;32m     71\u001b[0m \u001b[0;34m\u001b[0m\u001b[0m\n\u001b[1;32m     72\u001b[0m \u001b[0;31m#def _repackage_var(h:Tensors)->Tensors:\u001b[0m\u001b[0;34m\u001b[0m\u001b[0;34m\u001b[0m\u001b[0m\n",
      "\u001b[0;32m~/anaconda3/lib/python3.6/site-packages/torch/nn/functional.py\u001b[0m in \u001b[0;36membedding\u001b[0;34m(input, weight, padding_idx, max_norm, norm_type, scale_grad_by_freq, sparse)\u001b[0m\n\u001b[1;32m   1222\u001b[0m         \u001b[0;32mwith\u001b[0m \u001b[0mtorch\u001b[0m\u001b[0;34m.\u001b[0m\u001b[0mno_grad\u001b[0m\u001b[0;34m(\u001b[0m\u001b[0;34m)\u001b[0m\u001b[0;34m:\u001b[0m\u001b[0;34m\u001b[0m\u001b[0m\n\u001b[1;32m   1223\u001b[0m             \u001b[0mtorch\u001b[0m\u001b[0;34m.\u001b[0m\u001b[0membedding_renorm_\u001b[0m\u001b[0;34m(\u001b[0m\u001b[0mweight\u001b[0m\u001b[0;34m,\u001b[0m \u001b[0minput\u001b[0m\u001b[0;34m,\u001b[0m \u001b[0mmax_norm\u001b[0m\u001b[0;34m,\u001b[0m \u001b[0mnorm_type\u001b[0m\u001b[0;34m)\u001b[0m\u001b[0;34m\u001b[0m\u001b[0m\n\u001b[0;32m-> 1224\u001b[0;31m     \u001b[0;32mreturn\u001b[0m \u001b[0mtorch\u001b[0m\u001b[0;34m.\u001b[0m\u001b[0membedding\u001b[0m\u001b[0;34m(\u001b[0m\u001b[0mweight\u001b[0m\u001b[0;34m,\u001b[0m \u001b[0minput\u001b[0m\u001b[0;34m,\u001b[0m \u001b[0mpadding_idx\u001b[0m\u001b[0;34m,\u001b[0m \u001b[0mscale_grad_by_freq\u001b[0m\u001b[0;34m,\u001b[0m \u001b[0msparse\u001b[0m\u001b[0;34m)\u001b[0m\u001b[0;34m\u001b[0m\u001b[0m\n\u001b[0m\u001b[1;32m   1225\u001b[0m \u001b[0;34m\u001b[0m\u001b[0m\n\u001b[1;32m   1226\u001b[0m \u001b[0;34m\u001b[0m\u001b[0m\n",
      "\u001b[0;31mRuntimeError\u001b[0m: Expected object of backend CUDA but got backend CPU for argument #3 'index'"
     ]
    }
   ],
   "source": [
    "for i in range(10):\n",
    "    deep_lyric.generate_text(max_len=20)\n",
    "    deep_lyric.save_lyrics_to_file(f'test{i}.txt', GPU=True)"
   ]
  }
 ],
 "metadata": {
  "kernelspec": {
   "display_name": "Python 3",
   "language": "python",
   "name": "python3"
  },
  "language_info": {
   "codemirror_mode": {
    "name": "ipython",
    "version": 3
   },
   "file_extension": ".py",
   "mimetype": "text/x-python",
   "name": "python",
   "nbconvert_exporter": "python",
   "pygments_lexer": "ipython3",
   "version": "3.6.5"
  }
 },
 "nbformat": 4,
 "nbformat_minor": 2
}
