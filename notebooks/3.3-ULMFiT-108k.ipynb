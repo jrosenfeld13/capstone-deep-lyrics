{
 "cells": [
  {
   "cell_type": "code",
   "execution_count": 1,
   "metadata": {},
   "outputs": [],
   "source": [
    "import pandas as pd\n",
    "import numpy as np\n",
    "import nltk.tokenize\n",
    "import itertools\n",
    "import datetime\n",
    "import torch\n",
    "\n",
    "from pathlib import Path\n",
    "\n",
    "from fastai import *\n",
    "from fastai.text import *\n",
    "\n",
    "from copy import copy, deepcopy\n",
    "from enum import Enum"
   ]
  },
  {
   "cell_type": "markdown",
   "metadata": {},
   "source": [
    "# Deep Lyrics Generator - ULMFiT\n",
    "\n",
    "## Set up instructions\n",
    "\n",
    "### Create VM Instance\n",
    "\n",
    "- Go to cloud.google.com, and create a new VM instance\n",
    "- Disk size: 100GB or more\n",
    "- CPUs + Memory: 2vCPUs, 7.5 GB Memory\n",
    "- GPU: K80 (cheaper, less power) or P100 (2.5x more expensive, more power)\n",
    "- Enable http, https traffic\n",
    "- Boot: Deep learning pytorch instance\n",
    "\n",
    "### Network configuration\n",
    "\n",
    "In Google cloud platform:\n",
    "\n",
    "- Go to Networking -> VPC Network, External IP addresses\n",
    "- Select your VM instance and change the external address type from Ephemeral to Static\n",
    "- Go to Networking -> VPC Network, Firewall Rules\n",
    "- Add a new Rule, called Jupyter, ip ranges 0.0.0.0/0, protocols and ports tcp:8888, apply to all targets\n",
    "\n",
    "### VM + Jupyter Setup\n",
    "\n",
    "- SSH to VM\n",
    "- Enlist into Github repo\n",
    "- Run src/setup.sh\n",
    "- Run jupyter notebook\n",
    "- Open a google cloud shell\n",
    "- Run gcloud init and answer the questions\n",
    "- To set up a tunnel and run jupyter locally, run ```gcloud compute --project \"<your project>\" ssh --zone \"<your zone>\" \"<your instance name>\" -- -L 8888:localhost:8888```\n",
    "- Open jupyter notebook in your local computer and have fun\n",
    "\n",
    "### Notebook first run\n",
    "Here are some steps to run the first time you use the notebook."
   ]
  },
  {
   "cell_type": "markdown",
   "metadata": {},
   "source": [
    "#### Tokens\n",
    "To create the model's tokens with the correct train-test split, run ```src/data_collection/lm_data_lyrics.py -o path/to/save```. \n",
    "We recommend saving in data/models/{MODEL_NAME}. Alternatively, run the magic command below and replace the model name."
   ]
  },
  {
   "cell_type": "code",
   "execution_count": 2,
   "metadata": {},
   "outputs": [
    {
     "name": "stdout",
     "output_type": "stream",
     "text": [
      "Numericalizing train.\n",
      "Numericalizing valid.\n"
     ]
    }
   ],
   "source": [
    "%run ../src/data_collection/lm_data_lyrics.py -o ../data/models/3.3-ULMFiT-108k"
   ]
  },
  {
   "cell_type": "markdown",
   "metadata": {},
   "source": [
    "## Load Data"
   ]
  },
  {
   "cell_type": "markdown",
   "metadata": {},
   "source": [
    "Now that we've created the tokens, let's load them into a `DataBunch` to train our LM further or generate text with a pre-trained LM."
   ]
  },
  {
   "cell_type": "code",
   "execution_count": 3,
   "metadata": {},
   "outputs": [],
   "source": [
    "model_name = '3.3-ULMFiT-108k'\n",
    "MODEL_PATH = Path(f'../data/models/{model_name}')\n",
    "MODEL_PATH.mkdir(exist_ok=True)"
   ]
  },
  {
   "cell_type": "code",
   "execution_count": 4,
   "metadata": {},
   "outputs": [
    {
     "name": "stdout",
     "output_type": "stream",
     "text": [
      "10002\n"
     ]
    }
   ],
   "source": [
    "data_lm = TextLMDataBunch.from_tokens(MODEL_PATH,\n",
    "                                      bs=128,\n",
    "                                      max_vocab=10000)\n",
    "\n",
    "print(data_lm.train_ds.vocab_size)"
   ]
  },
  {
   "cell_type": "markdown",
   "metadata": {},
   "source": [
    "## Model setup"
   ]
  },
  {
   "cell_type": "code",
   "execution_count": 20,
   "metadata": {},
   "outputs": [],
   "source": [
    "GPU = True"
   ]
  },
  {
   "cell_type": "code",
   "execution_count": 8,
   "metadata": {},
   "outputs": [],
   "source": [
    "learn = RNNLearner.language_model(data_lm,\n",
    "                                  pretrained_model=URLs.IMDB,\n",
    "                                  drop_mult=0.5)"
   ]
  },
  {
   "cell_type": "code",
   "execution_count": 8,
   "metadata": {},
   "outputs": [
    {
     "data": {
      "application/vnd.jupyter.widget-view+json": {
       "model_id": "b1432a6b8e0f409f8d80925567999a5c",
       "version_major": 2,
       "version_minor": 0
      },
      "text/plain": [
       "HBox(children=(IntProgress(value=0, max=141772796), HTML(value='')))"
      ]
     },
     "metadata": {},
     "output_type": "display_data"
    }
   ],
   "source": [
    "DOWNLOAD_MODEL_WEIGHTS = True\n",
    "weights_url = 'https://storage.googleapis.com/capstone-deep-lyrics/3.2-ULMFiT-108k_best.pth'\n",
    "\n",
    "if DOWNLOAD_MODEL_WEIGHTS:\n",
    "    Path(MODEL_PATH/'models').mkdir(exist_ok=True)\n",
    "    download_url(weights_url, MODEL_PATH/f'models/{model_name}_best.pth', overwrite=True)"
   ]
  },
  {
   "cell_type": "code",
   "execution_count": 9,
   "metadata": {},
   "outputs": [],
   "source": [
    "def cpu_load(self, name:PathOrStr):\n",
    "    \"\"\"Load model onto CPU that was trained on a GPU `name` from `self.model_dir`.\n",
    "       We need these because the fastai load function doesn't allow for a remapping of the storage location.\"\"\"\n",
    "    self.model.load_state_dict(torch.load(self.path/self.model_dir/f'{name}.pth', map_location=lambda storage, loc: storage))\n",
    "\n",
    "setattr(RNNLearner, 'cpu_load', cpu_load) #monkey patch onto our RNNLearner"
   ]
  },
  {
   "cell_type": "code",
   "execution_count": 10,
   "metadata": {},
   "outputs": [],
   "source": [
    "if not GPU:\n",
    "    learn.cpu_load(f'{model_name}_best')\n",
    "else:\n",
    "    learn.load(f'{model_name}_best')"
   ]
  },
  {
   "cell_type": "markdown",
   "metadata": {},
   "source": [
    "## Training"
   ]
  },
  {
   "cell_type": "code",
   "execution_count": 11,
   "metadata": {},
   "outputs": [],
   "source": [
    "TRAIN = True"
   ]
  },
  {
   "cell_type": "code",
   "execution_count": 12,
   "metadata": {},
   "outputs": [],
   "source": [
    "@dataclass\n",
    "class SaveModel(LearnerCallback):\n",
    "    \"\"\"Save Latest Model\"\"\"\n",
    "    def __init__(self, learn:Learner, model_name='saved_model'):\n",
    "        super().__init__(learn)\n",
    "        self.model_name = model_name\n",
    "        self.model_date = datetime.datetime.now().strftime('%Y-%m-%d-%H-%M-%S')\n",
    "        self.best_loss = None\n",
    "        self.perplexity = []\n",
    "        \n",
    "    def on_epoch_end(self, epoch:int, metrics, last_metrics, **kwargs):\n",
    "        loss, *_ = last_metrics\n",
    "        perp = np.exp(loss)\n",
    "        self.perplexity.append(perp)\n",
    "        if self.best_loss == None or loss < self.best_loss:\n",
    "            self.best_loss = loss\n",
    "            self.learn.save(f'{self.model_name}_best')\n",
    "        return False\n",
    "    \n",
    "    def on_train_end(self, epoch:int, **kwargs):\n",
    "        self.learn.save(f'{self.model_name}_last')"
   ]
  },
  {
   "cell_type": "code",
   "execution_count": 13,
   "metadata": {},
   "outputs": [],
   "source": [
    "save_callback = SaveModel(learn, model_name=f'{model_name}')"
   ]
  },
  {
   "cell_type": "code",
   "execution_count": 14,
   "metadata": {},
   "outputs": [
    {
     "data": {
      "application/vnd.jupyter.widget-view+json": {
       "model_id": "",
       "version_major": 2,
       "version_minor": 0
      },
      "text/plain": [
       "VBox(children=(HBox(children=(IntProgress(value=0, max=1), HTML(value='0.00% [0/1 00:00<00:00]'))), HTML(value…"
      ]
     },
     "metadata": {},
     "output_type": "display_data"
    },
    {
     "name": "stdout",
     "output_type": "stream",
     "text": [
      "Total time: 12:41\n",
      "epoch  train loss  valid loss  accuracy\n",
      "0      3.217470    3.144312    0.427131  (12:41)\n",
      "\n"
     ]
    }
   ],
   "source": [
    "if TRAIN:\n",
    "    learn.fit_one_cycle(1, 1e-2)"
   ]
  },
  {
   "cell_type": "code",
   "execution_count": 15,
   "metadata": {},
   "outputs": [
    {
     "data": {
      "application/vnd.jupyter.widget-view+json": {
       "model_id": "",
       "version_major": 2,
       "version_minor": 0
      },
      "text/plain": [
       "VBox(children=(HBox(children=(IntProgress(value=0, max=5), HTML(value='0.00% [0/5 00:00<00:00]'))), HTML(value…"
      ]
     },
     "metadata": {},
     "output_type": "display_data"
    },
    {
     "name": "stdout",
     "output_type": "stream",
     "text": [
      "Total time: 1:03:24\n",
      "epoch  train loss  valid loss  accuracy\n",
      "0      3.155382    3.080042    0.433641  (12:36)\n",
      "1      3.095709    3.042187    0.437375  (12:41)\n",
      "2      3.053704    3.006545    0.441227  (12:43)\n",
      "3      3.007466    2.978606    0.444195  (12:42)\n",
      "4      2.949047    2.956026    0.446773  (12:41)\n",
      "\n"
     ]
    }
   ],
   "source": [
    "if TRAIN:\n",
    "    learn.unfreeze()\n",
    "    learn.fit(5, 1e-3, callbacks=[save_callback])"
   ]
  },
  {
   "cell_type": "code",
   "execution_count": 30,
   "metadata": {},
   "outputs": [
    {
     "data": {
      "application/vnd.jupyter.widget-view+json": {
       "model_id": "",
       "version_major": 2,
       "version_minor": 0
      },
      "text/plain": [
       "VBox(children=(HBox(children=(IntProgress(value=0, max=5), HTML(value='0.00% [0/5 00:00<00:00]'))), HTML(value…"
      ]
     },
     "metadata": {},
     "output_type": "display_data"
    },
    {
     "name": "stdout",
     "output_type": "stream",
     "text": [
      "Total time: 1:03:31\n",
      "epoch  train loss  valid loss  accuracy\n",
      "0      2.759288    2.828644    0.460429  (12:45)\n",
      "1      2.688502    2.821735    0.461557  (12:41)\n",
      "2      2.672965    2.818378    0.462140  (12:39)\n",
      "3      2.722103    2.815085    0.461849  (12:42)\n",
      "4      2.686170    2.808238    0.462962  (12:42)\n",
      "\n"
     ]
    }
   ],
   "source": [
    "if TRAIN:\n",
    "#     learn.unfreeze()\n",
    "    learn.fit(5, 1e-3, callbacks=[save_callback])"
   ]
  },
  {
   "cell_type": "code",
   "execution_count": 31,
   "metadata": {},
   "outputs": [
    {
     "name": "stdout",
     "output_type": "stream",
     "text": [
      "best validation loss:  2.8082383\n"
     ]
    }
   ],
   "source": [
    "print(\"best validation loss: \", learn.save_model.best_loss)"
   ]
  },
  {
   "cell_type": "code",
   "execution_count": null,
   "metadata": {},
   "outputs": [],
   "source": []
  },
  {
   "cell_type": "code",
   "execution_count": null,
   "metadata": {},
   "outputs": [],
   "source": []
  },
  {
   "cell_type": "markdown",
   "metadata": {},
   "source": [
    "#### Learning Loss"
   ]
  },
  {
   "cell_type": "code",
   "execution_count": 32,
   "metadata": {},
   "outputs": [
    {
     "data": {
      "image/png": "[encoded data removed]",
      "text/plain": [
       "<Figure size 432x288 with 1 Axes>"
      ]
     },
     "metadata": {},
     "output_type": "display_data"
    }
   ],
   "source": [
    "if TRAIN:\n",
    "    learn.recorder.plot_losses()"
   ]
  },
  {
   "cell_type": "markdown",
   "metadata": {},
   "source": [
    "## Text Generation"
   ]
  },
  {
   "cell_type": "code",
   "execution_count": 49,
   "metadata": {},
   "outputs": [],
   "source": [
    "def generate_step(learner, context, context_length, temp=1):\n",
    "\n",
    "    model = learner.model\n",
    "    \n",
    "    if GPU:\n",
    "        context = LongTensor(context[-context_length:]).view(-1,1).cuda()\n",
    "    else:\n",
    "        context = LongTensor(context[-context_length:]).view(-1,1).cpu()\n",
    "    \n",
    "    context = torch.autograd.Variable(context)\n",
    "    \n",
    "    model.reset()\n",
    "    model.eval()\n",
    "\n",
    "    # forward pass the \"context\" into the model\n",
    "    result, *_ = model(context)\n",
    "    result = result[-1]\n",
    "\n",
    "    # set unk and pad to 0 prob\n",
    "    # i.e. never pick unknown or pad\n",
    "    result[0] = -np.inf\n",
    "    result[1] = -np.inf\n",
    "\n",
    "    # softmax and normalize\n",
    "    probabilities = F.softmax(result/temp, dim=0)\n",
    "    probabilities = np.asarray(probabilities.detach().cpu(), dtype=np.float)\n",
    "    probabilities /= np.sum(probabilities) \n",
    "    return probabilities\n",
    "\n",
    "def print_words(context):\n",
    "    for i in range(len(context)):\n",
    "        \n",
    "        step = context[i]\n",
    "\n",
    "        word = data_lm.valid_ds.vocab.textify([step])\n",
    "\n",
    "        if word == 'xeol':\n",
    "            word = '\\n'\n",
    "        elif 'xbol' in word:\n",
    "            word = word\n",
    "        elif word == 'xeos': \n",
    "            print(word)\n",
    "            break\n",
    "            \n",
    "        print(word, end=' ')   \n",
    "\n",
    "def generate_text(learner, seed_text=['xbos'], max_len=500, GPU=False, context_length=20, beam_width=5, verbose=True, temp=1):\n",
    "    \"\"\"Generates text with a given learner and returns best options.\n",
    "\n",
    "    Parameters\n",
    "    ----------\n",
    "    learner : RNNLearner Language Model (RNNLearner.language_model())\n",
    "        Fastai RNNLearner with tokenized language model data already loaded \n",
    "        \n",
    "    seed_text : list or str\n",
    "        List of strings where each item is a token. (e.g. ['the', 'cat']) or string that is split on white space\n",
    "\n",
    "    max_len : int\n",
    "        Number of words in generated sequence\n",
    "        \n",
    "    gpu : bool\n",
    "        If you're using a GPU or not...\n",
    "    \n",
    "    context_length : int\n",
    "        Amount of words that get input as \"context\" into the model. Set to 0 for no limit   \n",
    "        \n",
    "    beam_width : int\n",
    "        How many new word indices to try out...computationally expensive\n",
    "    \n",
    "    verbose : bool\n",
    "        If True, prints every possible context for a given word cycle\n",
    "\n",
    "    temperature : float\n",
    "        Scales the logits before softmax. A higher temp (>1) increases variety whereas a low temp (<=1) will often result in a loop\n",
    "\n",
    "    Returns\n",
    "    -------\n",
    "    context_and_scores : list of lists\n",
    "        Returns a sorted list of the entire tree search of contexts and their respective scores in the form:\n",
    "        [[context, score], [context, score], ..., [context, score]]\n",
    "    \"\"\"\n",
    "        \n",
    "    if isinstance(seed_text, str):\n",
    "        seed_text = data_lm.train_ds.vocab.numericalize(seed_text.split(' '))\n",
    "    \n",
    "    \n",
    "    # Width for the beam search, to be externalized along with general decoding\n",
    "    beam_width = beam_width\n",
    "    \n",
    "    # List of candidate word sequence. We'll maintain #beam_width top sequences here.\n",
    "    # The context is a list of words, the scores are the sum of the log probabilities of each word\n",
    "    context_and_scores = [[seed_text, 0.0]]\n",
    "    \n",
    "    # Loop over max number of words\n",
    "    for word_number in range(max_len):\n",
    "        print(f'Generating word: {word_number+1} / {max_len}')\n",
    "\n",
    "        candidates = []\n",
    "        \n",
    "        # For each possible context that we've generated so far, generate new probabilities, \n",
    "        # and pick an additional #beam_width next candidates\n",
    "        for i in range(len(context_and_scores)):\n",
    "            # Get a new sequence of word indices and log-probability\n",
    "            # Example: [[2, 138, 661], 23.181717]\n",
    "            context, score = context_and_scores[i]\n",
    "            \n",
    "            # Obtain probabilities for next word given the context \n",
    "            probabilities = generate_step(learner, context, context_length, temp)\n",
    "\n",
    "            # Multinomial draw from the probabilities\n",
    "            multinom_draw = np.random.multinomial(beam_width, probabilities)\n",
    "            top_probabilities = np.argwhere(multinom_draw != 0).flatten()\n",
    "                        \n",
    "            #For each possible new candidate, update the context and scores\n",
    "            for j in range(len(top_probabilities)):\n",
    "                next_word_idx = top_probabilities[j]\n",
    "                new_context = context + [next_word_idx]\n",
    "                candidate = [new_context, (score - np.log(probabilities[next_word_idx]))]\n",
    "                candidates.append(candidate)\n",
    "        \n",
    "        #update the running tally of context and scores and sort by probability of each entry\n",
    "        context_and_scores = candidates\n",
    "        context_and_scores = sorted(context_and_scores, key = lambda x: x[1]) #sort by top entries\n",
    "#         np.random.shuffle(context_and_scores)\n",
    "\n",
    "        context_and_scores = context_and_scores[:15] #for now, only keep the top 15 to speed things up but we can/should change this to beam_width or something else\n",
    "        \n",
    "        if verbose:\n",
    "            for context, score in context_and_scores:\n",
    "                print_words(context)\n",
    "                print('\\n')\n",
    "    \n",
    "    return context_and_scores\n",
    "    "
   ]
  },
  {
   "cell_type": "code",
   "execution_count": 68,
   "metadata": {
    "scrolled": false
   },
   "outputs": [
    {
     "name": "stdout",
     "output_type": "stream",
     "text": [
      "Generating word: 1 / 80\n",
      "Generating word: 2 / 80\n",
      "Generating word: 3 / 80\n",
      "Generating word: 4 / 80\n",
      "Generating word: 5 / 80\n",
      "Generating word: 6 / 80\n",
      "Generating word: 7 / 80\n",
      "Generating word: 8 / 80\n",
      "Generating word: 9 / 80\n",
      "Generating word: 10 / 80\n",
      "Generating word: 11 / 80\n",
      "Generating word: 12 / 80\n",
      "Generating word: 13 / 80\n",
      "Generating word: 14 / 80\n",
      "Generating word: 15 / 80\n",
      "Generating word: 16 / 80\n",
      "Generating word: 17 / 80\n",
      "Generating word: 18 / 80\n",
      "Generating word: 19 / 80\n",
      "Generating word: 20 / 80\n",
      "Generating word: 21 / 80\n",
      "Generating word: 22 / 80\n",
      "Generating word: 23 / 80\n",
      "Generating word: 24 / 80\n",
      "Generating word: 25 / 80\n",
      "Generating word: 26 / 80\n",
      "Generating word: 27 / 80\n",
      "Generating word: 28 / 80\n",
      "Generating word: 29 / 80\n",
      "Generating word: 30 / 80\n",
      "Generating word: 31 / 80\n",
      "Generating word: 32 / 80\n",
      "Generating word: 33 / 80\n",
      "Generating word: 34 / 80\n",
      "Generating word: 35 / 80\n",
      "Generating word: 36 / 80\n",
      "Generating word: 37 / 80\n",
      "Generating word: 38 / 80\n",
      "Generating word: 39 / 80\n",
      "Generating word: 40 / 80\n",
      "Generating word: 41 / 80\n",
      "Generating word: 42 / 80\n",
      "Generating word: 43 / 80\n",
      "Generating word: 44 / 80\n",
      "Generating word: 45 / 80\n",
      "Generating word: 46 / 80\n",
      "Generating word: 47 / 80\n",
      "Generating word: 48 / 80\n",
      "Generating word: 49 / 80\n",
      "Generating word: 50 / 80\n",
      "Generating word: 51 / 80\n",
      "Generating word: 52 / 80\n",
      "Generating word: 53 / 80\n",
      "Generating word: 54 / 80\n",
      "Generating word: 55 / 80\n",
      "Generating word: 56 / 80\n",
      "Generating word: 57 / 80\n",
      "Generating word: 58 / 80\n",
      "Generating word: 59 / 80\n",
      "Generating word: 60 / 80\n",
      "Generating word: 61 / 80\n",
      "Generating word: 62 / 80\n",
      "Generating word: 63 / 80\n",
      "Generating word: 64 / 80\n",
      "Generating word: 65 / 80\n",
      "Generating word: 66 / 80\n",
      "Generating word: 67 / 80\n",
      "Generating word: 68 / 80\n",
      "Generating word: 69 / 80\n",
      "Generating word: 70 / 80\n",
      "Generating word: 71 / 80\n",
      "Generating word: 72 / 80\n",
      "Generating word: 73 / 80\n",
      "Generating word: 74 / 80\n",
      "Generating word: 75 / 80\n",
      "Generating word: 76 / 80\n",
      "Generating word: 77 / 80\n",
      "Generating word: 78 / 80\n",
      "Generating word: 79 / 80\n",
      "Generating word: 80 / 80\n"
     ]
    }
   ],
   "source": [
    "final_scores = generate_text(learn, GPU=GPU, seed_text='xbos xbol-1', max_len=80, context_length=200, beam_width=3, verbose=False, temp=1.5)"
   ]
  },
  {
   "cell_type": "code",
   "execution_count": 69,
   "metadata": {},
   "outputs": [
    {
     "name": "stdout",
     "output_type": "stream",
     "text": [
      "xbos xbol-1 hello , baby , when your love is gone \n",
      " xbol-2 we can see that we 're all alone \n",
      " xbol-3 hello , baby , won 't you just let me be alone \n",
      " xbol-4 'cause i still love you \n",
      " xbol-5 \n",
      " xbol-6 won 't you stay ? \n",
      " xbol-7 won 't you love me until the end ? \n",
      " xbol-8 won 't you love me , won 't you come again ? \n",
      " xbol-9 won 't you come 162.0649492646885\n",
      "\n",
      "\n",
      "xbos xbol-1 hello , baby , when your love is gone \n",
      " xbol-2 we can see that we 're all alone \n",
      " xbol-3 hello , baby , won 't you just let me be alone \n",
      " xbol-4 'cause i still love you \n",
      " xbol-5 \n",
      " xbol-6 won 't you stay ? \n",
      " xbol-7 won 't you love me until the end ? \n",
      " xbol-8 won 't you love me ? won 't you ? \n",
      " xbol-9 won 't you love me too 163.1574106549538\n",
      "\n",
      "\n",
      "xbos xbol-1 hello , baby , when your love is gone \n",
      " xbol-2 we can see that we 're all alone \n",
      " xbol-3 hello , baby , won 't you just let me be alone \n",
      " xbol-4 'cause i still love you \n",
      " xbol-5 \n",
      " xbol-6 won 't you stay ? \n",
      " xbol-7 won 't you love me until the end ? \n",
      " xbol-8 won 't you tell me ? \n",
      " xbol-9 won 't you , won 't you tell me ? 163.78643405280954\n",
      "\n",
      "\n",
      "xbos xbol-1 hello , baby , when your love is gone \n",
      " xbol-2 we can see that we 're all alone \n",
      " xbol-3 hello , baby , won 't you just let me be alone \n",
      " xbol-4 'cause i still love you \n",
      " xbol-5 \n",
      " xbol-6 won 't you stay ? \n",
      " xbol-7 won 't you love me until the end ? \n",
      " xbol-8 won 't you love me ? won 't you ? \n",
      " xbol-9 won 't you stay \n",
      " xbol-10 164.69619024910764\n",
      "\n",
      "\n",
      "xbos xbol-1 hello , baby , when your love is gone \n",
      " xbol-2 we can see that we 're all alone \n",
      " xbol-3 hello , baby , won 't you just let me be alone \n",
      " xbol-4 'cause i still love you \n",
      " xbol-5 \n",
      " xbol-6 won 't you stay ? \n",
      " xbol-7 won 't you love me until the end ? \n",
      " xbol-8 won 't you love me ? won 't you ? \n",
      " xbol-9 won 't you love me any 165.50909424097892\n",
      "\n",
      "\n",
      "xbos xbol-1 hello , baby , when your love is gone \n",
      " xbol-2 we can see that we 're all alone \n",
      " xbol-3 hello , baby , won 't you just let me be alone \n",
      " xbol-4 'cause i still love you \n",
      " xbol-5 \n",
      " xbol-6 won 't you stay ? \n",
      " xbol-7 won 't you love me until the end ? \n",
      " xbol-8 won 't you love me ? won 't you ? \n",
      " xbol-9 won 't you be my baby 166.24423033963384\n",
      "\n",
      "\n",
      "xbos xbol-1 hello , baby , when your love is gone \n",
      " xbol-2 we can see that we 're all alone \n",
      " xbol-3 hello , baby , won 't you just let me be alone \n",
      " xbol-4 'cause i still love you \n",
      " xbol-5 \n",
      " xbol-6 won 't you stay ? \n",
      " xbol-7 won 't you love me until the end ? \n",
      " xbol-8 won 't you love me now ? \n",
      " xbol-9 won 't you come home and run ? \n",
      " 166.39008749899867\n",
      "\n",
      "\n",
      "xbos xbol-1 hello , baby , when your love is gone \n",
      " xbol-2 we can see that we 're all alone \n",
      " xbol-3 hello , baby , won 't you just let me be alone \n",
      " xbol-4 'cause i still love you \n",
      " xbol-5 \n",
      " xbol-6 won 't you stay ? \n",
      " xbol-7 won 't you love me until the end ? \n",
      " xbol-8 won 't you love me now ? \n",
      " xbol-9 won 't you come home for more ? \n",
      " 166.86390856304274\n",
      "\n",
      "\n",
      "xbos xbol-1 hello , baby , when your love is gone \n",
      " xbol-2 we can see that we 're all alone \n",
      " xbol-3 hello , baby , won 't you just let me be alone \n",
      " xbol-4 'cause i still love you \n",
      " xbol-5 \n",
      " xbol-6 won 't you stay ? \n",
      " xbol-7 won 't you love me until the end ? \n",
      " xbol-8 won 't you love me , won 't you come along ? \n",
      " xbol-9 hello , won 't 166.99393556100526\n",
      "\n",
      "\n",
      "xbos xbol-1 hello , baby , when your love is gone \n",
      " xbol-2 we can see that we 're all alone \n",
      " xbol-3 hello , baby , won 't you just let me be alone \n",
      " xbol-4 'cause i still love you \n",
      " xbol-5 \n",
      " xbol-6 won 't you stay ? \n",
      " xbol-7 won 't you love me until the end ? \n",
      " xbol-8 won 't you tell me ? \n",
      " xbol-9 won 't you , won 't you tell me what 167.15988073248593\n",
      "\n",
      "\n",
      "xbos xbol-1 hello , baby , when your love is gone \n",
      " xbol-2 we can see that we 're all alone \n",
      " xbol-3 hello , baby , won 't you just let me be alone \n",
      " xbol-4 'cause i still love you \n",
      " xbol-5 \n",
      " xbol-6 won 't you stay ? \n",
      " xbol-7 won 't you love me until the end ? \n",
      " xbol-8 won 't you love me now ? \n",
      " xbol-9 won 't you show me that our love is 167.63503517464915\n",
      "\n",
      "\n",
      "xbos xbol-1 hello , baby , when your love is gone \n",
      " xbol-2 we can see that we 're all alone \n",
      " xbol-3 hello , baby , won 't you just let me be alone \n",
      " xbol-4 'cause i still love you \n",
      " xbol-5 \n",
      " xbol-6 won 't you stay ? \n",
      " xbol-7 won 't you love me until the end ? \n",
      " xbol-8 won 't you tell me ? \n",
      " xbol-9 won 't you , won 't you say you can 168.2045994622638\n",
      "\n",
      "\n",
      "xbos xbol-1 hello , baby , when your love is gone \n",
      " xbol-2 we can see that we 're all alone \n",
      " xbol-3 hello , baby , won 't you just let me be alone \n",
      " xbol-4 'cause i still love you \n",
      " xbol-5 \n",
      " xbol-6 won 't you stay ? \n",
      " xbol-7 won 't you love me until the end ? \n",
      " xbol-8 won 't you love me ? won 't you ? \n",
      " xbol-9 won 't you stay warm ? 168.95684380668425\n",
      "\n",
      "\n",
      "xbos xbol-1 hello , baby , when your love is gone \n",
      " xbol-2 we can see that we 're all alone \n",
      " xbol-3 hello , baby , won 't you just let me be alone \n",
      " xbol-4 'cause i still love you \n",
      " xbol-5 \n",
      " xbol-6 won 't you stay ? \n",
      " xbol-7 won 't you love me until the end ? \n",
      " xbol-8 won 't you tell me ? \n",
      " xbol-9 won 't you , won 't you say you got 169.86026056289143\n",
      "\n",
      "\n",
      "xbos xbol-1 hello , baby , when your love is gone \n",
      " xbol-2 we can see that we 're all alone \n",
      " xbol-3 hello , baby , won 't you just let me be alone \n",
      " xbol-4 'cause i still love you \n",
      " xbol-5 \n",
      " xbol-6 won 't you stay ? \n",
      " xbol-7 won 't you love me until the end ? \n",
      " xbol-8 won 't you love me ? won 't you ? \n",
      " xbol-9 won 't you stay warm on 169.90565210180722\n",
      "\n",
      "\n"
     ]
    }
   ],
   "source": [
    "#print all of the final options of songs\n",
    "for song, score in final_scores:\n",
    "    print_words(song)\n",
    "    print(score)\n",
    "    print('\\n')"
   ]
  },
  {
   "cell_type": "code",
   "execution_count": null,
   "metadata": {},
   "outputs": [],
   "source": []
  }
 ],
 "metadata": {
  "kernelspec": {
   "display_name": "Python 3",
   "language": "python",
   "name": "python3"
  },
  "language_info": {
   "codemirror_mode": {
    "name": "ipython",
    "version": 3
   },
   "file_extension": ".py",
   "mimetype": "text/x-python",
   "name": "python",
   "nbconvert_exporter": "python",
   "pygments_lexer": "ipython3",
   "version": "3.6.5"
  }
 },
 "nbformat": 4,
 "nbformat_minor": 2
}
