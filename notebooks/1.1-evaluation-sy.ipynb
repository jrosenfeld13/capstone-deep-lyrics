{
 "cells": [
  {
   "cell_type": "code",
   "execution_count": 9,
   "metadata": {},
   "outputs": [],
   "source": [
    "import pickle\n",
    "import numpy as np\n",
    "import nltk\n",
    "from nltk.translate import bleu_score \n",
    "from collections import Counter\n",
    "from collections import defaultdict\n",
    "import string\n",
    "import copy\n",
    "#!pip install pronouncing\n",
    "import pronouncing\n",
    "import numpy as np\n",
    "#import os\n",
    "import glob\n",
    "import csv"
   ]
  },
  {
   "cell_type": "code",
   "execution_count": 10,
   "metadata": {},
   "outputs": [
    {
     "name": "stdout",
     "output_type": "stream",
     "text": [
      "[nltk_data] Error loading punkt: <urlopen error [Errno 8] nodename nor\n",
      "[nltk_data]     servname provided, or not known>\n",
      "[nltk_data] Error loading averaged_perceptron_tagger: <urlopen error\n",
      "[nltk_data]     [Errno 8] nodename nor servname provided, or not\n",
      "[nltk_data]     known>\n"
     ]
    },
    {
     "data": {
      "text/plain": [
       "False"
      ]
     },
     "execution_count": 10,
     "metadata": {},
     "output_type": "execute_result"
    }
   ],
   "source": [
    "nltk.download('punkt')\n",
    "nltk.download('averaged_perceptron_tagger')"
   ]
  },
  {
   "cell_type": "code",
   "execution_count": 3,
   "metadata": {},
   "outputs": [],
   "source": [
    "# some basic preprocessing techniques\n",
    "def prepString(s):\n",
    "    '''removes punctuation other than apostrophes from string'''\n",
    "    return str(s).lower().translate({ord(c): None for c in string.punctuation if c not in (\"'\")})\n",
    "\n",
    "def removePunc(s):\n",
    "    '''removes punctuation from string'''\n",
    "    return str(s).lower().translate({ord(c): None for c in string.punctuation})\n",
    "\n",
    "def removeMarkupWords(s):\n",
    "    '''removes positional words generated in lyrics'''\n",
    "    s = str(s).lower()\n",
    "    for term in ['xeol','xbol','xeos','xbos','[verse-1]','[verse-2]','[chorus]']:\n",
    "        s = str(s).replace(term,'')\n",
    "    return s"
   ]
  },
  {
   "cell_type": "code",
   "execution_count": null,
   "metadata": {},
   "outputs": [],
   "source": []
  },
  {
   "cell_type": "code",
   "execution_count": null,
   "metadata": {},
   "outputs": [],
   "source": []
  },
  {
   "cell_type": "code",
   "execution_count": null,
   "metadata": {},
   "outputs": [],
   "source": []
  },
  {
   "cell_type": "code",
   "execution_count": null,
   "metadata": {},
   "outputs": [],
   "source": []
  },
  {
   "cell_type": "code",
   "execution_count": null,
   "metadata": {},
   "outputs": [],
   "source": []
  },
  {
   "cell_type": "code",
   "execution_count": 11,
   "metadata": {},
   "outputs": [],
   "source": [
    "exampleWord = 'orange'\n",
    "examplePhones = pronouncing.phones_for_word(exampleWord)[0]\n",
    "exampleRhymePart = pronouncing.rhyming_part(examplePhones)"
   ]
  },
  {
   "cell_type": "code",
   "execution_count": 12,
   "metadata": {},
   "outputs": [
    {
     "data": {
      "text/plain": [
       "'AO1 R AH0 N JH'"
      ]
     },
     "execution_count": 12,
     "metadata": {},
     "output_type": "execute_result"
    }
   ],
   "source": [
    "examplePhones"
   ]
  },
  {
   "cell_type": "code",
   "execution_count": 13,
   "metadata": {},
   "outputs": [
    {
     "data": {
      "text/plain": [
       "'AO1 R AH0 N JH'"
      ]
     },
     "execution_count": 13,
     "metadata": {},
     "output_type": "execute_result"
    }
   ],
   "source": [
    "exampleRhymePart"
   ]
  },
  {
   "cell_type": "code",
   "execution_count": 14,
   "metadata": {},
   "outputs": [],
   "source": [
    "def calcRhymeDensity(text,rhymeType='perfect',rhymeLocation='all',lineStartStop=(1,-2),printExamples=False):\n",
    "    '''calculates rhyme density (count of rhymes over n-1 words). \\n\\n\n",
    "    \n",
    "       _parameters_\n",
    "       text: input text for measurement\n",
    "       rhymeType: 'perfect' is a perfect rhyme, 'vowel' is a rhyming in the vowel sound + stress only\n",
    "       rhymeLocation: choose to look at 'all' text, 'section' by line numbers, or 'end' (last word in each line)    \n",
    "       lineStartStop: tuple of (start,stop) line numbers\n",
    "       printExamples: if True, print most common values of the selected rhymeType\n",
    "       \n",
    "       _returns_\n",
    "       rhyme_cnt: count of rhymes of specified rhymeType and rhymeLocation\n",
    "       wordCount: count of words of specified rhymeType and rhymeLocation\n",
    "       rhymeDensity: rhyme_cnt/float(wordCount-1)\n",
    "    '''\n",
    "    # restrict location to (end=last word, internal line = line, all= full text)\n",
    "    # count tokens\n",
    "    # \n",
    "    \n",
    "    # initialize\n",
    "    rhymePart_cnt = Counter()\n",
    "    rhyme_cnt = 0\n",
    "    \n",
    "    # prepare data\n",
    "    text = prepString(removeMarkupWords(text))\n",
    "    \n",
    "    if rhymeLocation == 'all':\n",
    "        words = text.split()\n",
    "    \n",
    "    if rhymeLocation == 'end':\n",
    "        lines = text.split(\"\\n\")\n",
    "        words = [line.split()[-1] for line in lines if len(line.split())>0]\n",
    "    \n",
    "    if rhymeLocation == 'section':\n",
    "        lines = text.split(\"\\n\")\n",
    "        words = [line.split()[-1] for line in lines[lineStartStop[0]:lineStartStop[1]+1] if len(line.split())>0]\n",
    "    \n",
    "    # \n",
    "    wordCount = len(words)\n",
    "    #print(words)\n",
    "    for word in words:\n",
    "        pros = pronouncing.phones_for_word(word)\n",
    "        if pros:     \n",
    "            phonelist = pros[0]  #using first pronunciation for now\n",
    "            if len(phonelist) > 0:\n",
    "                if rhymeType == 'perfect':\n",
    "                    rhymePart_cnt[pronouncing.rhyming_part(phonelist)] +=1\n",
    "\n",
    "                #if rhymeType == 'rime':\n",
    "                #    pass\n",
    "                #if rhymeType == 'soft':\n",
    "                #    pass\n",
    "                #if rhymeType == 'consonant':\n",
    "                #    pass\n",
    "\n",
    "                elif rhymeType == 'vowel':\n",
    "                    rhymePart_cnt[pronouncing.rhyming_part(phonelist).split()[0]] +=1\n",
    "    \n",
    "    for v in rhymePart_cnt.values():\n",
    "        rhyme_cnt += v-1\n",
    "    \n",
    "    if wordCount>1: \n",
    "        rhymeDensity = rhyme_cnt/float(wordCount-1)\n",
    "    else:\n",
    "        rhymeDensity = 0.0\n",
    "    \n",
    "    if printExamples == True:\n",
    "        print(rhymePart_cnt.most_common(5))\n",
    "    \n",
    "    return rhymeDensity, rhyme_cnt, wordCount"
   ]
  },
  {
   "cell_type": "code",
   "execution_count": 25,
   "metadata": {},
   "outputs": [
    {
     "name": "stdout",
     "output_type": "stream",
     "text": [
      "[('EH1', 1)]\n"
     ]
    },
    {
     "data": {
      "text/plain": [
       "(0.0, 0, 1)"
      ]
     },
     "execution_count": 25,
     "metadata": {},
     "output_type": "execute_result"
    }
   ],
   "source": [
    "phoneText = \"as I walk through the valley of the garden of death\"\n",
    "newText = \"I take a look at my life and realize there's nothing left\"\n",
    "hickoryText = \"Hickory Dickory Dock,\\nThe mouse ran up the clock.\\nThe clock struck one,\\nThe mouse ran down!\\nHickory Dickory Dock.\"\n",
    "\n",
    "calcRhymeDensity([phoneText, newText], rhymeType='vowel', rhymeLocation='end', printExamples=True)"
   ]
  },
  {
   "cell_type": "code",
   "execution_count": 26,
   "metadata": {},
   "outputs": [
    {
     "data": {
      "text/plain": [
       "\"'as i walk through the valley of the garden of death' i take a look at my life and realize there's nothing left\""
      ]
     },
     "execution_count": 26,
     "metadata": {},
     "output_type": "execute_result"
    }
   ],
   "source": [
    "prepString(removeMarkupWords([phoneText, newText]))"
   ]
  },
  {
   "cell_type": "code",
   "execution_count": 60,
   "metadata": {},
   "outputs": [],
   "source": [
    "zz = pronouncing.phones_for_word('pandora')[0]"
   ]
  },
  {
   "cell_type": "code",
   "execution_count": 61,
   "metadata": {},
   "outputs": [
    {
     "data": {
      "text/plain": [
       "['AO1', 'R', 'AH0']"
      ]
     },
     "execution_count": 61,
     "metadata": {},
     "output_type": "execute_result"
    }
   ],
   "source": [
    "pronouncing.rhyming_part(zz).split()"
   ]
  },
  {
   "cell_type": "code",
   "execution_count": null,
   "metadata": {},
   "outputs": [],
   "source": []
  }
 ],
 "metadata": {
  "kernelspec": {
   "display_name": "Python 3",
   "language": "python",
   "name": "python3"
  },
  "language_info": {
   "codemirror_mode": {
    "name": "ipython",
    "version": 3
   },
   "file_extension": ".py",
   "mimetype": "text/x-python",
   "name": "python",
   "nbconvert_exporter": "python",
   "pygments_lexer": "ipython3",
   "version": "3.6.3"
  }
 },
 "nbformat": 4,
 "nbformat_minor": 2
}
