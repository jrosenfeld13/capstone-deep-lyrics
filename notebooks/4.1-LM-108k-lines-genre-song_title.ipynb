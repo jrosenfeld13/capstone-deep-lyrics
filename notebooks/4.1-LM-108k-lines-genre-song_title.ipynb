{
 "cells": [
  {
   "cell_type": "markdown",
   "metadata": {},
   "source": [
    "## Imports and Setup"
   ]
  },
  {
   "cell_type": "code",
   "execution_count": 1,
   "metadata": {},
   "outputs": [],
   "source": [
    "import pandas as pd\n",
    "import numpy as np\n",
    "import nltk.tokenize\n",
    "import itertools\n",
    "import datetime\n",
    "import torch\n",
    "\n",
    "from sklearn.model_selection import train_test_split\n",
    "\n",
    "from pathlib import Path\n",
    "\n",
    "from fastai import *\n",
    "from fastai.text import *\n",
    "\n",
    "from copy import copy, deepcopy\n",
    "from enum import Enum"
   ]
  },
  {
   "cell_type": "markdown",
   "metadata": {},
   "source": [
    "### Model definitions\n",
    "Define this notebooks \"initializer model\" (pretrained parameters and itos mapping) and the output model as well."
   ]
  },
  {
   "cell_type": "code",
   "execution_count": 2,
   "metadata": {},
   "outputs": [],
   "source": [
    "model_name = '4.1-LM-108k-lines-genre-song_title'\n",
    "MODEL_PATH = Path(f'../data/models/{model_name}')\n",
    "MODEL_PATH.mkdir(exist_ok=True)\n",
    "\n",
    "init_model_name = '4.1-LM-108k-lines'\n",
    "INIT_MODEL_PATH = Path(f'../data/models/{init_model_name}')\n",
    "INIT_MODEL_PATH.mkdir(exist_ok=True)"
   ]
  },
  {
   "cell_type": "markdown",
   "metadata": {},
   "source": [
    "### Tokenization\n",
    "To create the model's tokens with the correct train-test split, run the code below. Only needed once on the notebook's first ever run."
   ]
  },
  {
   "cell_type": "code",
   "execution_count": 3,
   "metadata": {},
   "outputs": [],
   "source": [
    "MODEL_FIRST_RUN = True"
   ]
  },
  {
   "cell_type": "code",
   "execution_count": 4,
   "metadata": {},
   "outputs": [],
   "source": [
    "def tokenize_lyrics_with_tags(lyrics, line_num=True, genre=False, song_title=False):\n",
    "    tk = nltk.tokenize.LineTokenizer(blanklines='keep')\n",
    "    tokd = tk.tokenize(lyrics)\n",
    "    \n",
    "    re_tk = nltk.tokenize.RegexpTokenizer(r'\\[[^\\]]+\\]|\\w+|[\\d\\.,]+|\\S+',\n",
    "                                          discard_empty=False)\n",
    "    re_tokd = re_tk.tokenize_sents(tokd)\n",
    "\n",
    "    if genre:\n",
    "        [s.insert(0, f'xGENRE') for s in re_tokd] # insert start token for each line\n",
    "\n",
    "    elif song_title:\n",
    "        [s.insert(0, f'xTITLE') for s in re_tokd] # insert start token for each line\n",
    "\n",
    "    else:\n",
    "        if line_num:\n",
    "            [s.insert(0, f'xBOL {line_num+1}') for line_num, s in enumerate(re_tokd)] # insert start token for each line\n",
    "        else:\n",
    "            [s.insert(0, f'xBOL') for s in re_tokd] # insert start token for each line\n",
    "\n",
    "        [s.append('xEOL') for s in re_tokd] # append end token for each line\n",
    "\n",
    "    flat = list(itertools.chain(*re_tokd))\n",
    "    # lower case and de-space\n",
    "    flat = [w.lower().replace(' ', '-') for w in flat]\n",
    "    return flat"
   ]
  },
  {
   "cell_type": "code",
   "execution_count": 9,
   "metadata": {},
   "outputs": [],
   "source": [
    "def process_tokens(model_path):\n",
    "    '''\n",
    "    500k link: https://storage.googleapis.com/capstone-deep-lyrics/lyrics-500k.csv\n",
    "    108k link: https://storage.googleapis.com/w210-capstone/data/lyrics-valid.csv\n",
    "    '''\n",
    "    model_path = Path(MODEL_PATH)\n",
    "    model_path.mkdir(exist_ok=True)\n",
    "\n",
    "    small_corpus_url = 'https://storage.googleapis.com/w210-capstone/data/lyrics-valid.csv'\n",
    "    audio_url = 'https://storage.googleapis.com/w210-capstone/data/msd-aggregate.csv'\n",
    "    tag_url = 'https://storage.googleapis.com/w210-capstone/data/lyrics_tags.csv'\n",
    "\n",
    "    # load scraped data\n",
    "    df = pd.read_csv(small_corpus_url,\n",
    "                     header=None, escapechar='\\\\',\n",
    "                     names=['msd_id', 'lyrics'])\n",
    "\n",
    "    # only keep lyrics with length < 5000\n",
    "    df = df[df.lyrics.str.len() < 5000]\n",
    "\n",
    "    # bring in audio features\n",
    "    df_audio = pd.read_csv(audio_url)\n",
    "    df_audio.rename(columns={'track_id': 'msd_id'}, inplace=True)\n",
    "\n",
    "    # bring in tags\n",
    "    df_tags = pd.read_csv(tag_url, index_col=0)\n",
    "    df_tags.drop(columns=['lyrics'], inplace=True)\n",
    "\n",
    "    # match audio to keys from lyrics\n",
    "    df_audio = pd.merge(df, df_audio, how='inner', on='msd_id')\n",
    "\n",
    "    # mat\n",
    "    df_all = pd.merge(df_audio, df_tags, how='inner', on='msd_id')\n",
    "    df = df_all[['tag1', 'tag2', 'title', 'lyrics']]\n",
    "\n",
    "    print('Tokenizing...')\n",
    "    lyrics = df.lyrics.apply(tokenize_lyrics_with_tags, line_num=True)\n",
    "    genre = df.tag1.astype(str).apply(tokenize_lyrics_with_tags, line_num=False, genre=True)\n",
    "    song_title = df.title.apply(tokenize_lyrics_with_tags, line_num=False, song_title=True)\n",
    "\n",
    "    full_song = (['xbos'] + genre + song_title + lyrics + ['xeos'])\n",
    "\n",
    "    # split train/test\n",
    "    df_train, df_test = train_test_split(full_song, test_size=0.2, random_state=2018)\n",
    "\n",
    "    # tokens\n",
    "    print('Saving...')\n",
    "    tokens = np.array(df_train)\n",
    "    np.save(model_path/'train_tok.npy', tokens)\n",
    "\n",
    "    tokens = np.array(df_test)\n",
    "    np.save(model_path/'valid_tok.npy', tokens)\n",
    "    print('Done.')"
   ]
  },
  {
   "cell_type": "code",
   "execution_count": 10,
   "metadata": {},
   "outputs": [
    {
     "name": "stdout",
     "output_type": "stream",
     "text": [
      "Tokenizing...\n",
      "Saving...\n",
      "Done.\n"
     ]
    }
   ],
   "source": [
    "if MODEL_FIRST_RUN:\n",
    "    process_tokens(MODEL_PATH)"
   ]
  },
  {
   "cell_type": "markdown",
   "metadata": {},
   "source": [
    "## Load Data"
   ]
  },
  {
   "cell_type": "markdown",
   "metadata": {},
   "source": [
    "Now that we've created the tokens, let's load them into a `DataBunch` to train our LM further or generate text with a pre-trained LM."
   ]
  },
  {
   "cell_type": "code",
   "execution_count": 11,
   "metadata": {},
   "outputs": [
    {
     "name": "stdout",
     "output_type": "stream",
     "text": [
      "Numericalizing train.\n",
      "Numericalizing valid.\n"
     ]
    }
   ],
   "source": [
    "if MODEL_FIRST_RUN:\n",
    "    data_lm = TextLMDataBunch.from_tokens(MODEL_PATH,\n",
    "                                          bs=128,\n",
    "                                          max_vocab=20000)"
   ]
  },
  {
   "cell_type": "code",
   "execution_count": 12,
   "metadata": {},
   "outputs": [],
   "source": [
    "if not MODEL_FIRST_RUN:\n",
    "    data_lm = TextLMDataBunch.from_id_files(MODEL_PATH/'tmp')\n",
    "    data_lm.path = MODEL_PATH"
   ]
  },
  {
   "cell_type": "code",
   "execution_count": 13,
   "metadata": {},
   "outputs": [
    {
     "data": {
      "text/plain": [
       "20002"
      ]
     },
     "execution_count": 13,
     "metadata": {},
     "output_type": "execute_result"
    }
   ],
   "source": [
    "data_lm.train_ds.vocab_size"
   ]
  },
  {
   "cell_type": "markdown",
   "metadata": {},
   "source": [
    "## Model setup"
   ]
  },
  {
   "cell_type": "code",
   "execution_count": 14,
   "metadata": {},
   "outputs": [],
   "source": [
    "GPU = True\n",
    "DOWNLOAD_INIT_MODEL = True"
   ]
  },
  {
   "cell_type": "code",
   "execution_count": 15,
   "metadata": {},
   "outputs": [],
   "source": [
    "learn = RNNLearner.language_model(data_lm,\n",
    "                                  drop_mult=0.5)"
   ]
  },
  {
   "cell_type": "code",
   "execution_count": 16,
   "metadata": {},
   "outputs": [],
   "source": [
    "# weights_url = 'https://storage.googleapis.com/capstone-deep-lyrics/3.2-ULMFiT-108k_best.pth'\n",
    "# itos_url = 'https://storage.googleapis.com/capstone-deep-lyrics/3.2-ULMFiT-108k_best.pth'\n",
    "\n",
    "# if DOWNLOAD_INIT_MODEL:\n",
    "#     Path(MODEL_PATH/'models').mkdir(exist_ok=True)\n",
    "#     download_url(weights_url, MODEL_PATH/f'models/{model_name}_best.pth', overwrite=False)\n",
    "#     download_url(weights_url, MODEL_PATH/f'models/{model_name}_best.pth', overwrite=False)"
   ]
  },
  {
   "cell_type": "code",
   "execution_count": 17,
   "metadata": {},
   "outputs": [],
   "source": [
    "if DOWNLOAD_INIT_MODEL:\n",
    "    untar_data('https://s3.amazonaws.com/fast-ai-modelzoo/wt103',\n",
    "               dest=MODEL_PATH/'models'/f'{init_model_name}')\n",
    "    \n",
    "    # trained weights\n",
    "    with open(MODEL_PATH/'models'/f'{model_name}_best.pth', 'wb') as f:\n",
    "        res = requests.get(f'https://storage.googleapis.com/w210-capstone/models/{model_name}_best.pth')\n",
    "        f.write(res.content)"
   ]
  },
  {
   "cell_type": "markdown",
   "metadata": {},
   "source": [
    "**Create a folder in this model's directory with the name of the initializer model. In that folder, copy a .pth file in the form lstm_<init_model_name>.pth and a .pkl file in the form itos_<init_model_name>.pkl' in order to transfer weights and tokens correctly from the initializer model**"
   ]
  },
  {
   "cell_type": "code",
   "execution_count": 18,
   "metadata": {},
   "outputs": [],
   "source": [
    "if MODEL_FIRST_RUN:\n",
    "    learn.load_pretrained(MODEL_PATH/f'{init_model_name}/lstm_{init_model_name}.pth', \n",
    "                          MODEL_PATH/f'{init_model_name}/itos_{init_model_name}.pkl')"
   ]
  },
  {
   "cell_type": "code",
   "execution_count": 19,
   "metadata": {},
   "outputs": [],
   "source": [
    "def cpu_load(self, name:PathOrStr):\n",
    "    \"\"\"Load model onto CPU that was trained on a GPU `name` from `self.model_dir`.\n",
    "       We need these because the fastai load function doesn't allow for a remapping of the storage location.\"\"\"\n",
    "    self.model.load_state_dict(torch.load(self.path/self.model_dir/f'{name}.pth', map_location=lambda storage, loc: storage))\n",
    "\n",
    "setattr(RNNLearner, 'cpu_load', cpu_load) #monkey patch onto our RNNLearner"
   ]
  },
  {
   "cell_type": "code",
   "execution_count": 20,
   "metadata": {},
   "outputs": [],
   "source": [
    "if not MODEL_FIRST_RUN:\n",
    "    if not GPU:\n",
    "        learn.cpu_load(f'{model_name}_best')\n",
    "    else:\n",
    "        learn.load(f'{model_name}_best')"
   ]
  },
  {
   "cell_type": "markdown",
   "metadata": {},
   "source": [
    "## Training"
   ]
  },
  {
   "cell_type": "code",
   "execution_count": 21,
   "metadata": {},
   "outputs": [],
   "source": [
    "TRAIN = True"
   ]
  },
  {
   "cell_type": "code",
   "execution_count": 22,
   "metadata": {},
   "outputs": [],
   "source": [
    "@dataclass\n",
    "class SaveModel(LearnerCallback):\n",
    "    \"\"\"Save Latest Model\"\"\"\n",
    "    def __init__(self, learn:Learner, model_name='saved_model'):\n",
    "        super().__init__(learn)\n",
    "        self.model_name = model_name\n",
    "        self.model_date = datetime.datetime.now().strftime('%Y-%m-%d-%H-%M-%S')\n",
    "        self.best_loss = None\n",
    "        self.perplexity = []\n",
    "        \n",
    "    def on_epoch_end(self, epoch:int, metrics, last_metrics, **kwargs):\n",
    "        loss, *_ = last_metrics\n",
    "        perp = np.exp(loss)\n",
    "        self.perplexity.append(perp)\n",
    "        if self.best_loss == None or loss < self.best_loss:\n",
    "            self.best_loss = loss\n",
    "            self.learn.save(f'{self.model_name}_best')\n",
    "        return False\n",
    "    \n",
    "    def on_train_end(self, epoch:int, **kwargs):\n",
    "        self.learn.save(f'{self.model_name}_last')"
   ]
  },
  {
   "cell_type": "code",
   "execution_count": 23,
   "metadata": {},
   "outputs": [],
   "source": [
    "save_callback = SaveModel(learn, model_name=f'{model_name}')"
   ]
  },
  {
   "cell_type": "code",
   "execution_count": 24,
   "metadata": {},
   "outputs": [
    {
     "name": "stdout",
     "output_type": "stream",
     "text": [
      "Total time: 15:16\n",
      "epoch  train_loss  valid_loss  accuracy\n",
      "1      2.969606    2.931118    0.454506  (15:16)\n",
      "\n"
     ]
    }
   ],
   "source": [
    "if TRAIN:\n",
    "    learn.fit_one_cycle(1, 1e-2)"
   ]
  },
  {
   "cell_type": "code",
   "execution_count": 25,
   "metadata": {},
   "outputs": [
    {
     "name": "stdout",
     "output_type": "stream",
     "text": [
      "Total time: 2:33:10\n",
      "epoch  train_loss  valid_loss  accuracy\n",
      "1      2.909395    2.876515    0.461149  (15:19)\n",
      "2      2.829141    2.853313    0.464366  (15:19)\n",
      "3      2.783611    2.841889    0.466048  (15:13)\n",
      "4      2.743917    2.835246    0.467238  (15:20)\n",
      "5      2.750812    2.831923    0.467692  (15:16)\n",
      "6      2.715429    2.828545    0.468420  (15:20)\n",
      "7      2.694816    2.826393    0.468841  (15:21)\n",
      "8      2.668980    2.824646    0.469399  (15:19)\n",
      "9      2.656390    2.825332    0.469495  (15:21)\n",
      "10     2.633693    2.823861    0.469768  (15:17)\n",
      "\n"
     ]
    }
   ],
   "source": [
    "if TRAIN:\n",
    "    learn.unfreeze()\n",
    "    learn.fit(10, 1e-3, callbacks=[save_callback])"
   ]
  },
  {
   "cell_type": "code",
   "execution_count": null,
   "metadata": {},
   "outputs": [
    {
     "name": "stdout",
     "output_type": "stream",
     "text": [
      "best validation loss:  2.8238606\n"
     ]
    }
   ],
   "source": [
    "print(\"best validation loss: \", learn.save_model.best_loss)"
   ]
  },
  {
   "cell_type": "code",
   "execution_count": null,
   "metadata": {},
   "outputs": [],
   "source": [
    "#learn.save_encoder(f'{model_name}_encoder')"
   ]
  },
  {
   "cell_type": "markdown",
   "metadata": {},
   "source": [
    "### Learning Loss"
   ]
  },
  {
   "cell_type": "code",
   "execution_count": null,
   "metadata": {},
   "outputs": [
    {
     "data": {
      "image/png": "[encoded data removed]",
      "text/plain": [
       "<Figure size 432x288 with 1 Axes>"
      ]
     },
     "metadata": {},
     "output_type": "display_data"
    }
   ],
   "source": [
    "if TRAIN:\n",
    "    learn.recorder.plot_losses()"
   ]
  },
  {
   "cell_type": "markdown",
   "metadata": {},
   "source": [
    "### Model Output"
   ]
  },
  {
   "cell_type": "code",
   "execution_count": null,
   "metadata": {},
   "outputs": [],
   "source": [
    "if TRAIN:\n",
    "    MODEL_OUTPUT_NAME = MODEL_PATH/'models'/f'{model_name}_best.pth'\n",
    "    CLOUD_STORAGE = f'gs://w210-capstone/models/{model_name}_best.pth'"
   ]
  },
  {
   "cell_type": "code",
   "execution_count": null,
   "metadata": {},
   "outputs": [
    {
     "name": "stdout",
     "output_type": "stream",
     "text": [
      "Copying file://../data/models/4.1-LM-108k-lines-genre-song_title/models/4.1-LM-108k-lines-genre-song_title_best.pth [Content-Type=application/octet-stream]...\n",
      "==> NOTE: You are uploading one or more large file(s), which would run\n",
      "significantly faster if you enable parallel composite uploads. This\n",
      "feature can be enabled by editing the\n",
      "\"parallel_composite_upload_threshold\" value in your .boto\n",
      "configuration file. However, note that if you do this large files will\n",
      "be uploaded as `composite objects\n",
      "<https://cloud.google.com/storage/docs/composite-objects>`_,which\n",
      "means that any user who downloads such objects will need to have a\n",
      "compiled crcmod installed (see \"gsutil help crcmod\"). This is because\n",
      "without a compiled crcmod, computing checksums on composite objects is\n",
      "so slow that gsutil disables downloads of composite objects.\n",
      "\n",
      "|\n",
      "Operation completed over 1 objects/150.5 MiB.                                    \n"
     ]
    }
   ],
   "source": [
    "!gsutil cp $MODEL_OUTPUT_NAME $CLOUD_STORAGE"
   ]
  },
  {
   "cell_type": "code",
   "execution_count": 60,
   "metadata": {},
   "outputs": [],
   "source": [
    "ARCHITECTURE_PATH = MODEL_PATH/'models'/f'{model_name}_architecture.pkl'\n",
    "ARCHITECTURE_STORAGE = f'gs://w210-capstone/models/{model_name}_architecture.pkl'\n",
    "ITOS_PATH = MODEL_PATH/'tmp'/'itos.pkl'\n",
    "ITOS_STORAGE = f'gs://w210-capstone/models/{model_name}_itos.pkl'\n",
    "\n",
    "model_dump = learn.model\n",
    "with open(ARCHITECTURE_PATH, 'wb') as f:\n",
    "    pickle.dump(model_dump, f)"
   ]
  },
  {
   "cell_type": "code",
   "execution_count": 58,
   "metadata": {},
   "outputs": [
    {
     "name": "stdout",
     "output_type": "stream",
     "text": [
      "Copying file://../data/models/4.1-LM-108k-lines/models/4.1-LM-108k-lines_architecture.pkl [Content-Type=application/octet-stream]...\n",
      "==> NOTE: You are uploading one or more large file(s), which would run\n",
      "significantly faster if you enable parallel composite uploads. This\n",
      "feature can be enabled by editing the\n",
      "\"parallel_composite_upload_threshold\" value in your .boto\n",
      "configuration file. However, note that if you do this large files will\n",
      "be uploaded as `composite objects\n",
      "<https://cloud.google.com/storage/docs/composite-objects>`_,which\n",
      "means that any user who downloads such objects will need to have a\n",
      "compiled crcmod installed (see \"gsutil help crcmod\"). This is because\n",
      "without a compiled crcmod, computing checksums on composite objects is\n",
      "so slow that gsutil disables downloads of composite objects.\n",
      "\n",
      "|\n",
      "Operation completed over 1 objects/335.3 MiB.                                    \n"
     ]
    }
   ],
   "source": [
    "!gsutil cp $ARCHITECTURE_PATH $ARCHITECTURE_STORAGE"
   ]
  },
  {
   "cell_type": "code",
   "execution_count": 61,
   "metadata": {},
   "outputs": [
    {
     "name": "stdout",
     "output_type": "stream",
     "text": [
      "Copying file://../data/models/4.1-LM-108k-lines/tmp/itos.pkl [Content-Type=application/octet-stream]...\n",
      "/ [1 files][310.1 KiB/310.1 KiB]                                                \n",
      "Operation completed over 1 objects/310.1 KiB.                                    \n"
     ]
    }
   ],
   "source": [
    "!gsutil cp $ITOS_PATH $ITOS_STORAGE"
   ]
  },
  {
   "cell_type": "markdown",
   "metadata": {},
   "source": [
    "## Text Generation"
   ]
  },
  {
   "cell_type": "code",
   "execution_count": 41,
   "metadata": {},
   "outputs": [],
   "source": [
    "%load_ext autoreload\n",
    "%autoreload 2"
   ]
  },
  {
   "cell_type": "code",
   "execution_count": 129,
   "metadata": {},
   "outputs": [],
   "source": [
    "from src.nlp.generate_lyrics import DeepLyric"
   ]
  },
  {
   "cell_type": "code",
   "execution_count": 178,
   "metadata": {},
   "outputs": [],
   "source": [
    "deep_lyric = DeepLyric(learn.model, weights=None, itos=data_lm.train_ds.vocab.itos)"
   ]
  },
  {
   "cell_type": "code",
   "execution_count": 181,
   "metadata": {},
   "outputs": [],
   "source": [
    "deep_lyric.generate_text(seed_text='xbos xgenre', \n",
    "                         verbose=0, context_length=100, beam_width=4,\n",
    "                         max_len=200, top_k=2, temperature=1.5,\n",
    "                         GPU=True)"
   ]
  },
  {
   "cell_type": "code",
   "execution_count": 182,
   "metadata": {},
   "outputs": [
    {
     "name": "stdout",
     "output_type": "stream",
     "text": [
      "xbos\n",
      " xgenre nan \n",
      " xtitle burned from my girlfriend (lp version ) \n",
      "\n",
      "xbol-1 [verse-1] \n",
      " i see them every morning \n",
      " hoping she 'll be alright \n",
      " her legs stick tight \n",
      " that she don 't want to cry \n",
      " \n",
      " (if you 're not looking for her ) \n",
      " if she 's not looking for trouble \n",
      " (i 'll tell you the truth ) \n",
      " maybe this is not the right way to treat her right \n",
      " (if you 're not looking for love ) \n",
      " do you know what we 're looking for ? \n",
      " \n",
      " [chorus] \n",
      " if she 's looking to find the one \n",
      " so i 'm asking what it 's for \n",
      " like we used to do , i 've found some kind of love \n",
      " a certain kind of way to find \n",
      " some kind of loving for you \n",
      " \n",
      " [outro] \n",
      " what i 'm looking for \n",
      " what i 'm looking for \n",
      " what i 'm looking for \n",
      " xeos\n"
     ]
    }
   ],
   "source": [
    "deep_lyric.print_lyrics()"
   ]
  },
  {
   "cell_type": "code",
   "execution_count": null,
   "metadata": {},
   "outputs": [],
   "source": []
  }
 ],
 "metadata": {
  "kernelspec": {
   "display_name": "Python 3",
   "language": "python",
   "name": "python3"
  },
  "language_info": {
   "codemirror_mode": {
    "name": "ipython",
    "version": 3
   },
   "file_extension": ".py",
   "mimetype": "text/x-python",
   "name": "python",
   "nbconvert_exporter": "python",
   "pygments_lexer": "ipython3",
   "version": "3.6.5"
  }
 },
 "nbformat": 4,
 "nbformat_minor": 2
}
