{
 "cells": [
  {
   "cell_type": "markdown",
   "metadata": {},
   "source": [
    "## Validate Genius Lyrics"
   ]
  },
  {
   "cell_type": "markdown",
   "metadata": {},
   "source": [
    "This notebook contains the processing pipeline to validate the lyrics that were pulled and save to a single CSV file that is accessible by web.\n",
    "\n",
    "This notebook must be run on a Google Dataproc cluster with PySpark shell embedded into the Jupyter Notebook.\n",
    "\n",
    "Cluster Config:\n",
    "```\n",
    "gcloud dataproc clusters create w210-capstone \\\n",
    "  --metadata \"JUPYTER_CONDA_CHANNELS=conda-forge,JUPYTER_CONDA_PACKAGES=pandas:tqdm:beautifulsoup4:python-dotenv\" \\\n",
    "  --bucket w210-capstone \\\n",
    "  --subnet default \\\n",
    "  --zone $ZONE \\\n",
    "  --master-machine-type n1-standard-1 \\\n",
    "  --master-boot-disk-size 80 \\\n",
    "  --num-workers $WORKERS \\\n",
    "  --worker-machine-type n1-standard-1 \\\n",
    "  --worker-boot-disk-size 80 \\\n",
    "  --image-version 1.2 \\\n",
    "  --project w261-215522 \\\n",
    "  --initialization-actions \\\n",
    "      'gs://dataproc-initialization-actions/jupyter/jupyter.sh'\n",
    "```\n",
    "\n",
    "`$ZONE` == GCP Zone  \n",
    "`$WORKERS` == Number of nodes in cluster"
   ]
  },
  {
   "cell_type": "code",
   "execution_count": 1,
   "metadata": {
    "collapsed": true
   },
   "outputs": [
    {
     "data": {
      "text/html": [
       "\n",
       "        <div>\n",
       "            <p><b>SparkContext</b></p>\n",
       "\n",
       "            <p><a href=\"http://10.138.0.14:4040\">Spark UI</a></p>\n",
       "\n",
       "            <dl>\n",
       "              <dt>Version</dt>\n",
       "                <dd><code>v2.2.1</code></dd>\n",
       "              <dt>Master</dt>\n",
       "                <dd><code>yarn</code></dd>\n",
       "              <dt>AppName</dt>\n",
       "                <dd><code>pyspark-shell</code></dd>\n",
       "            </dl>\n",
       "        </div>\n",
       "        "
      ],
      "text/plain": [
       "<SparkContext master=yarn appName=pyspark-shell>"
      ]
     },
     "execution_count": 1,
     "metadata": {},
     "output_type": "execute_result"
    }
   ],
   "source": [
    "sc"
   ]
  },
  {
   "cell_type": "code",
   "execution_count": 2,
   "metadata": {
    "collapsed": true
   },
   "outputs": [
    {
     "data": {
      "text/html": [
       "\n",
       "            <div>\n",
       "                <p><b>SparkSession - hive</b></p>\n",
       "                \n",
       "        <div>\n",
       "            <p><b>SparkContext</b></p>\n",
       "\n",
       "            <p><a href=\"http://10.138.0.14:4040\">Spark UI</a></p>\n",
       "\n",
       "            <dl>\n",
       "              <dt>Version</dt>\n",
       "                <dd><code>v2.2.1</code></dd>\n",
       "              <dt>Master</dt>\n",
       "                <dd><code>yarn</code></dd>\n",
       "              <dt>AppName</dt>\n",
       "                <dd><code>pyspark-shell</code></dd>\n",
       "            </dl>\n",
       "        </div>\n",
       "        \n",
       "            </div>\n",
       "        "
      ],
      "text/plain": [
       "<pyspark.sql.session.SparkSession at 0x7feaa835de10>"
      ]
     },
     "execution_count": 2,
     "metadata": {},
     "output_type": "execute_result"
    }
   ],
   "source": [
    "spark"
   ]
  },
  {
   "cell_type": "code",
   "execution_count": 3,
   "metadata": {},
   "outputs": [],
   "source": [
    "import re"
   ]
  },
  {
   "cell_type": "markdown",
   "metadata": {},
   "source": [
    "## Bring in all the data"
   ]
  },
  {
   "cell_type": "code",
   "execution_count": 4,
   "metadata": {},
   "outputs": [
    {
     "data": {
      "text/plain": [
       "[('TRMMMYQ128F932D901',\n",
       "  'https://genius.com/Faster-pussycat-silent-night-lyrics'),\n",
       " ('TRMMMRX128F93187D9',\n",
       "  'https://genius.com/Hudson-mohawke-no-one-could-ever-lyrics'),\n",
       " ('TRMMMCH128F425532C', 'https://genius.com/Alan-lvb-la-vaina-brava-lyrics'),\n",
       " ('TRMMMBB12903CB7D21',\n",
       "  'https://genius.com/Kris-kross-2-da-beat-chyall-lyrics'),\n",
       " ('TRMMMXJ12903CBF111',\n",
       "  'https://genius.com/Jorge-negrete-el-hijo-del-pueblo-lyrics')]"
      ]
     },
     "execution_count": 4,
     "metadata": {},
     "output_type": "execute_result"
    }
   ],
   "source": [
    "metapath = 'gs:///genius-meta/genius_metadata.csv'\n",
    "meta = sc.textFile(metapath)\n",
    "meta = meta.map(lambda x: (x.split(',')[0], x.split(',')[2]))\\\n",
    "    .filter(lambda x: x[0] != 'msd_id')\\\n",
    "    .filter(lambda x: x[1] != '')\n",
    "meta.take(5)"
   ]
  },
  {
   "cell_type": "code",
   "execution_count": 5,
   "metadata": {},
   "outputs": [
    {
     "data": {
      "text/plain": [
       "[('TRMMMYQ128F932D901',\n",
       "  ['SOQMMHC12AB0180CB8', 'Faster Pussy cat', 'Silent Night']),\n",
       " ('TRMMMKD128F425225D',\n",
       "  ['SOVFVAK12A8C1350D9', 'Karkkiautomaatti', 'Tanssi vaan']),\n",
       " ('TRMMMRX128F93187D9',\n",
       "  ['SOGTUKN12AB017F4F1', 'Hudson Mohawke', 'No One Could Ever']),\n",
       " ('TRMMMCH128F425532C',\n",
       "  ['SOBNYVR12A8C13558C', 'Yerba Brava', 'Si Vos Querés']),\n",
       " ('TRMMMWA128F426B589',\n",
       "  ['SOHSBXH12A8C13B0DF', 'Der Mystic', 'Tangle Of Aspens'])]"
      ]
     },
     "execution_count": 5,
     "metadata": {},
     "output_type": "execute_result"
    }
   ],
   "source": [
    "msdpath = 'gs:///MSD/unique_tracks.txt'\n",
    "msd = sc.textFile(msdpath)\n",
    "# msd = msd.map(lambda x: (x.split('<SEP>')[0], x.split('<SEP>')[1], x.split('<SEP>')[2], x.split('<SEP>')[3]))\n",
    "msd = msd.map(lambda x: (x.split('<SEP>')[0], x.split('<SEP>')[1:]))\n",
    "msd.take(5)"
   ]
  },
  {
   "cell_type": "code",
   "execution_count": 6,
   "metadata": {
    "scrolled": true
   },
   "outputs": [
    {
     "data": {
      "text/plain": [
       "327298"
      ]
     },
     "execution_count": 6,
     "metadata": {},
     "output_type": "execute_result"
    }
   ],
   "source": [
    "# pull in main lyrics\n",
    "lyricspath = 'gs:///distributed-scrape'\n",
    "lyrics = spark.read.format(\"CSV\")\\\n",
    "    .option(\"header\",\"true\")\\\n",
    "    .option(\"multiLine\", \"true\")\\\n",
    "    .load(lyricspath)\n",
    "\n",
    "# pull in additiona lyrics\n",
    "lyricspath2 = 'gs:///genius-lyrics/genius_lyrics.csv'\n",
    "lyrics2 = spark.read.format(\"CSV\")\\\n",
    "    .option(\"header\",\"true\")\\\n",
    "    .option(\"multiLine\", \"true\")\\\n",
    "    .option(\"escape\", '\"')\\\n",
    "    .load(lyricspath2)\n",
    "\n",
    "lyricspath3 = 'gs:///subset-10k/genius_lyrics.csv'\n",
    "lyrics3 = spark.read.format(\"CSV\")\\\n",
    "    .option(\"header\",\"true\")\\\n",
    "    .option(\"multiLine\", \"true\")\\\n",
    "    .option(\"escape\", '\"')\\\n",
    "    .load(lyricspath3)\n",
    "\n",
    "lyrics_all = lyrics.union(lyrics2).union(lyrics3)\n",
    "lyrics_all.count()"
   ]
  },
  {
   "cell_type": "markdown",
   "metadata": {},
   "source": [
    "## Parse meta data and filter\n",
    "\n",
    "1. Parase Genius URL and space separate\n",
    "2. Remove parentheses and concatenate MSD artist/title\n",
    "3. Find the Jaccard Distance between (1) and (2) and filter out those that are less than 0.25\n",
    "4. Only keep lyrics with length < 5000"
   ]
  },
  {
   "cell_type": "code",
   "execution_count": 7,
   "metadata": {},
   "outputs": [],
   "source": [
    "def DistJaccard(str1, str2):\n",
    "    str1 = set(str1.split())\n",
    "    str2 = set(str2.split())\n",
    "    return float(len(str1 & str2)) / len(str1 | str2)\n",
    "\n",
    "def remove_parentheses(phrase):\n",
    "    return re.sub(r'\\([^)]+\\)', '', phrase).strip()\n",
    "\n",
    "def parse_genius_url(url_string):\n",
    "    url = re.search(r'https://genius.com/(.+)', url_string).group(1)\n",
    "    url = re.search(r'(.*)-lyrics', url).group(1)\n",
    "    return ' '.join(url.split('-')).lower()\n",
    "\n",
    "def parse_msd(artist, title):\n",
    "    a = remove_parentheses(artist).lower().strip()\n",
    "    t = remove_parentheses(title).lower().strip()\n",
    "    return a + ' ' + t"
   ]
  },
  {
   "cell_type": "code",
   "execution_count": 8,
   "metadata": {},
   "outputs": [
    {
     "data": {
      "text/plain": [
       "[('TRMMMYQ128F932D901', 'faster pussycat silent night'),\n",
       " ('TRMMMRX128F93187D9', 'hudson mohawke no one could ever'),\n",
       " ('TRMMMCH128F425532C', 'alan lvb la vaina brava'),\n",
       " ('TRMMMBB12903CB7D21', 'kris kross 2 da beat chyall'),\n",
       " ('TRMMMXJ12903CBF111', 'jorge negrete el hijo del pueblo')]"
      ]
     },
     "execution_count": 8,
     "metadata": {},
     "output_type": "execute_result"
    }
   ],
   "source": [
    "meta2 = meta.mapValues(parse_genius_url)\n",
    "meta2.take(5)"
   ]
  },
  {
   "cell_type": "code",
   "execution_count": 9,
   "metadata": {},
   "outputs": [
    {
     "data": {
      "text/plain": [
       "[('TRMMMYQ128F932D901', 'faster pussy cat silent night'),\n",
       " ('TRMMMKD128F425225D', 'karkkiautomaatti tanssi vaan'),\n",
       " ('TRMMMRX128F93187D9', 'hudson mohawke no one could ever'),\n",
       " ('TRMMMCH128F425532C', 'yerba brava si vos querés'),\n",
       " ('TRMMMWA128F426B589', 'der mystic tangle of aspens')]"
      ]
     },
     "execution_count": 9,
     "metadata": {},
     "output_type": "execute_result"
    }
   ],
   "source": [
    "msd2 = msd.mapValues(lambda x: parse_msd(x[1], x[2]))\n",
    "msd2.take(5)"
   ]
  },
  {
   "cell_type": "code",
   "execution_count": 10,
   "metadata": {},
   "outputs": [
    {
     "name": "stdout",
     "output_type": "stream",
     "text": [
      "327463\n"
     ]
    },
    {
     "data": {
      "text/plain": [
       "[Row(msd_id='TRMMWJS12903CBB7F5', url_parsed='aerosmith remember walking in the sand', msd_parsed='aerosmith remember', jac_dist=0.3333333333333333),\n",
       " Row(msd_id='TRMMWFG128F92DFAA2', url_parsed='ghost jigolo har megiddo', msd_parsed='hex subtek', jac_dist=0.0),\n",
       " Row(msd_id='TRMMWYJ128EF358EA7', url_parsed='retard o bot derelict', msd_parsed='retard-o-bot something from nothing', jac_dist=0.0),\n",
       " Row(msd_id='TRMMGDP128F933E59A', url_parsed='al green i say a little prayer', msd_parsed='al green i say a little prayer', jac_dist=1.0),\n",
       " Row(msd_id='TRMMGEG128F9300DC5', url_parsed='autechre acroyear2', msd_parsed='autechre acroyearii', jac_dist=0.3333333333333333)]"
      ]
     },
     "execution_count": 10,
     "metadata": {},
     "output_type": "execute_result"
    }
   ],
   "source": [
    "# join by msd_id and apply pointwise jaccard distance\n",
    "meta_msd = meta2.join(msd2, numPartitions=24)\n",
    "meta_msd2 = meta_msd.map(lambda x: (x[0], x[1][0], x[1][1], DistJaccard(x[1][0], x[1][1])))\n",
    "# meta_msd2.take(5)\n",
    "df_meta_msd = meta_msd2.toDF(['msd_id', 'url_parsed', 'msd_parsed', 'jac_dist'])\n",
    "print(df_meta_msd.count())\n",
    "df_meta_msd.take(5)"
   ]
  },
  {
   "cell_type": "markdown",
   "metadata": {},
   "source": [
    "Join meta data and lyrics"
   ]
  },
  {
   "cell_type": "code",
   "execution_count": 11,
   "metadata": {},
   "outputs": [
    {
     "data": {
      "text/plain": [
       "217325"
      ]
     },
     "execution_count": 11,
     "metadata": {},
     "output_type": "execute_result"
    }
   ],
   "source": [
    "df_meta_msd.createOrReplaceTempView('meta')\n",
    "lyrics_all.createOrReplaceTempView('lyrics')\n",
    "\n",
    "results = spark.sql(\"\"\"\n",
    "SELECT a.msd_id as msd_id, a.lyrics as lyrics\n",
    "FROM meta as b\n",
    "LEFT JOIN lyrics as a\n",
    "  ON a.msd_id == b.msd_id\n",
    "WHERE length(lyrics) < 5000 and b.jac_dist > 0.25\n",
    "\"\"\").cache()\n",
    "results.count()"
   ]
  },
  {
   "cell_type": "code",
   "execution_count": 12,
   "metadata": {
    "scrolled": true
   },
   "outputs": [
    {
     "data": {
      "text/plain": [
       "[Row(msd_id='TRAADJU128F92F58E1', lyrics='I hear you praying with your hands clasped over your chest\\nI hear men slaying while they say \"keep doing your best\"\\nI hear the laughter of someone up above\\nWho\\'s playing games in the name of love\\nI hear you laughing\\nI hear you laughing\\nI see people dying in the blood and the dust\\nAnd the gunshots of vicious murderous lust\\nI feel the sunshine as it heats up my blood\\nI feel it burning like my hate if I could\\nI hear you laughing\\nI hear you laughing\\nI hear the silence of a kid\\'s suicide\\nWho couldn\\'t find any place he could hide\\nI hear you laughing\\nI hear you laughing\\nI hear the chang ring as it hits your steel tills\\nAnd all the loving you save for your dollar bills\\nI hear my heart beat as I talk to myself\\nI\\'m just statistics to help you add to your wealth\\nI hear you laughing\\nI hear you laughing'),\n",
       " Row(msd_id='TRAADQX128F422B4CF', lyrics=\"\\n\\nIf you ever make it back to Nashville\\nRemember you have still got a friend\\nI'll meet you at the Parthenon\\nThat's the place we always went\\n\\nIt's been so dull since you left Nashville\\nI've read the same books again & again\\nIt makes me wish I wasn't bashful\\nWhen it comes to other men\\n\\nBut if I could have my way\\nDarling you'd come home\\n\\nRemember when you moved to Nashville\\n& the first time that we kissed\\nRemember when your mother found us\\nRemember that you're sorely missed\\n\\n& when you make it back to Nashville\\nWe'll forget all of your sins\\n& I still buy two pairs of everything\\nSo when you come home you & I'll be twins\\n\\nBecause if I could have my way\\nI wouldn't be alone\\n\\n\"),\n",
       " Row(msd_id='TRAAFTE128F429545F', lyrics=\"Just when I thought I was safe\\nYou found me in my hiding place\\nI promised never again\\nI wouldn't give my heart but then\\nCloser, closer I moved near you\\nThe way I want you makes me fear you\\n\\nLoves breaks and love divides\\nLove laughs and love can make you cry\\nI can't believe the ways\\nThat love can give and love can take away\\n\\nI find it hard to explain\\nIt's crazy, but it's happening\\nAnd I'm falling again\\nMuch further than I've ever been\\nI'm falling deeper than the ocean\\nI am lost in this emotion\\n\\nLoves breaks and love divides\\nLove laughs and love can make you cry\\nI can't believe the way\\nThat love can give and love can take away...\"),\n",
       " Row(msd_id='TRAAKAG128F4275D2A', lyrics='Paroles de la chanson Sultao Das Matas :\\nSultão das matas sou eu, sou eu\\nEu sou o sultão da minha aldeia\\nSultão das matas sou eu\\nEu sou o sultão da minha aldeia\\nSultão das matas sou eu....\\nBis'),\n",
       " Row(msd_id='TRAAMRO128F92F20D7', lyrics=\"From What You Whispered\\n..............................................\\n\\nTake your situation, all your circumstances\\nPut it on you like its made to fit you right\\nTake your friends and family, take the mile around you\\nTake the time thats left and step inside your life\\nSlip it like a glove around you\\nDon't you miss this love that's found you\\nLook at all that's real\\n\\nClimb in , wear it a like a suit around your heart\\nYou've been thinking you could not be where you are\\nEvery morning don't be thinking where you might have been\\nEvery morning, shake it out and step into your skin\\n\\nThere is no mistaking, this is where you've got to\\nHere's the life that you have dragged around so far\\nCause you could stretch it out and make it fit you better\\nIf you put it on and start with where you are\\nDon't be halfway out and dreaming\\nDon't be lost in doubt and scheming\\nLook at all that's real\\n\\nClimb in , wear it a like a suit around your heart\\nYou've been thinking you could not be where you are\\nEvery morning don't be thinking where you might have been\\nEvery morning, shake it out and step into your skin\\n\\n..............................................\\n\\nCopyright 2000 published by Midnight Ocean Bonfire Music (ASCAP)/Cindy Lou My Dear (ASCAP), a division of Soroka Music Ltd\")]"
      ]
     },
     "execution_count": 12,
     "metadata": {},
     "output_type": "execute_result"
    }
   ],
   "source": [
    "results.take(5)"
   ]
  },
  {
   "cell_type": "markdown",
   "metadata": {},
   "source": [
    "Write the results to GCS in distributed manner"
   ]
  },
  {
   "cell_type": "code",
   "execution_count": 14,
   "metadata": {},
   "outputs": [],
   "source": [
    "lyrics_valid = 'gs:///lyrics-valid'\n",
    "results.write.format(\"CSV\")\\\n",
    "    .option('header', 'false')\\\n",
    "    .option(\"multiLine\", \"true\")\\\n",
    "    .mode('overwrite')\\\n",
    "    .save(lyrics_valid)"
   ]
  },
  {
   "cell_type": "markdown",
   "metadata": {},
   "source": [
    "Concatenate all the CSVs into a single accessible file"
   ]
  },
  {
   "cell_type": "code",
   "execution_count": 20,
   "metadata": {},
   "outputs": [
    {
     "name": "stdout",
     "output_type": "stream",
     "text": [
      "18/10/17 22:01:39 INFO gcs.GoogleHadoopFileSystemBase: GHFS version: 1.6.10-hadoop2\n",
      "18/10/17 22:02:17 INFO gcs.GoogleHadoopFileSystemBase: GHFS version: 1.6.10-hadoop2\n",
      "copyFromLocal: `gs://w210-capstone/data/lyrics-valid.csv': No such file or directory\n"
     ]
    }
   ],
   "source": [
    "!hdfs dfs -cat gs://w210-capstone/lyrics-valid/part-000* > lyrics-valid.csv\n",
    "!gsutil cp lyrics-valid.csv gs://w210-capstone/data/lyrics-valid.csv"
   ]
  },
  {
   "cell_type": "code",
   "execution_count": null,
   "metadata": {},
   "outputs": [],
   "source": []
  }
 ],
 "metadata": {
  "kernelspec": {
   "display_name": "PySpark",
   "language": "python",
   "name": "pyspark"
  },
  "language_info": {
   "codemirror_mode": {
    "name": "ipython",
    "version": 3
   },
   "file_extension": ".py",
   "mimetype": "text/x-python",
   "name": "python",
   "nbconvert_exporter": "python",
   "pygments_lexer": "ipython3",
   "version": "3.6.5"
  }
 },
 "nbformat": 4,
 "nbformat_minor": 2
}