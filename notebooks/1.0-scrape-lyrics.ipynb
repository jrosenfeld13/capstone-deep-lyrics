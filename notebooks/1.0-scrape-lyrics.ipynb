{
 "cells": [
  {
   "cell_type": "code",
   "execution_count": 1,
   "metadata": {
    "collapsed": true
   },
   "outputs": [],
   "source": [
    "%load_ext autoreload"
   ]
  },
  {
   "cell_type": "code",
   "execution_count": 2,
   "metadata": {},
   "outputs": [],
   "source": [
    "%autoreload\n",
    "from dotenv import load_dotenv\n",
    "from src.data import scrape_genius_lyrics as scr\n",
    "import os"
   ]
  },
  {
   "cell_type": "code",
   "execution_count": 3,
   "metadata": {},
   "outputs": [],
   "source": [
    "load_dotenv()\n",
    "GENIUS = os.getenv(\"GENIUS\")"
   ]
  },
  {
   "cell_type": "code",
   "execution_count": 138,
   "metadata": {
    "collapsed": true
   },
   "outputs": [],
   "source": [
    "# def return_top_hit(query, token, max_retry=5):\n",
    "#     \"\"\"\n",
    "#     Args\n",
    "#       `query`: list of query terms (e.g. [artist name, song name])\n",
    "#       `token`: Auth token\n",
    "#     Returns\n",
    "#       Top hit meta data\n",
    "#     \"\"\"\n",
    "#     assert type(query) == list\n",
    "#     base_url = \"https://api.genius.com\"\n",
    "#     headers = {'Authorization': f'Bearer {token}'}\n",
    "#     search_url = base_url + \"/search\"\n",
    "    \n",
    "#     search_term = \" \".join(query)\n",
    "#     params = {'q': search_term}\n",
    "    \n",
    "#     # request with backoff\n",
    "#     for i in range(max_retry):\n",
    "#         response = requests.get(search_url,\n",
    "#                                 params=params,\n",
    "#                                 headers=headers)\n",
    "#         if response.status_code == 200:\n",
    "#             json = response.json()\n",
    "#             break\n",
    "#         elif i+1 < max_retry:\n",
    "#             time.sleep(2 ** i)\n",
    "#             pass\n",
    "#         else:\n",
    "#             pass\n",
    "#     assert i+1 != max_retry, \"Reached maximum retries.\"\n",
    "            \n",
    "#     res = json.get('response', {}).get('hits', None).pop(0)\n",
    "#     if res.get('type') == 'song':\n",
    "#         return res\n",
    "#     else:\n",
    "#         return None\n",
    "\n",
    "# def extract_url(hit):\n",
    "#     \"\"\"Extract URL\"\"\"\n",
    "#     return hit.get('result', {}).get('url')\n",
    "\n",
    "# def extract_lyrics(url):\n",
    "#     page = requests.get(url)\n",
    "#     html = BeautifulSoup(page.content, \"html.parser\")\n",
    "#     lyrics = html.find(\"div\", class_=\"lyrics\").get_text()\n",
    "#     return lyrics\n"
   ]
  },
  {
   "cell_type": "code",
   "execution_count": 4,
   "metadata": {
    "scrolled": false
   },
   "outputs": [
    {
     "ename": "AttributeError",
     "evalue": "module 'src.data.scrape_genius_lyrics' has no attribute 'return_top_hit'",
     "output_type": "error",
     "traceback": [
      "\u001b[0;31m---------------------------------------------------------------------------\u001b[0m",
      "\u001b[0;31mAttributeError\u001b[0m                            Traceback (most recent call last)",
      "\u001b[0;32m<ipython-input-4-9cac80865f09>\u001b[0m in \u001b[0;36m<module>\u001b[0;34m()\u001b[0m\n\u001b[0;32m----> 1\u001b[0;31m \u001b[0maaa\u001b[0m \u001b[0;34m=\u001b[0m \u001b[0mscr\u001b[0m\u001b[0;34m.\u001b[0m\u001b[0mreturn_top_hit\u001b[0m\u001b[0;34m(\u001b[0m\u001b[0;34m[\u001b[0m\u001b[0;34m'kaskade'\u001b[0m\u001b[0;34m,\u001b[0m \u001b[0;34m'angel on my shoulders'\u001b[0m\u001b[0;34m]\u001b[0m\u001b[0;34m,\u001b[0m \u001b[0mtoken\u001b[0m\u001b[0;34m=\u001b[0m\u001b[0mGENIUS\u001b[0m\u001b[0;34m)\u001b[0m\u001b[0;34m\u001b[0m\u001b[0m\n\u001b[0m\u001b[1;32m      2\u001b[0m \u001b[0maaa_url\u001b[0m \u001b[0;34m=\u001b[0m \u001b[0mscr\u001b[0m\u001b[0;34m.\u001b[0m\u001b[0mextract_url\u001b[0m\u001b[0;34m(\u001b[0m\u001b[0maaa\u001b[0m\u001b[0;34m)\u001b[0m\u001b[0;34m\u001b[0m\u001b[0m\n\u001b[1;32m      3\u001b[0m \u001b[0maaa_lyrics\u001b[0m \u001b[0;34m=\u001b[0m \u001b[0mscr\u001b[0m\u001b[0;34m.\u001b[0m\u001b[0mextract_lyrics\u001b[0m\u001b[0;34m(\u001b[0m\u001b[0maaa_url\u001b[0m\u001b[0;34m)\u001b[0m\u001b[0;34m\u001b[0m\u001b[0m\n",
      "\u001b[0;31mAttributeError\u001b[0m: module 'src.data.scrape_genius_lyrics' has no attribute 'return_top_hit'"
     ]
    }
   ],
   "source": [
    "aaa = scr.return_top_hit(['kaskade', 'angel on my shoulders'], token=GENIUS)\n",
    "aaa_url = scr.extract_url(aaa)\n",
    "aaa_lyrics = scr.extract_lyrics(aaa_url)"
   ]
  },
  {
   "cell_type": "code",
   "execution_count": 11,
   "metadata": {},
   "outputs": [
    {
     "ename": "NameError",
     "evalue": "name 'aaa_lyrics' is not defined",
     "output_type": "error",
     "traceback": [
      "\u001b[0;31m---------------------------------------------------------------------------\u001b[0m",
      "\u001b[0;31mNameError\u001b[0m                                 Traceback (most recent call last)",
      "\u001b[0;32m<ipython-input-11-5cc9dd1f8f80>\u001b[0m in \u001b[0;36m<module>\u001b[0;34m()\u001b[0m\n\u001b[0;32m----> 1\u001b[0;31m \u001b[0mprint\u001b[0m\u001b[0;34m(\u001b[0m\u001b[0maaa_lyrics\u001b[0m\u001b[0;34m)\u001b[0m\u001b[0;34m\u001b[0m\u001b[0m\n\u001b[0m",
      "\u001b[0;31mNameError\u001b[0m: name 'aaa_lyrics' is not defined"
     ]
    }
   ],
   "source": [
    "print(aaa_lyrics)"
   ]
  },
  {
   "cell_type": "code",
   "execution_count": null,
   "metadata": {
    "collapsed": true
   },
   "outputs": [],
   "source": []
  },
  {
   "cell_type": "code",
   "execution_count": null,
   "metadata": {
    "collapsed": true
   },
   "outputs": [],
   "source": []
  },
  {
   "cell_type": "code",
   "execution_count": null,
   "metadata": {
    "collapsed": true
   },
   "outputs": [],
   "source": []
  },
  {
   "cell_type": "code",
   "execution_count": null,
   "metadata": {
    "collapsed": true
   },
   "outputs": [],
   "source": []
  }
 ],
 "metadata": {
  "kernelspec": {
   "display_name": "Python 3",
   "language": "python",
   "name": "python3"
  },
  "language_info": {
   "codemirror_mode": {
    "name": "ipython",
    "version": 3
   },
   "file_extension": ".py",
   "mimetype": "text/x-python",
   "name": "python",
   "nbconvert_exporter": "python",
   "pygments_lexer": "ipython3",
   "version": "3.6.3"
  },
  "toc": {
   "base_numbering": 1,
   "nav_menu": {},
   "number_sections": true,
   "sideBar": true,
   "skip_h1_title": true,
   "title_cell": "Table of Contents",
   "title_sidebar": "Contents",
   "toc_cell": false,
   "toc_position": {},
   "toc_section_display": true,
   "toc_window_display": false
  }
 },
 "nbformat": 4,
 "nbformat_minor": 2
}
