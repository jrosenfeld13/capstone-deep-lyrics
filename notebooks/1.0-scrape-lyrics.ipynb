{
 "cells": [
  {
   "cell_type": "code",
   "execution_count": 1,
   "metadata": {
    "collapsed": true
   },
   "outputs": [],
   "source": [
    "%load_ext autoreload"
   ]
  },
  {
   "cell_type": "code",
   "execution_count": 2,
   "metadata": {},
   "outputs": [],
   "source": [
    "%autoreload\n",
    "from dotenv import load_dotenv\n",
    "from src.data import scrape_genius_lyrics as scr\n",
    "import os"
   ]
  },
  {
   "cell_type": "code",
   "execution_count": 3,
   "metadata": {},
   "outputs": [],
   "source": [
    "load_dotenv()\n",
    "GENIUS = os.getenv(\"GENIUS\")"
   ]
  },
  {
   "cell_type": "code",
   "execution_count": 6,
   "metadata": {
    "scrolled": false
   },
   "outputs": [],
   "source": [
    "hit = scr.return_top_hit(['kaskade', 'angel on my shoulders'], token=GENIUS)\n",
    "hit_url = scr.extract_url(hit)\n",
    "hit_lyrics = scr.extract_lyrics(hit_url)"
   ]
  },
  {
   "cell_type": "code",
   "execution_count": 7,
   "metadata": {
    "scrolled": true
   },
   "outputs": [
    {
     "name": "stdout",
     "output_type": "stream",
     "text": [
      "\n",
      "\n",
      "[Verse 1]\n",
      "It's time you see\n",
      "The love you give\n",
      "Is killing me\n",
      "And I want to live\n",
      "This isn't right\n",
      "Search your soul for light\n",
      "\n",
      "[Pre-Chorus]\n",
      "So I'm turning left\n",
      "I told myself\n",
      "I could be as bad as someone else\n",
      "But I find it hard\n",
      "When angel's on my right\n",
      "\n",
      "[Chorus]\n",
      "But you held my hand\n",
      "And took me right back down to hell\n",
      "I have an angel on my shoulder but a devil in my hand\n",
      "But you held my hand\n",
      "And took me right back down to hell\n",
      "I have an angel on my shoulder but a devil in my hand\n",
      "\n",
      "[Verse 2]\n",
      "Why won't you go\n",
      "No means no\n",
      "Your dirty life\n",
      "Is like a one man show\n",
      "You're a night attack\n",
      "You turn the light to black\n",
      "\n",
      "[Pre-Chorus]\n",
      "So I'm turning left\n",
      "I told myself\n",
      "I could be as bad as someone else\n",
      "But I find it hard\n",
      "When angel's on my right\n",
      "\n",
      "[Chorus]\n",
      "But you held my hand\n",
      "And took me right back down to hell\n",
      "I have an angel on my shoulder but a devil in my hand\n",
      "But you held my hand\n",
      "And took me right back down to hell\n",
      "I have an angel on my shoulder but a devil in my hand\n",
      "\n",
      "[Bridge]\n",
      "Talk to me\n",
      "Walk with me\n",
      "Come with me\n",
      "Beautiful lady\n",
      "Beautiful lady\n",
      "Will you come and save me\n",
      "Come to me\n",
      "(come back here)\n",
      "Walk with me\n",
      "(come back here)\n",
      "\n",
      "[Chorus]\n",
      "But you held my hand\n",
      "And took me right back down to hell\n",
      "I have an angel on my shoulder but a devil in my hand\n",
      "(come back here)\n",
      "But you held my hand\n",
      "And took me right back down to hell\n",
      "I have an angel on my shoulder but a devil in my hand\n",
      "\n",
      "[Outro]\n",
      "Come back here\n",
      "Come back here\n",
      "\n",
      "\n"
     ]
    }
   ],
   "source": [
    "print(hit_lyrics)"
   ]
  },
  {
   "cell_type": "code",
   "execution_count": null,
   "metadata": {
    "collapsed": true
   },
   "outputs": [],
   "source": []
  },
  {
   "cell_type": "code",
   "execution_count": null,
   "metadata": {
    "collapsed": true
   },
   "outputs": [],
   "source": []
  },
  {
   "cell_type": "code",
   "execution_count": null,
   "metadata": {
    "collapsed": true
   },
   "outputs": [],
   "source": []
  },
  {
   "cell_type": "code",
   "execution_count": null,
   "metadata": {
    "collapsed": true
   },
   "outputs": [],
   "source": []
  }
 ],
 "metadata": {
  "kernelspec": {
   "display_name": "Python 3",
   "language": "python",
   "name": "python3"
  },
  "language_info": {
   "codemirror_mode": {
    "name": "ipython",
    "version": 3
   },
   "file_extension": ".py",
   "mimetype": "text/x-python",
   "name": "python",
   "nbconvert_exporter": "python",
   "pygments_lexer": "ipython3",
   "version": "3.6.3"
  },
  "toc": {
   "base_numbering": 1,
   "nav_menu": {},
   "number_sections": true,
   "sideBar": true,
   "skip_h1_title": true,
   "title_cell": "Table of Contents",
   "title_sidebar": "Contents",
   "toc_cell": false,
   "toc_position": {},
   "toc_section_display": true,
   "toc_window_display": false
  }
 },
 "nbformat": 4,
 "nbformat_minor": 2
}
