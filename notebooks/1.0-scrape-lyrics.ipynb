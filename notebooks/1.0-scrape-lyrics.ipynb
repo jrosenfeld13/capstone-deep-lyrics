{
 "cells": [
  {
   "cell_type": "code",
   "execution_count": 1,
   "metadata": {
    "collapsed": true
   },
   "outputs": [],
   "source": [
    "%load_ext autoreload"
   ]
  },
  {
   "cell_type": "code",
   "execution_count": 48,
   "metadata": {},
   "outputs": [],
   "source": [
    "%autoreload\n",
    "from dotenv import load_dotenv\n",
    "from src.data import scrape_genius_lyrics as scr\n",
    "import os\n",
    "import json"
   ]
  },
  {
   "cell_type": "code",
   "execution_count": 22,
   "metadata": {},
   "outputs": [],
   "source": [
    "load_dotenv()\n",
    "GENIUS = os.getenv(\"GENIUS\")"
   ]
  },
  {
   "cell_type": "markdown",
   "metadata": {},
   "source": [
    "## Sample pull of single song lyric"
   ]
  },
  {
   "cell_type": "code",
   "execution_count": 4,
   "metadata": {
    "scrolled": false
   },
   "outputs": [],
   "source": [
    "hit = scr.return_top_hit(['kaskade', 'angel on my shoulders'], token=GENIUS)\n",
    "hit_url = scr.extract_url(hit)\n",
    "hit_lyrics = scr.extract_lyrics(hit_url)"
   ]
  },
  {
   "cell_type": "code",
   "execution_count": 5,
   "metadata": {
    "scrolled": true
   },
   "outputs": [
    {
     "name": "stdout",
     "output_type": "stream",
     "text": [
      "\n",
      "\n",
      "[Verse 1]\n",
      "It's time you see\n",
      "The love you give\n",
      "Is killing me\n",
      "And I want to live\n",
      "This isn't right\n",
      "Search your soul for light\n",
      "\n",
      "[Pre-Chorus]\n",
      "So I'm turning left\n",
      "I told myself\n",
      "I could be as bad as someone else\n",
      "But I find it hard\n",
      "When angel's on my right\n",
      "\n",
      "[Chorus]\n",
      "But you held my hand\n",
      "And took me right back down to hell\n",
      "I have an angel on my shoulder but a devil in my hand\n",
      "But you held my hand\n",
      "And took me right back down to hell\n",
      "I have an angel on my shoulder but a devil in my hand\n",
      "\n",
      "[Verse 2]\n",
      "Why won't you go\n",
      "No means no\n",
      "Your dirty life\n",
      "Is like a one man show\n",
      "You're a night attack\n",
      "You turn the light to black\n",
      "\n",
      "[Pre-Chorus]\n",
      "So I'm turning left\n",
      "I told myself\n",
      "I could be as bad as someone else\n",
      "But I find it hard\n",
      "When angel's on my right\n",
      "\n",
      "[Chorus]\n",
      "But you held my hand\n",
      "And took me right back down to hell\n",
      "I have an angel on my shoulder but a devil in my hand\n",
      "But you held my hand\n",
      "And took me right back down to hell\n",
      "I have an angel on my shoulder but a devil in my hand\n",
      "\n",
      "[Bridge]\n",
      "Talk to me\n",
      "Walk with me\n",
      "Come with me\n",
      "Beautiful lady\n",
      "Beautiful lady\n",
      "Will you come and save me\n",
      "Come to me\n",
      "(come back here)\n",
      "Walk with me\n",
      "(come back here)\n",
      "\n",
      "[Chorus]\n",
      "But you held my hand\n",
      "And took me right back down to hell\n",
      "I have an angel on my shoulder but a devil in my hand\n",
      "(come back here)\n",
      "But you held my hand\n",
      "And took me right back down to hell\n",
      "I have an angel on my shoulder but a devil in my hand\n",
      "\n",
      "[Outro]\n",
      "Come back here\n",
      "Come back here\n",
      "\n",
      "\n"
     ]
    }
   ],
   "source": [
    "print(hit_lyrics)"
   ]
  },
  {
   "cell_type": "markdown",
   "metadata": {},
   "source": [
    "## Use MSD to build search terms\n",
    "\n",
    "Sample run with just 5 tracks"
   ]
  },
  {
   "cell_type": "code",
   "execution_count": 38,
   "metadata": {
    "collapsed": true
   },
   "outputs": [
    {
     "data": {
      "text/html": [
       "<div>\n",
       "<style>\n",
       "    .dataframe thead tr:only-child th {\n",
       "        text-align: right;\n",
       "    }\n",
       "\n",
       "    .dataframe thead th {\n",
       "        text-align: left;\n",
       "    }\n",
       "\n",
       "    .dataframe tbody tr th {\n",
       "        vertical-align: top;\n",
       "    }\n",
       "</style>\n",
       "<table border=\"1\" class=\"dataframe\">\n",
       "  <thead>\n",
       "    <tr style=\"text-align: right;\">\n",
       "      <th></th>\n",
       "      <th>trackid</th>\n",
       "      <th>songid</th>\n",
       "      <th>artist</th>\n",
       "      <th>title</th>\n",
       "    </tr>\n",
       "  </thead>\n",
       "  <tbody>\n",
       "    <tr>\n",
       "      <th>0</th>\n",
       "      <td>TRAAAAW128F429D538</td>\n",
       "      <td>SOMZWCG12A8C13C480</td>\n",
       "      <td>Casual</td>\n",
       "      <td>I Didn't Mean To</td>\n",
       "    </tr>\n",
       "    <tr>\n",
       "      <th>1</th>\n",
       "      <td>TRAAABD128F429CF47</td>\n",
       "      <td>SOCIWDW12A8C13D406</td>\n",
       "      <td>The Box Tops</td>\n",
       "      <td>Soul Deep</td>\n",
       "    </tr>\n",
       "    <tr>\n",
       "      <th>2</th>\n",
       "      <td>TRAAADZ128F9348C2E</td>\n",
       "      <td>SOXVLOJ12AB0189215</td>\n",
       "      <td>Sonora Santanera</td>\n",
       "      <td>Amor De Cabaret</td>\n",
       "    </tr>\n",
       "    <tr>\n",
       "      <th>3</th>\n",
       "      <td>TRAAAEF128F4273421</td>\n",
       "      <td>SONHOTT12A8C13493C</td>\n",
       "      <td>Adam Ant</td>\n",
       "      <td>Something Girls</td>\n",
       "    </tr>\n",
       "    <tr>\n",
       "      <th>4</th>\n",
       "      <td>TRAAAFD128F92F423A</td>\n",
       "      <td>SOFSOCN12A8C143F5D</td>\n",
       "      <td>Gob</td>\n",
       "      <td>Face the Ashes</td>\n",
       "    </tr>\n",
       "  </tbody>\n",
       "</table>\n",
       "</div>"
      ],
      "text/plain": [
       "              trackid              songid            artist             title\n",
       "0  TRAAAAW128F429D538  SOMZWCG12A8C13C480            Casual  I Didn't Mean To\n",
       "1  TRAAABD128F429CF47  SOCIWDW12A8C13D406      The Box Tops         Soul Deep\n",
       "2  TRAAADZ128F9348C2E  SOXVLOJ12AB0189215  Sonora Santanera   Amor De Cabaret\n",
       "3  TRAAAEF128F4273421  SONHOTT12A8C13493C          Adam Ant   Something Girls\n",
       "4  TRAAAFD128F92F423A  SOFSOCN12A8C143F5D               Gob    Face the Ashes"
      ]
     },
     "execution_count": 38,
     "metadata": {},
     "output_type": "execute_result"
    }
   ],
   "source": [
    "import pandas as pd\n",
    "ut = '../data/external/MillionSongSubset/AdditionalFiles/subset_unique_tracks.txt'\n",
    "df = pd.read_csv(ut, sep='<SEP>', header=None, engine='python',\n",
    "                 names=['trackid', 'songid', 'artist', 'title'])\n",
    "df.head()"
   ]
  },
  {
   "cell_type": "markdown",
   "metadata": {},
   "source": [
    "Extract MSD track id and search terms based on arist and title"
   ]
  },
  {
   "cell_type": "code",
   "execution_count": 28,
   "metadata": {
    "collapsed": true
   },
   "outputs": [
    {
     "data": {
      "text/plain": [
       "[('TRAAAAW128F429D538', ['casual', \"i didn't mean to\"]),\n",
       " ('TRAAABD128F429CF47', ['the box tops', 'soul deep']),\n",
       " ('TRAAADZ128F9348C2E', ['sonora santanera', 'amor de cabaret']),\n",
       " ('TRAAAEF128F4273421', ['adam ant', 'something girls']),\n",
       " ('TRAAAFD128F92F423A', ['gob', 'face the ashes'])]"
      ]
     },
     "execution_count": 28,
     "metadata": {},
     "output_type": "execute_result"
    }
   ],
   "source": [
    "songs = []\n",
    "for row in df.head().itertuples(index=False):\n",
    "    tup = (row.trackid, [row.artist.lower(), row.title.lower()])\n",
    "    songs.append(tup)\n",
    "songs"
   ]
  },
  {
   "cell_type": "markdown",
   "metadata": {},
   "source": [
    "Use Genius search API to retrieve top hit for search term and store response with all meta data"
   ]
  },
  {
   "cell_type": "code",
   "execution_count": 43,
   "metadata": {},
   "outputs": [
    {
     "data": {
      "text/plain": [
       "[['TRAAAAW128F429D538',\n",
       "  {'highlights': [],\n",
       "   'index': 'song',\n",
       "   'result': {'annotation_count': 14,\n",
       "    'api_path': '/songs/13078',\n",
       "    'full_title': \"I Didn't Mean To by\\xa0Casual (Ft.\\xa0Del\\xa0The Funky Homosapien)\",\n",
       "    'header_image_thumbnail_url': 'https://images.genius.com/6e1e86e7d9fe4b305b19612ea7ac9355.300x298x1.jpg',\n",
       "    'header_image_url': 'https://images.genius.com/6e1e86e7d9fe4b305b19612ea7ac9355.400x397x1.jpg',\n",
       "    'id': 13078,\n",
       "    'lyrics_owner_id': 50,\n",
       "    'lyrics_state': 'complete',\n",
       "    'path': '/Casual-i-didnt-mean-to-lyrics',\n",
       "    'primary_artist': {'api_path': '/artists/2904',\n",
       "     'header_image_url': 'https://images.genius.com/14b78c83e54cc4084facb840e8387e22.1000x750x1.jpg',\n",
       "     'id': 2904,\n",
       "     'image_url': 'https://images.genius.com/14b78c83e54cc4084facb840e8387e22.1000x750x1.jpg',\n",
       "     'is_meme_verified': False,\n",
       "     'is_verified': False,\n",
       "     'name': 'Casual',\n",
       "     'url': 'https://genius.com/artists/Casual'},\n",
       "    'pyongs_count': None,\n",
       "    'song_art_image_thumbnail_url': 'https://images.genius.com/6e1e86e7d9fe4b305b19612ea7ac9355.300x298x1.jpg',\n",
       "    'stats': {'hot': False, 'unreviewed_annotations': 0},\n",
       "    'title': \"I Didn't Mean To\",\n",
       "    'title_with_featured': \"I Didn't Mean To (Ft.\\xa0Del\\xa0The Funky Homosapien)\",\n",
       "    'url': 'https://genius.com/Casual-i-didnt-mean-to-lyrics'},\n",
       "   'type': 'song'}],\n",
       " ['TRAAABD128F429CF47',\n",
       "  {'highlights': [],\n",
       "   'index': 'song',\n",
       "   'result': {'annotation_count': 1,\n",
       "    'api_path': '/songs/1633672',\n",
       "    'full_title': 'Soul Deep by\\xa0The\\xa0Box Tops',\n",
       "    'header_image_thumbnail_url': 'https://images.genius.com/2af07317fa7cadbd7f2f9de1fac9fdff.300x300x1.png',\n",
       "    'header_image_url': 'https://images.genius.com/2af07317fa7cadbd7f2f9de1fac9fdff.558x558x1.png',\n",
       "    'id': 1633672,\n",
       "    'lyrics_owner_id': 1549345,\n",
       "    'lyrics_state': 'complete',\n",
       "    'path': '/The-box-tops-soul-deep-lyrics',\n",
       "    'primary_artist': {'api_path': '/artists/202251',\n",
       "     'header_image_url': 'https://images.genius.com/a3e42ef9a3822435b9a028bdcd110704.720x558x1.png',\n",
       "     'id': 202251,\n",
       "     'image_url': 'https://images.genius.com/2af07317fa7cadbd7f2f9de1fac9fdff.558x558x1.png',\n",
       "     'is_meme_verified': False,\n",
       "     'is_verified': False,\n",
       "     'name': 'The Box Tops',\n",
       "     'url': 'https://genius.com/artists/The-box-tops'},\n",
       "    'pyongs_count': None,\n",
       "    'song_art_image_thumbnail_url': 'https://images.genius.com/2af07317fa7cadbd7f2f9de1fac9fdff.300x300x1.png',\n",
       "    'stats': {'hot': False, 'unreviewed_annotations': 0},\n",
       "    'title': 'Soul Deep',\n",
       "    'title_with_featured': 'Soul Deep',\n",
       "    'url': 'https://genius.com/The-box-tops-soul-deep-lyrics'},\n",
       "   'type': 'song'}],\n",
       " ['TRAAADZ128F9348C2E',\n",
       "  {'highlights': [],\n",
       "   'index': 'song',\n",
       "   'result': {'annotation_count': 1,\n",
       "    'api_path': '/songs/1048686',\n",
       "    'full_title': 'Amor De Cabaret by\\xa0La\\xa0Sonora Santanera',\n",
       "    'header_image_thumbnail_url': 'https://images.genius.com/dae93b83106aeb86b8f6c3e6834d0cea.300x300x1.jpg',\n",
       "    'header_image_url': 'https://images.genius.com/dae93b83106aeb86b8f6c3e6834d0cea.900x900x1.jpg',\n",
       "    'id': 1048686,\n",
       "    'lyrics_owner_id': 1549345,\n",
       "    'lyrics_state': 'complete',\n",
       "    'path': '/La-sonora-santanera-amor-de-cabaret-lyrics',\n",
       "    'primary_artist': {'api_path': '/artists/367221',\n",
       "     'header_image_url': 'https://images.genius.com/d4f5b4f07122f9869a2986595273feba.1000x562x1.jpg',\n",
       "     'id': 367221,\n",
       "     'image_url': 'https://images.genius.com/dae93b83106aeb86b8f6c3e6834d0cea.900x900x1.jpg',\n",
       "     'is_meme_verified': False,\n",
       "     'is_verified': False,\n",
       "     'name': 'La Sonora Santanera',\n",
       "     'url': 'https://genius.com/artists/La-sonora-santanera'},\n",
       "    'pyongs_count': None,\n",
       "    'song_art_image_thumbnail_url': 'https://images.genius.com/dae93b83106aeb86b8f6c3e6834d0cea.300x300x1.jpg',\n",
       "    'stats': {'hot': False, 'unreviewed_annotations': 0},\n",
       "    'title': 'Amor De Cabaret',\n",
       "    'title_with_featured': 'Amor De Cabaret',\n",
       "    'url': 'https://genius.com/La-sonora-santanera-amor-de-cabaret-lyrics'},\n",
       "   'type': 'song'}],\n",
       " ['TRAAAEF128F4273421',\n",
       "  {'highlights': [],\n",
       "   'index': 'song',\n",
       "   'result': {'annotation_count': 0,\n",
       "    'api_path': '/songs/752887',\n",
       "    'full_title': 'Something Girls by\\xa0Adam\\xa0Ant',\n",
       "    'header_image_thumbnail_url': 'https://images.genius.com/619296e88bc3842348a81ff20366e23e.300x300x1.jpg',\n",
       "    'header_image_url': 'https://images.genius.com/619296e88bc3842348a81ff20366e23e.650x650x1.jpg',\n",
       "    'id': 752887,\n",
       "    'lyrics_owner_id': 1549345,\n",
       "    'lyrics_state': 'complete',\n",
       "    'path': '/Adam-ant-something-girls-lyrics',\n",
       "    'primary_artist': {'api_path': '/artists/67857',\n",
       "     'header_image_url': 'https://images.genius.com/7eadb9a2f0284e2a84cd2201be5759ca.900x900x1.jpg',\n",
       "     'id': 67857,\n",
       "     'image_url': 'https://images.genius.com/7eadb9a2f0284e2a84cd2201be5759ca.900x900x1.jpg',\n",
       "     'is_meme_verified': False,\n",
       "     'is_verified': False,\n",
       "     'name': 'Adam Ant',\n",
       "     'url': 'https://genius.com/artists/Adam-ant'},\n",
       "    'pyongs_count': None,\n",
       "    'song_art_image_thumbnail_url': 'https://images.genius.com/619296e88bc3842348a81ff20366e23e.300x300x1.jpg',\n",
       "    'stats': {'hot': False, 'unreviewed_annotations': 0},\n",
       "    'title': 'Something Girls',\n",
       "    'title_with_featured': 'Something Girls',\n",
       "    'url': 'https://genius.com/Adam-ant-something-girls-lyrics'},\n",
       "   'type': 'song'}],\n",
       " ['TRAAAFD128F92F423A',\n",
       "  {'highlights': [],\n",
       "   'index': 'song',\n",
       "   'result': {'annotation_count': 1,\n",
       "    'api_path': '/songs/1240187',\n",
       "    'full_title': 'Face The Ashes by\\xa0Gob',\n",
       "    'header_image_thumbnail_url': 'https://images.genius.com/e2f17583887c17934cdea2ceb284116c.185x185x1.jpg',\n",
       "    'header_image_url': 'https://images.genius.com/e2f17583887c17934cdea2ceb284116c.185x185x1.jpg',\n",
       "    'id': 1240187,\n",
       "    'lyrics_owner_id': 1549345,\n",
       "    'lyrics_state': 'complete',\n",
       "    'path': '/Gob-face-the-ashes-lyrics',\n",
       "    'primary_artist': {'api_path': '/artists/273034',\n",
       "     'header_image_url': 'https://images.genius.com/e2f17583887c17934cdea2ceb284116c.185x185x1.jpg',\n",
       "     'id': 273034,\n",
       "     'image_url': 'https://images.genius.com/e2f17583887c17934cdea2ceb284116c.185x185x1.jpg',\n",
       "     'is_meme_verified': False,\n",
       "     'is_verified': False,\n",
       "     'name': 'Gob',\n",
       "     'url': 'https://genius.com/artists/Gob'},\n",
       "    'pyongs_count': None,\n",
       "    'song_art_image_thumbnail_url': 'https://images.genius.com/e2f17583887c17934cdea2ceb284116c.185x185x1.jpg',\n",
       "    'stats': {'hot': False, 'unreviewed_annotations': 0},\n",
       "    'title': 'Face The Ashes',\n",
       "    'title_with_featured': 'Face The Ashes',\n",
       "    'url': 'https://genius.com/Gob-face-the-ashes-lyrics'},\n",
       "   'type': 'song'}]]"
      ]
     },
     "execution_count": 43,
     "metadata": {},
     "output_type": "execute_result"
    }
   ],
   "source": [
    "genius = []\n",
    "for song in songs:\n",
    "    trackid, search_terms = song\n",
    "    hit = scr.return_top_hit(search_terms, token=GENIUS)\n",
    "    tup = [trackid, hit]\n",
    "    genius.append(tup)\n",
    "    \n",
    "# serialize\n",
    "with open('../data/interim/genius_metadata.json', 'w') as outfile:\n",
    "    json.dump(genius, outfile)"
   ]
  },
  {
   "cell_type": "markdown",
   "metadata": {},
   "source": [
    "Use URL from genius search API to retrieve lyrics (no API token needed for this request)"
   ]
  },
  {
   "cell_type": "code",
   "execution_count": 49,
   "metadata": {},
   "outputs": [],
   "source": [
    "with open('../data/interim/genius_metadata.json', 'r') as f:\n",
    "    genius = json.load(f)\n",
    "\n",
    "lyrics = []\n",
    "for song in genius:\n",
    "    trackid = song[0]\n",
    "    track_url = scr.extract_url(song[1])\n",
    "    track_lyrics = scr.extract_lyrics(track_url)\n",
    "    tup = [trackid, track_lyrics]\n",
    "    lyrics.append(tup)\n",
    "\n",
    "# serialize\n",
    "with open('../data/interim/genius_lyrics.json', 'w') as outfile:\n",
    "    json.dump(lyrics, outfile)"
   ]
  },
  {
   "cell_type": "code",
   "execution_count": null,
   "metadata": {},
   "outputs": [],
   "source": []
  },
  {
   "cell_type": "code",
   "execution_count": null,
   "metadata": {},
   "outputs": [],
   "source": []
  }
 ],
 "metadata": {
  "kernelspec": {
   "display_name": "Python 3",
   "language": "python",
   "name": "python3"
  },
  "language_info": {
   "codemirror_mode": {
    "name": "ipython",
    "version": 3
   },
   "file_extension": ".py",
   "mimetype": "text/x-python",
   "name": "python",
   "nbconvert_exporter": "python",
   "pygments_lexer": "ipython3",
   "version": "3.6.3"
  },
  "toc": {
   "base_numbering": 1,
   "nav_menu": {},
   "number_sections": true,
   "sideBar": true,
   "skip_h1_title": true,
   "title_cell": "Table of Contents",
   "title_sidebar": "Contents",
   "toc_cell": false,
   "toc_position": {},
   "toc_section_display": true,
   "toc_window_display": false
  }
 },
 "nbformat": 4,
 "nbformat_minor": 2
}
