{
 "cells": [
  {
   "cell_type": "code",
   "execution_count": 24,
   "metadata": {},
   "outputs": [],
   "source": [
    "import pandas as pd\n",
    "import numpy as np\n",
    "#import nltk.tokenize\n",
    "#import itertools\n",
    "#import datetime\n",
    "\n",
    "from sklearn.model_selection import train_test_split\n",
    "\n",
    "from pathlib import Path\n",
    "\n",
    "import csv\n",
    "from copy import copy, deepcopy\n",
    "from enum import Enum"
   ]
  },
  {
   "cell_type": "markdown",
   "metadata": {},
   "source": [
    "## Create set of validation .txt"
   ]
  },
  {
   "cell_type": "code",
   "execution_count": 25,
   "metadata": {},
   "outputs": [],
   "source": [
    "df = pd.read_csv('https://storage.googleapis.com/w210-capstone/data/lyrics-valid.csv',\n",
    "                     header=None, escapechar='\\\\',\n",
    "                     names=['msd_id', 'lyrics'])\n",
    "\n",
    "# only keep lyrics with length < 5000\n",
    "df = df[df.lyrics.str.len() < 5000]\n",
    "df_train, df_test = train_test_split(df, test_size=0.2, random_state=2018)"
   ]
  },
  {
   "cell_type": "code",
   "execution_count": 26,
   "metadata": {},
   "outputs": [
    {
     "data": {
      "text/html": [
       "<div>\n",
       "<style scoped>\n",
       "    .dataframe tbody tr th:only-of-type {\n",
       "        vertical-align: middle;\n",
       "    }\n",
       "\n",
       "    .dataframe tbody tr th {\n",
       "        vertical-align: top;\n",
       "    }\n",
       "\n",
       "    .dataframe thead th {\n",
       "        text-align: right;\n",
       "    }\n",
       "</style>\n",
       "<table border=\"1\" class=\"dataframe\">\n",
       "  <thead>\n",
       "    <tr style=\"text-align: right;\">\n",
       "      <th></th>\n",
       "      <th>msd_id</th>\n",
       "      <th>lyrics</th>\n",
       "    </tr>\n",
       "  </thead>\n",
       "  <tbody>\n",
       "    <tr>\n",
       "      <th>76112</th>\n",
       "      <td>TRCZUSO12903CEF31D</td>\n",
       "      <td>[Verse 1]\\nShe sat all alone on a bus out of B...</td>\n",
       "    </tr>\n",
       "    <tr>\n",
       "      <th>20961</th>\n",
       "      <td>TRHSXRA12903CF2525</td>\n",
       "      <td>I see myself in a sea of gray\\nColors fade no ...</td>\n",
       "    </tr>\n",
       "    <tr>\n",
       "      <th>66903</th>\n",
       "      <td>TRQTRBL128F429A2F5</td>\n",
       "      <td>Dove sei stata\\nCom’è che stai\\nNon conosci pi...</td>\n",
       "    </tr>\n",
       "    <tr>\n",
       "      <th>88993</th>\n",
       "      <td>TRZHJVG128F4237411</td>\n",
       "      <td>Oh, DJ Taz\\n\\nChorus: Neka, DJ Taz\\n\\nThat's r...</td>\n",
       "    </tr>\n",
       "    <tr>\n",
       "      <th>71436</th>\n",
       "      <td>TRZMPZW128F934B7A4</td>\n",
       "      <td>[Verse 1]\\nI know a girl from a lonely street\\...</td>\n",
       "    </tr>\n",
       "  </tbody>\n",
       "</table>\n",
       "</div>"
      ],
      "text/plain": [
       "                   msd_id                                             lyrics\n",
       "76112  TRCZUSO12903CEF31D  [Verse 1]\\nShe sat all alone on a bus out of B...\n",
       "20961  TRHSXRA12903CF2525  I see myself in a sea of gray\\nColors fade no ...\n",
       "66903  TRQTRBL128F429A2F5  Dove sei stata\\nCom’è che stai\\nNon conosci pi...\n",
       "88993  TRZHJVG128F4237411  Oh, DJ Taz\\n\\nChorus: Neka, DJ Taz\\n\\nThat's r...\n",
       "71436  TRZMPZW128F934B7A4  [Verse 1]\\nI know a girl from a lonely street\\..."
      ]
     },
     "execution_count": 26,
     "metadata": {},
     "output_type": "execute_result"
    }
   ],
   "source": [
    "df_test.head()"
   ]
  },
  {
   "cell_type": "code",
   "execution_count": 44,
   "metadata": {
    "scrolled": true
   },
   "outputs": [],
   "source": [
    "for i,row in df_test.iterrows():\n",
    "    filename = '../data/lyrics/validation/{}.txt'.format(row['msd_id'])\n",
    "    with open(filename, 'wb') as f:  #, newline=''\n",
    "        f.write(row['lyrics'].encode('ascii','ignore'))"
   ]
  },
  {
   "cell_type": "markdown",
   "metadata": {},
   "source": []
  },
  {
   "cell_type": "code",
   "execution_count": 47,
   "metadata": {},
   "outputs": [],
   "source": [
    "df2 = pd.read_csv('../../transfer/w210-capstone/data/lyrics_tags.csv',\n",
    "                     header=None, escapechar='\\\\'\n",
    "                  #,names=['msd_id', 'lyrics']\n",
    "                 )\n",
    "\n",
    "# only keep lyrics with length < 5000\n",
    "#df2 = df2[df.lyrics.str.len() < 5000]\n",
    "#df_train, df_test = train_test_split(df, test_size=0.2, random_state=2018)"
   ]
  },
  {
   "cell_type": "code",
   "execution_count": 48,
   "metadata": {},
   "outputs": [
    {
     "data": {
      "text/html": [
       "<div>\n",
       "<style scoped>\n",
       "    .dataframe tbody tr th:only-of-type {\n",
       "        vertical-align: middle;\n",
       "    }\n",
       "\n",
       "    .dataframe tbody tr th {\n",
       "        vertical-align: top;\n",
       "    }\n",
       "\n",
       "    .dataframe thead th {\n",
       "        text-align: right;\n",
       "    }\n",
       "</style>\n",
       "<table border=\"1\" class=\"dataframe\">\n",
       "  <thead>\n",
       "    <tr style=\"text-align: right;\">\n",
       "      <th></th>\n",
       "      <th>0</th>\n",
       "      <th>1</th>\n",
       "      <th>2</th>\n",
       "      <th>3</th>\n",
       "      <th>4</th>\n",
       "      <th>5</th>\n",
       "    </tr>\n",
       "  </thead>\n",
       "  <tbody>\n",
       "    <tr>\n",
       "      <th>0</th>\n",
       "      <td>NaN</td>\n",
       "      <td>msd_id</td>\n",
       "      <td>lyrics</td>\n",
       "      <td>tag1</td>\n",
       "      <td>tag2</td>\n",
       "      <td>tag3</td>\n",
       "    </tr>\n",
       "    <tr>\n",
       "      <th>1</th>\n",
       "      <td>0</td>\n",
       "      <td>TRAADJU128F92F58E1</td>\n",
       "      <td>I hear you praying with your hands clasped ove...</td>\n",
       "      <td>NaN</td>\n",
       "      <td>NaN</td>\n",
       "      <td>NaN</td>\n",
       "    </tr>\n",
       "    <tr>\n",
       "      <th>2</th>\n",
       "      <td>1</td>\n",
       "      <td>TRAADQX128F422B4CF</td>\n",
       "      <td>If you ever make it back to Nashville\\nRemembe...</td>\n",
       "      <td>Lo-Fi</td>\n",
       "      <td>indie</td>\n",
       "      <td>indie</td>\n",
       "    </tr>\n",
       "    <tr>\n",
       "      <th>3</th>\n",
       "      <td>2</td>\n",
       "      <td>TRAAFTE128F429545F</td>\n",
       "      <td>Just when I thought I was safe\\nYou found me i...</td>\n",
       "      <td>pop</td>\n",
       "      <td>irish</td>\n",
       "      <td>irish</td>\n",
       "    </tr>\n",
       "    <tr>\n",
       "      <th>4</th>\n",
       "      <td>3</td>\n",
       "      <td>TRAAKAG128F4275D2A</td>\n",
       "      <td>Paroles de la chanson Sultao Das Matas :\\nSult...</td>\n",
       "      <td>metal</td>\n",
       "      <td>under two minutes</td>\n",
       "      <td>under two minutes</td>\n",
       "    </tr>\n",
       "  </tbody>\n",
       "</table>\n",
       "</div>"
      ],
      "text/plain": [
       "     0                   1                                                  2  \\\n",
       "0  NaN              msd_id                                             lyrics   \n",
       "1    0  TRAADJU128F92F58E1  I hear you praying with your hands clasped ove...   \n",
       "2    1  TRAADQX128F422B4CF  If you ever make it back to Nashville\\nRemembe...   \n",
       "3    2  TRAAFTE128F429545F  Just when I thought I was safe\\nYou found me i...   \n",
       "4    3  TRAAKAG128F4275D2A  Paroles de la chanson Sultao Das Matas :\\nSult...   \n",
       "\n",
       "       3                  4                  5  \n",
       "0   tag1               tag2               tag3  \n",
       "1    NaN                NaN                NaN  \n",
       "2  Lo-Fi              indie              indie  \n",
       "3    pop              irish              irish  \n",
       "4  metal  under two minutes  under two minutes  "
      ]
     },
     "execution_count": 48,
     "metadata": {},
     "output_type": "execute_result"
    }
   ],
   "source": [
    "df2.head()"
   ]
  },
  {
   "cell_type": "code",
   "execution_count": null,
   "metadata": {},
   "outputs": [],
   "source": []
  }
 ],
 "metadata": {
  "kernelspec": {
   "display_name": "Python 3",
   "language": "python",
   "name": "python3"
  },
  "language_info": {
   "codemirror_mode": {
    "name": "ipython",
    "version": 3
   },
   "file_extension": ".py",
   "mimetype": "text/x-python",
   "name": "python",
   "nbconvert_exporter": "python",
   "pygments_lexer": "ipython3",
   "version": "3.6.4"
  }
 },
 "nbformat": 4,
 "nbformat_minor": 2
}
