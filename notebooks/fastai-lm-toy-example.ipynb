{
 "cells": [
  {
   "cell_type": "code",
   "execution_count": 1,
   "metadata": {},
   "outputs": [],
   "source": [
    "from fastai import *\n",
    "from fastai.text import *"
   ]
  },
  {
   "cell_type": "code",
   "execution_count": 3,
   "metadata": {},
   "outputs": [
    {
     "data": {
      "text/plain": [
       "PosixPath('/home/syang/.fastai/data/imdb_sample')"
      ]
     },
     "execution_count": 3,
     "metadata": {},
     "output_type": "execute_result"
    }
   ],
   "source": [
    "path = untar_data(URLs.IMDB_SAMPLE)\n",
    "path"
   ]
  },
  {
   "cell_type": "code",
   "execution_count": 4,
   "metadata": {},
   "outputs": [
    {
     "data": {
      "text/html": [
       "<div>\n",
       "<style scoped>\n",
       "    .dataframe tbody tr th:only-of-type {\n",
       "        vertical-align: middle;\n",
       "    }\n",
       "\n",
       "    .dataframe tbody tr th {\n",
       "        vertical-align: top;\n",
       "    }\n",
       "\n",
       "    .dataframe thead th {\n",
       "        text-align: right;\n",
       "    }\n",
       "</style>\n",
       "<table border=\"1\" class=\"dataframe\">\n",
       "  <thead>\n",
       "    <tr style=\"text-align: right;\">\n",
       "      <th></th>\n",
       "      <th>0</th>\n",
       "      <th>1</th>\n",
       "    </tr>\n",
       "  </thead>\n",
       "  <tbody>\n",
       "    <tr>\n",
       "      <th>0</th>\n",
       "      <td>0</td>\n",
       "      <td>Un-bleeping-believable! Meg Ryan doesn't even ...</td>\n",
       "    </tr>\n",
       "    <tr>\n",
       "      <th>1</th>\n",
       "      <td>1</td>\n",
       "      <td>This is a extremely well-made film. The acting...</td>\n",
       "    </tr>\n",
       "    <tr>\n",
       "      <th>2</th>\n",
       "      <td>0</td>\n",
       "      <td>Every once in a long while a movie will come a...</td>\n",
       "    </tr>\n",
       "    <tr>\n",
       "      <th>3</th>\n",
       "      <td>1</td>\n",
       "      <td>Name just says it all. I watched this movie wi...</td>\n",
       "    </tr>\n",
       "    <tr>\n",
       "      <th>4</th>\n",
       "      <td>0</td>\n",
       "      <td>This movie succeeds at being one of the most u...</td>\n",
       "    </tr>\n",
       "  </tbody>\n",
       "</table>\n",
       "</div>"
      ],
      "text/plain": [
       "   0                                                  1\n",
       "0  0  Un-bleeping-believable! Meg Ryan doesn't even ...\n",
       "1  1  This is a extremely well-made film. The acting...\n",
       "2  0  Every once in a long while a movie will come a...\n",
       "3  1  Name just says it all. I watched this movie wi...\n",
       "4  0  This movie succeeds at being one of the most u..."
      ]
     },
     "execution_count": 4,
     "metadata": {},
     "output_type": "execute_result"
    }
   ],
   "source": [
    "df = pd.read_csv(path/'train.csv', header=None)\n",
    "df.head()"
   ]
  },
  {
   "cell_type": "code",
   "execution_count": 5,
   "metadata": {},
   "outputs": [
    {
     "data": {
      "text/plain": [
       "('negative', 'positive')"
      ]
     },
     "execution_count": 5,
     "metadata": {},
     "output_type": "execute_result"
    }
   ],
   "source": [
    "classes = read_classes(path/'classes.txt')\n",
    "classes[0], classes[1]"
   ]
  },
  {
   "cell_type": "code",
   "execution_count": 6,
   "metadata": {},
   "outputs": [
    {
     "name": "stdout",
     "output_type": "stream",
     "text": [
      "Numericalizing valid.\n"
     ]
    }
   ],
   "source": [
    "data_lm = TextLMDataBunch.from_csv(path)\n",
    "data_clas = TextClasDataBunch.from_csv(path, vocab=data_lm.train_ds.vocab)"
   ]
  },
  {
   "cell_type": "code",
   "execution_count": 73,
   "metadata": {},
   "outputs": [
    {
     "name": "stdout",
     "output_type": "stream",
     "text": [
      "Total time: 00:33\n",
      "epoch  train_loss  valid_loss  accuracy\n",
      "1      5.104008    4.195073    0.241997  (00:16)\n",
      "2      4.841761    4.138711    0.245857  (00:16)\n",
      "\n"
     ]
    }
   ],
   "source": [
    "learn = RNNLearner.language_model(data_lm, pretrained_model=URLs.WT103, callback_fns=SaveModel)\n",
    "learn.fit(2, 1e-2)"
   ]
  },
  {
   "cell_type": "code",
   "execution_count": null,
   "metadata": {},
   "outputs": [],
   "source": [
    "learn.save_model()"
   ]
  },
  {
   "cell_type": "code",
   "execution_count": 11,
   "metadata": {},
   "outputs": [],
   "source": [
    "learn.save('modeltest-001')"
   ]
  },
  {
   "cell_type": "code",
   "execution_count": 57,
   "metadata": {},
   "outputs": [
    {
     "data": {
      "image/png": "[encoded data removed]",
      "text/plain": [
       "<Figure size 432x288 with 1 Axes>"
      ]
     },
     "metadata": {},
     "output_type": "display_data"
    }
   ],
   "source": [
    "learn.recorder.plot_losses()"
   ]
  },
  {
   "cell_type": "code",
   "execution_count": 72,
   "metadata": {},
   "outputs": [],
   "source": [
    "import datetime\n",
    "\n",
    "@dataclass\n",
    "class SaveModel(LearnerCallback):\n",
    "    \"\"\"Save Latest Model\"\"\"\n",
    "    def __init__(self, learn:Learner):\n",
    "        super().__init__(learn)\n",
    "        self.model_date = datetime.datetime.now().strftime('%Y-%m-%d-%H-%M-%S')\n",
    "        \n",
    "    def on_epoch_end(self, epoch:int, **kwargs):\n",
    "        self.learn.save(f'lyrics-{self.model_date}-{epoch:03d}')\n",
    "        return False"
   ]
  },
  {
   "cell_type": "code",
   "execution_count": 69,
   "metadata": {},
   "outputs": [
    {
     "data": {
      "text/plain": [
       "'2018-10-31'"
      ]
     },
     "execution_count": 69,
     "metadata": {},
     "output_type": "execute_result"
    }
   ],
   "source": [
    "import datetime\n",
    "dt = datetime.date.now().strftime('%Y-%m-%d-%H-%M-%S')\n",
    "dt"
   ]
  },
  {
   "cell_type": "code",
   "execution_count": null,
   "metadata": {},
   "outputs": [],
   "source": [
    "learn.recorder.on_epoch_end"
   ]
  },
  {
   "cell_type": "code",
   "execution_count": null,
   "metadata": {},
   "outputs": [],
   "source": []
  },
  {
   "cell_type": "code",
   "execution_count": 67,
   "metadata": {},
   "outputs": [
    {
     "data": {
      "text/html": [
       "<div>\n",
       "<style scoped>\n",
       "    .dataframe tbody tr th:only-of-type {\n",
       "        vertical-align: middle;\n",
       "    }\n",
       "\n",
       "    .dataframe tbody tr th {\n",
       "        vertical-align: top;\n",
       "    }\n",
       "\n",
       "    .dataframe thead th {\n",
       "        text-align: right;\n",
       "    }\n",
       "</style>\n",
       "<table border=\"1\" class=\"dataframe\">\n",
       "  <thead>\n",
       "    <tr style=\"text-align: right;\">\n",
       "      <th></th>\n",
       "      <th>0</th>\n",
       "      <th>1</th>\n",
       "      <th>2</th>\n",
       "      <th>3</th>\n",
       "      <th>4</th>\n",
       "      <th>5</th>\n",
       "      <th>6</th>\n",
       "      <th>7</th>\n",
       "      <th>8</th>\n",
       "      <th>9</th>\n",
       "    </tr>\n",
       "  </thead>\n",
       "  <tbody>\n",
       "    <tr>\n",
       "      <th>0</th>\n",
       "      <td>xxfld</td>\n",
       "      <td>protagonist</td>\n",
       "      <td>xxunk</td>\n",
       "      <td>into</td>\n",
       "      <td>occasionally</td>\n",
       "      <td>start</td>\n",
       "      <td>humor</td>\n",
       "      <td>his</td>\n",
       "      <td>the</td>\n",
       "      <td>xxunk</td>\n",
       "    </tr>\n",
       "    <tr>\n",
       "      <th>1</th>\n",
       "      <td>1</td>\n",
       "      <td>is</td>\n",
       "      <td>for</td>\n",
       "      <td>this</td>\n",
       "      <td>xxunk</td>\n",
       "      <td>planning</td>\n",
       "      <td>is</td>\n",
       "      <td>revenge</td>\n",
       "      <td>box</td>\n",
       "      <td>in</td>\n",
       "    </tr>\n",
       "    <tr>\n",
       "      <th>2</th>\n",
       "      <td>un</td>\n",
       "      <td>xxunk</td>\n",
       "      <td>a</td>\n",
       "      <td>film</td>\n",
       "      <td>in</td>\n",
       "      <td>and</td>\n",
       "      <td>the</td>\n",
       "      <td>.</td>\n",
       "      <td>office</td>\n",
       "      <td>my</td>\n",
       "    </tr>\n",
       "    <tr>\n",
       "      <th>3</th>\n",
       "      <td>-</td>\n",
       "      <td>her</td>\n",
       "      <td>massive</td>\n",
       "      <td>,</td>\n",
       "      <td>other</td>\n",
       "      <td>not</td>\n",
       "      <td>biggest</td>\n",
       "      <td>still</td>\n",
       "      <td>,</td>\n",
       "      <td>xxunk</td>\n",
       "    </tr>\n",
       "    <tr>\n",
       "      <th>4</th>\n",
       "      <td>xxunk</td>\n",
       "      <td>early</td>\n",
       "      <td>series</td>\n",
       "      <td>although</td>\n",
       "      <td>versions</td>\n",
       "      <td>filming</td>\n",
       "      <td>problem</td>\n",
       "      <td>alive</td>\n",
       "      <td>xxunk</td>\n",
       "      <td>.</td>\n",
       "    </tr>\n",
       "    <tr>\n",
       "      <th>5</th>\n",
       "      <td>-</td>\n",
       "      <td>life</td>\n",
       "      <td>of</td>\n",
       "      <td>having</td>\n",
       "      <td>of</td>\n",
       "      <td>until</td>\n",
       "      <td>with</td>\n",
       "      <td>,</td>\n",
       "      <td>b.</td>\n",
       "      <td>first</td>\n",
       "    </tr>\n",
       "    <tr>\n",
       "      <th>6</th>\n",
       "      <td>believable</td>\n",
       "      <td>as</td>\n",
       "      <td>gags</td>\n",
       "      <td>the</td>\n",
       "      <td>the</td>\n",
       "      <td>everything</td>\n",
       "      <td>the</td>\n",
       "      <td>it</td>\n",
       "      <td>demille</td>\n",
       "      <td>,</td>\n",
       "    </tr>\n",
       "    <tr>\n",
       "      <th>7</th>\n",
       "      <td>!</td>\n",
       "      <td>a</td>\n",
       "      <td>built</td>\n",
       "      <td>main</td>\n",
       "      <td>story</td>\n",
       "      <td>has</td>\n",
       "      <td>film</td>\n",
       "      <td>looks</td>\n",
       "      <td>stopped</td>\n",
       "      <td>the</td>\n",
       "    </tr>\n",
       "    <tr>\n",
       "      <th>8</th>\n",
       "      <td>meg</td>\n",
       "      <td>butcher</td>\n",
       "      <td>upon</td>\n",
       "      <td>character</td>\n",
       "      <td>.</td>\n",
       "      <td>come</td>\n",
       "      <td>.</td>\n",
       "      <td>like</td>\n",
       "      <td>doing</td>\n",
       "      <td>xxunk</td>\n",
       "    </tr>\n",
       "    <tr>\n",
       "      <th>9</th>\n",
       "      <td>ryan</td>\n",
       "      <td>.</td>\n",
       "      <td>gags</td>\n",
       "      <td>a</td>\n",
       "      <td>wells</td>\n",
       "      <td>down</td>\n",
       "      <td>sure</td>\n",
       "      <td>carradine</td>\n",
       "      <td>films</td>\n",
       "      <td>scene</td>\n",
       "    </tr>\n",
       "    <tr>\n",
       "      <th>10</th>\n",
       "      <td>does</td>\n",
       "      <td>weird</td>\n",
       "      <td>,</td>\n",
       "      <td>drunk</td>\n",
       "      <td>'</td>\n",
       "      <td>on</td>\n",
       "      <td>,</td>\n",
       "      <td>tries</td>\n",
       "      <td>about</td>\n",
       "      <td>between</td>\n",
       "    </tr>\n",
       "    <tr>\n",
       "      <th>11</th>\n",
       "      <td>n't</td>\n",
       "      <td>stuff</td>\n",
       "      <td>but</td>\n",
       "      <td>and</td>\n",
       "      <td>description</td>\n",
       "      <td>a</td>\n",
       "      <td>making</td>\n",
       "      <td>to</td>\n",
       "      <td>non</td>\n",
       "      <td>the</td>\n",
       "    </tr>\n",
       "    <tr>\n",
       "      <th>12</th>\n",
       "      <td>even</td>\n",
       "      <td>.</td>\n",
       "      <td>stops</td>\n",
       "      <td>a</td>\n",
       "      <td>of</td>\n",
       "      <td>storyboard</td>\n",
       "      <td>fun</td>\n",
       "      <td>shoot</td>\n",
       "      <td>-</td>\n",
       "      <td>women</td>\n",
       "    </tr>\n",
       "    <tr>\n",
       "      <th>13</th>\n",
       "      <td>look</td>\n",
       "      <td>then</td>\n",
       "      <td>short</td>\n",
       "      <td>heroine</td>\n",
       "      <td>the</td>\n",
       "      <td>.</td>\n",
       "      <td>of</td>\n",
       "      <td>her</td>\n",
       "      <td>american</td>\n",
       "      <td>at</td>\n",
       "    </tr>\n",
       "    <tr>\n",
       "      <th>14</th>\n",
       "      <td>her</td>\n",
       "      <td>there</td>\n",
       "      <td>(</td>\n",
       "      <td>addict</td>\n",
       "      <td>martians</td>\n",
       "      <td>you</td>\n",
       "      <td>mentally</td>\n",
       "      <td>and</td>\n",
       "      <td>history</td>\n",
       "      <td>the</td>\n",
       "    </tr>\n",
       "    <tr>\n",
       "      <th>15</th>\n",
       "      <td>usual</td>\n",
       "      <td>'s</td>\n",
       "      <td>for</td>\n",
       "      <td>did</td>\n",
       "      <td></td>\n",
       "      <td>certainly</td>\n",
       "      <td>ill</td>\n",
       "      <td>misses</td>\n",
       "      <td>.</td>\n",
       "      <td>xxunk</td>\n",
       "    </tr>\n",
       "    <tr>\n",
       "      <th>16</th>\n",
       "      <td>xxunk</td>\n",
       "      <td>the</td>\n",
       "      <td>all</td>\n",
       "      <td>n't</td>\n",
       "      <td>a</td>\n",
       "      <td>have</td>\n",
       "      <td>people</td>\n",
       "      <td>,</td>\n",
       "      <td>his</td>\n",
       "      <td>xxunk</td>\n",
       "    </tr>\n",
       "    <tr>\n",
       "      <th>17</th>\n",
       "      <td>lovable</td>\n",
       "      <td>core</td>\n",
       "      <td>the</td>\n",
       "      <td>come</td>\n",
       "      <td>giant</td>\n",
       "      <td>the</td>\n",
       "      <td>is</td>\n",
       "      <td>but</td>\n",
       "      <td>films</td>\n",
       "      <td>--</td>\n",
       "    </tr>\n",
       "    <tr>\n",
       "      <th>18</th>\n",
       "      <td>self</td>\n",
       "      <td>premise</td>\n",
       "      <td>xxunk</td>\n",
       "      <td>as</td>\n",
       "      <td>head</td>\n",
       "      <td>ability</td>\n",
       "      <td>pretty</td>\n",
       "      <td>it</td>\n",
       "      <td>for</td>\n",
       "      <td>undertext</td>\n",
       "    </tr>\n",
       "    <tr>\n",
       "      <th>19</th>\n",
       "      <td>in</td>\n",
       "      <td>of</td>\n",
       "      <td>)</td>\n",
       "      <td>an</td>\n",
       "      <td>xxunk</td>\n",
       "      <td>and</td>\n",
       "      <td>low</td>\n",
       "      <td>does</td>\n",
       "      <td>the</td>\n",
       "      <td>:</td>\n",
       "    </tr>\n",
       "  </tbody>\n",
       "</table>\n",
       "</div>"
      ],
      "text/plain": [
       "             0            1        2          3             4           5  \\\n",
       "0        xxfld  protagonist    xxunk       into  occasionally       start   \n",
       "1            1           is      for       this         xxunk    planning   \n",
       "2           un        xxunk        a       film            in         and   \n",
       "3            -          her  massive          ,         other         not   \n",
       "4        xxunk        early   series   although      versions     filming   \n",
       "5            -         life       of     having            of       until   \n",
       "6   believable           as     gags        the           the  everything   \n",
       "7            !            a    built       main         story         has   \n",
       "8          meg      butcher     upon  character             .        come   \n",
       "9         ryan            .     gags          a         wells        down   \n",
       "10        does        weird        ,      drunk             '          on   \n",
       "11         n't        stuff      but        and   description           a   \n",
       "12        even            .    stops          a            of  storyboard   \n",
       "13        look         then    short    heroine           the           .   \n",
       "14         her        there        (     addict      martians         you   \n",
       "15       usual           's      for        did                certainly   \n",
       "16       xxunk          the      all        n't             a        have   \n",
       "17     lovable         core      the       come         giant         the   \n",
       "18        self      premise    xxunk         as          head     ability   \n",
       "19          in           of        )         an         xxunk         and   \n",
       "\n",
       "           6          7         8          9  \n",
       "0      humor        his       the      xxunk  \n",
       "1         is    revenge       box         in  \n",
       "2        the          .    office         my  \n",
       "3    biggest      still         ,      xxunk  \n",
       "4    problem      alive     xxunk          .  \n",
       "5       with          ,        b.      first  \n",
       "6        the         it   demille          ,  \n",
       "7       film      looks   stopped        the  \n",
       "8          .       like     doing      xxunk  \n",
       "9       sure  carradine     films      scene  \n",
       "10         ,      tries     about    between  \n",
       "11    making         to       non        the  \n",
       "12       fun      shoot         -      women  \n",
       "13        of        her  american         at  \n",
       "14  mentally        and   history        the  \n",
       "15       ill     misses         .      xxunk  \n",
       "16    people          ,       his      xxunk  \n",
       "17        is        but     films         --  \n",
       "18    pretty         it       for  undertext  \n",
       "19       low       does       the          :  "
      ]
     },
     "execution_count": 67,
     "metadata": {},
     "output_type": "execute_result"
    }
   ],
   "source": [
    "x,y = next(iter(data_lm.train_dl))\n",
    "example = x[:20,:10].cpu()\n",
    "texts = pd.DataFrame([data_lm.train_ds.vocab.textify(l).split(' ') for l in example])\n",
    "texts"
   ]
  },
  {
   "cell_type": "code",
   "execution_count": 63,
   "metadata": {},
   "outputs": [
    {
     "data": {
      "text/plain": [
       "tensor([  27,   11,   80,    0,  389,    0,   30,   20, 1068,    0,   27, 1487,\n",
       "          61,    0,   61,    8, 1156,    2,  138,    7,    0,    0,   30,   20,\n",
       "           0, 4603,   27,    3,   19,   55,   26,  191,  182,  905,  116,   30,\n",
       "           7,   80,   52,   32, 5834,   48,   27,   12,  264,  333,   23,   61,\n",
       "         524,  905,   61,   30,    0,   27,    4,   61,  450,    7,    2, 1517,\n",
       "          61,   30,    0,   27,    4,   61,   12, 5108,   23,    6,  905,   61,\n",
       "          30,    0,   27,    4,   61,  398], device='cuda:0')"
      ]
     },
     "execution_count": 63,
     "metadata": {},
     "output_type": "execute_result"
    }
   ],
   "source": [
    "x[:,-1]"
   ]
  },
  {
   "cell_type": "code",
   "execution_count": 62,
   "metadata": {},
   "outputs": [
    {
     "data": {
      "text/plain": [
       "tensor([  11,   80,    0,  389,    0,   30,   20, 1068,    0,   27, 1487,   61,\n",
       "           0,   61,    8, 1156,    2,  138,    7,    0,    0,   30,   20,    0,\n",
       "        4603,   27,    3,   19,   55,   26,  191,  182,  905,  116,   30,    7,\n",
       "          80,   52,   32, 5834,   48,   27,   12,  264,  333,   23,   61,  524,\n",
       "         905,   61,   30,    0,   27,    4,   61,  450,    7,    2, 1517,   61,\n",
       "          30,    0,   27,    4,   61,   12, 5108,   23,    6,  905,   61,   30,\n",
       "           0,   27,    4,   61,  398,    7], device='cuda:0')"
      ]
     },
     "execution_count": 62,
     "metadata": {},
     "output_type": "execute_result"
    }
   ],
   "source": [
    "y.reshape((78,64))[:,-1]"
   ]
  },
  {
   "cell_type": "code",
   "execution_count": null,
   "metadata": {},
   "outputs": [],
   "source": [
    "# download_wt103_model()"
   ]
  },
  {
   "cell_type": "code",
   "execution_count": 116,
   "metadata": {},
   "outputs": [],
   "source": [
    "learn = RNNLearner.language_model(data_lm, pretrained_fnames=['lstm_wt103', 'itos_wt103'], drop_mult=0.5)\n",
    "# learn.load('../../interim/subset-10k/csv_test/models/10k-subset-5-epoch') # shouldn't work, as expected\n",
    "# learn.fit_one_cycle(1, 1e-2)"
   ]
  },
  {
   "cell_type": "code",
   "execution_count": 64,
   "metadata": {},
   "outputs": [],
   "source": [
    "with open('../data/imdb_sample/models/itos_wt103.pkl', 'rb') as f:\n",
    "    aa = pickle.load(f)\n",
    "aa = set(aa)\n",
    "bb = data_lm.train_ds.vocab.itos\n",
    "new_words = [w for w in bb if w not in aa]\n",
    "new_words_id = data_lm.train_ds.vocab.numericalize(new_words)"
   ]
  },
  {
   "cell_type": "code",
   "execution_count": 67,
   "metadata": {},
   "outputs": [
    {
     "data": {
      "text/plain": [
       "[5986, 5989, 5995, 5997, 5998]"
      ]
     },
     "execution_count": 67,
     "metadata": {},
     "output_type": "execute_result"
    }
   ],
   "source": [
    "new_words_id[-5:]"
   ]
  },
  {
   "cell_type": "code",
   "execution_count": 73,
   "metadata": {},
   "outputs": [
    {
     "data": {
      "text/plain": [
       "tensor([[ 0.1810,  0.5646, -0.1060,  ...,  0.4994,  0.0770, -0.2302],\n",
       "        [ 0.1604,  0.4524,  0.0713,  ..., -0.0967, -0.1500, -0.2420],\n",
       "        [ 0.2266,  0.7696,  0.4682,  ..., -0.7127, -0.0354, -0.2544],\n",
       "        ...,\n",
       "        [ 0.1684,  0.4543,  0.0668,  ..., -0.1054, -0.1511, -0.2483],\n",
       "        [ 0.1753,  0.5136,  0.0942,  ..., -0.1172, -0.1426, -0.2452],\n",
       "        [ 0.1753,  0.5136,  0.0942,  ..., -0.1172, -0.1426, -0.2452]],\n",
       "       device='cuda:0')"
      ]
     },
     "execution_count": 73,
     "metadata": {},
     "output_type": "execute_result"
    }
   ],
   "source": [
    "learn.model.state_dict().get('0.encoder.weight')"
   ]
  },
  {
   "cell_type": "code",
   "execution_count": 84,
   "metadata": {},
   "outputs": [
    {
     "data": {
      "text/plain": [
       "tensor([[ 0.1810,  0.5646, -0.1060,  ...,  0.4994,  0.0770, -0.2302],\n",
       "        [ 0.1604,  0.4524,  0.0713,  ..., -0.0967, -0.1500, -0.2420],\n",
       "        [ 0.2266,  0.7696,  0.4682,  ..., -0.7127, -0.0354, -0.2544],\n",
       "        ...,\n",
       "        [ 0.1684,  0.4543,  0.0668,  ..., -0.1054, -0.1511, -0.2483],\n",
       "        [ 0.1753,  0.5136,  0.0942,  ..., -0.1172, -0.1426, -0.2452],\n",
       "        [ 0.1753,  0.5136,  0.0942,  ..., -0.1172, -0.1426, -0.2452]],\n",
       "       device='cuda:0')"
      ]
     },
     "execution_count": 84,
     "metadata": {},
     "output_type": "execute_result"
    }
   ],
   "source": [
    "learn.model.state_dict().get('1.decoder.weight')"
   ]
  },
  {
   "cell_type": "code",
   "execution_count": 76,
   "metadata": {},
   "outputs": [
    {
     "data": {
      "text/plain": [
       "odict_keys(['0.encoder.weight', '0.encoder_dp.emb.weight', '0.rnns.0.weight_hh_l0_raw', '0.rnns.0.module.weight_ih_l0', '0.rnns.0.module.weight_hh_l0', '0.rnns.0.module.bias_ih_l0', '0.rnns.0.module.bias_hh_l0', '0.rnns.1.weight_hh_l0_raw', '0.rnns.1.module.weight_ih_l0', '0.rnns.1.module.weight_hh_l0', '0.rnns.1.module.bias_ih_l0', '0.rnns.1.module.bias_hh_l0', '0.rnns.2.weight_hh_l0_raw', '0.rnns.2.module.weight_ih_l0', '0.rnns.2.module.weight_hh_l0', '0.rnns.2.module.bias_ih_l0', '0.rnns.2.module.bias_hh_l0', '1.decoder.weight', '1.decoder.bias'])"
      ]
     },
     "execution_count": 76,
     "metadata": {},
     "output_type": "execute_result"
    }
   ],
   "source": [
    "learn.model.state_dict().keys()"
   ]
  },
  {
   "cell_type": "code",
   "execution_count": 112,
   "metadata": {},
   "outputs": [
    {
     "data": {
      "text/plain": [
       "tensor([[ 1.0887e-06, -3.4341e-05, -3.1302e-04,  ...,  7.9728e-05,\n",
       "         -2.2890e-04, -2.1083e-03],\n",
       "        [ 8.8435e-05,  1.2616e-03, -1.0472e-03,  ...,  1.2605e-04,\n",
       "         -1.4627e-04, -2.7947e-04],\n",
       "        [-2.3075e-04,  2.5539e-03,  3.1424e-04,  ...,  1.5183e-04,\n",
       "          4.2930e-04,  2.7320e-03],\n",
       "        ...,\n",
       "        [-7.6183e-05,  7.5574e-05, -4.4466e-04,  ...,  2.1551e-04,\n",
       "         -2.0065e-04, -1.9130e-03],\n",
       "        [-2.0353e-05,  9.8663e-04,  9.2116e-05,  ...,  1.4796e-04,\n",
       "         -7.3235e-05,  1.7084e-03],\n",
       "        [ 1.0952e-02, -1.4709e-02, -4.1601e-04,  ..., -1.0293e-02,\n",
       "          4.5011e-03,  7.4333e-02]], device='cuda:0')"
      ]
     },
     "execution_count": 112,
     "metadata": {},
     "output_type": "execute_result"
    }
   ],
   "source": [
    "learn.model.state_dict().get('0.rnns.0.weight_hh_l0_raw')"
   ]
  },
  {
   "cell_type": "code",
   "execution_count": 90,
   "metadata": {},
   "outputs": [
    {
     "data": {
      "text/plain": [
       "SequentialRNN(\n",
       "  (0): RNNCore(\n",
       "    (encoder): Embedding(5999, 400, padding_idx=1)\n",
       "    (encoder_dp): EmbeddingDropout(\n",
       "      (emb): Embedding(5999, 400, padding_idx=1)\n",
       "    )\n",
       "    (rnns): ModuleList(\n",
       "      (0): WeightDropout(\n",
       "        (module): LSTM(400, 1150)\n",
       "      )\n",
       "      (1): WeightDropout(\n",
       "        (module): LSTM(1150, 1150)\n",
       "      )\n",
       "      (2): WeightDropout(\n",
       "        (module): LSTM(1150, 400)\n",
       "      )\n",
       "    )\n",
       "    (input_dp): RNNDropout()\n",
       "    (hidden_dps): ModuleList(\n",
       "      (0): RNNDropout()\n",
       "      (1): RNNDropout()\n",
       "      (2): RNNDropout()\n",
       "    )\n",
       "  )\n",
       "  (1): LinearDecoder(\n",
       "    (decoder): Linear(in_features=400, out_features=5999, bias=True)\n",
       "    (output_dp): RNNDropout()\n",
       "  )\n",
       ")"
      ]
     },
     "execution_count": 90,
     "metadata": {},
     "output_type": "execute_result"
    }
   ],
   "source": [
    "learn.model"
   ]
  },
  {
   "cell_type": "code",
   "execution_count": 111,
   "metadata": {},
   "outputs": [
    {
     "data": {
      "application/vnd.jupyter.widget-view+json": {
       "model_id": "",
       "version_major": 2,
       "version_minor": 0
      },
      "text/plain": [
       "VBox(children=(HBox(children=(IntProgress(value=0, max=1), HTML(value='0.00% [0/1 00:00<00:00]'))), HTML(value…"
      ]
     },
     "metadata": {},
     "output_type": "display_data"
    },
    {
     "name": "stdout",
     "output_type": "stream",
     "text": [
      "Total time: 00:23\n",
      "epoch  train loss  valid loss  accuracy\n",
      "0      4.543907    4.223047    0.244530  (00:23)\n",
      "\n"
     ]
    }
   ],
   "source": [
    "learn.unfreeze()\n",
    "learn.fit_one_cycle(1, 1e-6)"
   ]
  },
  {
   "cell_type": "markdown",
   "metadata": {},
   "source": [
    "## Generate Text?"
   ]
  },
  {
   "cell_type": "code",
   "execution_count": 7,
   "metadata": {},
   "outputs": [
    {
     "name": "stdout",
     "output_type": "stream",
     "text": [
      "[nltk_data] Downloading package punkt to /home/syang/nltk_data...\n",
      "[nltk_data]   Package punkt is already up-to-date!\n"
     ]
    }
   ],
   "source": [
    "import nltk\n",
    "nltk.download('punkt')\n",
    "from nltk import word_tokenize"
   ]
  },
  {
   "cell_type": "code",
   "execution_count": 80,
   "metadata": {},
   "outputs": [],
   "source": [
    "m.reset()"
   ]
  },
  {
   "cell_type": "code",
   "execution_count": 86,
   "metadata": {},
   "outputs": [],
   "source": [
    "m = learn.model\n",
    "s = word_tokenize('the thing')\n",
    "t = LongTensor(data_lm.train_ds.vocab.numericalize(s)).view(-1,1).cuda()\n",
    "t = torch.autograd.Variable(t)"
   ]
  },
  {
   "cell_type": "code",
   "execution_count": 87,
   "metadata": {},
   "outputs": [],
   "source": [
    "# m.eval()\n",
    "# res, *_ = m(t)\n",
    "# # r = np.asarray(res[-1].detach().cpu())\n",
    "# r = res[-1]\n",
    "# sm = torch.nn.Softmax(dim=0)\n",
    "# r = sm(r)\n",
    "# r = np.asarray(r.detach().cpu())\n",
    "# n = np.argmax(np.random.multinomial(1, r))\n",
    "# word = data_lm.valid_ds.vocab.textify([n])\n",
    "# n = LongTensor([n]).view(-1, 1).cuda()"
   ]
  },
  {
   "cell_type": "code",
   "execution_count": 88,
   "metadata": {},
   "outputs": [
    {
     "name": "stdout",
     "output_type": "stream",
     "text": [
      "is about this , since it 's xxunk . what , if you want real members of the society , in all of the supporting settings will take you \" . since each member of the "
     ]
    },
    {
     "ename": "ValueError",
     "evalue": "sum(pvals[:-1]) > 1.0",
     "output_type": "error",
     "traceback": [
      "\u001b[0;31m---------------------------------------------------------------------------\u001b[0m",
      "\u001b[0;31mValueError\u001b[0m                                Traceback (most recent call last)",
      "\u001b[0;32m<ipython-input-88-a0dc32ee531d>\u001b[0m in \u001b[0;36m<module>\u001b[0;34m()\u001b[0m\n\u001b[1;32m     11\u001b[0m     \u001b[0mr\u001b[0m \u001b[0;34m=\u001b[0m \u001b[0msm\u001b[0m\u001b[0;34m(\u001b[0m\u001b[0mr\u001b[0m\u001b[0;34m)\u001b[0m\u001b[0;34m\u001b[0m\u001b[0m\n\u001b[1;32m     12\u001b[0m     \u001b[0mr\u001b[0m \u001b[0;34m=\u001b[0m \u001b[0mnp\u001b[0m\u001b[0;34m.\u001b[0m\u001b[0masarray\u001b[0m\u001b[0;34m(\u001b[0m\u001b[0mr\u001b[0m\u001b[0;34m.\u001b[0m\u001b[0mdetach\u001b[0m\u001b[0;34m(\u001b[0m\u001b[0;34m)\u001b[0m\u001b[0;34m.\u001b[0m\u001b[0mcpu\u001b[0m\u001b[0;34m(\u001b[0m\u001b[0;34m)\u001b[0m\u001b[0;34m)\u001b[0m\u001b[0;34m\u001b[0m\u001b[0m\n\u001b[0;32m---> 13\u001b[0;31m     \u001b[0mn\u001b[0m \u001b[0;34m=\u001b[0m \u001b[0mnp\u001b[0m\u001b[0;34m.\u001b[0m\u001b[0margmax\u001b[0m\u001b[0;34m(\u001b[0m\u001b[0mnp\u001b[0m\u001b[0;34m.\u001b[0m\u001b[0mrandom\u001b[0m\u001b[0;34m.\u001b[0m\u001b[0mmultinomial\u001b[0m\u001b[0;34m(\u001b[0m\u001b[0;36m1\u001b[0m\u001b[0;34m,\u001b[0m \u001b[0mr\u001b[0m\u001b[0;34m)\u001b[0m\u001b[0;34m)\u001b[0m\u001b[0;34m\u001b[0m\u001b[0m\n\u001b[0m\u001b[1;32m     14\u001b[0m     \u001b[0mword\u001b[0m \u001b[0;34m=\u001b[0m \u001b[0mdata_lm\u001b[0m\u001b[0;34m.\u001b[0m\u001b[0mvalid_ds\u001b[0m\u001b[0;34m.\u001b[0m\u001b[0mvocab\u001b[0m\u001b[0;34m.\u001b[0m\u001b[0mtextify\u001b[0m\u001b[0;34m(\u001b[0m\u001b[0;34m[\u001b[0m\u001b[0mn\u001b[0m\u001b[0;34m]\u001b[0m\u001b[0;34m)\u001b[0m\u001b[0;34m\u001b[0m\u001b[0m\n\u001b[1;32m     15\u001b[0m     \u001b[0mn\u001b[0m \u001b[0;34m=\u001b[0m \u001b[0mLongTensor\u001b[0m\u001b[0;34m(\u001b[0m\u001b[0;34m[\u001b[0m\u001b[0mn\u001b[0m\u001b[0;34m]\u001b[0m\u001b[0;34m)\u001b[0m\u001b[0;34m.\u001b[0m\u001b[0mview\u001b[0m\u001b[0;34m(\u001b[0m\u001b[0;34m-\u001b[0m\u001b[0;36m1\u001b[0m\u001b[0;34m,\u001b[0m \u001b[0;36m1\u001b[0m\u001b[0;34m)\u001b[0m\u001b[0;34m.\u001b[0m\u001b[0mcuda\u001b[0m\u001b[0;34m(\u001b[0m\u001b[0;34m)\u001b[0m\u001b[0;34m\u001b[0m\u001b[0m\n",
      "\u001b[0;32mmtrand.pyx\u001b[0m in \u001b[0;36mmtrand.RandomState.multinomial\u001b[0;34m()\u001b[0m\n",
      "\u001b[0;31mValueError\u001b[0m: sum(pvals[:-1]) > 1.0"
     ]
    }
   ],
   "source": [
    "# generation with multinomial\n",
    "# there is some bug with torch library with torch.multinomial\n",
    "# that throws and exception and make you restart the kernel\n",
    "# reverting to numpy\n",
    "m.eval()\n",
    "for i in range(50):\n",
    "    res, *_ = m(t)\n",
    "    # r = np.asarray(res[-1].detach().cpu())\n",
    "    r = res[-1]\n",
    "    sm = torch.nn.Softmax(dim=0)\n",
    "    r = sm(r)\n",
    "    r = np.asarray(r.detach().cpu())\n",
    "    n = np.argmax(np.random.multinomial(1, r))\n",
    "    word = data_lm.valid_ds.vocab.textify([n])\n",
    "    n = LongTensor([n]).view(-1, 1).cuda()\n",
    "    print(word, end=' ')\n",
    "    if word == '<eos>': break\n",
    "    t = torch.cat((t, n))"
   ]
  },
  {
   "cell_type": "code",
   "execution_count": 71,
   "metadata": {},
   "outputs": [
    {
     "name": "stdout",
     "output_type": "stream",
     "text": [
      "been a matter of course , if not a matter of course , if the country is in a position to take a more active role in the country 's political and political life . the fact that the country is in a position to make a peace with the country is a matter of course . the country will be able to secure a peace with the country , and the country will be able to secure a peace with the country . the country will be able to secure a peace with the country , and the country "
     ]
    }
   ],
   "source": [
    "# generation with top word\n",
    "m.eval()\n",
    "for i in range(100):\n",
    "    res, *_ = m(t)\n",
    "    n = res[-1].topk(10)[1]\n",
    "    n = n[1] if n.data[0]==0 else n[0]\n",
    "    word = data_lm.valid_ds.vocab.textify([n.item()])\n",
    "    print(word, end=' ')\n",
    "    if word == '<eos>': break\n",
    "    t = torch.cat((t, n.unsqueeze(0).unsqueeze(0)))"
   ]
  },
  {
   "cell_type": "code",
   "execution_count": 140,
   "metadata": {
    "collapsed": true
   },
   "outputs": [
    {
     "data": {
      "text/plain": [
       "SequentialRNN(\n",
       "  (0): RNNCore(\n",
       "    (encoder): Embedding(5999, 400, padding_idx=1)\n",
       "    (encoder_dp): EmbeddingDropout(\n",
       "      (emb): Embedding(5999, 400, padding_idx=1)\n",
       "    )\n",
       "    (rnns): ModuleList(\n",
       "      (0): WeightDropout(\n",
       "        (module): LSTM(400, 1150)\n",
       "      )\n",
       "      (1): WeightDropout(\n",
       "        (module): LSTM(1150, 1150)\n",
       "      )\n",
       "      (2): WeightDropout(\n",
       "        (module): LSTM(1150, 400)\n",
       "      )\n",
       "    )\n",
       "    (input_dp): RNNDropout()\n",
       "    (hidden_dps): ModuleList(\n",
       "      (0): RNNDropout()\n",
       "      (1): RNNDropout()\n",
       "      (2): RNNDropout()\n",
       "    )\n",
       "  )\n",
       "  (1): LinearDecoder(\n",
       "    (decoder): Linear(in_features=400, out_features=5999, bias=True)\n",
       "    (output_dp): RNNDropout()\n",
       "  )\n",
       ")"
      ]
     },
     "execution_count": 140,
     "metadata": {},
     "output_type": "execute_result"
    }
   ],
   "source": [
    "m"
   ]
  },
  {
   "cell_type": "code",
   "execution_count": 104,
   "metadata": {},
   "outputs": [],
   "source": [
    "from nltk import word_tokenize\n",
    "m = learn.model\n",
    "s = word_tokenize('/n the big red dock')\n",
    "t = LongTensor(data_lm.train_ds.vocab.numericalize(s)).view(-1,1).cuda()"
   ]
  },
  {
   "cell_type": "code",
   "execution_count": 118,
   "metadata": {},
   "outputs": [
    {
     "name": "stdout",
     "output_type": "stream",
     "text": [
      "- black . the black - white - white , white - white , and white - white - white , and the black - white - white , white - white , and white - collar white - collar white - collar white - collar white - collar white "
     ]
    }
   ],
   "source": [
    "for i in range(50):\n",
    "    res,*_ = m(t)\n",
    "    n=res[-1].topk(2)[1]\n",
    "    n = n[1] if n.data[0]==0 else n[0]\n",
    "    word = data_lm.valid_ds.vocab.itos[n.item()]\n",
    "    print(word, end=' ')\n",
    "    if word == '<eos>': break\n",
    "    t = torch.cat((t, n.unsqueeze(0).unsqueeze(0)))"
   ]
  },
  {
   "cell_type": "code",
   "execution_count": null,
   "metadata": {},
   "outputs": [],
   "source": []
  }
 ],
 "metadata": {
  "kernelspec": {
   "display_name": "Python 3",
   "language": "python",
   "name": "python3"
  },
  "language_info": {
   "codemirror_mode": {
    "name": "ipython",
    "version": 3
   },
   "file_extension": ".py",
   "mimetype": "text/x-python",
   "name": "python",
   "nbconvert_exporter": "python",
   "pygments_lexer": "ipython3",
   "version": "3.6.5"
  }
 },
 "nbformat": 4,
 "nbformat_minor": 2
}
