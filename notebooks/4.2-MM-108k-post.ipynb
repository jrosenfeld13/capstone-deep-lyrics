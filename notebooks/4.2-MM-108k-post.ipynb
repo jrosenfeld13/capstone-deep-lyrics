{
 "cells": [
  {
   "cell_type": "markdown",
   "metadata": {},
   "source": [
    "## Imports and Setup"
   ]
  },
  {
   "cell_type": "code",
   "execution_count": 1,
   "metadata": {},
   "outputs": [],
   "source": [
    "%load_ext autoreload"
   ]
  },
  {
   "cell_type": "code",
   "execution_count": 2,
   "metadata": {},
   "outputs": [],
   "source": [
    "%autoreload"
   ]
  },
  {
   "cell_type": "code",
   "execution_count": 3,
   "metadata": {},
   "outputs": [],
   "source": [
    "import pandas as pd\n",
    "import numpy as np\n",
    "import nltk.tokenize\n",
    "import itertools\n",
    "import datetime\n",
    "import torch\n",
    "\n",
    "from sklearn.model_selection import train_test_split\n",
    "\n",
    "from pathlib import Path\n",
    "\n",
    "from fastai import *\n",
    "from fastai.text import *\n",
    "\n",
    "from copy import copy, deepcopy\n",
    "from enum import Enum\n",
    "\n",
    "from src.data_collection.multimodal_data import *\n",
    "from src.nlp.neural_model import MultiModalRNN, MultiModalPostRNN"
   ]
  },
  {
   "cell_type": "markdown",
   "metadata": {},
   "source": [
    "### Model definitions\n",
    "Define this notebooks \"initializer model\" (pretrained parameters and itos mapping) and the output model as well."
   ]
  },
  {
   "cell_type": "code",
   "execution_count": 4,
   "metadata": {},
   "outputs": [],
   "source": [
    "model_name = '4.2-MM-108k-post'\n",
    "MODEL_PATH = Path(f'../data/models/{model_name}')\n",
    "MODEL_PATH.mkdir(exist_ok=True)\n",
    "\n",
    "init_model_name = '4.1-LM-108k-lines'\n",
    "INIT_MODEL_PATH = Path(f'../data/models/{init_model_name}')\n",
    "INIT_MODEL_PATH.mkdir(exist_ok=True)"
   ]
  },
  {
   "cell_type": "markdown",
   "metadata": {},
   "source": [
    "### Tokenization\n",
    "To create the model's tokens with the correct train-test split, run the code below. Only needed once on the notebook's first ever run."
   ]
  },
  {
   "cell_type": "code",
   "execution_count": 5,
   "metadata": {},
   "outputs": [],
   "source": [
    "MODEL_FIRST_RUN = False"
   ]
  },
  {
   "cell_type": "code",
   "execution_count": 6,
   "metadata": {},
   "outputs": [],
   "source": [
    "def process_audio(model_path):\n",
    "    '''\n",
    "    500k link: https://storage.googleapis.com/capstone-deep-lyrics/lyrics-500k.csv\n",
    "    108k link: https://storage.googleapis.com/w210-capstone/data/lyrics-valid.csv\n",
    "    '''\n",
    "    model_path = Path(model_path)\n",
    "    model_path.mkdir(exist_ok=True)\n",
    "    \n",
    "    small_corpus_url = 'https://storage.googleapis.com/w210-capstone/data/lyrics-valid.csv'\n",
    "    audio_url = 'https://storage.googleapis.com/w210-capstone/data/msd-aggregate.csv'\n",
    "    tag_url = 'https://storage.googleapis.com/w210-capstone/data/lyrics_tags.csv'\n",
    "    \n",
    "    df = pd.read_csv(small_corpus_url,\n",
    "                 header=None, escapechar='\\\\',\n",
    "                 names=['msd_id', 'lyrics'])\n",
    "    \n",
    "    # only keep lyrics with length < 5000\n",
    "    df = df[df.lyrics.str.len() < 5000]\n",
    "    \n",
    "    # bring in audio features\n",
    "    df_audio = pd.read_csv(audio_url)\n",
    "    df_audio.rename(columns={'track_id': 'msd_id'}, inplace=True)\n",
    "    \n",
    "    # bring in tags\n",
    "    df_tags = pd.read_csv(tag_url, index_col=0)\n",
    "    df_tags.drop(columns=['lyrics'], inplace=True)\n",
    "    \n",
    "    # match audio to keys from lyrics\n",
    "    df_audio = pd.merge(df, df_audio, how='inner', on='msd_id')\n",
    "    \n",
    "    # mat\n",
    "    df_all = pd.merge(df_audio, df_tags, how='inner', on='msd_id')\n",
    "    \n",
    "    \n",
    "    # split data using same seed as lm_data_lyrics.py\n",
    "    df_train, df_valid = train_test_split(df_all,\n",
    "                                         test_size=0.2,\n",
    "                                         random_state=2018)\n",
    "    \n",
    "    df_train.to_csv(model_path/'df_train.csv')\n",
    "    df_valid.to_csv(model_path/'df_valid.csv')\n",
    "    \n",
    "    return df_train, df_valid"
   ]
  },
  {
   "cell_type": "code",
   "execution_count": 7,
   "metadata": {},
   "outputs": [],
   "source": [
    "if MODEL_FIRST_RUN:\n",
    "    df_train, df_valid = process_audio(MODEL_PATH)"
   ]
  },
  {
   "cell_type": "markdown",
   "metadata": {},
   "source": [
    "## Load Data"
   ]
  },
  {
   "cell_type": "markdown",
   "metadata": {},
   "source": [
    "Now that we've created the tokens, let's load them into a `DataBunch` to train our LM further or generate text with a pre-trained LM."
   ]
  },
  {
   "cell_type": "code",
   "execution_count": 8,
   "metadata": {},
   "outputs": [],
   "source": [
    "if MODEL_FIRST_RUN:\n",
    "    data_lm = TextLMDataBunch.from_tokens(MODEL_PATH,\n",
    "                                          bs=128,\n",
    "                                          max_vocab=20000)"
   ]
  },
  {
   "cell_type": "code",
   "execution_count": 9,
   "metadata": {},
   "outputs": [],
   "source": [
    "data_lm = TextLMDataBunch.from_id_files(INIT_MODEL_PATH/'tmp')\n",
    "data_lm.path = MODEL_PATH"
   ]
  },
  {
   "cell_type": "code",
   "execution_count": 10,
   "metadata": {},
   "outputs": [
    {
     "data": {
      "text/plain": [
       "20002"
      ]
     },
     "execution_count": 10,
     "metadata": {},
     "output_type": "execute_result"
    }
   ],
   "source": [
    "data_lm.train_ds.vocab_size"
   ]
  },
  {
   "cell_type": "code",
   "execution_count": 11,
   "metadata": {},
   "outputs": [],
   "source": [
    "train_text = copy(data_lm.train_ds)\n",
    "valid_text = copy(data_lm.valid_ds)"
   ]
  },
  {
   "cell_type": "markdown",
   "metadata": {},
   "source": [
    "#### Audio Data"
   ]
  },
  {
   "cell_type": "code",
   "execution_count": 12,
   "metadata": {},
   "outputs": [],
   "source": [
    "if not MODEL_FIRST_RUN:\n",
    "    df_train = pd.read_csv(MODEL_PATH/'df_train.csv', index_col=0)\n",
    "    df_valid = pd.read_csv(MODEL_PATH/'df_valid.csv', index_col=0)"
   ]
  },
  {
   "cell_type": "markdown",
   "metadata": {},
   "source": [
    "## Feature Engineering"
   ]
  },
  {
   "cell_type": "code",
   "execution_count": 13,
   "metadata": {},
   "outputs": [],
   "source": [
    "# bring in manual consolidation file\n",
    "genre_map = pd.read_excel('../data/external/genre_tag_mapping.xlsx', header=None,\n",
    "                         names=['tag', 'mapped_tag'], usecols=[0,4], skiprows=1)\n",
    "genre_map.loc[genre_map['mapped_tag'].isnull(), 'mapped_tag'] = genre_map['tag']"
   ]
  },
  {
   "cell_type": "code",
   "execution_count": 14,
   "metadata": {},
   "outputs": [],
   "source": [
    "# come up with top 20 based on conslidated\n",
    "top_tags = pd.read_excel('../data/external/genre_tag_mapping.xlsx', header=None,\n",
    "                         names=['tag', 'tag1', 'tag2', 'combined', 'mapped_tag'],\n",
    "                         skiprows=1)\n",
    "top_tags.loc[top_tags['mapped_tag'].isnull(), 'mapped_tag'] = top_tags['tag']\n",
    "top_tags = top_tags.groupby('mapped_tag')\\\n",
    "    .sum().sort_values('combined', ascending=False)\n",
    "tag_list = set(top_tags.head(20).index)"
   ]
  },
  {
   "cell_type": "code",
   "execution_count": 105,
   "metadata": {},
   "outputs": [],
   "source": [
    "from sklearn.pipeline import Pipeline\n",
    "from sklearn.compose import ColumnTransformer\n",
    "from sklearn.preprocessing import MinMaxScaler, OneHotEncoder, FunctionTransformer\n",
    "from sklearn.impute import SimpleImputer\n",
    "\n",
    "def combine_tag(X, tag_list):\n",
    "    \"\"\"\n",
    "    Apply heuristic for genre tagging. Some genres take priority, even if\n",
    "        it doesn't appear in tag1. e.g. 'christian' is highly distinguishable\n",
    "    \n",
    "    1. if all tags are missing set to 'missing'\n",
    "    2. if any of the three tags are 'foreign' set to 'foreign'\n",
    "    2. if any of the three tags are 'christian', set to 'christian'\n",
    "    3. if any of the three tags are 'country', set to 'country'\n",
    "    4. if any of the three tags are 'instrumental' set to 'instrumental'\n",
    "    5. if any of the three tags are 'christmas' set to 'christmas'\n",
    "    6. check membership in top tag list starting with tag1 as priority.\n",
    "       top tags are constructed after consolidation\n",
    "    7. All else is set to \"other\"\n",
    "    \n",
    "    \"\"\"\n",
    "    if pd.isnull([X.mapped_tag1, X.mapped_tag2, X.mapped_tag3]).all():\n",
    "        return 'missing'\n",
    "    elif 'foreign' in [X.mapped_tag1, X.mapped_tag2, X.mapped_tag3]:\n",
    "        return 'foreign'\n",
    "    elif 'christian' in [X.mapped_tag1, X.mapped_tag2, X.mapped_tag3]:\n",
    "        return 'christian'\n",
    "    elif 'country' in [X.mapped_tag1, X.mapped_tag2, X.mapped_tag3]:\n",
    "        return 'country'\n",
    "    elif 'instrumental' in [X.mapped_tag1, X.mapped_tag2, X.mapped_tag3]:\n",
    "        return 'instrumental'\n",
    "    elif 'christmas' in [X.mapped_tag1, X.mapped_tag2, X.mapped_tag3]:\n",
    "        return 'christmas'\n",
    "    elif X.mapped_tag1 in tag_list:\n",
    "        return X.mapped_tag1\n",
    "    elif X.mapped_tag2 in tag_list:\n",
    "        return X.mapped_tag2\n",
    "    elif X.mapped_tag3 in tag_list:\n",
    "        return X.mapped_tag3\n",
    "    else:\n",
    "        return 'other'\n",
    "    \n",
    "def map_tag(df, genre_map, tag_list):\n",
    "    \"\"\"\n",
    "    Pass in genre tag column(s) to get mapped genre tag\n",
    "    \"\"\"\n",
    "    num_columns = df.shape[1]\n",
    "    assert all([w.startswith('tag') for w in df.columns]),\"check tag columns\"\n",
    "    series_out = df.copy()\n",
    "    for i in range(1, num_columns+1):\n",
    "        series_out = pd.merge(series_out, genre_map, how='left',\n",
    "                              left_on=f'tag{i}', right_on='tag',\n",
    "                              validate='m:1')\n",
    "        series_out.loc[series_out.mapped_tag.isnull(), 'mapped_tag'] = series_out[f'tag{i}']\n",
    "        series_out.drop(columns='tag', inplace=True)\n",
    "        series_out.rename(columns={'mapped_tag': f'mapped_tag{i}'}, inplace=True)\n",
    "        \n",
    "    series_out = series_out.iloc[:, -num_columns:]\n",
    "        \n",
    "    combined_out = series_out.apply(combine_tag, axis=1, tag_list=tag_list)\n",
    "        \n",
    "    return pd.DataFrame(combined_out)\n",
    "tag_feat = FunctionTransformer(map_tag, validate=False,\n",
    "                               kw_args={'genre_map': genre_map,\n",
    "                                        'tag_list': tag_list})"
   ]
  },
  {
   "cell_type": "code",
   "execution_count": 109,
   "metadata": {},
   "outputs": [
    {
     "data": {
      "text/plain": [
       "ColumnTransformer(n_jobs=None, remainder='drop', sparse_threshold=0.3,\n",
       "         transformer_weights=None,\n",
       "         transformers=[('genre', Pipeline(memory=None,\n",
       "     steps=[('tagger', FunctionTransformer(accept_sparse=False, check_inverse=True,\n",
       "          func=<function map_tag at 0x7f2b93ad1488>, inv_kw_args=None,\n",
       "          inverse_func=None,\n",
       "          kw_args={'genre_map':                            tag                mapped_tag\n",
       "0                         rock  ...\n",
       "       dtype=<class 'numpy.float64'>, handle_unknown='error',\n",
       "       n_values=None, sparse=False))]), ['tag1', 'tag2', 'tag3'])])"
      ]
     },
     "execution_count": 109,
     "metadata": {},
     "output_type": "execute_result"
    }
   ],
   "source": [
    "genre_features = ['tag1', 'tag2', 'tag3']\n",
    "genre_transformer = Pipeline(steps=[\n",
    "    ('tagger', tag_feat),\n",
    "    ('onehot', OneHotEncoder(sparse=False))\n",
    "])\n",
    "\n",
    "preprocessor = ColumnTransformer(\n",
    "    transformers=[\n",
    "        ('genre', genre_transformer, genre_features)\n",
    "    ],\n",
    "    remainder='drop'\n",
    ")\n",
    "\n",
    "preprocessor.fit(df_train)"
   ]
  },
  {
   "cell_type": "code",
   "execution_count": 110,
   "metadata": {},
   "outputs": [],
   "source": [
    "df_train_tfm = preprocessor.transform(df_train)\n",
    "df_valid_tfm = preprocessor.transform(df_valid)\n",
    "\n",
    "train_audio = AudioDataset(df_train_tfm, train_text)\n",
    "valid_audio = AudioDataset(df_valid_tfm, valid_text)"
   ]
  },
  {
   "cell_type": "code",
   "execution_count": 121,
   "metadata": {},
   "outputs": [],
   "source": [
    "multi_data = MultimodalDataLoader(audio_dataset=train_audio,\n",
    "                                  dataset=train_text)\n",
    "multi_data_valid = MultimodalDataLoader(audio_dataset=valid_audio,\n",
    "                                  dataset=valid_text)\n",
    "multi_db = DataBunch(multi_data, multi_data_valid)"
   ]
  },
  {
   "cell_type": "markdown",
   "metadata": {},
   "source": [
    "## Model setup"
   ]
  },
  {
   "cell_type": "code",
   "execution_count": 27,
   "metadata": {},
   "outputs": [],
   "source": [
    "GPU = True\n",
    "DOWNLOAD_INIT_MODEL = True"
   ]
  },
  {
   "cell_type": "code",
   "execution_count": 28,
   "metadata": {},
   "outputs": [],
   "source": [
    "## MODEL PARAMS\n",
    "audio_sz = train_audio.feature_size\n",
    "vocab_sz = 20002\n",
    "emb_sz = 400\n",
    "n_hid = 1150\n",
    "n_layers = 3\n",
    "pad_token = 1\n",
    "qrnn = False\n",
    "bidir = False\n",
    "drop_mult = 0.5\n",
    "dps = np.array([0.25, 0.1, 0.2, 0.02, 0.15]) * drop_mult\n",
    "hidden_p = dps[4]\n",
    "input_p = dps[0]\n",
    "embed_p = dps[3]\n",
    "weight_p = dps[2]\n",
    "tie_weights = False\n",
    "output_p = dps[1]\n",
    "bias = True"
   ]
  },
  {
   "cell_type": "code",
   "execution_count": 29,
   "metadata": {},
   "outputs": [
    {
     "data": {
      "text/plain": [
       "MultiModalPostRNN(\n",
       "  (encoder): Embedding(20002, 400, padding_idx=1)\n",
       "  (encoder_dp): EmbeddingDropout(\n",
       "    (emb): Embedding(20002, 400, padding_idx=1)\n",
       "  )\n",
       "  (rnns): None\n",
       "  (input_dp): RNNDropout()\n",
       "  (hidden_dps): ModuleList(\n",
       "    (0): RNNDropout()\n",
       "    (1): RNNDropout()\n",
       "    (2): RNNDropout()\n",
       "  )\n",
       "  (multimode): ModuleList(\n",
       "    (0): WeightDropout(\n",
       "      (module): LSTM(400, 1150)\n",
       "    )\n",
       "    (1): WeightDropout(\n",
       "      (module): LSTM(1150, 1150)\n",
       "    )\n",
       "    (2): WeightDropout(\n",
       "      (module): LSTM(1150, 400)\n",
       "    )\n",
       "  )\n",
       "  (multidecoder): MultiLinearDecoder(\n",
       "    (decoder): Linear(in_features=424, out_features=20002, bias=True)\n",
       "    (output_dp): RNNDropout()\n",
       "  )\n",
       ")"
      ]
     },
     "execution_count": 29,
     "metadata": {},
     "output_type": "execute_result"
    }
   ],
   "source": [
    "multimodal_rnn = MultiModalPostRNN(audio_sz=audio_sz,\n",
    "                              vocab_sz=vocab_sz,\n",
    "                              emb_sz=emb_sz,\n",
    "                              n_hid=n_hid,\n",
    "                              n_layers=n_layers,\n",
    "                              pad_token=pad_token,\n",
    "                              qrnn=qrnn,\n",
    "                              bidir=bidir,\n",
    "                              hidden_p=hidden_p,\n",
    "                              input_p=input_p,\n",
    "                              embed_p=embed_p,\n",
    "                              weight_p=weight_p,\n",
    "                              output_p=output_p,\n",
    "                              bias=bias,\n",
    "                              tie_encoder=tie_weights)\n",
    "\n",
    "multimodal_rnn"
   ]
  },
  {
   "cell_type": "code",
   "execution_count": 55,
   "metadata": {},
   "outputs": [],
   "source": [
    "learn = RNNLearner(multi_db, multimodal_rnn)\n",
    "learn.path=MODEL_PATH"
   ]
  },
  {
   "cell_type": "code",
   "execution_count": 56,
   "metadata": {},
   "outputs": [],
   "source": [
    "if MODEL_FIRST_RUN:\n",
    "    PRETRAINED_TO_MULTI = {\n",
    "        '0.encoder.weight': 'encoder.weight',\n",
    "        '0.encoder_dp.emb.weight': 'encoder_dp.emb.weight',\n",
    "        '0.rnns.0.weight_hh_l0_raw': 'multimode.0.weight_hh_l0_raw',\n",
    "        '0.rnns.0.module.weight_ih_l0': 'multimode.0.module.weight_ih_l0',\n",
    "        '0.rnns.0.module.weight_hh_l0': 'multimode.0.module.weight_hh_l0',\n",
    "        '0.rnns.0.module.bias_ih_l0': 'multimode.0.module.bias_ih_l0',\n",
    "        '0.rnns.0.module.bias_hh_l0': 'multimode.0.module.bias_hh_l0',\n",
    "        '0.rnns.1.weight_hh_l0_raw': 'multimode.1.weight_hh_l0_raw',\n",
    "        '0.rnns.1.module.weight_ih_l0': 'multimode.1.module.weight_ih_l0',\n",
    "        '0.rnns.1.module.weight_hh_l0': 'multimode.1.module.weight_hh_l0',\n",
    "        '0.rnns.1.module.bias_ih_l0': 'multimode.1.module.bias_ih_l0',\n",
    "        '0.rnns.1.module.bias_hh_l0': 'multimode.1.module.bias_hh_l0', \n",
    "        '0.rnns.2.weight_hh_l0_raw': 'multimode.2.weight_hh_l0_raw', \n",
    "        '0.rnns.2.module.weight_ih_l0': 'multimode.2.module.weight_ih_l0',\n",
    "        '0.rnns.2.module.weight_hh_l0': 'multimode.2.module.weight_hh_l0',\n",
    "        '0.rnns.2.module.bias_ih_l0': 'multimode.2.module.bias_ih_l0',\n",
    "        '0.rnns.2.module.bias_hh_l0': 'multimode.2.module.bias_hh_l0',\n",
    "        '1.decoder.weight': 'multidecoder.decoder.weight',\n",
    "        '1.decoder.bias': 'multidecoder.decoder.bias'\n",
    "    }\n",
    "\n",
    "    map_weights(learn,\n",
    "                INIT_MODEL_PATH/f'models/{init_model_name}_best.pth',\n",
    "                INIT_MODEL_PATH/f'tmp/itos.pkl',\n",
    "                PRETRAINED_TO_MULTI,\n",
    "                pre_rnn=False)"
   ]
  },
  {
   "cell_type": "markdown",
   "metadata": {},
   "source": [
    "**Create a folder in this model's directory with the name of the initializer model. In that folder, copy a .pth file in the form lstm_<init_model_name>.pth and a .pkl file in the form itos_<init_model_name>.pkl' in order to transfer weights and tokens correctly from the initializer model**"
   ]
  },
  {
   "cell_type": "code",
   "execution_count": 36,
   "metadata": {},
   "outputs": [],
   "source": [
    "# if MODEL_FIRST_RUN:\n",
    "#     learn.load_pretrained(MODEL_PATH/f'{init_model_name}/lstm_{init_model_name}.pth', \n",
    "#                           MODEL_PATH/f'{init_model_name}/itos_{init_model_name}.pkl')"
   ]
  },
  {
   "cell_type": "code",
   "execution_count": 37,
   "metadata": {},
   "outputs": [],
   "source": [
    "# def cpu_load(self, name:PathOrStr):\n",
    "#     \"\"\"Load model onto CPU that was trained on a GPU `name` from `self.model_dir`.\n",
    "#        We need these because the fastai load function doesn't allow for a remapping of the storage location.\"\"\"\n",
    "#     self.model.load_state_dict(torch.load(self.path/self.model_dir/f'{name}.pth', map_location=lambda storage, loc: storage))\n",
    "\n",
    "# setattr(RNNLearner, 'cpu_load', cpu_load) #monkey patch onto our RNNLearner"
   ]
  },
  {
   "cell_type": "code",
   "execution_count": 51,
   "metadata": {},
   "outputs": [],
   "source": [
    "if not MODEL_FIRST_RUN:\n",
    "    if not GPU:\n",
    "        learn.cpu_load(f'{model_name}_best')\n",
    "    else:\n",
    "        learn.load(f'{model_name}_best')"
   ]
  },
  {
   "cell_type": "markdown",
   "metadata": {},
   "source": [
    "## Training"
   ]
  },
  {
   "cell_type": "code",
   "execution_count": 57,
   "metadata": {},
   "outputs": [],
   "source": [
    "TRAIN = True"
   ]
  },
  {
   "cell_type": "code",
   "execution_count": 58,
   "metadata": {},
   "outputs": [],
   "source": [
    "@dataclass\n",
    "class SaveModel(LearnerCallback):\n",
    "    \"\"\"Save Latest Model\"\"\"\n",
    "    def __init__(self, learn:Learner, model_name='saved_model'):\n",
    "        super().__init__(learn)\n",
    "        self.model_name = model_name\n",
    "        self.model_date = datetime.datetime.now().strftime('%Y-%m-%d-%H-%M-%S')\n",
    "        self.best_loss = None\n",
    "        self.perplexity = []\n",
    "        \n",
    "    def on_epoch_end(self, epoch:int, metrics, last_metrics, **kwargs):\n",
    "        loss, *_ = last_metrics\n",
    "        perp = np.exp(loss)\n",
    "        self.perplexity.append(perp)\n",
    "        if self.best_loss == None or loss < self.best_loss:\n",
    "            self.best_loss = loss\n",
    "            self.learn.save(f'{self.model_name}_best')\n",
    "        return False\n",
    "    \n",
    "    def on_train_end(self, epoch:int, **kwargs):\n",
    "        self.learn.save(f'{self.model_name}_last')"
   ]
  },
  {
   "cell_type": "code",
   "execution_count": 59,
   "metadata": {},
   "outputs": [],
   "source": [
    "save_callback = SaveModel(learn, model_name=f'{model_name}')"
   ]
  },
  {
   "cell_type": "code",
   "execution_count": 61,
   "metadata": {},
   "outputs": [],
   "source": [
    "# if TRAIN:\n",
    "#     learn.fit_one_cycle(1, 1e-2)"
   ]
  },
  {
   "cell_type": "code",
   "execution_count": null,
   "metadata": {},
   "outputs": [],
   "source": [
    "if TRAIN:\n",
    "    learn.unfreeze()\n",
    "    learn.fit_one_cycle(10, 1e-4, callbacks=[save_callback])"
   ]
  },
  {
   "cell_type": "code",
   "execution_count": null,
   "metadata": {},
   "outputs": [],
   "source": [
    "print(\"best validation loss: \", learn.save_model.best_loss)"
   ]
  },
  {
   "cell_type": "code",
   "execution_count": 49,
   "metadata": {},
   "outputs": [],
   "source": [
    "## Need to fix model director save\n",
    "## current just saving to notebook folder and cp manually"
   ]
  },
  {
   "cell_type": "code",
   "execution_count": 30,
   "metadata": {},
   "outputs": [],
   "source": [
    "#learn.save_encoder(f'{model_name}_encoder')"
   ]
  },
  {
   "cell_type": "code",
   "execution_count": 298,
   "metadata": {},
   "outputs": [],
   "source": [
    "# x, y = next(iter(learn.data.train_dl))"
   ]
  },
  {
   "cell_type": "code",
   "execution_count": 308,
   "metadata": {},
   "outputs": [
    {
     "data": {
      "text/plain": [
       "torch.Size([68, 64, 24])"
      ]
     },
     "execution_count": 308,
     "metadata": {},
     "output_type": "execute_result"
    }
   ],
   "source": [
    "# x[1]"
   ]
  },
  {
   "cell_type": "markdown",
   "metadata": {},
   "source": [
    "### Learning Loss"
   ]
  },
  {
   "cell_type": "code",
   "execution_count": 42,
   "metadata": {},
   "outputs": [
    {
     "data": {
      "image/png": "[encoded data removed]",
      "text/plain": [
       "<Figure size 432x288 with 1 Axes>"
      ]
     },
     "metadata": {},
     "output_type": "display_data"
    }
   ],
   "source": [
    "if TRAIN:\n",
    "    learn.recorder.plot_losses()"
   ]
  },
  {
   "cell_type": "code",
   "execution_count": 50,
   "metadata": {},
   "outputs": [
    {
     "data": {
      "image/png": "[encoded data removed]",
      "text/plain": [
       "<Figure size 432x288 with 1 Axes>"
      ]
     },
     "metadata": {},
     "output_type": "display_data"
    }
   ],
   "source": [
    "if TRAIN:\n",
    "    learn.recorder.plot_lr()"
   ]
  },
  {
   "cell_type": "markdown",
   "metadata": {},
   "source": [
    "### Model Output"
   ]
  },
  {
   "cell_type": "code",
   "execution_count": 44,
   "metadata": {},
   "outputs": [],
   "source": [
    "if TRAIN:\n",
    "    MODEL_OUTPUT_NAME = MODEL_PATH/'models'/f'{model_name}_best.pth'\n",
    "    CLOUD_STORAGE = f'gs://w210-capstone/models/{model_name}_best.pth'"
   ]
  },
  {
   "cell_type": "code",
   "execution_count": 45,
   "metadata": {},
   "outputs": [
    {
     "name": "stdout",
     "output_type": "stream",
     "text": [
      "Copying file://../data/models/4.2-MM-108k-post/models/4.2-MM-108k-post_best.pth [Content-Type=application/octet-stream]...\n",
      "==> NOTE: You are uploading one or more large file(s), which would run\n",
      "significantly faster if you enable parallel composite uploads. This\n",
      "feature can be enabled by editing the\n",
      "\"parallel_composite_upload_threshold\" value in your .boto\n",
      "configuration file. However, note that if you do this large files will\n",
      "be uploaded as `composite objects\n",
      "<https://cloud.google.com/storage/docs/composite-objects>`_,which\n",
      "means that any user who downloads such objects will need to have a\n",
      "compiled crcmod installed (see \"gsutil help crcmod\"). This is because\n",
      "without a compiled crcmod, computing checksums on composite objects is\n",
      "so slow that gsutil disables downloads of composite objects.\n",
      "\n",
      "| [1 files][182.9 MiB/182.9 MiB]                                                \n",
      "Operation completed over 1 objects/182.9 MiB.                                    \n"
     ]
    }
   ],
   "source": [
    "!gsutil cp $MODEL_OUTPUT_NAME $CLOUD_STORAGE"
   ]
  },
  {
   "cell_type": "code",
   "execution_count": 46,
   "metadata": {},
   "outputs": [],
   "source": [
    "ARCHITECTURE_PATH = MODEL_PATH/'models'/f'{model_name}_architecture.pkl'\n",
    "ARCHITECTURE_STORAGE = f'gs://w210-capstone/models/{model_name}_architecture.pkl'\n",
    "ITOS_PATH = INIT_MODEL_PATH/'tmp'/'itos.pkl'\n",
    "ITOS_STORAGE = f'gs://w210-capstone/models/{model_name}_itos.pkl'\n",
    "\n",
    "model_dump = learn.model\n",
    "with open(ARCHITECTURE_PATH, 'wb') as f:\n",
    "    pickle.dump(model_dump, f)"
   ]
  },
  {
   "cell_type": "code",
   "execution_count": 47,
   "metadata": {},
   "outputs": [
    {
     "name": "stdout",
     "output_type": "stream",
     "text": [
      "Copying file://../data/models/4.2-MM-108k-post/models/4.2-MM-108k-post_architecture.pkl [Content-Type=application/octet-stream]...\n",
      "==> NOTE: You are uploading one or more large file(s), which would run\n",
      "significantly faster if you enable parallel composite uploads. This\n",
      "feature can be enabled by editing the\n",
      "\"parallel_composite_upload_threshold\" value in your .boto\n",
      "configuration file. However, note that if you do this large files will\n",
      "be uploaded as `composite objects\n",
      "<https://cloud.google.com/storage/docs/composite-objects>`_,which\n",
      "means that any user who downloads such objects will need to have a\n",
      "compiled crcmod installed (see \"gsutil help crcmod\"). This is because\n",
      "without a compiled crcmod, computing checksums on composite objects is\n",
      "so slow that gsutil disables downloads of composite objects.\n",
      "\n",
      "|\n",
      "Operation completed over 1 objects/368.9 MiB.                                    \n"
     ]
    }
   ],
   "source": [
    "!gsutil cp $ARCHITECTURE_PATH $ARCHITECTURE_STORAGE"
   ]
  },
  {
   "cell_type": "code",
   "execution_count": 48,
   "metadata": {},
   "outputs": [
    {
     "name": "stdout",
     "output_type": "stream",
     "text": [
      "Copying file://../data/models/4.1-LM-108k-lines/tmp/itos.pkl [Content-Type=application/octet-stream]...\n",
      "/ [1 files][310.1 KiB/310.1 KiB]                                                \n",
      "Operation completed over 1 objects/310.1 KiB.                                    \n"
     ]
    }
   ],
   "source": [
    "!gsutil cp $ITOS_PATH $ITOS_STORAGE"
   ]
  },
  {
   "cell_type": "markdown",
   "metadata": {},
   "source": [
    "## Text Generation"
   ]
  },
  {
   "cell_type": "code",
   "execution_count": 40,
   "metadata": {},
   "outputs": [],
   "source": [
    "def generate_step(learner, context, audio, context_length, temp=1):\n",
    "    \n",
    "    # FIX THIS\n",
    "    audio_size = train_audio.feature_size\n",
    "\n",
    "    model = learner.model\n",
    "    \n",
    "    if GPU:\n",
    "        context = LongTensor(context[-context_length:]).view(-1,1).cuda()\n",
    "    else:\n",
    "        context = LongTensor(context[-context_length:]).view(-1,1).cpu()\n",
    "    \n",
    "    context = torch.autograd.Variable(context)\n",
    "    \n",
    "    model.reset()\n",
    "    model.eval()\n",
    "\n",
    "    if audio is None:\n",
    "        audio_features = Tensor([0]*audio_size*len(context))\\\n",
    "        .view(-1, 1, audio_size).cuda()\n",
    "    else:\n",
    "        audio_features = np.tile(audio, len(context))\n",
    "        audio_features = Tensor(audio_features).view(-1, 1, len(audio)).cuda()\n",
    "        \n",
    "    # forward pass the \"context\" into the model\n",
    "    result, *_ = model(context, audio_features)\n",
    "    result = result[-1]\n",
    "\n",
    "    # set unk and pad to 0 prob\n",
    "    # i.e. never pick unknown or pad\n",
    "    result[0] = -np.inf\n",
    "    result[1] = -np.inf\n",
    "\n",
    "    # softmax and normalize\n",
    "    probabilities = F.softmax(result/temp, dim=0)\n",
    "    probabilities = np.asarray(probabilities.detach().cpu(), dtype=np.float)\n",
    "    probabilities /= np.sum(probabilities) \n",
    "    return probabilities\n",
    "\n",
    "def get_word_from_index(idx):\n",
    "\n",
    "    return data_lm.valid_ds.vocab.textify([idx])\n",
    "\n",
    "\n",
    "def print_words(context):\n",
    "    for i in range(len(context)):\n",
    "        \n",
    "        step = context[i]\n",
    "\n",
    "        word = data_lm.valid_ds.vocab.textify([step])\n",
    "\n",
    "        if word == 'xeol':\n",
    "            word = 'xeol \\n'\n",
    "        elif 'xbol' in word:\n",
    "            word = 'xbol'\n",
    "        elif word == 'xeos': \n",
    "            print(word)\n",
    "            break\n",
    "            \n",
    "        print(word, end=' ')   \n",
    "\n",
    "def generate_text(learner, seed_text=['xbos'], audio=None, max_len=500, GPU=False, context_length=20, beam_width=5, temp=1, verbose=True, graph=False):\n",
    "    \"\"\"Generates text with a given learner and returns best options.\n",
    "\n",
    "    Parameters\n",
    "    ----------\n",
    "    learner : RNNLearner Language Model (RNNLearner.language_model())\n",
    "        Fastai RNNLearner with tokenized language model data already loaded \n",
    "        \n",
    "    seed_text : list or str\n",
    "        List of strings where each item is a token. (e.g. ['the', 'cat']) or string that is split on white space\n",
    "\n",
    "    max_len : int\n",
    "        Number of words in generated sequence\n",
    "        \n",
    "    gpu : bool\n",
    "        If you're using a GPU or not...\n",
    "    \n",
    "    context_length : int\n",
    "        Amount of words that get input as \"context\" into the model. Set to 0 for no limit   \n",
    "        \n",
    "    beam_width : int\n",
    "        How many new word indices to try out...computationally expensive\n",
    "    \n",
    "    verbose : bool\n",
    "        If True, prints every possible context for a given word cycle\n",
    "\n",
    "    Returns\n",
    "    -------\n",
    "    context_and_scores : list of lists\n",
    "        Returns a sorted list of the entire tree search of contexts and their respective scores in the form:\n",
    "        [[context, score], [context, score], ..., [context, score]]\n",
    "    \"\"\"\n",
    "        \n",
    "    if isinstance(seed_text, str):\n",
    "        seed_text = data_lm.train_ds.vocab.numericalize(seed_text.split(' '))\n",
    "    \n",
    "    \n",
    "    # Width for the beam search, to be externalized along with general decoding\n",
    "    beam_width = beam_width\n",
    "    \n",
    "    if graph:\n",
    "        optimization_graph = Digraph()\n",
    "\n",
    "    # List of candidate word sequence. We'll maintain #beam_width top sequences here.\n",
    "    # The context is a list of words, the scores are the sum of the log probabilities of each word\n",
    "    context_and_scores = [[seed_text, 0.0]]\n",
    "    \n",
    "    # Loop over max number of words\n",
    "    for word_number in range(max_len):\n",
    "        print(f'Generating word: {word_number+1} / {max_len}')\n",
    "\n",
    "        candidates = []\n",
    "        \n",
    "        # For each possible context that we've generated so far, generate new probabilities, \n",
    "        # and pick an additional #beam_width next candidates\n",
    "        for i in range(len(context_and_scores)):\n",
    "            # Get a new sequence of word indices and log-probability\n",
    "            # Example: [[2, 138, 661], 23.181717]\n",
    "            context, score = context_and_scores[i]\n",
    "            \n",
    "            # Obtain probabilities for next word given the context \n",
    "            probabilities = generate_step(learner, context, audio, context_length, temp)\n",
    "\n",
    "            # Multinomial draw from the probabilities\n",
    "            multinom_draw = np.random.multinomial(beam_width, probabilities)\n",
    "            top_probabilities = np.argwhere(multinom_draw != 0).flatten()\n",
    "                        \n",
    "            #For each possible new candidate, update the context and scores\n",
    "            for j in range(len(top_probabilities)):\n",
    "                next_word_idx = top_probabilities[j]\n",
    "                new_context = context + [next_word_idx]\n",
    "                candidate = [new_context, (score - np.log(probabilities[next_word_idx]))]\n",
    "                candidates.append(candidate)\n",
    "                \n",
    "                if graph:\n",
    "                    optimization_graph.node(\"%d_%d\" % (word_number, next_word_idx), \"%s (%.2f)\" % (get_word_from_index(next_word_idx), candidate[1]))\n",
    "                    optimization_graph.edge(\"%d_%d\" % (word_number - 1, context[len(context) -1]), \"%d_%d\" % (word_number, next_word_idx))\n",
    "                \n",
    "        #update the running tally of context and scores and sort by probability of each entry\n",
    "        context_and_scores = candidates\n",
    "        context_and_scores = sorted(context_and_scores, key = lambda x: x[1]) #sort by top entries\n",
    "\n",
    "        context_and_scores = context_and_scores[:15] #for now, only keep the top 15 to speed things up but we can/should change this to beam_width or something else\n",
    "        \n",
    "        if verbose:\n",
    "            for context, score in context_and_scores:\n",
    "                print_words(context)\n",
    "                print('\\n')\n",
    "\n",
    "    if graph:\n",
    "        now = str(datetime.datetime.now())\n",
    "        optimization_graph.render(directory='graph_viz/', filename=now, cleanup=True)\n",
    "    return context_and_scores\n",
    "    "
   ]
  },
  {
   "cell_type": "code",
   "execution_count": 54,
   "metadata": {},
   "outputs": [
    {
     "data": {
      "text/plain": [
       "['80s',\n",
       " 'Hip-Hop',\n",
       " 'alternative',\n",
       " 'blues',\n",
       " 'christian',\n",
       " 'christmas',\n",
       " 'classic rock',\n",
       " 'country',\n",
       " 'dance',\n",
       " 'electronic',\n",
       " 'female vocalists',\n",
       " 'folk',\n",
       " 'foreign',\n",
       " 'indie',\n",
       " 'instrumental',\n",
       " 'jazz',\n",
       " 'metal',\n",
       " 'missing',\n",
       " 'other',\n",
       " 'pop',\n",
       " 'punk',\n",
       " 'rock',\n",
       " 'singer-songwriter',\n",
       " 'soul']"
      ]
     },
     "execution_count": 54,
     "metadata": {},
     "output_type": "execute_result"
    }
   ],
   "source": [
    "sorted(df_train2.tag.unique())"
   ]
  },
  {
   "cell_type": "code",
   "execution_count": 65,
   "metadata": {},
   "outputs": [
    {
     "data": {
      "text/plain": [
       "array([0., 0., 0., 0., 1., 0., 0., 0., 0., 0., 0., 0., 0., 0., 0., 0., 0., 0., 0., 0., 0., 0., 0., 0.])"
      ]
     },
     "execution_count": 65,
     "metadata": {},
     "output_type": "execute_result"
    }
   ],
   "source": [
    "xx = np.zeros((24,))\n",
    "xx[4] = 1\n",
    "xx"
   ]
  },
  {
   "cell_type": "code",
   "execution_count": 66,
   "metadata": {
    "scrolled": false
   },
   "outputs": [
    {
     "name": "stdout",
     "output_type": "stream",
     "text": [
      "Generating word: 1 / 50\n",
      "Generating word: 2 / 50\n",
      "Generating word: 3 / 50\n",
      "Generating word: 4 / 50\n",
      "Generating word: 5 / 50\n",
      "Generating word: 6 / 50\n",
      "Generating word: 7 / 50\n",
      "Generating word: 8 / 50\n",
      "Generating word: 9 / 50\n",
      "Generating word: 10 / 50\n",
      "Generating word: 11 / 50\n",
      "Generating word: 12 / 50\n",
      "Generating word: 13 / 50\n",
      "Generating word: 14 / 50\n",
      "Generating word: 15 / 50\n",
      "Generating word: 16 / 50\n",
      "Generating word: 17 / 50\n",
      "Generating word: 18 / 50\n",
      "Generating word: 19 / 50\n",
      "Generating word: 20 / 50\n",
      "Generating word: 21 / 50\n",
      "Generating word: 22 / 50\n",
      "Generating word: 23 / 50\n",
      "Generating word: 24 / 50\n",
      "Generating word: 25 / 50\n",
      "Generating word: 26 / 50\n",
      "Generating word: 27 / 50\n",
      "Generating word: 28 / 50\n",
      "Generating word: 29 / 50\n",
      "Generating word: 30 / 50\n",
      "Generating word: 31 / 50\n",
      "Generating word: 32 / 50\n",
      "Generating word: 33 / 50\n",
      "Generating word: 34 / 50\n",
      "Generating word: 35 / 50\n",
      "Generating word: 36 / 50\n",
      "Generating word: 37 / 50\n",
      "Generating word: 38 / 50\n",
      "Generating word: 39 / 50\n",
      "Generating word: 40 / 50\n",
      "Generating word: 41 / 50\n",
      "Generating word: 42 / 50\n",
      "Generating word: 43 / 50\n",
      "Generating word: 44 / 50\n",
      "Generating word: 45 / 50\n",
      "Generating word: 46 / 50\n",
      "Generating word: 47 / 50\n",
      "Generating word: 48 / 50\n",
      "Generating word: 49 / 50\n",
      "Generating word: 50 / 50\n"
     ]
    }
   ],
   "source": [
    "final_scores = generate_text(learn, GPU=GPU,\n",
    "                             seed_text='xbos',\n",
    "                             audio=xx,\n",
    "                             max_len=50, context_length=40,\n",
    "                             beam_width=3, verbose=False,\n",
    "                             temp=1.5, graph=False)"
   ]
  },
  {
   "cell_type": "code",
   "execution_count": 67,
   "metadata": {},
   "outputs": [
    {
     "name": "stdout",
     "output_type": "stream",
     "text": [
      "xbos xbol i can 't face it xeol \n",
      " xbol i can 't shake this curse xeol \n",
      " xbol and so it goes xeol \n",
      " xbol it 's alright xeol \n",
      " xbol and i just can 't take it xeol \n",
      " xbol it 's alright xeol \n",
      " xbol cause i don 't wanna lie xeol \n",
      " xbol xeol \n",
      " 123.08236382789906\n",
      "\n",
      "\n",
      "xbos xbol i can 't face it xeol \n",
      " xbol i can 't shake this curse xeol \n",
      " xbol and so it goes xeol \n",
      " xbol it 's alright xeol \n",
      " xbol and i just can 't take it xeol \n",
      " xbol it 's alright xeol \n",
      " xbol cause i don 't wanna go no more xeol \n",
      " 123.20466610769923\n",
      "\n",
      "\n",
      "xbos xbol i can 't face it xeol \n",
      " xbol i can 't shake this curse xeol \n",
      " xbol and so it goes xeol \n",
      " xbol it 's alright xeol \n",
      " xbol and i just can 't take it xeol \n",
      " xbol it 's alright xeol \n",
      " xbol cause i don 't wanna go xeol \n",
      " xbol don 123.89638589162936\n",
      "\n",
      "\n",
      "xbos xbol i can 't face it xeol \n",
      " xbol i can 't shake this curse xeol \n",
      " xbol and so it goes xeol \n",
      " xbol it 's alright xeol \n",
      " xbol and i just can 't take it xeol \n",
      " xbol it 's alright xeol \n",
      " xbol cause i don 't wanna lie xeol \n",
      " xbol and 123.91032005457161\n",
      "\n",
      "\n",
      "xbos xbol i can 't face it xeol \n",
      " xbol i can 't shake this curse xeol \n",
      " xbol and so it goes xeol \n",
      " xbol it 's alright xeol \n",
      " xbol and i just can 't take it xeol \n",
      " xbol it 's alright xeol \n",
      " xbol mmm ... xeol \n",
      " xbol xeol \n",
      " xbol it ain 't 124.35705621240218\n",
      "\n",
      "\n",
      "xbos xbol i can 't face it xeol \n",
      " xbol i can 't shake this curse xeol \n",
      " xbol and so it goes xeol \n",
      " xbol it 's alright xeol \n",
      " xbol and i just can 't take it xeol \n",
      " xbol it 's alright xeol \n",
      " xbol mmm ... xeol \n",
      " xbol xeol \n",
      " xbol it 's okay 124.68909547455773\n",
      "\n",
      "\n",
      "xbos xbol i can 't face it xeol \n",
      " xbol i can 't shake this curse xeol \n",
      " xbol and so it goes xeol \n",
      " xbol it 's alright xeol \n",
      " xbol and i just can 't take it xeol \n",
      " xbol it 's alright xeol \n",
      " xbol cause i don 't bitch xeol \n",
      " xbol xeol \n",
      " xbol 124.73638805646227\n",
      "\n",
      "\n",
      "xbos xbol i can 't face it xeol \n",
      " xbol i can 't shake this curse xeol \n",
      " xbol and so it goes xeol \n",
      " xbol it 's alright xeol \n",
      " xbol and i just can 't take it xeol \n",
      " xbol it 's alright xeol \n",
      " xbol mmm ... xeol \n",
      " xbol xeol \n",
      " xbol [bridge] xeol \n",
      " xbol 124.755570044084\n",
      "\n",
      "\n",
      "xbos xbol i can 't face it xeol \n",
      " xbol i can 't shake this curse xeol \n",
      " xbol and so it goes xeol \n",
      " xbol it 's alright xeol \n",
      " xbol and i just can 't take it xeol \n",
      " xbol it 's alright xeol \n",
      " xbol cause i don 't wanna lie no more xeol \n",
      " 125.43041621938148\n",
      "\n",
      "\n",
      "xbos xbol i can 't face it xeol \n",
      " xbol i can 't shake this curse xeol \n",
      " xbol and so it goes xeol \n",
      " xbol it 's alright xeol \n",
      " xbol and i just can 't take it xeol \n",
      " xbol it 's alright xeol \n",
      " xbol mmm ... xeol \n",
      " xbol xeol \n",
      " xbol woke up this 125.61392478478764\n",
      "\n",
      "\n",
      "xbos xbol i can 't face it xeol \n",
      " xbol i can 't shake this curse xeol \n",
      " xbol and so it goes xeol \n",
      " xbol it 's alright xeol \n",
      " xbol and i just can 't take it xeol \n",
      " xbol it 's alright xeol \n",
      " xbol cause i don 't wanna go xeol \n",
      " xbol try 126.58212343256675\n",
      "\n",
      "\n",
      "xbos xbol i can 't face it xeol \n",
      " xbol i can 't shake this curse xeol \n",
      " xbol and so it goes xeol \n",
      " xbol it 's alright xeol \n",
      " xbol and i just can 't take it xeol \n",
      " xbol it 's alright xeol \n",
      " xbol cause i don 't wanna go no place xeol \n",
      " 126.59460230748921\n",
      "\n",
      "\n",
      "xbos xbol i can 't face it xeol \n",
      " xbol i can 't shake this curse xeol \n",
      " xbol and so it goes xeol \n",
      " xbol it 's alright xeol \n",
      " xbol and i just can 't take it xeol \n",
      " xbol it 's alright xeol \n",
      " xbol cause i don 't hear it xeol \n",
      " xbol say 126.73780129178262\n",
      "\n",
      "\n",
      "xbos xbol i can 't face it xeol \n",
      " xbol i can 't shake this curse xeol \n",
      " xbol and so it goes xeol \n",
      " xbol it 's alright xeol \n",
      " xbol and i just can 't take it xeol \n",
      " xbol it 's alright xeol \n",
      " xbol cause i don 't wanna live this forever xeol \n",
      " 127.18008802405573\n",
      "\n",
      "\n",
      "xbos xbol i can 't face it xeol \n",
      " xbol i can 't shake this curse xeol \n",
      " xbol and so it goes xeol \n",
      " xbol it 's alright xeol \n",
      " xbol and i just can 't take it xeol \n",
      " xbol it 's alright xeol \n",
      " xbol cause now you can do what you wanna do 127.21030917469682\n",
      "\n",
      "\n"
     ]
    }
   ],
   "source": [
    "#print all of the final options of songs\n",
    "for song, score in final_scores:\n",
    "    print_words(song)\n",
    "    print(score)\n",
    "    print('\\n')"
   ]
  },
  {
   "cell_type": "code",
   "execution_count": null,
   "metadata": {},
   "outputs": [],
   "source": []
  }
 ],
 "metadata": {
  "kernelspec": {
   "display_name": "Python 3",
   "language": "python",
   "name": "python3"
  },
  "language_info": {
   "codemirror_mode": {
    "name": "ipython",
    "version": 3
   },
   "file_extension": ".py",
   "mimetype": "text/x-python",
   "name": "python",
   "nbconvert_exporter": "python",
   "pygments_lexer": "ipython3",
   "version": "3.6.5"
  }
 },
 "nbformat": 4,
 "nbformat_minor": 2
}
