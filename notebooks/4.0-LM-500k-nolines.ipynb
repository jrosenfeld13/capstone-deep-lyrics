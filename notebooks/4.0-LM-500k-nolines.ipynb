{
 "cells": [
  {
   "cell_type": "markdown",
   "metadata": {},
   "source": [
    "## Imports and Setup"
   ]
  },
  {
   "cell_type": "code",
   "execution_count": 1,
   "metadata": {},
   "outputs": [],
   "source": [
    "import pandas as pd\n",
    "import numpy as np\n",
    "import nltk.tokenize\n",
    "import itertools\n",
    "import datetime\n",
    "import torch\n",
    "\n",
    "from sklearn.model_selection import train_test_split\n",
    "\n",
    "from pathlib import Path\n",
    "\n",
    "from fastai import *\n",
    "from fastai.text import *\n",
    "\n",
    "from copy import copy, deepcopy\n",
    "from enum import Enum"
   ]
  },
  {
   "cell_type": "markdown",
   "metadata": {},
   "source": [
    "### Model definitions\n",
    "Define this notebooks \"initializer model\" (pretrained parameters and itos mapping) and the output model as well."
   ]
  },
  {
   "cell_type": "code",
   "execution_count": 2,
   "metadata": {},
   "outputs": [],
   "source": [
    "model_name = '4.0-LM-500k-nolines'\n",
    "MODEL_PATH = Path(f'../data/models/{model_name}')\n",
    "MODEL_PATH.mkdir(exist_ok=True)\n",
    "\n",
    "init_model_name = 'wt103'\n",
    "INIT_MODEL_PATH = Path(f'../data/models/{init_model_name}')"
   ]
  },
  {
   "cell_type": "markdown",
   "metadata": {},
   "source": [
    "### Tokenization\n",
    "To create the model's tokens with the correct train-test split, run the code below. Only needed once on the notebook's first ever run."
   ]
  },
  {
   "cell_type": "code",
   "execution_count": 3,
   "metadata": {},
   "outputs": [],
   "source": [
    "MODEL_FIRST_RUN = False"
   ]
  },
  {
   "cell_type": "code",
   "execution_count": 4,
   "metadata": {},
   "outputs": [],
   "source": [
    "def tokenize_lyrics(lyrics, line_num=True):\n",
    "    '''\n",
    "    Tokenizes lyrics\n",
    "    '''\n",
    "    tk = nltk.tokenize.LineTokenizer(blanklines='keep')\n",
    "    tokd = tk.tokenize(lyrics)\n",
    "    \n",
    "    re_tk = nltk.tokenize.RegexpTokenizer(r'\\[[^\\]]+\\]|\\w+|[\\d\\.,]+|\\S+',\n",
    "                                          discard_empty=False)\n",
    "    re_tokd = re_tk.tokenize_sents(tokd)\n",
    "    \n",
    "    if line_num:\n",
    "        [s.insert(0, f'xBOL {line_num+1}') for line_num, s in enumerate(re_tokd)] # insert start token for each line\n",
    "    else:\n",
    "        [s.insert(0, f'xBOL') for s in re_tokd] # insert start token for each line\n",
    "\n",
    "    [s.append('xEOL') for s in re_tokd] # append end token for each line\n",
    "    \n",
    "    flat = list(itertools.chain(*re_tokd))\n",
    "    flat.insert(0, 'xBOS')\n",
    "    flat.append('xEOS')\n",
    "    # lower case and de-space\n",
    "    flat = [w.lower().replace(' ', '-') for w in flat]\n",
    "    return flat"
   ]
  },
  {
   "cell_type": "code",
   "execution_count": 5,
   "metadata": {},
   "outputs": [],
   "source": [
    "def process_tokens(model_path, small_corpus=False, line_num=True):\n",
    "    '''\n",
    "    500k link: https://storage.googleapis.com/capstone-deep-lyrics/lyrics-500k.csv\n",
    "    108k link: https://storage.googleapis.com/w210-capstone/data/lyrics-valid.csv\n",
    "    '''\n",
    "    model_path = Path(model_path)\n",
    "    model_path.mkdir(exist_ok=True)\n",
    "    \n",
    "    small_corpus_url = 'https://storage.googleapis.com/w210-capstone/data/lyrics-valid.csv'\n",
    "    large_corpus_url = 'https://storage.googleapis.com/capstone-deep-lyrics/lyrics-500k.csv'\n",
    "\n",
    "    # load scraped data\n",
    "    if small_corpus:\n",
    "        df = pd.read_csv(small_corpus_url,\n",
    "                     header=None, escapechar='\\\\',\n",
    "                     names=['msd_id', 'lyrics'])\n",
    "    \n",
    "    if not small_corpus:\n",
    "        df = pd.read_csv(large_corpus_url, index_col=[0])\n",
    "    \n",
    "    # only keep lyrics with length < 5000\n",
    "    df = df[df.lyrics.str.len() < 5000]\n",
    "    print('Tokenizing...')\n",
    "    df['tokd'] = df.lyrics.apply(tokenize_lyrics, line_num=line_num)\n",
    "    df['tokd_len'] = df.tokd.apply(len)\n",
    "\n",
    "    # split train/test\n",
    "    df_train, df_test = train_test_split(df, test_size=0.2, random_state=2018)\n",
    "    \n",
    "    # tokens\n",
    "    print('Saving...')\n",
    "    tokens = np.array(df_train.tokd)\n",
    "    np.save(model_path/'train_tok.npy', tokens)\n",
    "    \n",
    "    tokens = np.array(df_test.tokd)\n",
    "    np.save(model_path/'valid_tok.npy', tokens)\n",
    "    print('Done.')"
   ]
  },
  {
   "cell_type": "code",
   "execution_count": 6,
   "metadata": {},
   "outputs": [],
   "source": [
    "if MODEL_FIRST_RUN:\n",
    "    process_tokens(MODEL_PATH, small_corpus=False, line_num=False)"
   ]
  },
  {
   "cell_type": "markdown",
   "metadata": {},
   "source": [
    "## Load Data"
   ]
  },
  {
   "cell_type": "markdown",
   "metadata": {},
   "source": [
    "Now that we've created the tokens, let's load them into a `DataBunch` to train our LM further or generate text with a pre-trained LM."
   ]
  },
  {
   "cell_type": "code",
   "execution_count": 7,
   "metadata": {},
   "outputs": [],
   "source": [
    "if MODEL_FIRST_RUN:\n",
    "    data_lm = TextLMDataBunch.from_tokens(MODEL_PATH,\n",
    "                                          bs=128,\n",
    "                                          max_vocab=20000)"
   ]
  },
  {
   "cell_type": "code",
   "execution_count": 27,
   "metadata": {},
   "outputs": [],
   "source": [
    "if not MODEL_FIRST_RUN:\n",
    "    data_lm = TextLMDataBunch.from_id_files(MODEL_PATH/'tmp')\n",
    "    data_lm.path = MODEL_PATH"
   ]
  },
  {
   "cell_type": "code",
   "execution_count": 9,
   "metadata": {},
   "outputs": [
    {
     "data": {
      "text/plain": [
       "20002"
      ]
     },
     "execution_count": 9,
     "metadata": {},
     "output_type": "execute_result"
    }
   ],
   "source": [
    "data_lm.train_ds.vocab_size"
   ]
  },
  {
   "cell_type": "markdown",
   "metadata": {},
   "source": [
    "## Model setup"
   ]
  },
  {
   "cell_type": "code",
   "execution_count": 29,
   "metadata": {},
   "outputs": [],
   "source": [
    "GPU = True\n",
    "DOWNLOAD_INIT_MODEL = False"
   ]
  },
  {
   "cell_type": "code",
   "execution_count": 30,
   "metadata": {},
   "outputs": [],
   "source": [
    "learn = RNNLearner.language_model(data_lm,\n",
    "                                  drop_mult=0.5)"
   ]
  },
  {
   "cell_type": "code",
   "execution_count": 12,
   "metadata": {},
   "outputs": [],
   "source": [
    "# weights_url = 'https://storage.googleapis.com/capstone-deep-lyrics/3.2-ULMFiT-108k_best.pth'\n",
    "# itos_url = 'https://storage.googleapis.com/capstone-deep-lyrics/3.2-ULMFiT-108k_best.pth'\n",
    "\n",
    "# if DOWNLOAD_INIT_MODEL:\n",
    "#     Path(MODEL_PATH/'models').mkdir(exist_ok=True)\n",
    "#     download_url(weights_url, MODEL_PATH/f'models/{model_name}_best.pth', overwrite=False)\n",
    "#     download_url(weights_url, MODEL_PATH/f'models/{model_name}_best.pth', overwrite=False)"
   ]
  },
  {
   "cell_type": "code",
   "execution_count": 13,
   "metadata": {},
   "outputs": [
    {
     "data": {
      "text/plain": [
       "PosixPath('../data/models/4.0-LM-500k-nolines/models/wt103')"
      ]
     },
     "execution_count": 13,
     "metadata": {},
     "output_type": "execute_result"
    }
   ],
   "source": [
    "untar_data('https://s3.amazonaws.com/fast-ai-modelzoo/wt103',\n",
    "           dest=MODEL_PATH/'models'/f'{init_model_name}')"
   ]
  },
  {
   "cell_type": "code",
   "execution_count": 14,
   "metadata": {},
   "outputs": [],
   "source": [
    "if MODEL_FIRST_RUN:\n",
    "    learn.load_pretrained(MODEL_PATH/'models'/f'{init_model_name}/lstm_{init_model_name}.pth', \n",
    "                          MODEL_PATH/'models'/f'{init_model_name}/itos_{init_model_name}.pkl')"
   ]
  },
  {
   "cell_type": "code",
   "execution_count": 15,
   "metadata": {},
   "outputs": [],
   "source": [
    "def cpu_load(self, name:PathOrStr):\n",
    "    \"\"\"Load model onto CPU that was trained on a GPU `name` from `self.model_dir`.\n",
    "       We need these because the fastai load function doesn't allow for a remapping of the storage location.\"\"\"\n",
    "    self.model.load_state_dict(torch.load(self.path/self.model_dir/f'{name}.pth', map_location=lambda storage, loc: storage))\n",
    "\n",
    "setattr(RNNLearner, 'cpu_load', cpu_load) #monkey patch onto our RNNLearner"
   ]
  },
  {
   "cell_type": "code",
   "execution_count": 31,
   "metadata": {},
   "outputs": [],
   "source": [
    "if not MODEL_FIRST_RUN:\n",
    "    if not GPU:\n",
    "        learn.cpu_load(f'{model_name}_best')\n",
    "    else:\n",
    "        learn.load(f'{model_name}_best')"
   ]
  },
  {
   "cell_type": "markdown",
   "metadata": {},
   "source": [
    "## Training"
   ]
  },
  {
   "cell_type": "code",
   "execution_count": 32,
   "metadata": {},
   "outputs": [],
   "source": [
    "TRAIN = False"
   ]
  },
  {
   "cell_type": "code",
   "execution_count": 33,
   "metadata": {},
   "outputs": [],
   "source": [
    "@dataclass\n",
    "class SaveModel(LearnerCallback):\n",
    "    \"\"\"Save Latest Model\"\"\"\n",
    "    def __init__(self, learn:Learner, model_name='saved_model'):\n",
    "        super().__init__(learn)\n",
    "        self.model_name = model_name\n",
    "        self.model_date = datetime.datetime.now().strftime('%Y-%m-%d-%H-%M-%S')\n",
    "        self.best_loss = None\n",
    "        self.perplexity = []\n",
    "        \n",
    "    def on_epoch_end(self, epoch:int, metrics, last_metrics, **kwargs):\n",
    "        loss, *_ = last_metrics\n",
    "        perp = np.exp(loss)\n",
    "        self.perplexity.append(perp)\n",
    "        if self.best_loss == None or loss < self.best_loss:\n",
    "            self.best_loss = loss\n",
    "            self.learn.save(f'{self.model_name}_best')\n",
    "        return False\n",
    "    \n",
    "    def on_train_end(self, epoch:int, **kwargs):\n",
    "        self.learn.save(f'{self.model_name}_last')"
   ]
  },
  {
   "cell_type": "code",
   "execution_count": 34,
   "metadata": {},
   "outputs": [],
   "source": [
    "save_callback = SaveModel(learn, model_name=f'{model_name}')"
   ]
  },
  {
   "cell_type": "code",
   "execution_count": 20,
   "metadata": {},
   "outputs": [
    {
     "name": "stdout",
     "output_type": "stream",
     "text": [
      "Total time: 1:10:44\n",
      "epoch  train_loss  valid_loss  accuracy\n",
      "1      2.838940    2.722366    0.486826  (1:10:44)\n",
      "\n"
     ]
    }
   ],
   "source": [
    "if TRAIN:\n",
    "    learn.fit_one_cycle(1, 1e-2)"
   ]
  },
  {
   "cell_type": "code",
   "execution_count": 21,
   "metadata": {},
   "outputs": [
    {
     "name": "stdout",
     "output_type": "stream",
     "text": [
      "Total time: 11:47:17\n",
      "epoch  train_loss  valid_loss  accuracy\n",
      "1      2.754317    2.653085    0.497598  (1:10:42)\n",
      "2      2.695400    2.614056    0.503625  (1:10:30)\n",
      "3      2.670430    2.586842    0.507888  (1:10:42)\n",
      "4      2.634851    2.567393    0.510872  (1:10:47)\n",
      "5      2.616007    2.548971    0.513701  (1:10:39)\n",
      "6      2.625343    2.538556    0.515376  (1:10:52)\n",
      "7      2.615963    2.527840    0.517034  (1:10:49)\n",
      "8      2.572687    2.516187    0.518694  (1:10:45)\n",
      "9      2.562337    2.507846    0.520121  (1:10:37)\n",
      "10     2.589528    2.503078    0.520817  (1:10:49)\n",
      "\n"
     ]
    }
   ],
   "source": [
    "if TRAIN:\n",
    "    learn.unfreeze()\n",
    "    learn.fit(10, 1e-3, callbacks=[save_callback])"
   ]
  },
  {
   "cell_type": "code",
   "execution_count": 22,
   "metadata": {},
   "outputs": [
    {
     "name": "stdout",
     "output_type": "stream",
     "text": [
      "best validation loss:  2.5030775\n"
     ]
    }
   ],
   "source": [
    "print(\"best validation loss: \", learn.save_model.best_loss)"
   ]
  },
  {
   "cell_type": "code",
   "execution_count": 24,
   "metadata": {},
   "outputs": [],
   "source": [
    "#learn.save_encoder(f'{model_name}_encoder')"
   ]
  },
  {
   "cell_type": "markdown",
   "metadata": {},
   "source": [
    "### Learning Loss"
   ]
  },
  {
   "cell_type": "code",
   "execution_count": 23,
   "metadata": {},
   "outputs": [
    {
     "data": {
      "image/png": "[encoded data removed]",
      "text/plain": [
       "<Figure size 432x288 with 1 Axes>"
      ]
     },
     "metadata": {},
     "output_type": "display_data"
    }
   ],
   "source": [
    "if TRAIN:\n",
    "    learn.recorder.plot_losses()"
   ]
  },
  {
   "cell_type": "markdown",
   "metadata": {},
   "source": [
    "### Model Output"
   ]
  },
  {
   "cell_type": "code",
   "execution_count": 35,
   "metadata": {},
   "outputs": [],
   "source": [
    "MODEL_OUTPUT_NAME = MODEL_PATH/'models'/f'{model_name}_best.pth'\n",
    "CLOUD_STORAGE = f'gs://w210-capstone/models/{model_name}_best.pth'"
   ]
  },
  {
   "cell_type": "code",
   "execution_count": 36,
   "metadata": {},
   "outputs": [
    {
     "name": "stdout",
     "output_type": "stream",
     "text": [
      "Copying file://../data/models/4.0-LM-500k-nolines/models/4.0-LM-500k-nolines_best.pth [Content-Type=application/octet-stream]...\n",
      "==> NOTE: You are uploading one or more large file(s), which would run\n",
      "significantly faster if you enable parallel composite uploads. This\n",
      "feature can be enabled by editing the\n",
      "\"parallel_composite_upload_threshold\" value in your .boto\n",
      "configuration file. However, note that if you do this large files will\n",
      "be uploaded as `composite objects\n",
      "<https://cloud.google.com/storage/docs/composite-objects>`_,which\n",
      "means that any user who downloads such objects will need to have a\n",
      "compiled crcmod installed (see \"gsutil help crcmod\"). This is because\n",
      "without a compiled crcmod, computing checksums on composite objects is\n",
      "so slow that gsutil disables downloads of composite objects.\n",
      "\n",
      "|\n",
      "Operation completed over 1 objects/150.5 MiB.                                    \n"
     ]
    }
   ],
   "source": [
    "!gsutil cp $MODEL_OUTPUT_NAME $CLOUD_STORAGE"
   ]
  },
  {
   "cell_type": "markdown",
   "metadata": {},
   "source": [
    "## Text Generation"
   ]
  },
  {
   "cell_type": "code",
   "execution_count": 37,
   "metadata": {},
   "outputs": [],
   "source": [
    "def generate_step(learner, context, context_length, temp=1):\n",
    "\n",
    "    model = learner.model\n",
    "    \n",
    "    if GPU:\n",
    "        context = LongTensor(context[-context_length:]).view(-1,1).cuda()\n",
    "    else:\n",
    "        context = LongTensor(context[-context_length:]).view(-1,1).cpu()\n",
    "    \n",
    "    context = torch.autograd.Variable(context)\n",
    "    \n",
    "    model.reset()\n",
    "    model.eval()\n",
    "\n",
    "    # forward pass the \"context\" into the model\n",
    "    result, *_ = model(context)\n",
    "    result = result[-1]\n",
    "\n",
    "    # set unk and pad to 0 prob\n",
    "    # i.e. never pick unknown or pad\n",
    "    result[0] = -np.inf\n",
    "    result[1] = -np.inf\n",
    "\n",
    "    # softmax and normalize\n",
    "    probabilities = F.softmax(result/temp, dim=0)\n",
    "    probabilities = np.asarray(probabilities.detach().cpu(), dtype=np.float)\n",
    "    probabilities /= np.sum(probabilities) \n",
    "    return probabilities\n",
    "\n",
    "def print_words(context):\n",
    "    for i in range(len(context)):\n",
    "        \n",
    "        step = context[i]\n",
    "\n",
    "        word = data_lm.valid_ds.vocab.textify([step])\n",
    "\n",
    "        if word == 'xeol':\n",
    "            word = '\\n'\n",
    "        elif 'xbol' in word:\n",
    "            word = word\n",
    "        elif word == 'xeos': \n",
    "            print(word)\n",
    "            break\n",
    "            \n",
    "        print(word, end=' ')   \n",
    "\n",
    "def generate_text(learner, seed_text=['xbos'], max_len=500, GPU=False, context_length=20, beam_width=5, verbose=True, temp=1):\n",
    "    \"\"\"Generates text with a given learner and returns best options.\n",
    "\n",
    "    Parameters\n",
    "    ----------\n",
    "    learner : RNNLearner Language Model (RNNLearner.language_model())\n",
    "        Fastai RNNLearner with tokenized language model data already loaded \n",
    "        \n",
    "    seed_text : list or str\n",
    "        List of strings where each item is a token. (e.g. ['the', 'cat']) or string that is split on white space\n",
    "\n",
    "    max_len : int\n",
    "        Number of words in generated sequence\n",
    "        \n",
    "    gpu : bool\n",
    "        If you're using a GPU or not...\n",
    "    \n",
    "    context_length : int\n",
    "        Amount of words that get input as \"context\" into the model. Set to 0 for no limit   \n",
    "        \n",
    "    beam_width : int\n",
    "        How many new word indices to try out...computationally expensive\n",
    "    \n",
    "    verbose : bool\n",
    "        If True, prints every possible context for a given word cycle\n",
    "\n",
    "    temperature : float\n",
    "        Scales the logits before softmax. A higher temp (>1) increases variety whereas a low temp (<=1) will often result in a loop\n",
    "\n",
    "    Returns\n",
    "    -------\n",
    "    context_and_scores : list of lists\n",
    "        Returns a sorted list of the entire tree search of contexts and their respective scores in the form:\n",
    "        [[context, score], [context, score], ..., [context, score]]\n",
    "    \"\"\"\n",
    "        \n",
    "    if isinstance(seed_text, str):\n",
    "        seed_text = data_lm.train_ds.vocab.numericalize(seed_text.split(' '))\n",
    "    \n",
    "    \n",
    "    # Width for the beam search, to be externalized along with general decoding\n",
    "    beam_width = beam_width\n",
    "    \n",
    "    # List of candidate word sequence. We'll maintain #beam_width top sequences here.\n",
    "    # The context is a list of words, the scores are the sum of the log probabilities of each word\n",
    "    context_and_scores = [[seed_text, 0.0]]\n",
    "    \n",
    "    # Loop over max number of words\n",
    "    for word_number in range(max_len):\n",
    "        if verbose: print(f'Generating word: {word_number+1} / {max_len}')\n",
    "\n",
    "        candidates = []\n",
    "        \n",
    "        # For each possible context that we've generated so far, generate new probabilities, \n",
    "        # and pick an additional #beam_width next candidates\n",
    "        for i in range(len(context_and_scores)):\n",
    "            # Get a new sequence of word indices and log-probability\n",
    "            # Example: [[2, 138, 661], 23.181717]\n",
    "            context, score = context_and_scores[i]\n",
    "            \n",
    "            # Obtain probabilities for next word given the context \n",
    "            probabilities = generate_step(learner, context, context_length, temp)\n",
    "\n",
    "            # Multinomial draw from the probabilities\n",
    "            multinom_draw = np.random.multinomial(beam_width, probabilities)\n",
    "            top_probabilities = np.argwhere(multinom_draw != 0).flatten()\n",
    "                        \n",
    "            #For each possible new candidate, update the context and scores\n",
    "            for j in range(len(top_probabilities)):\n",
    "                next_word_idx = top_probabilities[j]\n",
    "                new_context = context + [next_word_idx]\n",
    "                candidate = [new_context, (score - np.log(probabilities[next_word_idx]))]\n",
    "                candidates.append(candidate)\n",
    "        \n",
    "        #update the running tally of context and scores and sort by probability of each entry\n",
    "        context_and_scores = candidates\n",
    "        context_and_scores = sorted(context_and_scores, key = lambda x: x[1]) #sort by top entries\n",
    "#         np.random.shuffle(context_and_scores)\n",
    "\n",
    "        context_and_scores = context_and_scores[:15] #for now, only keep the top 15 to speed things up but we can/should change this to beam_width or something else\n",
    "        \n",
    "        if verbose:\n",
    "            for context, score in context_and_scores:\n",
    "                print_words(context)\n",
    "                print('\\n')\n",
    "    \n",
    "    return context_and_scores\n",
    "    "
   ]
  },
  {
   "cell_type": "code",
   "execution_count": 42,
   "metadata": {
    "scrolled": false
   },
   "outputs": [],
   "source": [
    "final_scores = generate_text(learn, GPU=GPU, seed_text='xbos xbol', max_len=80, context_length=40, beam_width=3, verbose=False, temp=1.5)"
   ]
  },
  {
   "cell_type": "code",
   "execution_count": 43,
   "metadata": {},
   "outputs": [
    {
     "name": "stdout",
     "output_type": "stream",
     "text": [
      "xbos xbol hop off put it on ice \n",
      " xbol if you 've got my heart broken \n",
      " xbol i don 't know where you 've gone to \n",
      " xbol no , if you don 't like my love \n",
      " xbol then i don 't, i just don 't know ... \n",
      " xbol \n",
      " xbol oh baby \n",
      " xbol you didn 't have to do everything you do \n",
      " xbol you didn 't have to make up your mind \n",
      " xbol to 210.72907546229337\n",
      "\n",
      "\n",
      "xbos xbol hop off put it on ice \n",
      " xbol if you 've got my heart broken \n",
      " xbol i don 't know where you 've gone to \n",
      " xbol no , if you don 't like my love \n",
      " xbol then i don 't, i just don 't know ... \n",
      " xbol \n",
      " xbol oh baby \n",
      " xbol you didn 't have to do everything you do \n",
      " xbol you didn 't have to make up your mind \n",
      " xbol so 211.5495533756906\n",
      "\n",
      "\n",
      "xbos xbol hop off put it on ice \n",
      " xbol if you 've got my heart broken \n",
      " xbol i don 't know where you 've gone to \n",
      " xbol no , if you don 't like my love \n",
      " xbol then i don 't, i just don 't know ... \n",
      " xbol \n",
      " xbol oh baby \n",
      " xbol you didn 't have to do it as far as i do \n",
      " xbol you didn 't have to do \n",
      " xbol \n",
      " 212.44683778045095\n",
      "\n",
      "\n",
      "xbos xbol hop off put it on ice \n",
      " xbol if you 've got my heart broken \n",
      " xbol i don 't know where you 've gone to \n",
      " xbol no , if you don 't like my love \n",
      " xbol then i don 't, i just don 't know ... \n",
      " xbol \n",
      " xbol oh baby \n",
      " xbol you didn 't have to do everything you do \n",
      " xbol you don 't have to do why don 't \n",
      " xbol you 212.70213234564133\n",
      "\n",
      "\n",
      "xbos xbol hop off put it on ice \n",
      " xbol if you 've got my heart broken \n",
      " xbol i don 't know where you 've gone to \n",
      " xbol no , if you don 't like my love \n",
      " xbol then i don 't, i just don 't know ... \n",
      " xbol \n",
      " xbol oh baby \n",
      " xbol you didn 't have to do everything you do \n",
      " xbol you don 't have to do why don 't \n",
      " xeos\n",
      "213.30172145884578\n",
      "\n",
      "\n",
      "xbos xbol hop off put it on ice \n",
      " xbol if you 've got my heart broken \n",
      " xbol i don 't know where you 've gone to \n",
      " xbol no , if you don 't like my love \n",
      " xbol then i don 't, i just don 't know ... \n",
      " xbol \n",
      " xbol oh baby \n",
      " xbol you didn 't have to do everything you do \n",
      " xbol you don 't have to do the way we do \n",
      " xbol 213.3856910513018\n",
      "\n",
      "\n",
      "xbos xbol hop off put it on ice \n",
      " xbol if you 've got my heart broken \n",
      " xbol i don 't know where you 've gone to \n",
      " xbol no , if you don 't like my love \n",
      " xbol then i don 't, i just don 't know ... \n",
      " xbol \n",
      " xbol oh baby \n",
      " xbol you didn 't have to do it as far as i do \n",
      " xbol you didn 't have to do it yet \n",
      " 213.80215126285265\n",
      "\n",
      "\n",
      "xbos xbol hop off put it on ice \n",
      " xbol if you 've got my heart broken \n",
      " xbol i don 't know where you 've gone to \n",
      " xbol no , if you don 't like my love \n",
      " xbol then i don 't, i just don 't know ... \n",
      " xbol \n",
      " xbol oh baby \n",
      " xbol you didn 't have to do it as far as i do \n",
      " xbol you didn 't have to do it with one 214.52989788150515\n",
      "\n",
      "\n",
      "xbos xbol hop off put it on ice \n",
      " xbol if you 've got my heart broken \n",
      " xbol i don 't know where you 've gone to \n",
      " xbol no , if you don 't like my love \n",
      " xbol then i don 't, i just don 't know ... \n",
      " xbol \n",
      " xbol oh baby \n",
      " xbol you didn 't have to do everything you do \n",
      " xbol you don 't have to do why \n",
      " xbol i 've been 215.44938417616098\n",
      "\n",
      "\n",
      "xbos xbol hop off put it on ice \n",
      " xbol if you 've got my heart broken \n",
      " xbol i don 't know where you 've gone to \n",
      " xbol no , if you don 't like my love \n",
      " xbol then i don 't, i just don 't know ... \n",
      " xbol \n",
      " xbol oh baby \n",
      " xbol you didn 't have to do everything you do \n",
      " xbol you didn 't have to make up your mind everytime \n",
      " xbol 215.462650333573\n",
      "\n",
      "\n",
      "xbos xbol hop off put it on ice \n",
      " xbol if you 've got my heart broken \n",
      " xbol i don 't know where you 've gone to \n",
      " xbol no , if you don 't like my love \n",
      " xbol then i don 't, i just don 't know ... \n",
      " xbol \n",
      " xbol oh baby \n",
      " xbol you didn 't have to do it as far as i do \n",
      " xbol you didn 't have to do \n",
      " xbol two 216.05020367924715\n",
      "\n",
      "\n",
      "xbos xbol hop off put it on ice \n",
      " xbol if you 've got my heart broken \n",
      " xbol i don 't know where you 've gone to \n",
      " xbol no , if you don 't like my love \n",
      " xbol then i don 't, i just don 't know ... \n",
      " xbol \n",
      " xbol oh baby \n",
      " xbol you didn 't have to do everything you do \n",
      " xbol you don 't have to do why \n",
      " xbol \n",
      " xbol time 216.44904259290854\n",
      "\n",
      "\n",
      "xbos xbol hop off put it on ice \n",
      " xbol if you 've got my heart broken \n",
      " xbol i don 't know where you 've gone to \n",
      " xbol no , if you don 't like my love \n",
      " xbol then i don 't, i just don 't know ... \n",
      " xbol \n",
      " xbol oh baby \n",
      " xbol you didn 't have to do everything you do \n",
      " xbol you don 't have to do why don 't you ask me 216.7407311798609\n",
      "\n",
      "\n",
      "xbos xbol hop off put it on ice \n",
      " xbol if you 've got my heart broken \n",
      " xbol i don 't know where you 've gone to \n",
      " xbol no , if you don 't like my love \n",
      " xbol then i don 't, i just don 't know ... \n",
      " xbol \n",
      " xbol oh baby \n",
      " xbol you didn 't have to do everything you do \n",
      " xbol you don 't have to do why \n",
      " xbol i 've tried 217.30807831485012\n",
      "\n",
      "\n",
      "xbos xbol hop off put it on ice \n",
      " xbol if you 've got my heart broken \n",
      " xbol i don 't know where you 've gone to \n",
      " xbol no , if you don 't like my love \n",
      " xbol then i don 't, i just don 't know ... \n",
      " xbol \n",
      " xbol oh baby \n",
      " xbol you didn 't have to do everything you do \n",
      " xbol you don 't have to do why \n",
      " xbol \n",
      " xbol step 217.60093647969447\n",
      "\n",
      "\n"
     ]
    }
   ],
   "source": [
    "#print all of the final options of songs\n",
    "for song, score in final_scores:\n",
    "    print_words(song)\n",
    "    print(score)\n",
    "    print('\\n')"
   ]
  },
  {
   "cell_type": "code",
   "execution_count": null,
   "metadata": {},
   "outputs": [],
   "source": []
  }
 ],
 "metadata": {
  "kernelspec": {
   "display_name": "Python 3",
   "language": "python",
   "name": "python3"
  },
  "language_info": {
   "codemirror_mode": {
    "name": "ipython",
    "version": 3
   },
   "file_extension": ".py",
   "mimetype": "text/x-python",
   "name": "python",
   "nbconvert_exporter": "python",
   "pygments_lexer": "ipython3",
   "version": "3.6.5"
  }
 },
 "nbformat": 4,
 "nbformat_minor": 2
}
