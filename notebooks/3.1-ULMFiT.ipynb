{
 "cells": [
  {
   "cell_type": "code",
   "execution_count": 1,
   "metadata": {},
   "outputs": [],
   "source": [
    "import pandas as pd\n",
    "import numpy as np\n",
    "import nltk.tokenize\n",
    "import itertools\n",
    "import datetime\n",
    "\n",
    "from pathlib import Path\n",
    "\n",
    "from fastai import *\n",
    "from fastai.text import *\n",
    "\n",
    "from copy import copy, deepcopy\n",
    "from enum import Enum"
   ]
  },
  {
   "cell_type": "markdown",
   "metadata": {},
   "source": [
    "# Deep Lyrics Generator - ULMFiT\n",
    "\n",
    "## Set up instructions\n",
    "\n",
    "### Create VM Instance\n",
    "\n",
    "- Go to cloud.google.com, and create a new VM instance\n",
    "- Disk size: 100GB or more\n",
    "- CPUs + Memory: 2vCPUs, 7.5 GB Memory\n",
    "- GPU: K80 (cheaper, less power) or P100 (2.5x more expensive, more power)\n",
    "- Enable http, https traffic\n",
    "- Boot: Deep learning pytorch instance\n",
    "\n",
    "### Network configuration\n",
    "\n",
    "In Google cloud platform:\n",
    "\n",
    "- Go to Networking -> VPC Network, External IP addresses\n",
    "- Select your VM instance and change the external address type from Ephemeral to Static\n",
    "- Go to Networking -> VPC Network, Firewall Rules\n",
    "- Add a new Rule, called Jupyter, ip ranges 0.0.0.0/0, protocols and ports tcp:8888, apply to all targets\n",
    "\n",
    "### VM + Jupyter Setup\n",
    "\n",
    "- SSH to VM\n",
    "- Enlist into Github repo\n",
    "- Run src/setup.sh\n",
    "- Run jupyter notebook\n",
    "- Open a google cloud shell\n",
    "- Run gcloud init and answer the questions\n",
    "- To set up a tunnel and run jupyter locally, run ```gcloud compute --project \"<your project>\" ssh --zone \"<your zone>\" \"<your instance name>\" -- -L 8888:localhost:8888```\n",
    "- Open jupyter notebook in your local computer and have fun\n",
    "\n",
    "### Notebook first run\n",
    "Here are some steps to run the first time you use the notebook."
   ]
  },
  {
   "cell_type": "markdown",
   "metadata": {},
   "source": [
    "#### Tokens\n",
    "To create the model's tokens with the correct train-test split, run ```src/data_collection/lm_data_lyrics.py -o path/to/save```. \n",
    "We recommend saving in data/models/{MODEL_NAME}. Alternatively, run the magic command below and replace the model name."
   ]
  },
  {
   "cell_type": "code",
   "execution_count": 2,
   "metadata": {},
   "outputs": [
    {
     "name": "stdout",
     "output_type": "stream",
     "text": [
      "Numericalizing train.\n",
      "Numericalizing valid.\n"
     ]
    }
   ],
   "source": [
    "%run ../src/data_collection/lm_data_lyrics.py -o ../data/models/3.1-ULMFiT-108k"
   ]
  },
  {
   "cell_type": "markdown",
   "metadata": {},
   "source": [
    "## Load Data"
   ]
  },
  {
   "cell_type": "markdown",
   "metadata": {},
   "source": [
    "Now that we've created the tokens, let's load them into a `DataBunch` to train our LM further or generate text with a pre-trained LM."
   ]
  },
  {
   "cell_type": "code",
   "execution_count": 2,
   "metadata": {},
   "outputs": [],
   "source": [
    "model_name = '3.1-ULMFiT-108k'\n",
    "MODEL_PATH = Path(f'../data/models/{model_name}')\n",
    "MODEL_PATH.mkdir(exist_ok=True)"
   ]
  },
  {
   "cell_type": "code",
   "execution_count": 3,
   "metadata": {},
   "outputs": [
    {
     "name": "stdout",
     "output_type": "stream",
     "text": [
      "10002\n"
     ]
    }
   ],
   "source": [
    "data_lm = TextLMDataBunch.from_tokens(MODEL_PATH,\n",
    "                                      bs=128,\n",
    "                                      max_vocab=10000)\n",
    "\n",
    "print(data_lm.train_ds.vocab_size)"
   ]
  },
  {
   "cell_type": "markdown",
   "metadata": {},
   "source": [
    "## Model setup"
   ]
  },
  {
   "cell_type": "code",
   "execution_count": 63,
   "metadata": {},
   "outputs": [],
   "source": [
    "GPU = True"
   ]
  },
  {
   "cell_type": "code",
   "execution_count": 64,
   "metadata": {},
   "outputs": [],
   "source": [
    "learn = RNNLearner.language_model(data_lm,\n",
    "                                  pretrained_model=URLs.IMDB,\n",
    "                                  drop_mult=0.5)\n",
    "\n",
    "save_callback = SaveModel(learn, model_name='ULMFiT_3.0-108k')"
   ]
  },
  {
   "cell_type": "code",
   "execution_count": 65,
   "metadata": {},
   "outputs": [
    {
     "data": {
      "application/vnd.jupyter.widget-view+json": {
       "model_id": "6685d1179e0f4c6c9202f194201f6e49",
       "version_major": 2,
       "version_minor": 0
      },
      "text/plain": [
       "HBox(children=(IntProgress(value=0, max=141772701), HTML(value='')))"
      ]
     },
     "metadata": {},
     "output_type": "display_data"
    }
   ],
   "source": [
    "DOWNLOAD_MODEL_WEIGHTS = True\n",
    "weights_url = 'https://storage.googleapis.com/w210-capstone/models/ULMFiT_3.0-108k_best.pth'\n",
    "\n",
    "if DOWNLOAD_MODEL_WEIGHTS:\n",
    "    Path(MODEL_PATH/'models').mkdir(exist_ok=True)\n",
    "    download_url(weights_url, MODEL_PATH/f'models/{model_name}_best.pth', overwrite=True)"
   ]
  },
  {
   "cell_type": "code",
   "execution_count": 66,
   "metadata": {},
   "outputs": [],
   "source": [
    "def cpu_load(self, name:PathOrStr):\n",
    "    \"\"\"Load model onto CPU that was trained on a GPU `name` from `self.model_dir`.\n",
    "       We need these because the fastai load function doesn't allow for a remapping of the storage location.\"\"\"\n",
    "    self.model.load_state_dict(torch.load(self.path/self.model_dir/f'{name}.pth', map_location=lambda storage, loc: storage))\n",
    "\n",
    "setattr(RNNLearner, 'cpu_load', cpu_load) #monkey patch onto our RNNLearner"
   ]
  },
  {
   "cell_type": "code",
   "execution_count": 67,
   "metadata": {},
   "outputs": [],
   "source": [
    "if not GPU:\n",
    "    learn.cpu_load(f'{model_name}_best')\n",
    "else:\n",
    "    learn.load(f'{model_name}_best')"
   ]
  },
  {
   "cell_type": "markdown",
   "metadata": {},
   "source": [
    "## Training"
   ]
  },
  {
   "cell_type": "code",
   "execution_count": 68,
   "metadata": {},
   "outputs": [],
   "source": [
    "TRAIN = True"
   ]
  },
  {
   "cell_type": "code",
   "execution_count": 69,
   "metadata": {},
   "outputs": [],
   "source": [
    "@dataclass\n",
    "class SaveModel(LearnerCallback):\n",
    "    \"\"\"Save Latest Model\"\"\"\n",
    "    def __init__(self, learn:Learner, model_name='saved_model'):\n",
    "        super().__init__(learn)\n",
    "        self.model_name = model_name\n",
    "        self.model_date = datetime.datetime.now().strftime('%Y-%m-%d-%H-%M-%S')\n",
    "        self.best_loss = None\n",
    "        self.perplexity = []\n",
    "        \n",
    "    def on_epoch_end(self, epoch:int, metrics, last_metrics, **kwargs):\n",
    "        loss, *_ = last_metrics\n",
    "        perp = np.exp(loss)\n",
    "        self.perplexity.append(perp)\n",
    "        if self.best_loss == None or loss < self.best_loss:\n",
    "            self.best_loss = loss\n",
    "            self.learn.save(f'{self.model_name}_best')\n",
    "        return False\n",
    "    \n",
    "    def on_train_end(self, epoch:int, **kwargs):\n",
    "        self.learn.save(f'{self.model_name}_last')"
   ]
  },
  {
   "cell_type": "code",
   "execution_count": 70,
   "metadata": {},
   "outputs": [],
   "source": [
    "save_callback = SaveModel(learn, model_name=f'{model_name}')"
   ]
  },
  {
   "cell_type": "code",
   "execution_count": 71,
   "metadata": {},
   "outputs": [
    {
     "data": {
      "application/vnd.jupyter.widget-view+json": {
       "model_id": "",
       "version_major": 2,
       "version_minor": 0
      },
      "text/plain": [
       "VBox(children=(HBox(children=(IntProgress(value=0, max=1), HTML(value='0.00% [0/1 00:00<00:00]'))), HTML(value…"
      ]
     },
     "metadata": {},
     "output_type": "display_data"
    },
    {
     "name": "stdout",
     "output_type": "stream",
     "text": [
      "Total time: 12:31\n",
      "epoch  train loss  valid loss  accuracy\n",
      "0      2.981173    2.926813    0.442851  (12:31)\n",
      "\n"
     ]
    }
   ],
   "source": [
    "if TRAIN:\n",
    "    learn.fit_one_cycle(1, 1e-2)"
   ]
  },
  {
   "cell_type": "code",
   "execution_count": 73,
   "metadata": {},
   "outputs": [
    {
     "data": {
      "application/vnd.jupyter.widget-view+json": {
       "model_id": "",
       "version_major": 2,
       "version_minor": 0
      },
      "text/plain": [
       "VBox(children=(HBox(children=(IntProgress(value=0, max=10), HTML(value='0.00% [0/10 00:00<00:00]'))), HTML(val…"
      ]
     },
     "metadata": {},
     "output_type": "display_data"
    },
    {
     "name": "stdout",
     "output_type": "stream",
     "text": [
      "Total time: 2:05:22\n",
      "epoch  train loss  valid loss  accuracy\n",
      "0      2.908666    2.869007    0.449923  (12:33)\n",
      "1      2.869597    2.843347    0.453256  (12:33)\n",
      "2      2.814083    2.823984    0.456066  (12:33)\n",
      "3      2.754369    2.810501    0.458073  (12:27)\n",
      "4      2.739022    2.803386    0.459207  (12:34)\n",
      "5      2.697838    2.794896    0.460672  (12:36)\n",
      "6      2.677279    2.790182    0.461662  (12:34)\n",
      "7      2.680177    2.786385    0.461968  (12:29)\n",
      "8      2.641148    2.783062    0.463103  (12:28)\n",
      "9      2.670224    2.780857    0.462928  (12:30)\n",
      "\n"
     ]
    }
   ],
   "source": [
    "if TRAIN:\n",
    "    learn.unfreeze()\n",
    "    learn.fit(10, 1e-3, callbacks=[save_callback])"
   ]
  },
  {
   "cell_type": "code",
   "execution_count": 74,
   "metadata": {},
   "outputs": [
    {
     "name": "stdout",
     "output_type": "stream",
     "text": [
      "best validation loss:  2.7808568\n"
     ]
    }
   ],
   "source": [
    "print(\"best validation loss: \", learn.save_model.best_loss)"
   ]
  },
  {
   "cell_type": "markdown",
   "metadata": {},
   "source": [
    "#### Learning Loss"
   ]
  },
  {
   "cell_type": "code",
   "execution_count": 75,
   "metadata": {},
   "outputs": [
    {
     "data": {
      "image/png": "[encoded data removed]",
      "text/plain": [
       "<Figure size 432x288 with 1 Axes>"
      ]
     },
     "metadata": {},
     "output_type": "display_data"
    }
   ],
   "source": [
    "if TRAIN:\n",
    "    learn.recorder.plot_losses()"
   ]
  },
  {
   "cell_type": "markdown",
   "metadata": {},
   "source": [
    "## Model Load"
   ]
  },
  {
   "cell_type": "markdown",
   "metadata": {},
   "source": [
    "## Text Generation"
   ]
  },
  {
   "cell_type": "code",
   "execution_count": 76,
   "metadata": {},
   "outputs": [],
   "source": [
    "def generate_step(model, context, context_length):\n",
    "\n",
    "    model.reset()\n",
    "    model.eval()\n",
    "    \n",
    "    # forward pass the \"context\" into the model\n",
    "    result, *_ = model(context[-context_length:])\n",
    "    result = result[-1]\n",
    "\n",
    "    # set unk and pad to 0 prob\n",
    "    # i.e. never pick unknown or pad\n",
    "    result[0] = -np.inf\n",
    "    result[1] = -np.inf\n",
    "\n",
    "    # softmax and normalize\n",
    "    probabilities = F.softmax(result, dim=0)\n",
    "    probabilities = np.asarray(probabilities.detach().cpu(), dtype=np.float)\n",
    "    probabilities /= np.sum(probabilities) \n",
    "    return probabilities\n",
    "\n",
    "def print_words(sequence):\n",
    "    for i in range(len(sequence[0])):\n",
    "        \n",
    "        step = sequence[0][i]\n",
    "\n",
    "        word = data_lm.valid_ds.vocab.textify([step])\n",
    "\n",
    "        if word == 'xeol':\n",
    "            word = '\\n'\n",
    "        elif 'xbol' in word:\n",
    "            continue\n",
    "        elif word == 'xeos': \n",
    "            print(word)\n",
    "            break\n",
    "            \n",
    "        print(word, end=' ')   \n",
    "\n",
    "def generate_text(learner, seed_text=['xbos'], max_len=500, GPU=False, context_length=20):\n",
    "    \"\"\"Generates text with a given learner and prints string to console.\n",
    "\n",
    "    Parameters\n",
    "    ----------\n",
    "    learner : RNNLearner Language Model (RNNLearner.language_model())\n",
    "        Fastai RNNLearner with tokenized language model data already loaded \n",
    "        \n",
    "    seed_text : list or str\n",
    "        List of strings where each item is a token. (e.g. ['the', 'cat']) or string that is split on white space\n",
    "\n",
    "    max_len : int\n",
    "        Number of words in generated sequence\n",
    "        \n",
    "    gpu : bool\n",
    "        If you're using a GPU or not...\n",
    "    \n",
    "    context_length : int\n",
    "        Amount of words that get input as \"context\" into the model. Set to 0 for no limit\n",
    "\n",
    "    Returns\n",
    "    -------\n",
    "    None : NoneType\n",
    "        Doesn't return anything, prints string to console\n",
    "    \"\"\"\n",
    "        \n",
    "    model = learner.model\n",
    "    \n",
    "    if isinstance(seed_text, str):\n",
    "        seed_text = seed_text.split(' ')\n",
    "    \n",
    "    if GPU:\n",
    "        context = LongTensor(data_lm.train_ds.vocab.numericalize(seed_text)).view(-1,1).cuda()\n",
    "    else:\n",
    "        context = LongTensor(data_lm.train_ds.vocab.numericalize(seed_text)).view(-1,1).cpu()\n",
    "    \n",
    "    context = torch.autograd.Variable(context)\n",
    "    \n",
    "    # Width for the beam search, to be externalized along with general decoding\n",
    "    beam_width = 5\n",
    "    \n",
    "    # Reset model's hidden state\n",
    "    # We don't want to carry over old contexts\n",
    "    model.reset()\n",
    "    model.eval()\n",
    "\n",
    "    # List of candidate word sequence. We'll maintain #beam_width top sequences here.\n",
    "    # The context is a list of words, the score is the multiplied probabilities of each word\n",
    "    sequences = [[context, 1.0]]\n",
    "    \n",
    "    # Loop over max number of words\n",
    "    for _ in range(max_len):\n",
    "        \n",
    "        print ('Generating word: ', _, '/', max_len)\n",
    "        candidates = list()\n",
    "        \n",
    "        # For each top sequence, generate the next word, and pick #beam_width candidates\n",
    "        for i in range(len(sequences)):\n",
    "            \n",
    "            seq, score = sequences[i]\n",
    "\n",
    "            # Obtain probabilities for next word\n",
    "            probabilities = generate_step(model, seq, context_length)\n",
    "            \n",
    "            # Multinomial draw of size beam_width. Greedy approach here would be to take top 5 probabilities.\n",
    "            multinom_draw = np.random.multinomial(beam_width, probabilities)\n",
    "            top_probabilities = sorted(range(len(multinom_draw)), key=lambda u: multinom_draw[u])[-beam_width:]\n",
    "\n",
    "            # Add each of the candidate sequence+word to the candidate list\n",
    "            for j in range(len(top_probabilities)):\n",
    "\n",
    "                idx = top_probabilities[j]\n",
    "\n",
    "                if GPU:\n",
    "                    token_index = LongTensor([idx]).view(-1, 1).cuda()\n",
    "                else:\n",
    "                    token_index = LongTensor([idx]).view(-1, 1).cpu()\n",
    "\n",
    "                new_context = torch.cat((seq.clone(), token_index.clone())) \n",
    "\n",
    "                # To have a regular multinomial, just make beam_width = 1 and change the line below for:\n",
    "                # candidate = [new_context, (probabilities[idx])]\n",
    "                candidate = [new_context, (score *probabilities[idx])]\n",
    "                candidates.append(candidate)\n",
    "\n",
    "        # Once we have the candidate words for each top sequence, do a multinomial draw based off the score to pick the top\n",
    "        # Greedy version would be to pick top N scored sequences\n",
    "        probs = [candidate[1] for candidate in candidates]\n",
    "        multinom_draw = np.random.multinomial(beam_width , probs)\n",
    "        top = sorted(range(len(multinom_draw)), key=lambda u: multinom_draw[u])[-beam_width:]\n",
    "        \n",
    "        top_candidates = list()\n",
    "        for r in range(len(top)):\n",
    "            top_candidates.append(candidates[top[r]])\n",
    "\n",
    "        sequences = top_candidates\n",
    "        \n",
    "#         for seq in sequences:\n",
    "#             print_words(seq)\n",
    "#             print('\\n')\n",
    "        \n",
    "        \n",
    "    print_words(sequences[0])\n"
   ]
  },
  {
   "cell_type": "code",
   "execution_count": 85,
   "metadata": {},
   "outputs": [
    {
     "name": "stdout",
     "output_type": "stream",
     "text": [
      "Generating word:  0 / 100\n",
      "Generating word:  1 / 100\n",
      "Generating word:  2 / 100\n",
      "Generating word:  3 / 100\n",
      "Generating word:  4 / 100\n",
      "Generating word:  5 / 100\n",
      "Generating word:  6 / 100\n",
      "Generating word:  7 / 100\n",
      "Generating word:  8 / 100\n",
      "Generating word:  9 / 100\n",
      "Generating word:  10 / 100\n",
      "Generating word:  11 / 100\n",
      "Generating word:  12 / 100\n",
      "Generating word:  13 / 100\n",
      "Generating word:  14 / 100\n",
      "Generating word:  15 / 100\n",
      "Generating word:  16 / 100\n",
      "Generating word:  17 / 100\n",
      "Generating word:  18 / 100\n",
      "Generating word:  19 / 100\n",
      "Generating word:  20 / 100\n",
      "Generating word:  21 / 100\n",
      "Generating word:  22 / 100\n",
      "Generating word:  23 / 100\n",
      "Generating word:  24 / 100\n",
      "Generating word:  25 / 100\n",
      "Generating word:  26 / 100\n",
      "Generating word:  27 / 100\n",
      "Generating word:  28 / 100\n",
      "Generating word:  29 / 100\n",
      "Generating word:  30 / 100\n",
      "Generating word:  31 / 100\n",
      "Generating word:  32 / 100\n",
      "Generating word:  33 / 100\n",
      "Generating word:  34 / 100\n",
      "Generating word:  35 / 100\n",
      "Generating word:  36 / 100\n",
      "Generating word:  37 / 100\n",
      "Generating word:  38 / 100\n",
      "Generating word:  39 / 100\n",
      "Generating word:  40 / 100\n",
      "Generating word:  41 / 100\n",
      "Generating word:  42 / 100\n",
      "Generating word:  43 / 100\n",
      "Generating word:  44 / 100\n",
      "Generating word:  45 / 100\n",
      "Generating word:  46 / 100\n",
      "Generating word:  47 / 100\n",
      "Generating word:  48 / 100\n",
      "Generating word:  49 / 100\n",
      "Generating word:  50 / 100\n",
      "Generating word:  51 / 100\n",
      "Generating word:  52 / 100\n",
      "Generating word:  53 / 100\n",
      "Generating word:  54 / 100\n",
      "Generating word:  55 / 100\n",
      "Generating word:  56 / 100\n",
      "Generating word:  57 / 100\n",
      "Generating word:  58 / 100\n",
      "Generating word:  59 / 100\n",
      "Generating word:  60 / 100\n",
      "Generating word:  61 / 100\n",
      "Generating word:  62 / 100\n",
      "Generating word:  63 / 100\n",
      "Generating word:  64 / 100\n",
      "Generating word:  65 / 100\n",
      "Generating word:  66 / 100\n",
      "Generating word:  67 / 100\n",
      "Generating word:  68 / 100\n",
      "Generating word:  69 / 100\n",
      "Generating word:  70 / 100\n",
      "Generating word:  71 / 100\n",
      "Generating word:  72 / 100\n",
      "Generating word:  73 / 100\n",
      "Generating word:  74 / 100\n",
      "Generating word:  75 / 100\n",
      "Generating word:  76 / 100\n",
      "Generating word:  77 / 100\n",
      "Generating word:  78 / 100\n",
      "Generating word:  79 / 100\n",
      "Generating word:  80 / 100\n",
      "Generating word:  81 / 100\n",
      "Generating word:  82 / 100\n",
      "Generating word:  83 / 100\n",
      "Generating word:  84 / 100\n",
      "Generating word:  85 / 100\n",
      "Generating word:  86 / 100\n",
      "Generating word:  87 / 100\n",
      "Generating word:  88 / 100\n",
      "Generating word:  89 / 100\n",
      "Generating word:  90 / 100\n",
      "Generating word:  91 / 100\n",
      "Generating word:  92 / 100\n",
      "Generating word:  93 / 100\n",
      "Generating word:  94 / 100\n",
      "Generating word:  95 / 100\n",
      "Generating word:  96 / 100\n",
      "Generating word:  97 / 100\n",
      "Generating word:  98 / 100\n",
      "Generating word:  99 / 100\n",
      "xbos [verse-1] \n",
      " seven months turned up she locked her wig \n",
      " easily ringing her footprints countless times \n",
      " always trained to f **k her carefully \n",
      " she herself begging for guidance \n",
      " \n",
      " [chorus-1] \n",
      " hmmm , hmmm , hmmm \n",
      " hmmm , hmmm \n",
      " hmmm , hmmm , hmmm \n",
      " hmmm , hmmm , hmmm \n",
      " \n",
      " [break] \n",
      " uh , jungle , hmmm \n",
      " hmmm , hmmm , hmmm \n",
      " hmmm , hmmm \n",
      " hmmm , hmmm \n",
      " hmmm , hmmm \n",
      " nappy "
     ]
    }
   ],
   "source": [
    "generate_text(learn, GPU=GPU, seed_text='xbos xbol [verse-1] xeol xbol', max_len=100, context_length=50)"
   ]
  },
  {
   "cell_type": "code",
   "execution_count": null,
   "metadata": {},
   "outputs": [],
   "source": []
  }
 ],
 "metadata": {
  "kernelspec": {
   "display_name": "Python 3",
   "language": "python",
   "name": "python3"
  },
  "language_info": {
   "codemirror_mode": {
    "name": "ipython",
    "version": 3
   },
   "file_extension": ".py",
   "mimetype": "text/x-python",
   "name": "python",
   "nbconvert_exporter": "python",
   "pygments_lexer": "ipython3",
   "version": "3.6.5"
  }
 },
 "nbformat": 4,
 "nbformat_minor": 2
}
